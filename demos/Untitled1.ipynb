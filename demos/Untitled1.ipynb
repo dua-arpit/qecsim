{
 "cells": [
  {
   "cell_type": "code",
   "execution_count": 74,
   "metadata": {},
   "outputs": [],
   "source": [
    "import numpy as np\n",
    "import random\n",
    "import scipy\n",
    "import networkx as nx\n",
    "import pymatching\n",
    "from pymatching import Matching\n",
    "from pymatching import set_seed\n",
    "from scipy.sparse import coo_matrix\n",
    "import matplotlib.pyplot as plt\n",
    "import time\n",
    "from itertools import cycle\n",
    "import pickle\n",
    "import multiprocessing as mp\n",
    "np.seterr(divide='ignore')\n",
    "from functools import partial\n",
    "import qecsim\n",
    "from qecsim import app\n",
    "from qecsim.models.generic import PhaseFlipErrorModel,DepolarizingErrorModel,BiasedDepolarizingErrorModel\n",
    "from qecsim import paulitools as pt\n",
    "\n",
    "def rotdic_pbc(Nx,Ny):\n",
    "\n",
    "    v=np.zeros((Nx,Ny),dtype=int)\n",
    "\n",
    "    for i in range(0,Nx):\n",
    "        for j in range(0,Ny):\n",
    "            if (i+j)%2==0: \n",
    "                if j%2==0:\n",
    "                    v[i,j]=i/2+((j-1)%Nx)*Nx/2\n",
    "                else:\n",
    "                    v[i,j]=((i-1)%Nx)/2+((j-1)%Nx)*Nx/2\n",
    "            if (i+j)%2==1:\n",
    "                if j%2==0:\n",
    "                    v[i,j]=((i-1)%Nx)/2+((j-1)%Nx)*Nx/2\n",
    "                else:\n",
    "                    v[i,j]=i/2+((j-1)%Nx)*Nx/2     \n",
    "    return v\n",
    "\n",
    "\n",
    "def rotdic_obc(Nx,Ny):\n",
    "\n",
    "    Zstabs_num=(Nx/2+1)*Ny\n",
    "    Xstabs_num=Nx/2*(Ny+2)   \n",
    "    \n",
    "    virZ1,virZ2=Zstabs_num,Zstabs_num+1\n",
    "    virX1,virX2=Xstabs_num,Xstabs_num+1\n",
    "    vX=(-10)*np.ones((Nx+4,Ny+4),dtype=int)\n",
    "\n",
    "    for i in range(1,Nx+3):\n",
    "        for j in range(1,Ny+3):\n",
    "            if (i+j)%2==0: \n",
    "                if j==1:\n",
    "                    vX[i,j]=virX1\n",
    "                elif j==Ny+2:\n",
    "                    vX[i,j]=virX2                      \n",
    "                else:\n",
    "                    if j%2==0:\n",
    "                        vX[i,j]=(i-2)/2+(j-2)*(Nx/2+1)\n",
    "                    else:\n",
    "                        vX[i,j]=(i-1)/2+(j-2)*(Nx/2+1)\n",
    "\n",
    "\n",
    "    vZ=(-10)*np.ones((Nx+4,Ny+4),dtype=int)\n",
    "\n",
    "    for i in range(1,Nx+3):\n",
    "        for j in range(1,Ny+3):\n",
    "            if (i+j)%2==1:\n",
    "                if i==1:\n",
    "                    vZ[i,j]=virZ1\n",
    "                elif i==Nx+2:\n",
    "                    vZ[i,j]=virZ2      \n",
    "                else:\n",
    "                    vZ[i,j]=(i-2)/2+(j-1)*Nx/2\n",
    "\n",
    "    return [vX,vZ]\n",
    "\n",
    "def planardic_pbc(Nx,Ny):\n",
    "\n",
    "    vX=np.zeros((Nx,Ny))\n",
    "    for i in range(0,Nx):\n",
    "        for j in range(0,Ny):\n",
    "            vX[i,j]=i+j*Nx\n",
    "    vZ=vX \n",
    "    return [vX,vZ]\n",
    "\n",
    "def planardic_obc(Nx,Ny):\n",
    "\n",
    "    Zerr_syndrome_num,Xerr_syndrome_num=Nx*Ny,(Nx+1)*(Ny-1)\n",
    "    virZ1,virZ2=Zerr_syndrome_num,Zerr_syndrome_num+1\n",
    "    virX1,virX2=Xerr_syndrome_num,Xerr_syndrome_num+1\n",
    "\n",
    "    vX=np.zeros((Nx+2,Ny+2),dtype=int)\n",
    "\n",
    "    for i in range(0,Nx+2):\n",
    "        for j in range(0,Ny+2):\n",
    "            if j==0:\n",
    "                vX[i,j]=virX1\n",
    "            elif j==Ny:\n",
    "                vX[i,j]=virX2\n",
    "            else:\n",
    "                vX[i,j]=i-1+(j-1)*(Nx+1)\n",
    "\n",
    "    vZ=np.zeros((Nx+2,Ny+2),dtype=int)\n",
    "\n",
    "    for i in range(0,Nx+2):\n",
    "        for j in range(1,Ny+1):\n",
    "            if i==0:\n",
    "                vZ[i,j]=virZ1\n",
    "            elif i==Nx+1:\n",
    "                vZ[i,j]=virZ2\n",
    "            else:\n",
    "                vZ[i,j]=i-1+(j-1)*Nx\n",
    "    return [vX,vZ]\n",
    "\n",
    "\n",
    "def decoder_graphs(Nx,Ny,prob_dist,periodic,rotated):\n",
    "\n",
    "    pI,pX,pY,pZ=prob_dist\n",
    "\n",
    "    #weights\n",
    "    wZ=abs(np.log(pZ/pI))\n",
    "    wX=abs(np.log(pX/pI))\n",
    "\n",
    "    if rotated==1:\n",
    "        if periodic==0:\n",
    "            #even times even stabilizer number lattice\n",
    "            Xstabs_num=(Nx/2+1)*Ny\n",
    "            Zstabs_num=Nx/2*(Ny+2)\n",
    "\n",
    "            virZ1,virZ2=Zstabs_num,Zstabs_num+1\n",
    "            virX1,virX2=Xstabs_num,Xstabs_num+1\n",
    "            \n",
    "            [vX,vZ]=rotdic_obc(Nx,Ny)\n",
    "\n",
    "            Graph_Zerr=nx.MultiGraph()\n",
    "            Graph_Xerr=nx.MultiGraph()\n",
    "\n",
    "            X_logical1_Graph_Zerr=np.array([],dtype=int)\n",
    "            Z_logical1_Graph_Xerr=np.array([],dtype=int)\n",
    "\n",
    "            id=0\n",
    "            for i in range(1,Nx+3):\n",
    "                for j in range(1,Ny+3): \n",
    "                    if (i+j)%2==1:\n",
    "                        if vZ[i+1,j+1]>-1:\n",
    "    #                         print(i,j,vZ[i,j],vZ[i+1,j+1])\n",
    "                            Graph_Zerr.add_edge(vZ[i,j],vZ[i+1,j+1],qubit_id=id,weight=wZ,error_probability=pZ)\n",
    "                            Graph_Xerr.add_edge(vX[i,j+1],vX[i+1,j],qubit_id=id,weight=wX,error_probability=pX)\n",
    "                            id+=1\n",
    "                        if vZ[i+1,j-1]>-1:\n",
    "    #                         print(i,j,vZ[i,j],vZ[i+1,j-1])                        \n",
    "                            Graph_Zerr.add_edge(vZ[i,j],vZ[i+1,j-1],qubit_id=id,weight=wZ,error_probability=pZ)\n",
    "                            Graph_Xerr.add_edge(vX[i,j-1],vX[i+1,j],qubit_id=id,weight=wX,error_probability=pX)\n",
    "                            id+=1\n",
    "            \n",
    "            # print('id=',id)\n",
    "            Graph_Zerr.add_edge(virZ1,virZ2,qubit_id=-1,weight=0,error_probability=0)  \n",
    "            Graph_Xerr.add_edge(virX1,virX2,qubit_id=-1,weight=0,error_probability=0) \n",
    "\n",
    "            Z_logical_qubit_num=Nx+1  \n",
    "            X_logical_qubit_num=Ny    \n",
    "\n",
    "            w=0\n",
    "            for j in range(1,Ny+3):\n",
    "                if (2+j)%2==1:\n",
    "                    if vZ[3,j+1]>-1:\n",
    "                        X_logical1_Graph_Zerr=np.append(X_logical1_Graph_Zerr,Graph_Zerr[vZ[2,j]][vZ[3,j+1]][w]['qubit_id'])\n",
    "                    if vZ[3,j-1]>-1:              \n",
    "                        X_logical1_Graph_Zerr=np.append(X_logical1_Graph_Zerr,Graph_Zerr[vZ[2,j]][vZ[3,j-1]][w]['qubit_id'])\n",
    "\n",
    "            for i in range(1,Nx+3):\n",
    "                if (i+2)%2==0:\n",
    "                    if vX[i+1,3]>-1:\n",
    "                        Z_logical1_Graph_Xerr=np.append(Z_logical1_Graph_Xerr,Graph_Xerr[vX[i,2]][vX[i+1,3]][w]['qubit_id'])\n",
    "                    if vX[i-1,3]>-1:\n",
    "                        Z_logical1_Graph_Xerr=np.append(Z_logical1_Graph_Xerr,Graph_Xerr[vX[i,2]][vX[i-1,3]][w]['qubit_id'])\n",
    "\n",
    "            Graph_Zerr.nodes[virZ1]['is_boundary']=True\n",
    "            Graph_Zerr.nodes[virZ2]['is_boundary']=True\n",
    "            Graph_Xerr.nodes[virX1]['is_boundary']=True   \n",
    "            Graph_Xerr.nodes[virX2]['is_boundary']=True    \n",
    "\n",
    "            return [Graph_Xerr,Graph_Zerr,X_logical1_Graph_Zerr,Z_logical1_Graph_Xerr]\n",
    "\n",
    "        else: \n",
    "            v=rotdic_pbc(Nx,Ny)\n",
    "\n",
    "            Graph_Zerr=nx.MultiGraph()\n",
    "            Graph_Xerr=nx.MultiGraph()\n",
    "            \n",
    "            #Nx and Ny are number of stabilizers\n",
    "            \n",
    "            if (Nx%2==0 and Ny%2==0):\n",
    "                X_logical1_Graph_Zerr=np.array([],dtype=int)\n",
    "                X_logical2_Graph_Zerr=np.array([],dtype=int)\n",
    "                Z_logical1_Graph_Xerr=np.array([],dtype=int)\n",
    "                Z_logical2_Graph_Xerr=np.array([],dtype=int)\n",
    "\n",
    "                id=0\n",
    "                for i in range(0,Nx):\n",
    "                    for j in range(0,Ny):\n",
    "                        if (i+j)%2==0:\n",
    "                            Graph_Zerr.add_edge(v[i,j],v[(i+1)% Nx,(j+1)%Ny],qubit_id=id,weight=wZ,error_probability=pZ)\n",
    "                            Graph_Xerr.add_edge(v[i,(j+1)%Ny],v[(i+1)%Nx,j],qubit_id=id,weight=wX,error_probability=pX)\n",
    "                            id+=1\n",
    "                            Graph_Zerr.add_edge(v[i,j],v[(i+1)%Nx,(j-1)%Ny],qubit_id=id,weight=wZ,error_probability=pZ)\n",
    "                            Graph_Xerr.add_edge(v[i,(j-1)%Ny],v[(i+1)%Nx,j],qubit_id=id,weight=wX,error_probability=pX)\n",
    "                            id+=1\n",
    "\n",
    "                w=0\n",
    "                for i in range(0,Nx):\n",
    "                    for j in range(0,Ny):\n",
    "                        if (i+j)%2==0 and i==0:\n",
    "                            X_logical1_Graph_Zerr=np.append(X_logical1_Graph_Zerr,Graph_Zerr[v[i,j]][v[(i+1)%Nx,(j+1)%Ny]][w]['qubit_id'])                        \n",
    "                            X_logical1_Graph_Zerr=np.append(X_logical1_Graph_Zerr,Graph_Zerr[v[i,j]][v[(i+1)%Nx,(j-1)%Ny]][w]['qubit_id'])                        \n",
    "                        if (i+j)%2==0 and j==0:\n",
    "                            X_logical2_Graph_Zerr=np.append(X_logical2_Graph_Zerr,Graph_Zerr[v[i,j]][v[(i+1)%Nx,(j+1)%Ny]][w]['qubit_id'])\n",
    "                            X_logical2_Graph_Zerr=np.append(X_logical2_Graph_Zerr,Graph_Zerr[v[i,j]][v[(i-1)%Nx,(j+1)%Ny]][w]['qubit_id'])\n",
    "                        if (i+j)%2==1 and i==0:\n",
    "                            Z_logical2_Graph_Xerr=np.append(Z_logical2_Graph_Xerr,Graph_Xerr[v[i,j]][v[(i+1)%Nx,(j+1)%Ny]][w]['qubit_id'])\n",
    "                            Z_logical2_Graph_Xerr=np.append(Z_logical2_Graph_Xerr,Graph_Xerr[v[i,j]][v[(i+1)%Nx,(j-1)%Ny]][w]['qubit_id'])\n",
    "                        if (i+j)%2==1 and j==0:\n",
    "                            Z_logical1_Graph_Xerr=np.append(Z_logical1_Graph_Xerr,Graph_Xerr[v[i,j]][v[(i+1)%Nx,(j+1)%Ny]][w]['qubit_id'])\n",
    "                            Z_logical1_Graph_Xerr=np.append(Z_logical1_Graph_Xerr,Graph_Xerr[v[i,j]][v[(i-1)%Nx,(j+1)%Ny]][w]['qubit_id'])\n",
    "\n",
    "                return [Graph_Xerr,Graph_Zerr,X_logical1_Graph_Zerr,X_logical2_Graph_Zerr,Z_logical1_Graph_Xerr,Z_logical2_Graph_Xerr]\n",
    "\n",
    "        \n",
    "            elif(Nx%2!=Ny%2):\n",
    "                print('the modified decoder graphs and logicals (which are now a Y-Z or Y-X pair) needs to be implemented below')\n",
    "                X_logical1_Graph_Zerr=np.array([],dtype=int)\n",
    "                Z_logical1_Graph_Xerr=np.array([],dtype=int)\n",
    "\n",
    "                id=0\n",
    "                for i in range(0,Nx):\n",
    "                    for j in range(0,Ny):\n",
    "                        if (i+j)%2==0:\n",
    "                            Graph_Zerr.add_edge(v[i,j],v[(i+1)% Nx,(j+1)%Ny],qubit_id=id,weight=wZ,error_probability=pZ)\n",
    "                            Graph_Xerr.add_edge(v[i,(j+1)%Ny],v[(i+1)%Nx,j],qubit_id=id,weight=wX,error_probability=pX)\n",
    "                            id+=1\n",
    "                            Graph_Zerr.add_edge(v[i,j],v[(i+1)%Nx,(j-1)%Ny],qubit_id=id,weight=wZ,error_probability=pZ)\n",
    "                            Graph_Xerr.add_edge(v[i,(j-1)%Ny],v[(i+1)%Nx,j],qubit_id=id,weight=wX,error_probability=pX)\n",
    "                            id+=1\n",
    "                \n",
    "                w=0\n",
    "                for i in range(0,Nx):\n",
    "                    for j in range(0,Ny):\n",
    "                        if v[i,j] in range(0,Nx*Ny,Nx):\n",
    "                            X_logical1_Graph_Zerr=np.append(X_logical1_Graph_Zerr,Graph_Zerr[v[i,j]][v[(i+1)%Nx,(j+1)%Ny]][w]['qubit_id'])\n",
    "                        if v[i,j] in range(0,Nx):\n",
    "                            Z_logical1_Graph_Xerr=np.append(Z_logical1_Graph_Xerr,Graph_Xerr[v[i,j]][v[(i+1)%Nx,(j+1)%Ny]][w]['qubit_id'])\n",
    "\n",
    "                return [Graph_Xerr,Graph_Zerr,X_logical1_Graph_Zerr,Z_logical1_Graph_Xerr]\n",
    "    else:\n",
    "        if periodic==0:\n",
    "            Zerr_syndrome_num,Xerr_syndrome_num=Nx*Ny,(Nx+1)*(Ny-1)\n",
    "            virZ1,virZ2=Zerr_syndrome_num,Zerr_syndrome_num+1\n",
    "            virX1,virX2=Xerr_syndrome_num,Xerr_syndrome_num+1\n",
    "\n",
    "            [vX,vZ]=planardic_obc(Nx,Ny)\n",
    "\n",
    "            Graph_Zerr=nx.MultiGraph()\n",
    "            Graph_Xerr=nx.MultiGraph()\n",
    "\n",
    "            X_logical1_Graph_Zerr=np.array([],dtype=int)\n",
    "            Z_logical1_Graph_Xerr=np.array([],dtype=int)\n",
    "\n",
    "            #construct the Z lattice\n",
    "            id=0\n",
    "            for i in range(1,Nx+1):\n",
    "                for j in range(1,Ny+1):\n",
    "                    if j==Ny:\n",
    "                        Graph_Zerr.add_edge(vZ[i,j],vZ[i+1,j],qubit_id=id,weight=wZ,error_probability=pZ)  \n",
    "                        Graph_Xerr.add_edge(vX[i+1,j-1],vX[i+1,j],qubit_id=id,weight=wX,error_probability=pX) \n",
    "                        id+=1\n",
    "                    else:\n",
    "                        Graph_Zerr.add_edge(vZ[i,j],vZ[i+1,j],qubit_id=id,weight=wZ,error_probability=pZ)  \n",
    "                        Graph_Xerr.add_edge(vX[i+1,j-1],vX[i+1,j],qubit_id=id,weight=wX,error_probability=pX) \n",
    "                        id+=1\n",
    "                        Graph_Zerr.add_edge(vZ[i,j],vZ[i,j+1],qubit_id=id,weight=wZ,error_probability=pZ) \n",
    "                        Graph_Xerr.add_edge(vX[i,j],vX[i+1,j],qubit_id=id,weight=wX,error_probability=pX)\n",
    "                        id+=1\n",
    "                    if i==1:\n",
    "                        Graph_Zerr.add_edge(vZ[i-1,j],vZ[i,j],qubit_id=id,weight=wZ,error_probability=pZ)  \n",
    "                        Graph_Xerr.add_edge(vX[i,j-1],vX[i,j],qubit_id=id,weight=wX,error_probability=pX) \n",
    "                        id+=1\n",
    "\n",
    "            Graph_Zerr.add_edge(virZ1,virZ2,qubit_id=-1,weight=0,error_probability=0)  \n",
    "            Graph_Xerr.add_edge(virX1,virX2,qubit_id=-1,weight=0,error_probability=0) \n",
    "\n",
    "            Graph_Zerr.nodes[virZ1]['is_boundary']=True\n",
    "            Graph_Zerr.nodes[virZ2]['is_boundary']=True\n",
    "            Graph_Xerr.nodes[virX1]['is_boundary']=True   \n",
    "            Graph_Xerr.nodes[virX2]['is_boundary']=True   \n",
    "\n",
    "            Z_logical_qubit_num=Nx+1  \n",
    "            X_logical_qubit_num=Ny    \n",
    "\n",
    "            \n",
    "            w=0\n",
    "            for i in range(1,Nx+1):\n",
    "                for j in range(1,Ny+1):\n",
    "                    if vZ[i,j]in range(0,Nx*Ny,Nx):\n",
    "                        X_logical1_Graph_Zerr=np.append(X_logical1_Graph_Zerr,Graph_Zerr[vZ[i,j]][virZ1][w]['qubit_id'])\n",
    "\n",
    "            for i in range(1,Nx+2):\n",
    "                for j in range(1,Ny):\n",
    "                    if vX[i,j]in range(0,Nx+1):\n",
    "                        Z_logical1_Graph_Xerr=np.append(Z_logical1_Graph_Xerr,Graph_Xerr[vX[i,j]][virX1][w]['qubit_id'])\n",
    "\n",
    "#             for i in range(1,Nx+1):\n",
    "#                 for j in range(1,Ny+1):\n",
    "#                     if vZ[i][j] in range(0,Nx*Ny,Nx):\n",
    "#                         X_logical1_Graph_Zerr=np.append(X_logical1_Graph_Zerr,Graph_Zerr[vZ[i][j]][vZ[i+1][j]][w]['qubit_id'])\n",
    "#                     if vX[i][j] in range(0,Nx+1):\n",
    "#                         Z_logical1_Graph_Xerr=np.append(Z_logical1_Graph_Xerr,Graph_Xerr[vX[i][j]][vX[i][j+1]][w]['qubit_id'])\n",
    "            return [Graph_Xerr,Graph_Zerr,X_logical1_Graph_Zerr,Z_logical1_Graph_Xerr]\n",
    "\n",
    "        else: \n",
    "            [vX,vZ]=planardic_pbc(Nx,Ny)\n",
    "\n",
    "            Graph_Zerr=nx.MultiGraph()\n",
    "            Graph_Xerr=nx.MultiGraph()\n",
    "\n",
    "            X_logical1_Graph_Zerr=np.array([],dtype=int)\n",
    "            X_logical2_Graph_Zerr=np.array([],dtype=int)\n",
    "            Z_logical1_Graph_Xerr=np.array([],dtype=int)\n",
    "            Z_logical2_Graph_Xerr=np.array([],dtype=int)\n",
    "\n",
    "            id=0\n",
    "            for i in range(0,Nx):\n",
    "                for j in range(0,Ny):\n",
    "                    Graph_Zerr.add_edge(vZ[i][j],vZ[(i+1)% Nx][j],qubit_id=id,weight=wZ,error_probability=pZ)\n",
    "                    Graph_Xerr.add_edge(vX[(i+1)%Nx][(j-1)%Ny],vX[(i+1)%Nx][j],qubit_id=id,weight=wX,error_probability=pX)\n",
    "                    id+=1\n",
    "                    Graph_Zerr.add_edge(vZ[i][j],vZ[i][(j+1)%Ny],qubit_id=id,weight=wZ,error_probability=pZ)\n",
    "                    Graph_Xerr.add_edge(vX[i][j],vX[(i+1)% Nx][j],qubit_id=id,weight=wX,error_probability=pX)\n",
    "                    id+=1\n",
    "\n",
    "            w=0\n",
    "            for i in range(0,Nx):\n",
    "                for j in range(0,Ny):\n",
    "                    if vZ[i][j] in range(0,Nx*Ny,Nx):\n",
    "                        X_logical1_Graph_Zerr=np.append(X_logical1_Graph_Zerr,Graph_Zerr[vZ[i][j]][vZ[(i+1)% Nx][j]][w]['qubit_id'])\n",
    "                    if vX[i][j] in range(0,Nx):\n",
    "                        Z_logical1_Graph_Xerr=np.append(Z_logical1_Graph_Xerr,Graph_Xerr[vX[i][j]][vX[i][(j+1)%Ny]][w]['qubit_id'])\n",
    "                    if vZ[i][j] in range(0,Nx):\n",
    "                        X_logical2_Graph_Zerr=np.append(X_logical2_Graph_Zerr,Graph_Zerr[vZ[i][j]][vZ[i][(j+1)%Ny]][w]['qubit_id'])\n",
    "                    if vX[i][j] in range(0,Nx*Ny,Nx):\n",
    "                        Z_logical2_Graph_Xerr=np.append(Z_logical2_Graph_Xerr,Graph_Xerr[vX[i][j]][vX[(i+1)% Nx][j]][w]['qubit_id'])\n",
    "\n",
    "            return [Graph_Xerr,Graph_Zerr,X_logical1_Graph_Zerr,X_logical2_Graph_Zerr,Z_logical1_Graph_Xerr,Z_logical2_Graph_Xerr]\n",
    "\n",
    "def graph_temp(Nx,Ny,prob_dist,periodic,rotated):\n",
    "\n",
    "    pI,pX,pY,pZ=prob_dist\n",
    "\n",
    "    #weights\n",
    "    wZ=abs(np.log(pZ/pI))\n",
    "    wX=abs(np.log(pX/pI))\n",
    "  \n",
    "    if rotated==1:\n",
    "        if periodic==0:\n",
    "            #even times even stabilizer number lattice\n",
    "            Zerr_syndrome_num=(Nx/2+1)*Ny\n",
    "            virZ1,virZ2=Zerr_syndrome_num,Zerr_syndrome_num+1\n",
    "            [vX,vZ]=rotdic_obc(Nx,Ny)\n",
    "            Graph_Zerr=nx.MultiGraph()\n",
    "            id=0\n",
    "            for i in range(1,Nx+3):\n",
    "                for j in range(1,Ny+3): \n",
    "                    if (i+j)%2==1:\n",
    "                        if vZ[i+1,j+1]>-1:\n",
    "                            Graph_Zerr.add_edge(vZ[i,j],vZ[i+1,j+1],qubit_id=id,weight=wZ,error_probability=pZ)\n",
    "                            id+=1\n",
    "                        if vZ[i+1,j-1]>-1:\n",
    "                            Graph_Zerr.add_edge(vZ[i,j],vZ[i+1,j-1],qubit_id=id,weight=wZ,error_probability=pZ)\n",
    "                            id+=1\n",
    "                        \n",
    "            Graph_Zerr.add_edge(virZ1,virZ2,qubit_id=-1,weight=0,error_probability=0)  \n",
    "\n",
    "            Graph_Zerr.nodes[virZ1]['is_boundary']=True\n",
    "            Graph_Zerr.nodes[virZ2]['is_boundary']=True\n",
    "\n",
    "        else: \n",
    "            v=rotdic_pbc(Nx,Ny)\n",
    "            Graph_Zerr=nx.MultiGraph()  \n",
    "            id=0                      \n",
    "            if (Nx%2==0 and Ny%2==0):\n",
    "                for i in range(0,Nx):\n",
    "                    for j in range(0,Ny):\n",
    "                        if (i+j)%2==0:\n",
    "                            Graph_Zerr.add_edge(v[i,j],v[(i+1)% Nx,(j+1)%Ny],qubit_id=id,weight=wZ,error_probability=pZ)\n",
    "                            id+=1\n",
    "                            Graph_Zerr.add_edge(v[i,j],v[(i+1)%Nx,(j-1)%Ny],qubit_id=id,weight=wZ,error_probability=pZ)\n",
    "                            id+=1\n",
    "\n",
    "    else:\n",
    "        Graph_Zerr=nx.MultiGraph()\n",
    "\n",
    "        id=0\n",
    "        if(periodic==1):\n",
    "            [vX,vZ]=planardic_pbc(Nx,Ny)\n",
    "            for i in range(0,Nx):\n",
    "                for j in range(0,Ny):\n",
    "                    Graph_Zerr.add_edge(vZ[i][j],vZ[(i+1)%Nx][j],qubit_id=id,weight=wZ,error_probability=pZ)\n",
    "                    id+=1\n",
    "\n",
    "                    Graph_Zerr.add_edge(vZ[i][j],vZ[i][(j+1)%Ny],qubit_id=id,weight=wZ,error_probability=pZ)\n",
    "                    id+=1\n",
    "        else:\n",
    "            virZ1,virZ2=Nx*Ny,Nx*Ny+1\n",
    "            [vX,vZ]=planardic_obc(Nx,Ny)\n",
    "            for i in range(1,Nx+1):\n",
    "                for j in range(1,Ny+1):\n",
    "                    if j==Ny:\n",
    "                        Graph_Zerr.add_edge(vZ[i,j],vZ[i+1,j],qubit_id=id,weight=wZ,error_probability=pZ)  \n",
    "                        id+=1\n",
    "                    else:\n",
    "                        Graph_Zerr.add_edge(vZ[i,j],vZ[i+1,j],qubit_id=id,weight=wZ,error_probability=pZ)  \n",
    "                        id+=1\n",
    "                        Graph_Zerr.add_edge(vZ[i,j],vZ[i,j+1],qubit_id=id,weight=wZ,error_probability=pZ) \n",
    "                        id+=1\n",
    "                    if i==1:\n",
    "                        Graph_Zerr.add_edge(vZ[i-1,j],vZ[i,j],qubit_id=id,weight=wZ,error_probability=pZ)  \n",
    "                        id+=1\n",
    "\n",
    "            Graph_Zerr.add_edge(virZ1,virZ2,qubit_id=-1,weight=0,error_probability=0)    \n",
    "\n",
    "    return Graph_Zerr\n",
    "\n",
    "\n",
    "\n",
    "def weight_error_changes(prob_dist,Graph_Xerr,Graph_Zerr,periodic,rotated,hadamard_vec):\n",
    "  \n",
    "    pI,pX,pY,pZ=prob_dist\n",
    "\n",
    "    #weights\n",
    "    wZ=abs(np.log(pZ/pI))\n",
    "    wX=abs(np.log(pX/pI))\n",
    "    \n",
    "    if periodic==1:\n",
    "        nqubits=len(Graph_Zerr.edges)\n",
    "    else:\n",
    "        nqubits=len(Graph_Zerr.edges)-1\n",
    "\n",
    "    for ind in range(nqubits):\n",
    "        if (hadamard_vec[ind]==1):\n",
    "            for (u,v,w) in list(Graph_Zerr.edges):\n",
    "                if Graph_Zerr[u][v][w]['qubit_id']==ind:\n",
    "                    Graph_Zerr[u][v][w]['weight']=wX\n",
    "                    Graph_Zerr[u][v][w]['error_probability']=pX\n",
    "            for (u,v,w) in list(Graph_Xerr.edges):\n",
    "                if Graph_Xerr[u][v][w]['qubit_id']==ind:\n",
    "                    Graph_Xerr[u][v][w]['weight']=wZ\n",
    "                    Graph_Xerr[u][v][w]['error_probability']=pZ\n",
    "\n",
    "    return [Graph_Xerr,Graph_Zerr]\n",
    "\n",
    "\n",
    "def spiral_torus(Nx,pitch):    \n",
    "    Ny=Nx\n",
    "    [vX,vZ]=planardic_pbc(Nx,Ny)\n",
    "\n",
    "    L_left=np.int_([Nx-1])\n",
    "    pitch_left=np.int_([pitch])\n",
    "    xcoord_pitch=np.int_([np.floor(L_left[-1]/pitch_left[-1])])\n",
    "\n",
    "    while (pitch_left[-1]>1):\n",
    "        L_left=np.append(L_left,L_left[-1]-int(np.floor(L_left[-1]/pitch_left[-1]))-1)\n",
    "        pitch_left=np.append(pitch_left,pitch_left[-1]-1)\n",
    "        xcoord_pitch=np.append(xcoord_pitch,xcoord_pitch[-1]+int(np.floor(L_left[-1]/pitch_left[-1]))+1)\n",
    "    spiral=np.zeros((2*pitch*Nx,3))\n",
    "    pitch_count=0\n",
    "    \n",
    "    w=0\n",
    "    for ist_temp in xcoord_pitch:\n",
    "        ist=ist_temp\n",
    "        jst=0\n",
    "        for ind in range(2*Ny):\n",
    "            if ind%2==0:\n",
    "                spiral[ind+pitch_count*2*Ny]=[vZ[ist][jst],vZ[(ist+1)%Nx][jst],w]\n",
    "                ist=(ist+1)%Nx\n",
    "            else:\n",
    "                spiral[ind+pitch_count*2*Ny]=[vZ[ist][jst],vZ[ist][(jst+1)%Ny],w]\n",
    "                jst=(jst+1)%Ny\n",
    "        pitch_count=pitch_count+1\n",
    "\n",
    "    return spiral\n",
    "\n",
    "def func_hadamard_vec(Nx,Ny,pH,prob_dist,periodic,rotated,pitch):\n",
    "\n",
    "    Graph_Zerr=graph_temp(Nx,Ny,prob_dist,periodic,rotated)\n",
    "    if periodic==1:\n",
    "        hadamard_vec=np.zeros((len(Graph_Zerr.edges)))\n",
    "    else:\n",
    "        hadamard_vec=np.zeros((len(Graph_Zerr.edges)-1))\n",
    "    \n",
    "    if pH==0.5:\n",
    "        for i in range(0,len(hadamard_vec)):\n",
    "            if(np.random.rand(1,1))<pH:\n",
    "                hadamard_vec[i]=1\n",
    "\n",
    "    elif rotated==1:\n",
    "        if periodic==0:\n",
    "            if pH==1.5:\n",
    "                [vX,vZ]=rotdic_obc(Nx,Ny)\n",
    "                Graph_Zerr=nx.MultiGraph()\n",
    "                w=0 #all the +1 slope diagonal edges connecting to virZ1 or virZ2 have w=0\n",
    "                for i in range(1,Nx+3):\n",
    "                    for j in range(1,Ny+3): \n",
    "                        if (i+j)%2==1:\n",
    "                            if vZ[i+1,j+1]>-1:\n",
    "                                hadamard_vec[Graph_Zerr[vZ[i,j]][vZ[i+1,j+1]][w]['qubit_id']]=1 \n",
    "        else:\n",
    "            if pH==1.5:\n",
    "                v=rotdic_pbc(Nx,Ny)\n",
    "                w=0\n",
    "                for i in range(Nx):\n",
    "                    for j in range(Ny):\n",
    "                        if (i+j)%2==0:\n",
    "                            hadamard_vec[Graph_Zerr[v[i,j]][v[(i+1)%Nx,(j+1)%Ny]][w]['qubit_id']]=1\n",
    "       \n",
    "    else:\n",
    "        if periodic==1:\n",
    "            if pH==1.5:\n",
    "                for (u,v,w) in list(Graph_Zerr.edges):\n",
    "                    if abs(u-v)==1 or abs(u-v)==Nx-1: # horizontal edges\n",
    "                        hadamard_vec[Graph_Zerr[u][v][w]['qubit_id']]=1\n",
    "\n",
    "            elif pH==2.5:        \n",
    "                for (u,v,w) in list(Graph_Zerr.edges):\n",
    "                    if abs(u-v)==1 or abs(u-v)==Nx-1:\n",
    "                        if Graph_Zerr[u][v][w]['qubit_id']>-1:\n",
    "                            hadamard_vec[Graph_Zerr[u][v][w]['qubit_id']]=1\n",
    "                \n",
    "                spacefillcurve_extra_hadamard=spiral_torus(Nx,pitch)\n",
    "\n",
    "                for (u,v,w) in spacefillcurve_extra_hadamard:\n",
    "                    if Graph_Zerr[u][v][w]['qubit_id']>-1:\n",
    "                        hadamard_vec[Graph_Zerr[u][v][w]['qubit_id']]=(hadamard_vec[Graph_Zerr[u][v][w]['qubit_id']]+1)%2 \n",
    "        else:\n",
    "            if pH==1.5:\n",
    "                for (u,v,w) in list(Graph_Zerr.edges):\n",
    "                    if abs(u-v)==Nx: #vertical edges: easier condition in case of surface code\n",
    "                        if Graph_Zerr[u][v][w]['qubit_id']>-1:\n",
    "                            hadamard_vec[Graph_Zerr[u][v][w]['qubit_id']]=1\n",
    "\n",
    "            elif pH==2.5:        \n",
    "                [vX,vZ]=planardic_obc(Nx,Ny)\n",
    "                w=0\n",
    "                for i in range(1,Nx+1):\n",
    "                    for j in range(1,Ny+1):\n",
    "                        if j==Ny:\n",
    "                            hadamard_vec[Graph_Zerr[vZ[i,j]][vZ[i+1,j]][w]['qubit_id']]=1\n",
    "                        else:\n",
    "                            hadamard_vec[Graph_Zerr[vZ[i,j]][vZ[i+1,j]][w]['qubit_id']]=1\n",
    "                        if i==1:\n",
    "                            hadamard_vec[Graph_Zerr[vZ[i-1,j]][vZ[i,j]][w]['qubit_id']]=1\n",
    "                for i in range(0,Nx+1):\n",
    "                    for j in range(1,Ny+1):\n",
    "                        if j==1 and i%2==1:\n",
    "                            hadamard_vec[Graph_Zerr[vZ[i,j]][vZ[i+1,j]][w]['qubit_id']]=(hadamard_vec[Graph_Zerr[vZ[i,j]][vZ[i+1,j]][w]['qubit_id']]+1)%2\n",
    "                        if j==Ny and i%2==0:\n",
    "                            hadamard_vec[Graph_Zerr[vZ[i,j]][vZ[i+1,j]][w]['qubit_id']]=(hadamard_vec[Graph_Zerr[vZ[i,j]][vZ[i+1,j]][w]['qubit_id']]+1)%2\n",
    "\n",
    "    return hadamard_vec\n",
    "\n",
    "def noisesyndrome(Graph_Xerr,Graph_Zerr,prob_dist,n_qubits):\n",
    "\n",
    "    rng = np.random.default_rng()\n",
    "    error_Pauli = rng.choice(('I', 'X', 'Y', 'Z'),size=n_qubits,p=prob_dist)\n",
    "    step_error=pt.pauli_to_bsf(''.join(error_Pauli))\n",
    "    noiseXerr= step_error[0:n_qubits]\n",
    "    noiseZerr=step_error[n_qubits:2*n_qubits]\n",
    "\n",
    "    syndromeXerr=np.zeros(len(Graph_Xerr.nodes))\n",
    "    syndromeZerr=np.zeros(len(Graph_Zerr.nodes))\n",
    "\n",
    "    for u,v,w in Graph_Zerr.edges:\n",
    "        if noiseZerr[Graph_Zerr[u][v][w]['qubit_id']]==1:\n",
    "            syndromeZerr[u]=(syndromeZerr[u]+1)%2\n",
    "            syndromeZerr[v]=(syndromeZerr[v]+1)%2\n",
    "            \n",
    "    for u,v,w in Graph_Xerr.edges:\n",
    "        if noiseXerr[Graph_Xerr[u][v][w]['qubit_id']]==1:\n",
    "            syndromeXerr[u]=(syndromeXerr[u]+1)%2\n",
    "            syndromeXerr[v]=(syndromeXerr[v]+1)%2      \n",
    "\n",
    "    return noiseXerr,syndromeXerr,noiseZerr,syndromeZerr   \n",
    "\n",
    "def parallel_step_p(bias,bias_str,error_model,Nx,Ny,num_mc,pH,hadamard_vec,pitch,num_realiz,periodic,rotated,error_probability): \n",
    "\n",
    "    prob_dist= error_model.probability_distribution(error_probability)\n",
    " \n",
    "    if periodic==1:\n",
    "        [Graph_Xerr,Graph_Zerr,X_logical1_Graph_Zerr,X_logical2_Graph_Zerr,Z_logical1_Graph_Xerr,Z_logical2_Graph_Xerr]=decoder_graphs(Nx,Ny,prob_dist,periodic,rotated)\n",
    "        n_qubits=len(Graph_Zerr.edges)\n",
    "    else:\n",
    "        [Graph_Xerr,Graph_Zerr,X_logical1_Graph_Zerr,Z_logical1_Graph_Xerr]=decoder_graphs(Nx,Ny,prob_dist,periodic,rotated)\n",
    "        n_qubits=len(Graph_Zerr.edges)-1\n",
    "    \n",
    "    if pH!=0:            \n",
    "        [Graph_Xerr,Graph_Zerr]=weight_error_changes(prob_dist,Graph_Xerr,Graph_Zerr,periodic,rotated,hadamard_vec)\n",
    "\n",
    "    mXerr=Matching(Graph_Xerr)\n",
    "    mZerr=Matching(Graph_Zerr)\n",
    "\n",
    "    failure_list=np.zeros(num_mc) \n",
    "    \n",
    "\n",
    "    for i in range(num_mc):\n",
    "        #noise\n",
    "        # noiseXerr,syndromeXerr=mXerr.add_noise()\n",
    "        # noiseZerr,syndromeZerr=mZerr.add_noise()\n",
    "       \n",
    "        noiseXerr,syndromeXerr,noiseZerr,syndromeZerr=noisesyndrome(Graph_Xerr,Graph_Zerr,prob_dist,n_qubits)\n",
    "        \n",
    "        #correction\n",
    "        correctionXerr=mXerr.decode(syndromeXerr)\n",
    "        correctionZerr=mZerr.decode(syndromeZerr)\n",
    "\n",
    "        #correction+noise \n",
    "        corr_noise_Xerr=np.array((correctionXerr+noiseXerr)%2)\n",
    "        corr_noise_Zerr=np.array((correctionZerr+noiseZerr)%2)\n",
    "\n",
    "        #correction+noise action on the logicals\n",
    "        if periodic==1:\n",
    "            sum_logicalZ1=corr_noise_Xerr[Z_logical1_Graph_Xerr]\n",
    "            sum_logicalX1=corr_noise_Zerr[X_logical1_Graph_Zerr]\n",
    "            sum_logicalZ2=corr_noise_Xerr[Z_logical2_Graph_Xerr]\n",
    "            sum_logicalX2=corr_noise_Zerr[X_logical2_Graph_Zerr]\n",
    "            failure_list[i]=sum(sum_logicalZ1)%2 or sum(sum_logicalZ2)%2 or sum(sum_logicalX1)%2 or sum(sum_logicalX2)%2\n",
    "\n",
    "        else:\n",
    "            sum_logicalZ1=corr_noise_Xerr[Z_logical1_Graph_Xerr]\n",
    "            sum_logicalX1=corr_noise_Zerr[X_logical1_Graph_Zerr]\n",
    "            failure_list[i]=sum(sum_logicalZ1)%2 or sum(sum_logicalX1)%2\n",
    "\n",
    "    pL=failure_list.mean()\n",
    "    std=failure_list.std()/np.sqrt(num_mc)\n",
    "\n",
    "    # print(pL,std)\n",
    "    return [pL,std]\n",
    "\n",
    "def pymatching_rand(bias,bias_str,num_mc,L_list,error_probabilities,pH,pitch,num_realiz,periodic,rotated):\n",
    "    def square(a):\n",
    "        return a**2\n",
    "    vsquare=np.vectorize(square)\n",
    "\n",
    "    pL_list_realiz=np.zeros((num_realiz,len(L_list),len(error_probabilities)))\n",
    "    std_list_realiz=np.zeros((num_realiz,len(L_list),len(error_probabilities)))       \n",
    "    \n",
    "    pL_list=np.zeros((len(L_list),len(error_probabilities)))\n",
    "    std_list=np.zeros((len(L_list),len(error_probabilities)))        \n",
    "    log_pL_list=np.zeros((len(L_list),len(error_probabilities)))\n",
    "    log_std_list=np.zeros((len(L_list),len(error_probabilities)))\n",
    "\n",
    "    error_model = BiasedDepolarizingErrorModel(bias,bias_str)\n",
    "    prob_dist_sample= error_model.probability_distribution(0.3)\n",
    "\n",
    "    for ind_L in range(0,len(L_list)):\n",
    "        L=L_list[ind_L]\n",
    "        print('L=',L)\n",
    "        Nx=L\n",
    "        Ny=L\n",
    "        for realization_index in range(num_realiz):\n",
    "            hadamard_vec=func_hadamard_vec(Nx,Ny,pH,prob_dist_sample,periodic,rotated,pitch)\n",
    "\n",
    "            p=mp.Pool()\n",
    "            func=partial(parallel_step_p,bias,bias_str,error_model,Nx,Ny,num_mc,pH,hadamard_vec,pitch,num_realiz,periodic,rotated)\n",
    "            result=p.map(func,error_probabilities)\n",
    "            p.close()\n",
    "            p.join()\n",
    "\n",
    "            for i in range(len(result)):\n",
    "                pL_list_realiz[realization_index][ind_L][i]=result[i][0]\n",
    "                std_list_realiz[realization_index][ind_L][i]=result[i][1]\n",
    "\n",
    "    pL_list=np.sum(pL_list_realiz,axis=0)/num_realiz\n",
    "    std_list=np.sqrt(np.sum(vsquare(std_list_realiz),axis=0))/num_realiz\n",
    "\n",
    "    for ind_L in range(0,len(L_list)):\n",
    "        for i in range(len(error_probabilities)):\n",
    "            log_pL_list[ind_L][i]=-np.log(pL_list[ind_L][i])\n",
    "            log_std_list[ind_L][i]=std_list[ind_L][i]/(pL_list[ind_L][i]*np.log(10))\n",
    "\n",
    "    return [pL_list,std_list,log_pL_list,log_std_list]\n",
    "\n",
    "\n",
    "\n",
    "def parallel_step_code(bias,bias_str,error_model,Nx,Ny,num_mc,pH,pitch,num_realiz,periodic,rotated,error_probabilities,realization_index): \n",
    "\n",
    "    prob_dist_sample= error_model.probability_distribution(0.3)\n",
    "    hadamard_vec=func_hadamard_vec(Nx,Ny,pH,prob_dist_sample,periodic,rotated,pitch)\n",
    "\n",
    "    pL_list=np.zeros((len(error_probabilities)))\n",
    "    std_list=np.zeros((len(error_probabilities)))    \n",
    "    for error_probability_index,error_probability in enumerate(error_probabilities):\n",
    "        prob_dist= error_model.probability_distribution(error_probability)\n",
    "\n",
    "        if periodic==1:\n",
    "            [Graph_Xerr,Graph_Zerr,X_logical1_Graph_Zerr,X_logical2_Graph_Zerr,Z_logical1_Graph_Xerr,Z_logical2_Graph_Xerr]=decoder_graphs(Nx,Ny,prob_dist,periodic,rotated)\n",
    "        else:\n",
    "            [Graph_Xerr,Graph_Zerr,X_logical1_Graph_Zerr,Z_logical1_Graph_Xerr]=decoder_graphs(Nx,Ny,prob_dist,periodic,rotated)\n",
    "        \n",
    "        if pH!=0:            \n",
    "            [Graph_Xerr,Graph_Zerr]=weight_error_changes(prob_dist,Graph_Xerr,Graph_Zerr,periodic,rotated,hadamard_vec)\n",
    "\n",
    "        mXerr=Matching(Graph_Xerr)\n",
    "        mZerr=Matching(Graph_Zerr)\n",
    "\n",
    "        failure_list=np.zeros(num_mc) \n",
    "\n",
    "        for i in range(num_mc):\n",
    "            #noise\n",
    "            noiseXerr,syndromeXerr=mXerr.add_noise()\n",
    "            noiseZerr,syndromeZerr=mZerr.add_noise()\n",
    "\n",
    "            #correction\n",
    "            correctionXerr=mXerr.decode(syndromeXerr)\n",
    "            correctionZerr=mZerr.decode(syndromeZerr)\n",
    "\n",
    "            #correction+noise \n",
    "            corr_noise_Xerr=np.array((correctionXerr+noiseXerr)%2)\n",
    "            corr_noise_Zerr=np.array((correctionZerr+noiseZerr)%2)\n",
    "\n",
    "            #correction+noise action on the logicals\n",
    "            if periodic==1:\n",
    "                sum_logicalZ1=corr_noise_Xerr[Z_logical1_Graph_Xerr]\n",
    "                sum_logicalX1=corr_noise_Zerr[X_logical1_Graph_Zerr]\n",
    "                sum_logicalZ2=corr_noise_Xerr[Z_logical2_Graph_Xerr]\n",
    "                sum_logicalX2=corr_noise_Zerr[X_logical2_Graph_Zerr]\n",
    "                failure_list[i]=sum(sum_logicalZ1)%2 or sum(sum_logicalZ2)%2 or sum(sum_logicalX1)%2 or sum(sum_logicalX2)%2\n",
    "\n",
    "            else:\n",
    "                sum_logicalZ1=corr_noise_Xerr[Z_logical1_Graph_Xerr]\n",
    "                sum_logicalX1=corr_noise_Zerr[X_logical1_Graph_Zerr]\n",
    "                failure_list[i]=sum(sum_logicalZ1)%2 or sum(sum_logicalX1)%2\n",
    "\n",
    "        pL_list[error_probability_index]=failure_list.mean()\n",
    "        std_list[error_probability_index]=failure_list.std()/np.sqrt(num_mc)\n",
    "\n",
    "    return [pL_list,std_list]\n",
    "\n",
    "def pymatching_rand_code(bias,bias_str,num_mc,L_list,error_probabilities,pH,pitch,num_realiz,periodic,rotated):\n",
    "    def square(a):\n",
    "        return a**2\n",
    "    vsquare=np.vectorize(square)\n",
    "\n",
    "    pL_list_realiz=np.zeros((num_realiz,len(L_list),len(error_probabilities)))\n",
    "    std_list_realiz=np.zeros((num_realiz,len(L_list),len(error_probabilities)))       \n",
    "    \n",
    "    pL_list=np.zeros((len(L_list),len(error_probabilities)))\n",
    "    std_list=np.zeros((len(L_list),len(error_probabilities)))        \n",
    "    log_pL_list=np.zeros((len(L_list),len(error_probabilities)))\n",
    "    log_std_list=np.zeros((len(L_list),len(error_probabilities)))\n",
    "\n",
    "    error_model = BiasedDepolarizingErrorModel(bias,bias_str)\n",
    "\n",
    "    for ind_L in range(0,len(L_list)):\n",
    "        L=L_list[ind_L]\n",
    "        print('L=',L)\n",
    "        Nx=L\n",
    "        Ny=L\n",
    "\n",
    "        p=mp.Pool()\n",
    "        func=partial(parallel_step_code,bias,bias_str,error_model,Nx,Ny,num_mc,pH,pitch,num_realiz,periodic,rotated,error_probabilities)\n",
    "        result=p.map(func,range(num_realiz))\n",
    "        p.close()\n",
    "        p.join()\n",
    "\n",
    "        for realization_index in range(num_realiz):\n",
    "            for i in range(len(error_probabilities)):\n",
    "                pL_list_realiz[realization_index][ind_L][i]=result[realization_index][0][i]\n",
    "                std_list_realiz[realization_index][ind_L][i]=result[realization_index][1][i]\n",
    "\n",
    "    pL_list=np.sum(pL_list_realiz,axis=0)/num_realiz\n",
    "    std_list=np.sqrt(np.sum(vsquare(std_list_realiz),axis=0))/num_realiz\n",
    "\n",
    "    for ind_L in range(0,len(L_list)):\n",
    "        for i in range(len(error_probabilities)):\n",
    "            log_pL_list[ind_L][i]=-np.log(pL_list[ind_L][i])\n",
    "            log_std_list[ind_L][i]=std_list[ind_L][i]/(pL_list[ind_L][i]*np.log(10))\n",
    "\n",
    "    return [pL_list,std_list,log_pL_list,log_std_list]\n",
    "\n",
    "\n",
    "\n",
    "\n",
    "\n",
    "\n",
    "\n",
    "\n",
    "\n",
    "\n",
    "\n",
    "\n",
    "\n",
    "\n",
    "\n",
    "\n",
    "\n",
    "\n",
    "\n",
    "\n",
    "\n",
    "\n",
    "\n",
    "\n",
    "\n",
    "\n",
    "\n",
    "\n",
    "\n",
    "\n",
    "\n",
    "\n",
    "\n",
    "\n",
    "\n",
    "def parallel_step_p2(bias,bias_str,error_model,Nx,Ny,num_mc,pH,pitch,num_realiz,periodic,rotated,error_probability): \n",
    "\n",
    "    prob_dist= error_model.probability_distribution(error_probability)\n",
    "    # print(prob_dist)\n",
    "    hadamard_vec=func_hadamard_vec(Nx,Ny,pH,prob_dist,periodic,rotated,pitch)\n",
    "\n",
    "    if periodic==1:\n",
    "        [Graph_Xerr,Graph_Zerr,X_logical1_Graph_Zerr,X_logical2_Graph_Zerr,Z_logical1_Graph_Xerr,Z_logical2_Graph_Xerr]=decoder_graphs(Nx,Ny,prob_dist,periodic,rotated)\n",
    "    else:\n",
    "        [Graph_Xerr,Graph_Zerr,X_logical1_Graph_Zerr,Z_logical1_Graph_Xerr]=decoder_graphs(Nx,Ny,prob_dist,periodic,rotated)\n",
    "    \n",
    "    if pH!=0:            \n",
    "        [Graph_Xerr,Graph_Zerr]=weight_error_changes(prob_dist,Graph_Xerr,Graph_Zerr,periodic,rotated,hadamard_vec)\n",
    "\n",
    "    mXerr=Matching(Graph_Xerr)\n",
    "    mZerr=Matching(Graph_Zerr)\n",
    "\n",
    "    failure_list=np.zeros(num_mc) \n",
    "\n",
    "    for i in range(num_mc):\n",
    "        #noise\n",
    "        noiseXerr,syndromeXerr=mXerr.add_noise()\n",
    "        noiseZerr,syndromeZerr=mZerr.add_noise()\n",
    "\n",
    "        #correction\n",
    "        correctionXerr=mXerr.decode(syndromeXerr)\n",
    "        correctionZerr=mZerr.decode(syndromeZerr)\n",
    "\n",
    "        #correction+noise \n",
    "        corr_noise_Xerr=np.array((correctionXerr+noiseXerr)%2)\n",
    "        corr_noise_Zerr=np.array((correctionZerr+noiseZerr)%2)\n",
    "\n",
    "        #correction+noise action on the logicals\n",
    "        if periodic==1:\n",
    "            sum_logicalZ1=corr_noise_Xerr[Z_logical1_Graph_Xerr]\n",
    "            sum_logicalX1=corr_noise_Zerr[X_logical1_Graph_Zerr]\n",
    "            sum_logicalZ2=corr_noise_Xerr[Z_logical2_Graph_Xerr]\n",
    "            sum_logicalX2=corr_noise_Zerr[X_logical2_Graph_Zerr]\n",
    "            failure_list[i]=sum(sum_logicalZ1)%2 or sum(sum_logicalZ2)%2 or sum(sum_logicalX1)%2 or sum(sum_logicalX2)%2\n",
    "\n",
    "        else:\n",
    "            sum_logicalZ1=corr_noise_Xerr[Z_logical1_Graph_Xerr]\n",
    "            sum_logicalX1=corr_noise_Zerr[X_logical1_Graph_Zerr]\n",
    "            failure_list[i]=sum(sum_logicalZ1)%2 or sum(sum_logicalX1)%2\n",
    "\n",
    "    pL=failure_list.mean()\n",
    "    std=failure_list.std()/np.sqrt(num_mc)\n",
    "\n",
    "    # print(pL,std)\n",
    "    return [pL,std]\n",
    "\n",
    "def pymatching_rand2(bias,bias_str,num_mc,L_list,error_probabilities,pH,pitch,num_realiz,periodic,rotated):\n",
    "    def square(a):\n",
    "        return a**2\n",
    "    vsquare=np.vectorize(square)\n",
    "\n",
    "    pL_list_realiz=np.zeros((num_realiz,len(L_list),len(error_probabilities)))\n",
    "    std_list_realiz=np.zeros((num_realiz,len(L_list),len(error_probabilities)))       \n",
    "    \n",
    "    pL_list=np.zeros((len(L_list),len(error_probabilities)))\n",
    "    std_list=np.zeros((len(L_list),len(error_probabilities)))        \n",
    "    log_pL_list=np.zeros((len(L_list),len(error_probabilities)))\n",
    "    log_std_list=np.zeros((len(L_list),len(error_probabilities)))\n",
    "\n",
    "    error_model = BiasedDepolarizingErrorModel(bias,bias_str)\n",
    "    prob_dist_sample= error_model.probability_distribution(0.3)\n",
    "\n",
    "    for ind_L in range(0,len(L_list)):\n",
    "        L=L_list[ind_L]\n",
    "        print('L=',L)\n",
    "        Nx=L\n",
    "        Ny=L\n",
    "        for realization_index in range(num_realiz):\n",
    "\n",
    "            p=mp.Pool()\n",
    "            func=partial(parallel_step_p2,bias,bias_str,error_model,Nx,Ny,num_mc,pH,pitch,num_realiz,periodic,rotated)\n",
    "            result=p.map(func,error_probabilities)\n",
    "            p.close()\n",
    "            p.join()\n",
    "\n",
    "            for i in range(len(result)):\n",
    "                pL_list_realiz[realization_index][ind_L][i]=result[i][0]\n",
    "                std_list_realiz[realization_index][ind_L][i]=result[i][1]\n",
    "\n",
    "    pL_list=np.sum(pL_list_realiz,axis=0)/num_realiz\n",
    "    std_list=np.sqrt(np.sum(vsquare(std_list_realiz),axis=0))/num_realiz\n",
    "\n",
    "    for ind_L in range(0,len(L_list)):\n",
    "        for i in range(len(error_probabilities)):\n",
    "            log_pL_list[ind_L][i]=-np.log(pL_list[ind_L][i])\n",
    "            log_std_list[ind_L][i]=std_list[ind_L][i]/(pL_list[ind_L][i]*np.log(10))\n",
    "\n",
    "    return [pL_list,std_list,log_pL_list,log_std_list]"
   ]
  },
  {
   "cell_type": "code",
   "execution_count": 75,
   "metadata": {},
   "outputs": [
    {
     "name": "stdout",
     "output_type": "stream",
     "text": [
      "[0 1 0 1 1 1 1 0 1 0 1 0 1 0 0 1 1 0 0 1 1 0 1 1 0 0 0 0 1 1 1 0]\n"
     ]
    }
   ],
   "source": [
    "rng = np.random.default_rng()\n",
    "error_Pauli = rng.choice(('I', 'X', 'Y', 'Z'),size=n_qubits,p=prob_dist)\n",
    "step_error=pt.pauli_to_bsf(''.join(error_Pauli))\n",
    "noiseXerr= step_error[0:n_qubits]\n",
    "noiseZerr=step_error[n_qubits:2*n_qubits]\n",
    "print(noiseXerr)\n",
    "syndromeXerr=np.zeros(len(Graph_Xerr.nodes))\n",
    "syndromeZerr=np.zeros(len(Graph_Zerr.nodes))\n",
    "\n",
    "for u,v,w in Graph_Zerr.edges:\n",
    "    if noiseZerr[Graph_Zerr[u][v][w]['qubit_id']]==1:\n",
    "        syndromeZerr[u]=(syndromeZerr[u]+1)%2\n",
    "        syndromeZerr[v]=(syndromeZerr[v]+1)%2\n",
    "\n",
    "for u,v,w in Graph_Xerr.edges:\n",
    "    if noiseXerr[Graph_Xerr[u][v][w]['qubit_id']]==1:\n",
    "        syndromeXerr[u]=(syndromeXerr[u]+1)%2\n",
    "        syndromeXerr[v]=(syndromeXerr[v]+1)%2      \n"
   ]
  },
  {
   "cell_type": "code",
   "execution_count": 76,
   "metadata": {},
   "outputs": [
    {
     "name": "stdout",
     "output_type": "stream",
     "text": [
      "0 1 0 0\n",
      "0 7 0 1\n",
      "0 49 0 2\n",
      "1 2 0 20\n",
      "1 8 0 21\n",
      "7 8 0 3\n",
      "7 14 0 4\n",
      "7 49 0 5\n",
      "49 14 0 8\n",
      "49 21 0 11\n",
      "49 28 0 14\n",
      "49 35 0 17\n",
      "49 42 0 19\n",
      "49 50 0 -1\n",
      "8 9 0 22\n",
      "8 15 0 23\n",
      "14 15 0 6\n",
      "14 21 0 7\n",
      "15 16 0 24\n",
      "15 22 0 25\n",
      "21 22 0 9\n",
      "21 28 0 10\n",
      "22 23 0 26\n",
      "22 29 0 27\n",
      "28 29 0 12\n",
      "28 35 0 13\n",
      "29 30 0 28\n",
      "29 36 0 29\n",
      "35 36 0 15\n",
      "35 42 0 16\n",
      "36 37 0 30\n",
      "36 43 0 31\n",
      "42 43 0 18\n",
      "43 44 0 32\n",
      "2 3 0 33\n",
      "2 9 0 34\n",
      "9 10 0 35\n",
      "9 16 0 36\n",
      "16 17 0 37\n",
      "16 23 0 38\n",
      "23 24 0 39\n",
      "23 30 0 40\n",
      "30 31 0 41\n",
      "30 37 0 42\n",
      "37 38 0 43\n",
      "37 44 0 44\n",
      "44 45 0 45\n",
      "3 4 0 46\n",
      "3 10 0 47\n",
      "10 11 0 48\n",
      "10 17 0 49\n",
      "17 18 0 50\n",
      "17 24 0 51\n",
      "24 25 0 52\n",
      "24 31 0 53\n",
      "31 32 0 54\n",
      "31 38 0 55\n",
      "38 39 0 56\n",
      "38 45 0 57\n",
      "45 46 0 58\n",
      "4 5 0 59\n",
      "4 11 0 60\n",
      "11 12 0 61\n",
      "11 18 0 62\n",
      "18 19 0 63\n",
      "18 25 0 64\n",
      "25 26 0 65\n",
      "25 32 0 66\n",
      "32 33 0 67\n",
      "32 39 0 68\n",
      "39 40 0 69\n",
      "39 46 0 70\n",
      "46 47 0 71\n",
      "5 6 0 72\n",
      "5 12 0 73\n",
      "12 13 0 74\n",
      "12 19 0 75\n",
      "19 20 0 76\n",
      "19 26 0 77\n",
      "26 27 0 78\n",
      "26 33 0 79\n",
      "33 34 0 80\n",
      "33 40 0 81\n",
      "40 41 0 82\n",
      "40 47 0 83\n",
      "47 48 0 84\n",
      "6 50 0 85\n",
      "6 13 0 86\n",
      "13 50 0 87\n",
      "13 20 0 88\n",
      "20 50 0 89\n",
      "20 27 0 90\n",
      "27 50 0 91\n",
      "27 34 0 92\n",
      "34 50 0 93\n",
      "34 41 0 94\n",
      "41 50 0 95\n",
      "41 48 0 96\n",
      "48 50 0 97\n",
      "[ 2  5  8 11 14 17 19]\n",
      "[ 2  0 20 33 46 59 72 85]\n"
     ]
    }
   ],
   "source": [
    "Nx=7\n",
    "Ny=7\n",
    "prob_dist=[0.1,0.3,0.3,0.3]\n",
    "periodic=0\n",
    "rotated=0\n",
    "\n",
    "[Graph_Xerr,Graph_Zerr,X_logical1_Graph_Zerr,Z_logical1_Graph_Xerr]=decoder_graphs(Nx,Ny,prob_dist,periodic,rotated)\n",
    "n_qubits=len(Graph_Xerr.edges)-1\n",
    "\n",
    "\n",
    "for u,v,w in Graph_Zerr.edges:\n",
    "    print(u,v,w,Graph_Zerr[u][v][w]['qubit_id'])\n",
    "print(X_logical1_Graph_Zerr)\n",
    "print(Z_logical1_Graph_Xerr)"
   ]
  },
  {
   "cell_type": "code",
   "execution_count": 24,
   "metadata": {},
   "outputs": [
    {
     "data": {
      "text/plain": [
       "32"
      ]
     },
     "execution_count": 24,
     "metadata": {},
     "output_type": "execute_result"
    }
   ],
   "source": [
    "n_qubits"
   ]
  },
  {
   "cell_type": "code",
   "execution_count": 25,
   "metadata": {},
   "outputs": [
    {
     "data": {
      "text/plain": [
       "64"
      ]
     },
     "execution_count": 25,
     "metadata": {},
     "output_type": "execute_result"
    }
   ],
   "source": [
    "len(step_error)"
   ]
  },
  {
   "cell_type": "code",
   "execution_count": 26,
   "metadata": {},
   "outputs": [
    {
     "data": {
      "text/plain": [
       "32"
      ]
     },
     "execution_count": 26,
     "metadata": {},
     "output_type": "execute_result"
    }
   ],
   "source": [
    "len(noiseZerr)"
   ]
  },
  {
   "cell_type": "code",
   "execution_count": 27,
   "metadata": {},
   "outputs": [
    {
     "data": {
      "text/plain": [
       "0"
      ]
     },
     "execution_count": 27,
     "metadata": {},
     "output_type": "execute_result"
    }
   ],
   "source": [
    "step_error[63]"
   ]
  },
  {
   "cell_type": "code",
   "execution_count": 28,
   "metadata": {},
   "outputs": [],
   "source": [
    "noiseXerr,syndromeXerr,noiseZerr,syndromeZerr=noisesyndrome(Graph_Xerr,Graph_Zerr,prob_dist,n_qubits)\n"
   ]
  },
  {
   "cell_type": "code",
   "execution_count": 29,
   "metadata": {},
   "outputs": [
    {
     "data": {
      "text/plain": [
       "array([0, 1, 1, 1, 1, 0, 1, 0, 1, 1, 1, 1, 1, 0, 1, 1, 1, 0, 1, 0, 1, 1,\n",
       "       0, 0, 0, 0, 1, 0, 0, 1, 0, 1])"
      ]
     },
     "execution_count": 29,
     "metadata": {},
     "output_type": "execute_result"
    }
   ],
   "source": [
    "noiseXerr"
   ]
  },
  {
   "cell_type": "code",
   "execution_count": 30,
   "metadata": {},
   "outputs": [
    {
     "data": {
      "text/plain": [
       "array([0., 1., 0., 1., 1., 0., 0., 1., 0., 1., 0., 1., 0., 0., 0., 0., 0.])"
      ]
     },
     "execution_count": 30,
     "metadata": {},
     "output_type": "execute_result"
    }
   ],
   "source": [
    "syndromeXerr"
   ]
  },
  {
   "cell_type": "code",
   "execution_count": 33,
   "metadata": {},
   "outputs": [
    {
     "data": {
      "text/plain": [
       "array(['X'], dtype='<U1')"
      ]
     },
     "execution_count": 33,
     "metadata": {},
     "output_type": "execute_result"
    }
   ],
   "source": [
    "error_Pauli = rng.choice(('I', 'X', 'Y', 'Z'),size=1,p=prob_dist) \n",
    "error_Pauli"
   ]
  },
  {
   "cell_type": "code",
   "execution_count": 35,
   "metadata": {},
   "outputs": [
    {
     "data": {
      "text/plain": [
       "'X'"
      ]
     },
     "execution_count": 35,
     "metadata": {},
     "output_type": "execute_result"
    }
   ],
   "source": [
    "''.join(error_Pauli)"
   ]
  },
  {
   "cell_type": "code",
   "execution_count": 40,
   "metadata": {},
   "outputs": [],
   "source": [
    "prob_dist=np.zeros((2,4))\n",
    "prob_dist[0]=[0.1,0.2,0.3,0.4]\n",
    "prob_dist[1]=[0.1,0.4,0.3,0.2]"
   ]
  },
  {
   "cell_type": "code",
   "execution_count": 41,
   "metadata": {},
   "outputs": [
    {
     "data": {
      "text/plain": [
       "array([[0.1, 0.2, 0.3, 0.4],\n",
       "       [0.1, 0.4, 0.3, 0.2]])"
      ]
     },
     "execution_count": 41,
     "metadata": {},
     "output_type": "execute_result"
    }
   ],
   "source": [
    "prob_dist"
   ]
  },
  {
   "cell_type": "code",
   "execution_count": 49,
   "metadata": {},
   "outputs": [],
   "source": [
    "x=[[6.90775528,6.2146081,5.80914299\n",
    ",5.52146092,4.82831374,3.9633163,3.9633163,3.57555077,3.19418321\n",
    ",2.86470401,2.52572864,2.35387839,2.07147337,1.87080268,1.63989712\n",
    ",1.5050779,1.3130439,1.11779511,0.96758403,0.80519668,0.68319685\n",
    ",0.5378543,0.43386458,0.34249031,0.23319389]\n",
    ",[6.90775528,6.2146081,5.80914299\n",
    ",5.52146092,4.60517019,3.86323284,3.21887582,2.88240359,2.48891467\n",
    ",2.31263543,1.89047544,1.61948825,1.33941078,1.0555528,0.86512245\n",
    ",0.65778004,0.50418108,0.38126042,0.25747623]\n",
    ",[6.90775528,6.2146081,5.29831737,4.50986001,3.86323284\n",
    ",3.10109279,2.40794561,1.91054301,1.62964062,1.32802545,0.99967234\n",
    ",0.77652879,0.54128483,0.37542099,0.24846136]]\n"
   ]
  },
  {
   "cell_type": "code",
   "execution_count": 54,
   "metadata": {},
   "outputs": [
    {
     "data": {
      "text/plain": [
       "[6.90775528,\n",
       " 6.2146081,\n",
       " 5.80914299,\n",
       " 5.52146092,\n",
       " 4.60517019,\n",
       " 3.86323284,\n",
       " 3.21887582,\n",
       " 2.88240359,\n",
       " 2.48891467,\n",
       " 2.31263543,\n",
       " 1.89047544,\n",
       " 1.61948825,\n",
       " 1.33941078,\n",
       " 1.0555528,\n",
       " 0.86512245,\n",
       " 0.65778004,\n",
       " 0.50418108,\n",
       " 0.38126042,\n",
       " 0.25747623]"
      ]
     },
     "execution_count": 54,
     "metadata": {},
     "output_type": "execute_result"
    }
   ],
   "source": [
    "x[:][1]"
   ]
  },
  {
   "cell_type": "code",
   "execution_count": 58,
   "metadata": {},
   "outputs": [],
   "source": [
    "prob_dist\n",
    "paulis = ('I', 'X', 'Y', 'Z')\n",
    "op_to_pr = dict(zip(paulis, prob_dist[1]))"
   ]
  },
  {
   "cell_type": "code",
   "execution_count": 59,
   "metadata": {},
   "outputs": [
    {
     "data": {
      "text/plain": [
       "{'I': 0.1, 'X': 0.4, 'Y': 0.3, 'Z': 0.2}"
      ]
     },
     "execution_count": 59,
     "metadata": {},
     "output_type": "execute_result"
    }
   ],
   "source": [
    "op_to_pr"
   ]
  },
  {
   "cell_type": "code",
   "execution_count": 57,
   "metadata": {},
   "outputs": [
    {
     "data": {
      "text/plain": [
       "array([[0.1, 0.2, 0.3, 0.4],\n",
       "       [0.1, 0.4, 0.3, 0.2]])"
      ]
     },
     "execution_count": 57,
     "metadata": {},
     "output_type": "execute_result"
    }
   ],
   "source": [
    "prob_dist"
   ]
  },
  {
   "cell_type": "code",
   "execution_count": 60,
   "metadata": {},
   "outputs": [
    {
     "data": {
      "text/plain": [
       "array([[0, 0],\n",
       "       [1, 0],\n",
       "       [1, 1],\n",
       "       [0, 1]])"
      ]
     },
     "execution_count": 60,
     "metadata": {},
     "output_type": "execute_result"
    }
   ],
   "source": [
    "pt.pauli_to_bsf(paulis)"
   ]
  },
  {
   "cell_type": "code",
   "execution_count": 77,
   "metadata": {},
   "outputs": [],
   "source": [
    "import matplotlib.pyplot as plt\n",
    "import numpy as np\n",
    "from matplotlib import colors\n",
    "from matplotlib.ticker import PercentFormatter\n",
    "\n",
    "# Fixing random state for reproducibility\n",
    "np.random.seed(19680801)"
   ]
  },
  {
   "cell_type": "code",
   "execution_count": 80,
   "metadata": {},
   "outputs": [
    {
     "data": {
      "text/plain": [
       "(array([6.0000e+00, 9.0000e+00, 4.8000e+01, 2.2200e+02, 6.4700e+02,\n",
       "        1.8350e+03, 4.0040e+03, 7.6830e+03, 1.1870e+04, 1.5624e+04,\n",
       "        1.7158e+04, 1.5498e+04, 1.1682e+04, 7.3210e+03, 3.9200e+03,\n",
       "        1.6680e+03, 5.6800e+02, 1.7700e+02, 4.8000e+01, 1.2000e+01]),\n",
       " array([-4.49753985, -4.06770723, -3.63787461, -3.20804199, -2.77820937,\n",
       "        -2.34837676, -1.91854414, -1.48871152, -1.0588789 , -0.62904628,\n",
       "        -0.19921366,  0.23061895,  0.66045157,  1.09028419,  1.52011681,\n",
       "         1.94994943,  2.37978205,  2.80961466,  3.23944728,  3.6692799 ,\n",
       "         4.09911252]),\n",
       " <BarContainer object of 20 artists>)"
      ]
     },
     "execution_count": 80,
     "metadata": {},
     "output_type": "execute_result"
    },
    {
     "data": {
      "image/png": "[encoded data removed]",
      "text/plain": [
       "<Figure size 432x288 with 2 Axes>"
      ]
     },
     "metadata": {
      "needs_background": "light"
     },
     "output_type": "display_data"
    }
   ],
   "source": [
    "N_points = 100000\n",
    "n_bins = 20\n",
    "\n",
    "# Generate a normal distribution, center at x=0 and y=5\n",
    "x = np.random.randn(N_points)\n",
    "y = .4 * x + np.random.randn(100000) + 5\n",
    "\n",
    "fig, axs = plt.subplots(1, 2, sharey=True, tight_layout=True)\n",
    "axs[0].hist(x, bins=n_bins)\n"
   ]
  },
  {
   "cell_type": "code",
   "execution_count": 84,
   "metadata": {},
   "outputs": [
    {
     "data": {
      "image/png": "[encoded data removed]",
      "text/plain": [
       "<Figure size 432x288 with 1 Axes>"
      ]
     },
     "metadata": {
      "needs_background": "light"
     },
     "output_type": "display_data"
    }
   ],
   "source": [
    "import matplotlib.pyplot as plt\n",
    "rng = np.random.RandomState(10)  # deterministic random data\n",
    "a = np.hstack((rng.normal(size=1000),\n",
    "               rng.normal(loc=5, scale=2, size=1000)))\n",
    "_ = plt.hist(a, bins='auto')  # arguments are passed to np.histogram\n",
    "plt.title(\"Histogram with 'auto' bins\")\n",
    "plt.show()"
   ]
  },
  {
   "cell_type": "code",
   "execution_count": 89,
   "metadata": {},
   "outputs": [
    {
     "data": {
      "text/plain": [
       "array([ 4.72096633,  4.22542478,  4.43578161,  8.59293662,  7.78506382,\n",
       "        6.0789742 ,  6.61273065,  4.13870159,  5.28518382,  6.16379485,\n",
       "        8.64899152,  3.77993258,  2.97559997,  3.16806959,  3.9505296 ,\n",
       "        7.31901982,  5.93452724,  3.99549524,  2.3482754 ,  5.85697981,\n",
       "        4.22847065,  6.80838854,  5.3251492 ,  6.53901529,  6.0780517 ,\n",
       "        3.44735681,  6.86029033,  6.52854469,  5.97005552,  7.27261192,\n",
       "        5.05745678,  3.17752514,  1.58779357,  5.83438698,  3.86371246,\n",
       "        1.43923254,  7.08139579,  4.27945161,  8.51103215,  4.13197973,\n",
       "        5.68644009,  5.78679787,  5.94092614,  3.62386094,  4.32713358,\n",
       "        6.66702562,  5.07316423,  6.15957517,  1.42319365,  2.79444462,\n",
       "        5.1532323 ,  6.99113465,  8.8084182 ,  2.58513919,  3.21447387,\n",
       "        4.54357104,  5.66052932,  5.27828777,  5.775603  ,  7.63538958,\n",
       "        4.46247646,  5.40401984,  4.13644748,  2.03303882,  4.05090588,\n",
       "        5.81881172,  5.74819858,  6.84664101,  5.19315194,  6.4559929 ,\n",
       "        3.54477686,  2.82861513,  5.71691652,  3.91190856,  7.83123662,\n",
       "        5.36585887,  7.78214133,  5.43026133,  5.39413184,  6.344758  ,\n",
       "        1.43959986,  3.23206123,  0.58076318,  6.17176259,  3.55896718,\n",
       "        6.3083204 ,  6.19236692,  5.77777069,  4.68968187,  2.39412652,\n",
       "        7.13562052,  4.79415012,  6.88860331,  4.48320637,  2.39289679,\n",
       "        7.62704736,  2.65290415,  7.15446906,  1.12184003,  6.32575013,\n",
       "        0.87941248,  4.50069853,  2.48117192,  4.61749601,  4.49577007,\n",
       "        3.92102272,  6.00173599,  2.47598334,  0.26540664,  5.79395327,\n",
       "        4.90384615,  3.16783467,  5.95453616,  5.99062281,  7.49601978,\n",
       "        5.48425397,  4.49751208,  6.21996685,  3.53006677,  2.61278578,\n",
       "        4.4243172 ,  5.30266641,  1.48397319,  6.29759182,  3.99992363,\n",
       "        4.40954296,  7.04240532,  5.3304452 ,  6.02464774,  5.66685306,\n",
       "        6.065885  ,  7.4276459 ,  2.58246402,  6.99183903,  3.58115936,\n",
       "        4.77778498,  3.82566234,  6.64059973, -0.10725378,  5.5562685 ,\n",
       "        4.33131975,  5.36559711,  5.07574808,  0.6506431 ,  6.89527747,\n",
       "        1.60335624,  1.70305616,  6.78734714,  9.29062691,  1.45856953,\n",
       "        4.7624997 ,  2.08330653,  6.36464802,  5.77116626,  6.28035884,\n",
       "        5.33997618,  5.11219084,  4.95997367,  4.64735685,  3.63773978,\n",
       "        5.05783296,  4.1994853 ,  7.29988251,  4.99227275,  3.5569992 ,\n",
       "        4.88616897,  2.23408725,  3.45758336,  7.51314993,  4.21271662,\n",
       "        6.52264753,  7.68224629,  2.89111371,  6.77864395,  3.75868626,\n",
       "        4.1893201 ,  2.33174894,  5.87556603,  4.16162954,  4.49547203,\n",
       "        4.03843967,  7.13129937,  9.62572629,  4.84082574,  4.26583691,\n",
       "        4.52903854,  4.12833206,  3.39124804,  9.55306214,  8.28700698,\n",
       "        4.37662129,  2.75590807,  3.14634875,  4.01836969,  2.52604615,\n",
       "        4.06734349,  2.34940693,  2.96187649,  2.15154407,  4.63605224,\n",
       "        3.50485898,  2.08503007,  3.39028854,  6.5924444 ,  5.42755111,\n",
       "        5.13454017,  3.47920128,  8.49026273,  3.72106836,  5.31697558,\n",
       "        0.56323223,  8.24939994,  5.64949408,  5.20099691,  1.0781294 ,\n",
       "        3.76010273,  5.84829222,  9.20383052,  3.72097832,  7.44822259,\n",
       "        4.44004956,  3.93316317,  6.82211891,  0.74005486,  6.87003361,\n",
       "        3.287652  ,  5.34721787,  5.95078795,  2.79502596,  4.44334335,\n",
       "        7.08826794,  6.75215885,  3.31008908,  2.70091745,  5.0298956 ,\n",
       "        6.06031445,  7.89787625,  3.48107533,  4.35270692,  7.63504637,\n",
       "        6.09129025,  7.09432112,  2.43084896,  9.89603965,  6.87763141,\n",
       "        2.95619863,  8.8649129 ,  4.56323946,  4.63636195,  7.2220261 ,\n",
       "        8.9114526 ,  7.61197749,  6.07535913,  6.18664283,  4.07086127,\n",
       "        4.94208852,  1.3229064 ,  8.86649232,  0.59443412,  6.08069628,\n",
       "        8.29571879, 10.99837967,  6.36793121,  1.24471613,  4.74980236,\n",
       "        5.47894753,  4.38030968,  3.64763335,  1.77437511,  1.53448136,\n",
       "        3.50392682,  5.12050189,  5.83646072,  2.64050607,  0.9284451 ,\n",
       "        2.20896017,  0.77030905,  4.16277957,  5.08196785,  5.41788097,\n",
       "        6.03026811,  2.73863115,  3.72643278,  3.33655995,  1.80883417,\n",
       "        5.71177635,  6.1001592 ,  6.12193433,  5.73350683,  2.85035324,\n",
       "        6.01262908,  3.62025234,  6.43905625,  4.92465517,  3.83837993,\n",
       "        1.41180144,  5.6570087 ,  1.56324807,  6.40118212,  5.41174394,\n",
       "        4.31377729,  5.71741943,  1.32785933,  0.04150534,  9.20453755,\n",
       "        1.30397018,  5.8397241 ,  3.05674602,  6.27057064,  4.7651874 ,\n",
       "        6.59638091,  9.33118114,  3.54697305,  3.98259098,  5.33940229,\n",
       "        8.18338084,  6.60368607,  8.19025943,  3.07881097,  4.18009543,\n",
       "        5.91368078,  4.89050047,  3.41677263,  4.58204528,  4.92609291,\n",
       "        7.69319005,  6.4412359 ,  7.54998815,  5.98357194,  6.66681744,\n",
       "        6.76336628,  2.36993452,  8.51040487,  4.4726714 ,  3.9268932 ,\n",
       "        4.93323502,  8.27884741,  4.04212696,  7.096567  ,  5.84638641,\n",
       "        4.19481656,  0.66400839,  2.56926524,  7.09187859,  5.25349953,\n",
       "        5.50618571,  6.27582382,  4.73967164,  4.33738217,  2.98744727,\n",
       "        3.08112034,  4.32684245,  7.06372266,  6.58591061,  4.16483284,\n",
       "        1.35886981,  5.3632946 ,  3.18230119,  3.86674804,  4.98316894,\n",
       "        3.86028127,  6.28961257,  5.52250261,  5.8721852 ,  2.75494398,\n",
       "        3.8366812 ,  7.83321666,  2.84168416,  7.79638585,  1.1787667 ,\n",
       "        3.11433696,  5.70775926,  6.84441449,  1.41561904,  1.53557674,\n",
       "        6.00641867,  5.02626362,  5.45224708,  4.07560519,  5.43389728,\n",
       "        4.68729765,  1.78972964,  5.84993943,  5.76345517,  7.21952514,\n",
       "        6.84692467,  0.36869996,  4.970313  ,  4.03740592,  7.60687157,\n",
       "        3.09950406,  4.40369316,  5.68834835,  5.26722006,  5.48575256,\n",
       "        0.45916451,  5.22951958,  2.21916055,  3.94127568,  4.35411564,\n",
       "        4.45034237,  3.76598306,  6.56895489,  5.1591794 ,  5.6102662 ,\n",
       "        3.87521497,  3.7996663 ,  5.88151715,  2.87226858,  4.00816884,\n",
       "        3.89359186,  2.76100785,  4.34593084,  7.09475241,  4.55080476,\n",
       "        2.67276766,  6.11555703,  9.57671273,  6.15607683,  3.06837871,\n",
       "        3.03525584,  6.79592952,  7.19677023,  4.44345557,  6.00023874,\n",
       "        5.91587216,  7.72403306,  6.99101068,  3.08973065,  6.65946124,\n",
       "        2.2103116 ,  6.58997355,  2.85475111,  4.00962455,  6.98286499,\n",
       "        2.72344572,  3.95196358,  5.48783125,  6.9920048 ,  4.34732175,\n",
       "        3.6523567 ,  5.98197486,  6.11331417,  2.18643968,  7.86576825,\n",
       "        3.96262312,  4.27636769,  3.77098684,  4.84712224,  6.82830311,\n",
       "        3.2852756 ,  5.17090396,  5.986661  ,  6.43969214,  6.3212485 ,\n",
       "        3.06817744,  4.2701671 ,  4.15058572,  0.78208771,  0.99572991,\n",
       "        2.80880698,  6.8716862 ,  5.13513485,  4.35413007,  4.82439195,\n",
       "        3.1828723 ,  2.31990739,  5.43860385,  4.27925417,  8.38659279,\n",
       "        5.57190231,  5.46089827,  7.84094266,  7.811266  ,  5.46439015,\n",
       "        5.50934097,  6.15556438,  2.79260851,  3.8676956 ,  3.60106785,\n",
       "        3.36314418,  5.50013479,  3.07671038,  3.05366179,  4.42851548,\n",
       "        4.79364014,  5.34626479,  3.53054582,  2.61277778,  5.53429666,\n",
       "        6.32746916,  5.96396269,  7.63216933,  6.04368819,  4.99660934,\n",
       "        4.33917688,  3.61810479,  4.24700404,  4.49331903,  7.7728853 ,\n",
       "        4.67505873,  3.12607897,  5.02395442,  2.48061938,  8.36598176,\n",
       "        4.75479158,  7.20349463,  5.27470896,  4.05457544,  6.28759002,\n",
       "        4.13378843,  6.4818374 ,  2.34393501,  6.47410415,  4.57809899,\n",
       "        7.41124899,  5.0447184 ,  3.15091326,  5.6964168 ,  8.23461652,\n",
       "        7.43305771,  4.99457527,  4.57778084,  5.74802092,  5.34354643,\n",
       "        6.18102504,  5.51188229,  5.94890544,  9.81393437,  8.42645077,\n",
       "        1.9043863 ,  3.70300914,  5.11161896,  3.95624412,  3.68238439,\n",
       "        3.91888921,  6.36526964,  5.28898442,  7.35265537,  9.84514998,\n",
       "        1.60343904,  3.46107223,  3.14232622,  6.88788734, 10.8506485 ,\n",
       "        4.8198455 ,  8.46890234,  5.01303641,  7.44815207,  8.47797012,\n",
       "        6.87765406,  5.68300949,  6.65293495,  7.60487479,  2.85160061,\n",
       "        6.94464833,  1.6605791 ,  4.65237096,  3.670735  ,  8.02525658,\n",
       "        4.39193583,  5.8794603 ,  4.94427398,  7.69572671,  3.31681455,\n",
       "        2.85070122,  4.94926599,  7.20924681,  4.22101936,  6.58307425,\n",
       "        7.80271778,  4.03574089,  6.95675192,  4.94564663,  5.31392441,\n",
       "        4.57738217,  7.06325424,  3.72190812,  2.80868338,  6.44785699,\n",
       "        4.48220617,  6.86448534,  6.96082308,  5.7583754 ,  6.30160946,\n",
       "        2.62728408,  6.83286865,  4.76416189,  6.90749542,  6.62603367,\n",
       "        5.256923  ,  2.47311509,  7.16374485,  7.34958848,  4.64930416,\n",
       "        3.61050063,  4.92990876,  5.27609622,  4.00875595,  4.57208948,\n",
       "        3.64181192,  5.85171841,  8.06565477,  2.31629592,  4.04876805,\n",
       "        0.78615275,  2.92879343,  4.64931571,  3.22997366,  5.50304868,\n",
       "        3.36608332,  2.47324764,  3.67311834,  7.28773778,  3.00109046,\n",
       "       10.34691538,  6.41204658,  3.44488208,  4.62130018,  3.98674063,\n",
       "        3.51513343,  3.32802039,  3.79990121,  5.67700178,  5.71523331,\n",
       "        0.11735426,  5.96871477,  6.74024377,  3.81737556,  5.59967823,\n",
       "       -0.66355592,  6.08919979,  3.91040713,  3.88271463,  5.12089143,\n",
       "        5.59780546,  6.62138122,  5.62147338,  9.26213686,  5.99105827,\n",
       "        6.1241718 ,  3.16792536,  4.37934063,  4.97247116,  6.6204276 ,\n",
       "        3.19444592,  1.11556722,  4.19932651,  4.84961733,  4.60355857,\n",
       "        5.9908881 ,  8.71276978,  3.27187489,  1.57865894,  1.68966163,\n",
       "        3.61225398,  7.34155658,  4.21317541,  2.98822959,  5.99837199,\n",
       "        1.6345653 ,  6.01951533,  2.88922863,  4.56238466,  6.73130085,\n",
       "        5.87325895,  6.63900823,  5.11894747,  4.1121419 ,  5.69987877,\n",
       "        4.5958316 ,  4.40918575, -0.64211693,  5.04571635,  3.68652587,\n",
       "        8.21960517,  5.92289687,  6.33887962,  2.65245485,  3.13377307,\n",
       "        2.2921762 ,  2.53476365,  7.34204856,  6.61146719,  5.39791955,\n",
       "        3.36698936,  7.51824827,  5.22548862,  7.8905129 ,  5.73063165,\n",
       "        6.02727305,  2.93834383,  7.79242785,  7.03775187,  2.01300445,\n",
       "        0.50137819,  8.68429375,  7.81192212,  8.21208127,  8.59162086,\n",
       "        1.59888517,  2.15132784,  1.83012423,  5.04229545,  4.4000912 ,\n",
       "       -0.23935291,  6.62927111,  4.59869016,  4.42458477,  5.28309818,\n",
       "        6.21955226,  3.52977918, -1.74469402,  5.84068207,  7.02190101,\n",
       "        5.91945856,  4.0061589 ,  5.00418572,  3.67671076,  1.64936663,\n",
       "        6.60381048,  3.51143074,  4.95955487,  6.53636437,  6.91230522,\n",
       "        3.01978472,  5.79842003,  6.50877735,  6.54335366,  3.60723714,\n",
       "        7.60017095,  3.28329678,  5.19328558,  5.38577441,  5.47527764,\n",
       "        3.07770178,  6.033542  ,  4.71287306,  4.65668328,  3.88350082,\n",
       "        6.13162663,  2.1767131 ,  3.63064372,  6.5101041 ,  6.88895375,\n",
       "        1.09674841,  1.7996196 ,  2.41569456,  2.55325832,  5.7369195 ,\n",
       "        5.05248074,  2.48927303,  4.35222197,  3.77660536,  5.50795997,\n",
       "        4.0575761 ,  6.6402018 ,  6.08585088,  7.10578033,  3.74023601,\n",
       "        4.8589972 ,  3.9011884 ,  8.05087274,  5.09006073,  4.26983036,\n",
       "        7.54846894,  4.86032019,  5.46270069,  8.56469567,  2.08383329,\n",
       "        7.07116247,  3.49696247,  2.69087892,  5.57789361,  4.92789813,\n",
       "        4.63148044,  5.83008247,  4.07801767,  4.70778866,  1.61059574,\n",
       "        5.40969171,  6.94837321,  4.44573148,  5.56706672,  4.32245811,\n",
       "        2.4150004 ,  4.78462798,  4.73629903,  7.43451792,  3.46818551,\n",
       "        3.79451885,  1.24387011,  3.45520373,  5.42802587,  4.94727725,\n",
       "        7.30704258,  3.56190731,  2.11489161,  5.77677998,  6.40241678,\n",
       "        6.24649999,  5.10132704,  5.79943392,  0.5710961 ,  8.0741704 ,\n",
       "        4.98033994,  3.63149538,  5.96913418,  3.99618395,  8.92217848,\n",
       "        5.12175128,  3.94436929,  5.02944447,  4.98790312,  4.90503854,\n",
       "        7.36291412, -1.78621723,  4.80356327,  4.09647764,  4.22977976,\n",
       "        1.43044759,  4.67859627,  5.05158804,  5.95149111,  8.16237358,\n",
       "        2.66114247,  3.48062265,  3.66353939,  5.28143532,  2.58086727,\n",
       "        7.87759845,  5.97580767,  4.03555691,  6.47920796,  5.913242  ,\n",
       "        8.90412464,  0.82119528,  7.20982439,  7.12628851,  3.88399511,\n",
       "        2.10754512,  3.53720653,  5.85709058,  4.89308994,  5.36427247,\n",
       "        6.60543569,  3.72795742,  3.37467696,  6.86449952,  5.77572878,\n",
       "        4.15544002,  6.20800361,  3.47782028,  6.73568708,  3.57206367,\n",
       "        0.85185967,  5.80572357,  5.85613334,  8.58589058,  6.36731686,\n",
       "        5.19338007,  4.84582554,  4.10924232,  7.96717642,  4.53223014,\n",
       "        1.0714645 ,  4.92208606,  4.17176861,  7.02930196,  5.18120815,\n",
       "        6.70244195,  4.95279865,  4.96222386,  5.71622994,  2.62454912,\n",
       "        5.58771581,  6.08384704,  5.22532586,  8.02082629,  4.83716292,\n",
       "        6.79534576,  4.05483028,  1.52739223,  3.90095777,  6.26754393,\n",
       "        3.8486402 ,  5.59979429,  3.92035879,  7.80128727,  3.98611568,\n",
       "        5.02795347,  3.10319253,  3.55051513, -0.23783494,  3.83517303,\n",
       "        3.01543277,  6.14689067,  2.7996519 ,  5.8406491 ,  4.83777826,\n",
       "        6.30622154,  3.51577313,  2.43008803,  6.48855921,  4.02760457,\n",
       "        7.2074111 ,  5.58084691,  6.86926167,  4.88437995,  5.00805821,\n",
       "        3.32091451,  1.35673165,  3.16528114,  7.66806972,  7.74782352,\n",
       "        7.88676693,  4.74501299,  4.79201502,  5.93548982,  3.49693432,\n",
       "        2.91937183,  4.06754794,  6.36479639,  7.18911052,  4.55213891,\n",
       "        6.43969196,  2.84658353,  5.43734133,  5.06630704,  3.94103737,\n",
       "        6.66951187,  4.08894374,  4.17812421,  5.76936689,  5.09269798,\n",
       "        7.13651843,  7.55968667,  3.92388082,  1.7799499 ,  4.37944234,\n",
       "        1.90252577,  5.70836969,  4.89341523,  4.68342716,  4.97582251,\n",
       "        1.64084867,  2.20629527,  5.48851251,  4.01149454,  4.82299745,\n",
       "        3.68347453,  3.70912317,  6.67715777,  2.34955539,  5.95213521,\n",
       "        5.15115374,  7.21593226,  4.2486687 , 11.38674221,  9.01260803,\n",
       "        5.19129168,  6.46580159,  6.38419486,  3.18979465,  4.3160307 ,\n",
       "        6.19491948,  5.03796451,  2.95080171,  5.99829446,  6.16858774,\n",
       "        5.22199045,  3.43700206,  2.7736613 ,  7.74472752,  6.98310958,\n",
       "        4.63458621,  6.52284267,  7.53064255,  5.3901445 ,  6.28001002,\n",
       "        4.23834151,  3.22049578,  3.38659587,  6.18225114,  4.61344168,\n",
       "        6.18483969,  6.60132963,  1.219256  ,  4.55953258,  3.87005175,\n",
       "        5.82158645,  7.24469986,  5.48245364,  5.99307733,  6.31358519,\n",
       "        4.8237963 ,  9.17757417,  6.54752038,  6.44763507,  5.94393149])"
      ]
     },
     "execution_count": 89,
     "metadata": {},
     "output_type": "execute_result"
    }
   ],
   "source": [
    "rng.normal(loc=5, scale=2, size=1000)"
   ]
  },
  {
   "cell_type": "code",
   "execution_count": 91,
   "metadata": {},
   "outputs": [
    {
     "data": {
      "text/plain": [
       "array([ 1.42970443, -1.26525277,  0.33972331,  0.41262474, -0.24008959,\n",
       "        1.91046804, -0.73258957,  1.34206198,  1.02572328,  1.71463185,\n",
       "       -1.67634236, -0.26116035,  0.22610981,  0.31638673,  0.01403467,\n",
       "        1.0703316 , -0.24467394,  0.7299954 , -0.49565868, -0.193291  ])"
      ]
     },
     "execution_count": 91,
     "metadata": {},
     "output_type": "execute_result"
    }
   ],
   "source": [
    "a=np.hstack(rng.normal(size=20))\n",
    "a"
   ]
  },
  {
   "cell_type": "code",
   "execution_count": 94,
   "metadata": {},
   "outputs": [
    {
     "data": {
      "text/plain": [
       "(array([2., 2., 5., 4., 3., 4.]),\n",
       " array([-1.67634236, -1.07854063, -0.4807389 ,  0.11706284,  0.71486457,\n",
       "         1.3126663 ,  1.91046804]),\n",
       " <BarContainer object of 6 artists>)"
      ]
     },
     "execution_count": 94,
     "metadata": {},
     "output_type": "execute_result"
    },
    {
     "data": {
      "image/png": "[encoded data removed]",
      "text/plain": [
       "<Figure size 432x288 with 1 Axes>"
      ]
     },
     "metadata": {
      "needs_background": "light"
     },
     "output_type": "display_data"
    }
   ],
   "source": [
    "plt.hist(a, bins='auto')"
   ]
  },
  {
   "cell_type": "code",
   "execution_count": 87,
   "metadata": {},
   "outputs": [
    {
     "data": {
      "text/plain": [
       "array([ 5.4439713 , 10.25021194,  2.03608535,  3.47616126,  3.70322266,\n",
       "        2.18407964,  4.26091047,  8.98858346,  3.70488234,  3.83114824,\n",
       "        5.11641323,  2.09003927,  3.58794707,  8.61112351,  6.74400928,\n",
       "        3.62645046,  6.57680249,  2.91305833,  7.6213496 ,  1.48685956,\n",
       "        7.07067913,  3.0313167 ,  5.67240294,  6.62202187,  3.97898159,\n",
       "        3.63782296,  5.34087002,  6.52142515,  3.96785164,  3.70430312,\n",
       "        3.09840407,  5.72116823,  7.70614335,  2.31817436,  6.5880564 ,\n",
       "        3.88065462,  4.6899336 ,  4.46307323,  6.17384574,  7.83647698,\n",
       "        7.31521858,  4.31709897,  7.51550882,  6.46149704,  4.3023911 ,\n",
       "        2.73075624,  1.84937332,  5.71941677,  7.96170899,  2.19907771,\n",
       "        7.90434576,  6.75515191,  8.6450554 ,  3.06457293,  3.8858261 ,\n",
       "        6.46546642,  7.08095372,  7.74447688,  2.08199756,  2.01116269,\n",
       "        6.12391058,  4.33974886,  3.10179666,  7.54794672,  5.76993117,\n",
       "        5.38722921,  8.66057126,  6.23242364,  7.50537172,  5.30291593,\n",
       "        4.23414126,  3.4352743 ,  7.11401516,  7.40682789,  2.99662358,\n",
       "        3.94327188,  4.05491774,  6.93347768,  3.67207624,  5.30512353,\n",
       "        3.51893881,  4.9644974 ,  5.67293743,  8.23421142,  5.2138403 ,\n",
       "        6.2085908 ,  4.85756517,  4.43101575,  2.64141885,  5.10968398,\n",
       "        4.95818368,  4.81467874,  4.91561897,  3.47507761,  1.66983791,\n",
       "        5.51973679,  7.30788907,  7.22408797,  4.16608417,  5.40358797,\n",
       "        6.9555468 ,  7.29783424,  3.79338443,  3.13432963,  5.82145145,\n",
       "        9.14249474,  4.94642907,  4.51045953,  5.24466538,  3.53275857,\n",
       "        6.85926628,  3.05468304,  4.08747039,  3.30416567,  3.87236247,\n",
       "        3.52653948,  2.85953891,  3.151215  ,  8.25761504,  4.30577041,\n",
       "        3.94406804,  7.03115025,  7.41155184,  9.43864373,  5.22181516,\n",
       "        3.1972762 ,  6.41636449,  4.35973667,  6.10482066,  6.60511233,\n",
       "        4.69706057,  5.80597694,  3.75682418,  3.59497576,  6.07737734,\n",
       "        1.56485385,  2.2293009 ,  3.85806341,  5.94896884,  2.79154787,\n",
       "        1.32070993,  9.16026743,  3.22309867,  2.77914259,  5.26563812,\n",
       "        6.18457086,  9.80532311,  4.10636052,  6.08468824,  5.96917809,\n",
       "        5.14617615,  4.61642795,  1.36551873,  4.28581754,  2.66708138,\n",
       "        4.02391687, -0.21760536,  5.72824243,  7.56548039,  6.89541197,\n",
       "        6.55284847,  2.03508567,  7.02771133,  6.17276807,  2.56008246,\n",
       "        5.65004599,  7.65748306,  5.73314863,  5.63662769,  4.00455657,\n",
       "        5.11387177,  3.15175177,  7.35730672,  4.50903507,  4.7704223 ,\n",
       "        2.02177853,  0.91431162,  3.80051169,  5.02595122,  4.27772869,\n",
       "        2.3169815 ,  8.80342984,  6.24398746,  5.53263252,  7.66354903,\n",
       "        5.93706991,  7.79934205,  7.5640309 ,  3.70747162,  4.18231646,\n",
       "        3.62103046,  4.47489163,  5.90875552,  2.60253284,  5.24009825,\n",
       "        8.09052908,  3.48530984,  7.75195439,  2.56877909,  6.96447898,\n",
       "        4.08765495,  7.22841883,  5.21923099,  4.64124556,  5.81725659,\n",
       "        2.98145791,  4.32775613,  5.25829357,  0.63178775,  5.57005387,\n",
       "        4.88626333,  3.22347263,  5.64491874,  8.49363649,  3.46542842,\n",
       "        2.64846815,  1.11923614,  4.46032585, 10.89419741,  5.64905596,\n",
       "        3.72264375,  5.03960326,  2.78670128,  5.80035021,  5.73645072,\n",
       "        5.21494443,  1.01989167,  2.77366523,  3.99162964,  6.67517802,\n",
       "        7.60178554,  6.19564784,  0.23148034,  3.70595131,  4.58163988,\n",
       "        4.90028602,  4.88969193,  3.88712688,  4.74583785,  3.36577768,\n",
       "        4.63316618,  9.4696988 ,  1.79482612,  1.9806026 ,  8.0806966 ,\n",
       "        5.60110635,  1.51763085,  5.15112895,  6.44944048,  6.45949669,\n",
       "        5.56097956,  7.72093126,  5.75023786,  6.09644926,  9.65266885,\n",
       "        5.35747169,  2.72576522,  9.04768269,  3.03790533,  7.16782487,\n",
       "        7.20732867,  3.71360215,  4.29730113,  5.66568206,  5.11614195,\n",
       "        8.37403114,  5.96708202,  5.17456782,  8.5249962 ,  1.91735893,\n",
       "        8.91563121,  3.76406589,  2.26130223,  4.86478885,  4.11474103,\n",
       "        7.57186136,  5.23791015,  3.60716349,  4.27730135,  5.17500309,\n",
       "        7.8159206 ,  5.32784893,  5.56678002,  4.61769555,  4.92754964,\n",
       "        1.46524332,  5.0302646 ,  2.35197922,  2.93045885,  4.31316862,\n",
       "        5.16813676,  4.16190177,  7.37314543,  6.77439553,  5.3287112 ,\n",
       "        4.83314697,  4.54938207,  1.90813643,  5.19270264,  7.2412046 ,\n",
       "        8.08467739,  6.50642094,  3.90939856,  6.93617195,  2.91971509,\n",
       "        1.23775801,  0.3028742 ,  6.16906377,  2.59549621,  6.12213499,\n",
       "        9.11536483,  4.83645759,  4.77653524, 10.1746684 ,  7.4782833 ,\n",
       "        4.33460034,  2.30035078,  3.35455247,  1.57574848,  5.5643997 ,\n",
       "        2.2018264 ,  2.75737088,  4.32244012,  5.33189711,  7.6495417 ,\n",
       "        3.49870737,  7.38689617,  4.42060272,  0.20971858,  2.64983665,\n",
       "        8.287362  ,  6.456281  ,  1.50749687,  1.70680289,  2.23486912,\n",
       "        4.50248594,  7.58670987,  4.25472654,  3.52278805,  2.42944559,\n",
       "        7.70604832,  2.63546028,  2.4315689 ,  4.06781462,  2.72854939,\n",
       "        2.02513306,  7.92511013,  7.73567722,  6.48909755,  6.59681917,\n",
       "        6.00149017,  6.05301005,  4.31940341,  4.97947152,  6.28357772,\n",
       "        6.97032508,  3.33703924,  3.41029865,  8.25917388,  8.1733878 ,\n",
       "        6.6799724 ,  7.085949  ,  3.86911649,  2.90454433,  5.50520579,\n",
       "        0.55691762,  3.93995567,  6.78195706,  5.6643389 ,  4.44076971,\n",
       "        3.92860137,  7.17654992,  5.79211546,  0.27098954,  6.88408867,\n",
       "        6.2509825 ,  4.57438255,  2.32049808, -0.44278036,  4.51873932,\n",
       "        5.44549648,  6.15005957,  7.24172001,  4.09074364,  5.62058053,\n",
       "        2.73551769,  5.76758061,  5.56913564,  7.31181684,  6.36472331,\n",
       "        4.68471338,  1.43355768,  5.04646571,  5.59517109,  3.90050113,\n",
       "        4.39339497,  5.28029933,  7.2466105 ,  5.965086  ,  4.07856847,\n",
       "        3.05130033,  2.01042616,  4.41093717,  3.02025738,  4.53903544,\n",
       "        5.00074417,  5.21803523,  2.41679838,  4.4455713 ,  3.76963918,\n",
       "        2.64420963,  2.65221232,  4.82280203,  3.73561134,  5.50940148,\n",
       "        0.51625623,  4.42837435,  4.14273399,  7.66966525,  5.87984482,\n",
       "        7.54688636,  5.437849  ,  6.80400429,  2.87211202,  6.73619892,\n",
       "        5.40667878,  1.86038678,  5.7741622 ,  6.29186132,  9.20482437,\n",
       "        7.1667697 ,  5.40910283,  3.38004352,  5.06732029,  6.94542514,\n",
       "        6.91702035,  6.84460241,  4.70246106,  4.44335706,  5.61998456,\n",
       "        7.40638472,  2.60371579,  6.11503906,  2.51545748,  5.35167778,\n",
       "        6.4753506 ,  6.64773923,  4.1285661 ,  9.39536874,  6.24250935,\n",
       "        1.28882949,  6.92732666,  3.54210931,  7.16845645,  6.47724905,\n",
       "        6.22518314,  4.83517989,  0.65999389,  4.48538168,  6.23341182,\n",
       "        3.96263974,  1.57425815,  4.63212074,  2.72821969,  4.16230785,\n",
       "        3.31744309,  3.1807092 ,  7.85948511,  5.44987634,  4.59651656,\n",
       "        3.37766065,  3.69954799,  3.33889881,  6.76788423,  5.63063463,\n",
       "        5.40468181,  4.36411314,  4.38084724,  3.78438154,  8.38063083,\n",
       "        7.12458199,  5.48563183,  8.13598984,  3.04110158,  3.75204558,\n",
       "        5.78039806,  5.96515071,  5.17727205,  4.01107147,  4.94930708,\n",
       "        9.67073967,  2.51533037,  5.82329323,  5.63126809,  6.26253588,\n",
       "        5.52838647,  3.21112987,  5.96337683,  6.70502025,  3.10114402,\n",
       "        3.43446528,  4.6084625 ,  5.91419307,  3.19147116,  5.15126018,\n",
       "        4.15237567,  1.25612518,  3.16424139,  7.2585012 ,  7.86437798,\n",
       "        6.2819171 ,  3.36024292,  6.05888494,  4.35558552,  2.26762508,\n",
       "        7.27803762,  2.83948299,  5.09060381,  5.08021542,  3.70157948,\n",
       "        7.98962208,  4.59494377,  2.65735287,  6.76367312,  4.74451184,\n",
       "        4.97800883,  3.27093602, -0.50524648,  4.53870781,  3.97784536,\n",
       "        7.14797949,  3.91444259,  6.55353513,  7.93854384,  1.4667256 ,\n",
       "        5.7634108 ,  2.44016055,  1.93691451,  3.41845109,  3.66300444,\n",
       "        6.60226527,  5.97008406,  3.76773322,  2.41294243,  2.63798392,\n",
       "        4.74326868,  7.56399125,  6.49661345,  3.82808051,  3.49978046,\n",
       "        3.01025727,  4.48778892,  5.37248613,  5.10603756,  5.10804489,\n",
       "        5.49312544,  6.22807495,  3.92628152,  6.03155049,  8.53908398,\n",
       "        6.77464733,  3.00204527,  6.88073779,  6.0588633 ,  4.85832484,\n",
       "        3.52260794,  3.32450408,  3.26164281,  5.47480181,  2.70667824,\n",
       "        5.46165368,  1.39474187,  5.03133863,  2.87708543,  7.34305317,\n",
       "        5.77228266,  2.70898732,  1.75171586,  5.27974391,  6.81494639,\n",
       "        3.9687207 ,  4.91861697,  4.40409257,  6.02127232,  3.67106795,\n",
       "        4.80937538,  5.13357269,  7.34931282,  5.66125213,  7.96874104,\n",
       "        6.46659513,  3.18033874,  4.10954326,  2.85228697,  7.21874876,\n",
       "        5.24191851,  7.10416064,  5.03838356,  9.75130313,  8.21786746,\n",
       "        4.09929239,  4.50422291,  3.53522458,  3.31127281,  4.99292799,\n",
       "        5.36272666,  6.56890091,  4.57803228,  5.51453406,  5.10327868,\n",
       "        4.71143481,  2.58915752,  0.213465  ,  3.07454703,  6.63463575,\n",
       "        7.39937146,  2.99271359,  2.97316735,  1.51395186,  4.399287  ,\n",
       "        8.45475919,  3.9031896 ,  5.56044308,  5.20543068,  6.61482107,\n",
       "        3.97356269,  5.9986066 ,  4.95768145,  0.86761882,  7.92831474,\n",
       "        5.38844518,  3.22991989,  1.99325778,  3.28489838,  6.46843256,\n",
       "        3.27456655,  3.89499875,  3.8974988 ,  5.84112033,  6.65176544,\n",
       "        3.66811286,  1.21684793,  4.29806012,  1.10853668,  7.62102314,\n",
       "        5.59452634,  5.82719599,  4.28371157,  5.1274554 ,  2.37865653,\n",
       "        2.91090157,  4.78068797,  7.00798435,  5.67595646,  4.06792984,\n",
       "        5.5937068 ,  6.73191481,  7.5067362 ,  3.38432929,  7.04256985,\n",
       "        5.81179044,  5.02173328,  7.17331524,  5.29817736,  4.69445477,\n",
       "        4.77425233,  8.62106252,  5.57509448,  7.1763668 ,  5.71937268,\n",
       "        4.4219029 ,  5.32474754,  8.9015853 ,  4.72370607,  6.2016357 ,\n",
       "        5.66506239,  6.33132493,  4.16120264,  1.00445745,  3.58502504,\n",
       "        2.06389713,  7.49568624,  2.16557321,  6.88734139,  4.06478552,\n",
       "        2.26557365,  4.05033227,  5.65515972,  6.07813644,  4.54255908,\n",
       "        5.25692315,  4.67514622,  4.05648258,  4.89338454,  7.54894687,\n",
       "        4.98915997,  8.002042  ,  5.27168011,  7.68962128,  2.48272009,\n",
       "        3.25913567,  7.73989569,  3.75035454,  7.28016025,  2.26802999,\n",
       "        5.9167792 ,  3.31126872,  3.90359066,  6.54717417,  2.5671264 ,\n",
       "       -0.35373497,  4.33594693,  7.01988711,  5.0143877 ,  4.35386352,\n",
       "        4.85625956,  2.95210228,  2.50137558, -0.59122988,  7.14592798,\n",
       "        2.09508225,  6.15588903,  7.93286674,  7.48428417,  0.79430424,\n",
       "        7.13517702,  4.92046584,  2.21312039,  6.11569135,  5.67987821,\n",
       "        5.80617315,  0.96186488,  4.50988625,  8.41987762,  3.31325565,\n",
       "        4.47329167,  2.76905481,  4.01085325,  5.63408984,  4.79287999,\n",
       "        8.24691774,  4.41135687,  5.25017874,  5.85263722,  7.43810034,\n",
       "        4.90125792,  4.52982539,  3.27426958,  9.83708475,  2.11309654,\n",
       "        5.92279023,  4.92427139,  3.6396299 ,  4.67701584,  3.31978848,\n",
       "        7.69528175,  7.38686487,  1.7975602 ,  3.29002193,  5.19805257,\n",
       "        6.38814206,  6.20655365,  6.82135275,  6.71379622,  2.04987243,\n",
       "        2.8014194 ,  5.95975757,  3.95444084,  4.05959702,  6.21337631,\n",
       "        3.76068067,  2.69242616,  3.59621601,  0.2639559 ,  5.29874226,\n",
       "        9.10101664,  4.11853954,  2.31441025,  2.40848874,  2.52732717,\n",
       "        3.12744671,  3.51880886,  3.87396207,  3.54452105,  5.07993992,\n",
       "        3.12463813,  4.88921692,  1.53625909,  3.35554877,  6.80140665,\n",
       "        3.84535996,  6.92384134,  4.14055515,  3.79586465,  4.8806628 ,\n",
       "        3.25230352,  2.25320093,  6.54299079,  4.8329005 ,  6.56479012,\n",
       "        5.70971325,  5.07544603,  1.84327855,  6.1514939 ,  8.22382426,\n",
       "        4.46220191,  7.22667503,  5.705407  ,  3.14480019,  5.18408722,\n",
       "        7.44881666,  2.86476222,  4.45435552,  6.20385166,  5.47280411,\n",
       "        5.10055627,  5.28367208,  2.85270668,  7.11866841,  6.00557672,\n",
       "        3.82960832,  0.63581197,  2.0974418 ,  4.41131421,  5.86724208,\n",
       "        4.72010846,  9.50605535,  7.60523543,  4.14889975,  1.89587568,\n",
       "        6.58715261,  4.21801201,  7.60093383,  6.0537513 ,  4.07211231,\n",
       "        1.09351278,  4.96998766,  4.12660834,  4.43411682,  1.28349161,\n",
       "        5.43456804,  5.70043607,  3.94957631,  6.74909598,  2.26973899,\n",
       "        2.6588371 ,  4.38835274,  3.68257014, 11.90968997,  4.9591466 ,\n",
       "        6.96805279,  2.02707608, -0.57467928,  4.6844766 ,  3.39977874,\n",
       "        3.40063201,  2.46107005,  7.46100227,  5.78344614,  3.43715174,\n",
       "        3.87657695,  8.42086976,  8.38449957,  0.78060433,  5.31725657,\n",
       "        3.50716832,  4.91311581,  6.34063091,  2.75231749,  5.50096366,\n",
       "        2.90030452,  6.94770468,  6.9295312 ,  2.3404124 ,  5.77337513,\n",
       "        6.03204203,  4.89231665,  5.78358075,  6.42687536,  3.95605661,\n",
       "        3.1667078 ,  3.70110868,  3.27141053,  2.90395945,  3.65665389,\n",
       "        5.46805667,  1.58222918,  5.00945591,  4.77895159,  1.64594672,\n",
       "        7.22150368,  7.30053808,  6.34849007,  5.97750207,  5.88754549,\n",
       "        2.0038723 ,  6.79847032,  7.57507188,  3.53931326,  4.89020384,\n",
       "        0.82162696,  5.1712368 ,  6.27491132,  8.95757382,  6.66645015,\n",
       "        4.50331145,  2.25553226,  5.89222782,  7.05673815,  0.17174678,\n",
       "        5.52960956,  3.99426978,  3.67134444,  3.3251455 ,  1.39092912,\n",
       "        9.45488102,  2.40706492,  9.3499601 ,  6.96841633,  5.01027657,\n",
       "        3.74640432,  4.9563004 ,  7.42887202,  6.85767049,  5.13908588,\n",
       "        3.15326675,  3.26579294,  3.95531762,  3.8529972 ,  8.8588929 ,\n",
       "        7.42572211,  7.16385461,  6.29597068,  5.39562666,  2.03120995,\n",
       "        6.33791224,  7.89545841,  3.73272915,  3.56896116,  6.36027333,\n",
       "        6.59814247,  2.92254954,  6.38226043,  6.12691921,  7.11117066,\n",
       "        3.77763997,  4.04112517,  3.38314344,  4.74486518,  5.05228204,\n",
       "        5.62822697,  4.81642914,  4.11927185,  4.83049985,  3.10286104,\n",
       "        5.6506624 ,  2.36410158,  4.80312976,  7.28221272,  4.29159335,\n",
       "        4.88507621,  4.46866818,  1.79384637,  6.48342949,  3.25383233,\n",
       "        5.85773101, 10.35015432,  5.34237067,  8.90271959,  8.61617009,\n",
       "        1.3461502 ,  1.50422357,  2.2443085 ,  4.63690897,  2.77785863,\n",
       "        1.35182782,  4.56298411,  4.14694474,  7.17281548,  4.12158541,\n",
       "        9.02894521,  3.57011013,  5.29495252,  7.04181288,  7.03773958,\n",
       "        4.26410542,  5.24088218,  6.2621658 ,  4.73149753,  4.17013626,\n",
       "        7.01063945,  7.40034522,  2.73204426,  6.20047669,  6.38538479,\n",
       "        5.53588774,  6.97809197,  3.70481863,  6.80411778,  3.51775121])"
      ]
     },
     "execution_count": 87,
     "metadata": {},
     "output_type": "execute_result"
    }
   ],
   "source": [
    "rng.normal(loc=5, scale=2, size=1000)"
   ]
  },
  {
   "cell_type": "code",
   "execution_count": 98,
   "metadata": {},
   "outputs": [],
   "source": [
    "x=np.zeros((100,3,4))"
   ]
  },
  {
   "cell_type": "code",
   "execution_count": 99,
   "metadata": {},
   "outputs": [
    {
     "data": {
      "text/plain": [
       "array([[[0., 0., 0., 0.],\n",
       "        [0., 0., 0., 0.],\n",
       "        [0., 0., 0., 0.]],\n",
       "\n",
       "       [[0., 0., 0., 0.],\n",
       "        [0., 0., 0., 0.],\n",
       "        [0., 0., 0., 0.]],\n",
       "\n",
       "       [[0., 0., 0., 0.],\n",
       "        [0., 0., 0., 0.],\n",
       "        [0., 0., 0., 0.]],\n",
       "\n",
       "       ...,\n",
       "\n",
       "       [[0., 0., 0., 0.],\n",
       "        [0., 0., 0., 0.],\n",
       "        [0., 0., 0., 0.]],\n",
       "\n",
       "       [[0., 0., 0., 0.],\n",
       "        [0., 0., 0., 0.],\n",
       "        [0., 0., 0., 0.]],\n",
       "\n",
       "       [[0., 0., 0., 0.],\n",
       "        [0., 0., 0., 0.],\n",
       "        [0., 0., 0., 0.]]])"
      ]
     },
     "execution_count": 99,
     "metadata": {},
     "output_type": "execute_result"
    }
   ],
   "source": [
    "x"
   ]
  },
  {
   "cell_type": "code",
   "execution_count": 102,
   "metadata": {},
   "outputs": [
    {
     "data": {
      "text/plain": [
       "array([0., 0., 0., 0.])"
      ]
     },
     "execution_count": 102,
     "metadata": {},
     "output_type": "execute_result"
    }
   ],
   "source": [
    "x[0:-1][0][0]"
   ]
  },
  {
   "cell_type": "code",
   "execution_count": 103,
   "metadata": {},
   "outputs": [
    {
     "data": {
      "text/plain": [
       "['xzzx']"
      ]
     },
     "execution_count": 103,
     "metadata": {},
     "output_type": "execute_result"
    }
   ],
   "source": [
    "x=[]\n",
    "x.append('xzzx')\n",
    "x"
   ]
  },
  {
   "cell_type": "code",
   "execution_count": 104,
   "metadata": {},
   "outputs": [
    {
     "data": {
      "text/plain": [
       "'[0.234234234, 0.24323453543]'"
      ]
     },
     "execution_count": 104,
     "metadata": {},
     "output_type": "execute_result"
    }
   ],
   "source": [
    "x=[0.234234234,0.24323453543]\n",
    "str(x)"
   ]
  },
  {
   "cell_type": "code",
   "execution_count": 106,
   "metadata": {},
   "outputs": [],
   "source": [
    "y=[]\n",
    "for x in x:\n",
    "    y.append(str(x)[:3])\n",
    "    "
   ]
  },
  {
   "cell_type": "code",
   "execution_count": 107,
   "metadata": {},
   "outputs": [
    {
     "data": {
      "text/plain": [
       "['0.2', '0.2']"
      ]
     },
     "execution_count": 107,
     "metadata": {},
     "output_type": "execute_result"
    }
   ],
   "source": [
    "y"
   ]
  },
  {
   "cell_type": "code",
   "execution_count": 118,
   "metadata": {},
   "outputs": [
    {
     "data": {
      "text/plain": [
       "0"
      ]
     },
     "execution_count": 118,
     "metadata": {},
     "output_type": "execute_result"
    }
   ],
   "source": [
    "x=rng.choice((0,1,2,3,4,5),size=1,p=[1/2,0,0,1/6,1/6,1/6]) \n",
    "x[0]"
   ]
  },
  {
   "cell_type": "code",
   "execution_count": 142,
   "metadata": {},
   "outputs": [],
   "source": [
    "x=np.random.rand(3,4)"
   ]
  },
  {
   "cell_type": "code",
   "execution_count": 143,
   "metadata": {},
   "outputs": [
    {
     "data": {
      "text/plain": [
       "array([[0.63200708, 0.8569491 , 0.97629794, 0.13107902],\n",
       "       [0.45096687, 0.09689266, 0.25196495, 0.1184301 ],\n",
       "       [0.85382086, 0.439083  , 0.09793428, 0.89972603]])"
      ]
     },
     "execution_count": 143,
     "metadata": {},
     "output_type": "execute_result"
    }
   ],
   "source": [
    "x"
   ]
  },
  {
   "cell_type": "code",
   "execution_count": 144,
   "metadata": {},
   "outputs": [
    {
     "data": {
      "text/plain": [
       "array([0.45096687, 0.09689266, 0.25196495, 0.1184301 ])"
      ]
     },
     "execution_count": 144,
     "metadata": {},
     "output_type": "execute_result"
    }
   ],
   "source": [
    "x[1]"
   ]
  },
  {
   "cell_type": "code",
   "execution_count": 148,
   "metadata": {},
   "outputs": [],
   "source": [
    "x=np.vstack((x,np.random.rand(1,4)))"
   ]
  },
  {
   "cell_type": "code",
   "execution_count": 149,
   "metadata": {},
   "outputs": [
    {
     "data": {
      "text/plain": [
       "array([[0.63200708, 0.8569491 , 0.97629794, 0.13107902],\n",
       "       [0.45096687, 0.09689266, 0.25196495, 0.1184301 ],\n",
       "       [0.85382086, 0.439083  , 0.09793428, 0.89972603],\n",
       "       [0.        , 1.        , 2.        , 3.        ],\n",
       "       [0.11327305, 0.41862788, 0.42677599, 0.60675869]])"
      ]
     },
     "execution_count": 149,
     "metadata": {},
     "output_type": "execute_result"
    }
   ],
   "source": [
    "x"
   ]
  },
  {
   "cell_type": "code",
   "execution_count": 163,
   "metadata": {},
   "outputs": [],
   "source": [
    "y=np.empty((1,3))"
   ]
  },
  {
   "cell_type": "code",
   "execution_count": 164,
   "metadata": {},
   "outputs": [
    {
     "data": {
      "text/plain": [
       "array([[1., 2., 3.]])"
      ]
     },
     "execution_count": 164,
     "metadata": {},
     "output_type": "execute_result"
    }
   ],
   "source": [
    "y"
   ]
  },
  {
   "cell_type": "code",
   "execution_count": 165,
   "metadata": {},
   "outputs": [
    {
     "data": {
      "text/plain": [
       "array([[1.     , 2.     , 3.     ],\n",
       "       [1.     , 2.23432, 3.3453 ]])"
      ]
     },
     "execution_count": 165,
     "metadata": {},
     "output_type": "execute_result"
    }
   ],
   "source": [
    "y=np.vstack((y,[1,2.23432,3.3453]))\n",
    "y"
   ]
  },
  {
   "cell_type": "code",
   "execution_count": 168,
   "metadata": {},
   "outputs": [],
   "source": [
    "pi,px,py,pz=np.random.rand(4,1)"
   ]
  },
  {
   "cell_type": "code",
   "execution_count": 177,
   "metadata": {},
   "outputs": [
    {
     "ename": "TypeError",
     "evalue": "_append_dispatcher() missing 1 required positional argument: 'values'",
     "output_type": "error",
     "traceback": [
      "\u001b[0;31m---------------------------------------------------------------------------\u001b[0m",
      "\u001b[0;31mTypeError\u001b[0m                                 Traceback (most recent call last)",
      "\u001b[0;32m<ipython-input-177-81846f0b22c0>\u001b[0m in \u001b[0;36m<module>\u001b[0;34m\u001b[0m\n\u001b[1;32m      1\u001b[0m \u001b[0mprob_dist_mat\u001b[0m\u001b[0;34m=\u001b[0m\u001b[0mnp\u001b[0m\u001b[0;34m.\u001b[0m\u001b[0mzeros\u001b[0m\u001b[0;34m(\u001b[0m\u001b[0;34m(\u001b[0m\u001b[0;36m4\u001b[0m\u001b[0;34m,\u001b[0m\u001b[0;36m1\u001b[0m\u001b[0;34m)\u001b[0m\u001b[0;34m)\u001b[0m\u001b[0;34m\u001b[0m\u001b[0;34m\u001b[0m\u001b[0m\n\u001b[1;32m      2\u001b[0m \u001b[0;34m\u001b[0m\u001b[0m\n\u001b[0;32m----> 3\u001b[0;31m \u001b[0mprob_dist_mat\u001b[0m\u001b[0;34m=\u001b[0m\u001b[0mnp\u001b[0m\u001b[0;34m.\u001b[0m\u001b[0mappend\u001b[0m\u001b[0;34m(\u001b[0m\u001b[0;34m[\u001b[0m\u001b[0mprob_dist_mat\u001b[0m\u001b[0;34m,\u001b[0m\u001b[0;34m[\u001b[0m\u001b[0mpi\u001b[0m\u001b[0;34m,\u001b[0m\u001b[0mpz\u001b[0m\u001b[0;34m,\u001b[0m\u001b[0mpy\u001b[0m\u001b[0;34m,\u001b[0m\u001b[0mpx\u001b[0m\u001b[0;34m]\u001b[0m\u001b[0;34m]\u001b[0m\u001b[0;34m)\u001b[0m\u001b[0;34m\u001b[0m\u001b[0;34m\u001b[0m\u001b[0m\n\u001b[0m\u001b[1;32m      4\u001b[0m \u001b[0mprob_dist_mat\u001b[0m\u001b[0;34m=\u001b[0m\u001b[0mnp\u001b[0m\u001b[0;34m.\u001b[0m\u001b[0mvstack\u001b[0m\u001b[0;34m(\u001b[0m\u001b[0;34m[\u001b[0m\u001b[0mprob_dist_mat\u001b[0m\u001b[0;34m,\u001b[0m\u001b[0;34m[\u001b[0m\u001b[0mpi\u001b[0m\u001b[0;34m,\u001b[0m\u001b[0mpx\u001b[0m\u001b[0;34m,\u001b[0m\u001b[0mpz\u001b[0m\u001b[0;34m,\u001b[0m\u001b[0mpy\u001b[0m\u001b[0;34m]\u001b[0m\u001b[0;34m]\u001b[0m\u001b[0;34m)\u001b[0m\u001b[0;34m\u001b[0m\u001b[0;34m\u001b[0m\u001b[0m\n\u001b[1;32m      5\u001b[0m \u001b[0mprob_dist_mat\u001b[0m\u001b[0;34m=\u001b[0m\u001b[0mnp\u001b[0m\u001b[0;34m.\u001b[0m\u001b[0mvstack\u001b[0m\u001b[0;34m(\u001b[0m\u001b[0;34m[\u001b[0m\u001b[0mprob_dist_mat\u001b[0m\u001b[0;34m,\u001b[0m\u001b[0;34m[\u001b[0m\u001b[0mpi\u001b[0m\u001b[0;34m,\u001b[0m\u001b[0mpy\u001b[0m\u001b[0;34m,\u001b[0m\u001b[0mpx\u001b[0m\u001b[0;34m,\u001b[0m\u001b[0mpz\u001b[0m\u001b[0;34m]\u001b[0m\u001b[0;34m]\u001b[0m\u001b[0;34m)\u001b[0m\u001b[0;34m\u001b[0m\u001b[0;34m\u001b[0m\u001b[0m\n",
      "\u001b[0;32m<__array_function__ internals>\u001b[0m in \u001b[0;36mappend\u001b[0;34m(*args, **kwargs)\u001b[0m\n",
      "\u001b[0;31mTypeError\u001b[0m: _append_dispatcher() missing 1 required positional argument: 'values'"
     ]
    }
   ],
   "source": [
    "prob_dist_mat=np.zeros((4,1))\n",
    "\n",
    "prob_dist_mat=np.append([prob_dist_mat,[pi,pz,py,px]])\n",
    "prob_dist_mat=np.vstack([prob_dist_mat,[pi,px,pz,py]])\n",
    "prob_dist_mat=np.vstack([prob_dist_mat,[pi,py,px,pz]])\n",
    "prob_dist_mat=np.vstack([prob_dist_mat,[pi,py,pz,px]])\n",
    "prob_dist_mat=np.vstack([prob_dist_mat,[pi,pz,px,py]])"
   ]
  },
  {
   "cell_type": "code",
   "execution_count": 176,
   "metadata": {},
   "outputs": [
    {
     "data": {
      "text/plain": [
       "array([[0.        ],\n",
       "       [0.        ],\n",
       "       [0.        ],\n",
       "       [0.        ],\n",
       "       [0.70669659],\n",
       "       [0.37625123],\n",
       "       [0.94947549],\n",
       "       [0.50489129],\n",
       "       [0.70669659],\n",
       "       [0.50489129],\n",
       "       [0.37625123],\n",
       "       [0.94947549],\n",
       "       [0.70669659],\n",
       "       [0.94947549],\n",
       "       [0.50489129],\n",
       "       [0.37625123],\n",
       "       [0.70669659],\n",
       "       [0.94947549],\n",
       "       [0.37625123],\n",
       "       [0.50489129],\n",
       "       [0.70669659],\n",
       "       [0.37625123],\n",
       "       [0.50489129],\n",
       "       [0.94947549]])"
      ]
     },
     "execution_count": 176,
     "metadata": {},
     "output_type": "execute_result"
    }
   ],
   "source": [
    "prob_dist_mat"
   ]
  },
  {
   "cell_type": "code",
   "execution_count": 178,
   "metadata": {},
   "outputs": [],
   "source": [
    "prob_dist_mat=np.zeros((4,1))\n",
    "\n",
    "prob_dist_mat=np.append(prob_dist_mat,[pi,pz,py,px])\n"
   ]
  },
  {
   "cell_type": "code",
   "execution_count": 179,
   "metadata": {},
   "outputs": [
    {
     "data": {
      "text/plain": [
       "array([0.        , 0.        , 0.        , 0.        , 0.70669659,\n",
       "       0.37625123, 0.94947549, 0.50489129])"
      ]
     },
     "execution_count": 179,
     "metadata": {},
     "output_type": "execute_result"
    }
   ],
   "source": [
    "prob_dist_mat"
   ]
  },
  {
   "cell_type": "code",
   "execution_count": 187,
   "metadata": {},
   "outputs": [],
   "source": [
    "            prob_dist_mat=np.array([[pi,px,py,pz]])\n",
    "            prob_dist_mat=np.concatenate((prob_dist_mat,[[pi,pz,py,px]]),axis=0)\n",
    "            prob_dist_mat=np.concatenate((prob_dist_mat,[[pi,px,pz,py]]),axis=0)\n",
    "            prob_dist_mat=np.concatenate((prob_dist_mat,[[pi,py,px,pz]]),axis=0)\n",
    "            prob_dist_mat=np.concatenate((prob_dist_mat,[[pi,py,pz,px]]),axis=0)\n",
    "            prob_dist_mat=np.concatenate((prob_dist_mat,[[pi,pz,px,py]]),axis=0)"
   ]
  },
  {
   "cell_type": "code",
   "execution_count": 188,
   "metadata": {},
   "outputs": [
    {
     "data": {
      "text/plain": [
       "array([[[0.70669659],\n",
       "        [0.50489129],\n",
       "        [0.94947549],\n",
       "        [0.37625123]],\n",
       "\n",
       "       [[0.70669659],\n",
       "        [0.37625123],\n",
       "        [0.94947549],\n",
       "        [0.50489129]],\n",
       "\n",
       "       [[0.70669659],\n",
       "        [0.50489129],\n",
       "        [0.37625123],\n",
       "        [0.94947549]],\n",
       "\n",
       "       [[0.70669659],\n",
       "        [0.94947549],\n",
       "        [0.50489129],\n",
       "        [0.37625123]],\n",
       "\n",
       "       [[0.70669659],\n",
       "        [0.94947549],\n",
       "        [0.37625123],\n",
       "        [0.50489129]],\n",
       "\n",
       "       [[0.70669659],\n",
       "        [0.37625123],\n",
       "        [0.50489129],\n",
       "        [0.94947549]]])"
      ]
     },
     "execution_count": 188,
     "metadata": {},
     "output_type": "execute_result"
    }
   ],
   "source": [
    "prob_dist_mat"
   ]
  },
  {
   "cell_type": "code",
   "execution_count": 219,
   "metadata": {},
   "outputs": [
    {
     "data": {
      "text/plain": [
       "[0.1, 0.3, 0.3, 0.3]"
      ]
     },
     "execution_count": 219,
     "metadata": {},
     "output_type": "execute_result"
    }
   ],
   "source": [
    "prob_dist"
   ]
  },
  {
   "cell_type": "code",
   "execution_count": 200,
   "metadata": {},
   "outputs": [],
   "source": [
    "            prob_dist_mat=np.array([[pi,px,py,pz]])\n",
    "            prob_dist_mat=np.append(prob_dist_mat,[[pi,pz,py,px]],axis=0)"
   ]
  },
  {
   "cell_type": "code",
   "execution_count": 204,
   "metadata": {},
   "outputs": [
    {
     "data": {
      "text/plain": [
       "0.7066965875778028"
      ]
     },
     "execution_count": 204,
     "metadata": {},
     "output_type": "execute_result"
    }
   ],
   "source": [
    "prob_dist_mat[1][0][0]"
   ]
  },
  {
   "cell_type": "code",
   "execution_count": 218,
   "metadata": {},
   "outputs": [
    {
     "name": "stderr",
     "output_type": "stream",
     "text": [
      "<ipython-input-218-4362b8c5d86a>:2: DeprecationWarning: setting an array element with a sequence. This was supported in some cases where the elements are arrays with a single element. For example `np.array([1, np.array([2])], dtype=int)`. In the future this will raise the same ValueError as `np.array([1, [2]], dtype=int)`.\n",
      "  prob_dist_mat[0]=pi,px,py,pz\n",
      "<ipython-input-218-4362b8c5d86a>:3: DeprecationWarning: setting an array element with a sequence. This was supported in some cases where the elements are arrays with a single element. For example `np.array([1, np.array([2])], dtype=int)`. In the future this will raise the same ValueError as `np.array([1, [2]], dtype=int)`.\n",
      "  prob_dist_mat[1]=pi,pz,py,px\n",
      "<ipython-input-218-4362b8c5d86a>:4: DeprecationWarning: setting an array element with a sequence. This was supported in some cases where the elements are arrays with a single element. For example `np.array([1, np.array([2])], dtype=int)`. In the future this will raise the same ValueError as `np.array([1, [2]], dtype=int)`.\n",
      "  prob_dist_mat[2]=pi,px,pz,py\n",
      "<ipython-input-218-4362b8c5d86a>:5: DeprecationWarning: setting an array element with a sequence. This was supported in some cases where the elements are arrays with a single element. For example `np.array([1, np.array([2])], dtype=int)`. In the future this will raise the same ValueError as `np.array([1, [2]], dtype=int)`.\n",
      "  prob_dist_mat[3]=pi,py,px,pz\n",
      "<ipython-input-218-4362b8c5d86a>:6: DeprecationWarning: setting an array element with a sequence. This was supported in some cases where the elements are arrays with a single element. For example `np.array([1, np.array([2])], dtype=int)`. In the future this will raise the same ValueError as `np.array([1, [2]], dtype=int)`.\n",
      "  prob_dist_mat[4]=pi,py,pz,px\n",
      "<ipython-input-218-4362b8c5d86a>:7: DeprecationWarning: setting an array element with a sequence. This was supported in some cases where the elements are arrays with a single element. For example `np.array([1, np.array([2])], dtype=int)`. In the future this will raise the same ValueError as `np.array([1, [2]], dtype=int)`.\n",
      "  prob_dist_mat[5]=pi,pz,px,py\n"
     ]
    },
    {
     "data": {
      "text/plain": [
       "array([0.70669659, 0.37625123, 0.50489129, 0.94947549])"
      ]
     },
     "execution_count": 218,
     "metadata": {},
     "output_type": "execute_result"
    }
   ],
   "source": [
    "prob_dist_mat=np.empty((6,4))\n",
    "prob_dist_mat[0]=pi,px,py,pz\n",
    "prob_dist_mat[1]=pi,pz,py,px\n",
    "prob_dist_mat[2]=pi,px,pz,py\n",
    "prob_dist_mat[3]=pi,py,px,pz\n",
    "prob_dist_mat[4]=pi,py,pz,px\n",
    "prob_dist_mat[5]=pi,pz,px,py\n",
    "\n",
    "prob_dist_mat[5]"
   ]
  },
  {
   "cell_type": "code",
   "execution_count": 214,
   "metadata": {
    "scrolled": true
   },
   "outputs": [
    {
     "name": "stderr",
     "output_type": "stream",
     "text": [
      "<ipython-input-214-2a5476538a04>:2: DeprecationWarning: setting an array element with a sequence. This was supported in some cases where the elements are arrays with a single element. For example `np.array([1, np.array([2])], dtype=int)`. In the future this will raise the same ValueError as `np.array([1, [2]], dtype=int)`.\n",
      "  prob_dist_mat[0]=pi,px,py,pz\n",
      "<ipython-input-214-2a5476538a04>:3: DeprecationWarning: setting an array element with a sequence. This was supported in some cases where the elements are arrays with a single element. For example `np.array([1, np.array([2])], dtype=int)`. In the future this will raise the same ValueError as `np.array([1, [2]], dtype=int)`.\n",
      "  prob_dist_mat[1]=pi,pz,py,px\n",
      "<ipython-input-214-2a5476538a04>:4: DeprecationWarning: setting an array element with a sequence. This was supported in some cases where the elements are arrays with a single element. For example `np.array([1, np.array([2])], dtype=int)`. In the future this will raise the same ValueError as `np.array([1, [2]], dtype=int)`.\n",
      "  prob_dist_mat[2]=pi,px,pz,py\n",
      "<ipython-input-214-2a5476538a04>:5: DeprecationWarning: setting an array element with a sequence. This was supported in some cases where the elements are arrays with a single element. For example `np.array([1, np.array([2])], dtype=int)`. In the future this will raise the same ValueError as `np.array([1, [2]], dtype=int)`.\n",
      "  prob_dist_mat[3]=pi,py,px,pz\n",
      "<ipython-input-214-2a5476538a04>:6: DeprecationWarning: setting an array element with a sequence. This was supported in some cases where the elements are arrays with a single element. For example `np.array([1, np.array([2])], dtype=int)`. In the future this will raise the same ValueError as `np.array([1, [2]], dtype=int)`.\n",
      "  prob_dist_mat[4]=pi,py,pz,px\n",
      "<ipython-input-214-2a5476538a04>:7: DeprecationWarning: setting an array element with a sequence. This was supported in some cases where the elements are arrays with a single element. For example `np.array([1, np.array([2])], dtype=int)`. In the future this will raise the same ValueError as `np.array([1, [2]], dtype=int)`.\n",
      "  prob_dist_mat[5]=pi,pz,px,py\n"
     ]
    },
    {
     "data": {
      "text/plain": [
       "array([[0.70669659, 0.50489129, 0.94947549, 0.37625123],\n",
       "       [0.70669659, 0.37625123, 0.94947549, 0.50489129],\n",
       "       [0.70669659, 0.50489129, 0.37625123, 0.94947549],\n",
       "       [0.70669659, 0.94947549, 0.50489129, 0.37625123],\n",
       "       [0.70669659, 0.94947549, 0.37625123, 0.50489129],\n",
       "       [0.70669659, 0.37625123, 0.50489129, 0.94947549]])"
      ]
     },
     "execution_count": 214,
     "metadata": {},
     "output_type": "execute_result"
    }
   ],
   "source": [
    "prob_dist_mat\n",
    "prob_dist_mat[0]=pi,px,py,pz\n",
    "prob_dist_mat[1]=pi,pz,py,px\n",
    "prob_dist_mat[2]=pi,px,pz,py\n",
    "prob_dist_mat[3]=pi,py,px,pz\n",
    "prob_dist_mat[4]=pi,py,pz,px\n",
    "prob_dist_mat[5]=pi,pz,px,py\n",
    "prob_dist_mat\n"
   ]
  },
  {
   "cell_type": "code",
   "execution_count": null,
   "metadata": {},
   "outputs": [],
   "source": [
    "prob_dist_mat[0]=np.array([[pi,px,py,pz]])\n",
    "            prob_dist_mat=np.concatenate((prob_dist_mat,[[pi,pz,py,px]]),axis=0)\n",
    "            prob_dist_mat=np.concatenate((prob_dist_mat,[[pi,px,pz,py]]),axis=0)\n",
    "            prob_dist_mat=np.concatenate((prob_dist_mat,[[pi,py,px,pz]]),axis=0)\n",
    "            prob_dist_mat=np.concatenate((prob_dist_mat,[[pi,py,pz,px]]),axis=0)\n",
    "            prob_dist_mat=np.concatenate((prob_dist_mat,[[pi,pz,px,py]]),axis=0)"
   ]
  },
  {
   "cell_type": "code",
   "execution_count": 232,
   "metadata": {},
   "outputs": [
    {
     "name": "stderr",
     "output_type": "stream",
     "text": [
      "<ipython-input-232-9cb849a85bb6>:2: DeprecationWarning: setting an array element with a sequence. This was supported in some cases where the elements are arrays with a single element. For example `np.array([1, np.array([2])], dtype=int)`. In the future this will raise the same ValueError as `np.array([1, [2]], dtype=int)`.\n",
      "  prob_dist_mat[0]=pi,px,py,pz\n"
     ]
    },
    {
     "ename": "ValueError",
     "evalue": "could not broadcast input array from shape (4,) into shape (1,)",
     "output_type": "error",
     "traceback": [
      "\u001b[0;31m---------------------------------------------------------------------------\u001b[0m",
      "\u001b[0;31mValueError\u001b[0m                                Traceback (most recent call last)",
      "\u001b[0;32m<ipython-input-232-9cb849a85bb6>\u001b[0m in \u001b[0;36m<module>\u001b[0;34m\u001b[0m\n\u001b[1;32m      1\u001b[0m \u001b[0mprob_dist_mat\u001b[0m\u001b[0;34m=\u001b[0m\u001b[0mnp\u001b[0m\u001b[0;34m.\u001b[0m\u001b[0mzeros\u001b[0m\u001b[0;34m(\u001b[0m\u001b[0;34m(\u001b[0m\u001b[0;36m2\u001b[0m\u001b[0;34m,\u001b[0m\u001b[0;36m1\u001b[0m\u001b[0;34m)\u001b[0m\u001b[0;34m)\u001b[0m\u001b[0;34m\u001b[0m\u001b[0;34m\u001b[0m\u001b[0m\n\u001b[0;32m----> 2\u001b[0;31m \u001b[0mprob_dist_mat\u001b[0m\u001b[0;34m[\u001b[0m\u001b[0;36m0\u001b[0m\u001b[0;34m]\u001b[0m\u001b[0;34m=\u001b[0m\u001b[0mpi\u001b[0m\u001b[0;34m,\u001b[0m\u001b[0mpx\u001b[0m\u001b[0;34m,\u001b[0m\u001b[0mpy\u001b[0m\u001b[0;34m,\u001b[0m\u001b[0mpz\u001b[0m\u001b[0;34m\u001b[0m\u001b[0;34m\u001b[0m\u001b[0m\n\u001b[0m\u001b[1;32m      3\u001b[0m \u001b[0mprob_dist_mat\u001b[0m\u001b[0;34m[\u001b[0m\u001b[0;36m1\u001b[0m\u001b[0;34m]\u001b[0m\u001b[0;34m=\u001b[0m\u001b[0mpi\u001b[0m\u001b[0;34m,\u001b[0m\u001b[0mpz\u001b[0m\u001b[0;34m,\u001b[0m\u001b[0mpy\u001b[0m\u001b[0;34m,\u001b[0m\u001b[0mpx\u001b[0m\u001b[0;34m\u001b[0m\u001b[0;34m\u001b[0m\u001b[0m\n",
      "\u001b[0;31mValueError\u001b[0m: could not broadcast input array from shape (4,) into shape (1,)"
     ]
    }
   ],
   "source": [
    "prob_dist_mat=np.zeros((2,1))\n",
    "prob_dist_mat[0]=pi,px,py,pz\n",
    "prob_dist_mat[1]=pi,pz,py,px"
   ]
  },
  {
   "cell_type": "code",
   "execution_count": 249,
   "metadata": {},
   "outputs": [
    {
     "data": {
      "text/plain": [
       "array([4, 5])"
      ]
     },
     "execution_count": 249,
     "metadata": {},
     "output_type": "execute_result"
    }
   ],
   "source": [
    "a=np.array([[1,3]])\n",
    "b=np.array([[4,5]])\n",
    "c=np.concatenate((b,a),axis=0)\n",
    "d=np.concatenate((c,a),axis=0)\n",
    "d[0]"
   ]
  },
  {
   "cell_type": "code",
   "execution_count": 262,
   "metadata": {},
   "outputs": [
    {
     "data": {
      "text/plain": [
       "array([4, 3, 5, 4, 4, 3, 3, 0, 5, 1, 0, 4, 2, 3, 4, 2, 1, 5, 3, 4, 5, 5,\n",
       "       1, 2, 1, 1, 3, 5, 1, 5, 4, 3, 2, 3, 4, 4, 4, 5, 0, 4, 4, 3, 0, 2,\n",
       "       4, 3, 3, 3, 4, 5, 3, 4, 2, 2, 0, 2, 0, 3, 4, 1, 5, 3, 5, 0, 3, 4,\n",
       "       4, 3, 4, 0, 5, 3, 5, 0, 3, 1, 1, 5, 3, 3, 5, 0, 5, 3, 5, 4, 5, 0,\n",
       "       0, 0, 2, 2, 3, 3, 5, 5, 3, 1, 1, 1])"
      ]
     },
     "execution_count": 262,
     "metadata": {},
     "output_type": "execute_result"
    }
   ],
   "source": [
    "perm_rates=[1/6,1/6,1/6,1/6,1/6,1/6]\n",
    "perm_vec=np.zeros(100,dtype=int)\n",
    "for i in range(0,len(perm_vec)):\n",
    "    x=rng.choice((0,1,2,3,4,5),size=1,p=perm_rates) \n",
    "    perm_vec[i]=x[0]\n",
    "    \n",
    "len(perm_vec[perm_vec>0])\n",
    "perm_vec"
   ]
  },
  {
   "cell_type": "code",
   "execution_count": null,
   "metadata": {},
   "outputs": [],
   "source": [
    "prob_dist_mat=[0,1,2,3,4,5]\n",
    "prob_dist_mat[0]=[pi,px,py,pz]\n",
    "prob_dist_mat[1]=[pi,pz,py,px]\n",
    "prob_dist_mat[2]=[pi,px,pz,py]\n",
    "prob_dist_mat[3]=[pi,py,px,pz]\n",
    "prob_dist_mat[4]=[pi,py,pz,px]\n",
    "prob_dist_mat[5]=[pi,pz,px,py]"
   ]
  },
  {
   "cell_type": "code",
   "execution_count": 289,
   "metadata": {},
   "outputs": [
    {
     "data": {
      "text/plain": [
       "array(['X', 'X', 'X', 'X', 'X', 'X', 'X', 'X', 'X', 'X', 'X', 'X', 'X',\n",
       "       'X', 'Z', 'Z', 'X', 'X', 'Y', 'X', 'X', 'X', 'X', 'X', 'X', 'X',\n",
       "       'X', 'Y', 'X', 'X', 'X', 'X', 'Z', 'X', 'Y', 'X', 'Y', 'X', 'Z',\n",
       "       'X', 'I', 'X', 'X', 'Z', 'Z', 'X', 'I', 'X', 'X', 'Z', 'X', 'X',\n",
       "       'X', 'X', 'I', 'Z', 'X', 'X', 'X', 'X', 'X', 'X', 'Z', 'Y', 'Z',\n",
       "       'X', 'I', 'X', 'I', 'X', 'I', 'I', 'X', 'Y', 'X', 'X', 'X', 'Z',\n",
       "       'Z', 'X', 'X', 'X', 'I', 'X', 'Z', 'X', 'X', 'Z', 'X', 'X', 'X',\n",
       "       'I', 'X', 'I', 'X', 'X', 'X', 'X', 'X', 'I'], dtype='<U1')"
      ]
     },
     "execution_count": 289,
     "metadata": {},
     "output_type": "execute_result"
    }
   ],
   "source": [
    "def permute_error_Pauli(error_Pauli,perm_vec):  \n",
    "#XYZ,ZYX,XZY,YXZ,YZX,ZXY\n",
    "    n_qubits=len(error_Pauli)\n",
    "    for i in range(n_qubits):\n",
    "        #if perm_vec[i]==0: XYZ\n",
    "        if perm_vec[i]==1: #ZYX\n",
    "            if error_Pauli[i]=='X':\n",
    "                error_Pauli[i]='Z'\n",
    "            elif error_Pauli[i]=='Z':\n",
    "                error_Pauli[i]='X'\n",
    "\n",
    "        elif perm_vec[i]==2: #XZY\n",
    "            if error_Pauli[i]=='Y':\n",
    "                error_Pauli[i]='Z'\n",
    "            elif error_Pauli[i]=='Z':\n",
    "                error_Pauli[i]='Y'\n",
    "    \n",
    "        elif perm_vec[i]==3: #YXZ\n",
    "            if error_Pauli[i]=='X':\n",
    "                error_Pauli[i]='Y'\n",
    "            elif error_Pauli[i]=='Y':\n",
    "                error_Pauli[i]='X'\n",
    "\n",
    "        elif perm_vec[i]==4: #YZX\n",
    "            if error_Pauli[i]=='X':\n",
    "                error_Pauli[i]='Y'\n",
    "            elif error_Pauli[i]=='Y':\n",
    "                error_Pauli[i]='Z'\n",
    "            elif error_Pauli[i]=='Z':\n",
    "                error_Pauli[i]='X'                    \n",
    "\n",
    "        elif perm_vec[i]==5: #ZXY\n",
    "            if error_Pauli[i]=='X':\n",
    "                error_Pauli[i]='Z'\n",
    "            elif error_Pauli[i]=='Y':\n",
    "                error_Pauli[i]='X'\n",
    "            elif error_Pauli[i]=='Z':\n",
    "                error_Pauli[i]='Y'               \n",
    "\n",
    "#     step_error=pt.pauli_to_bsf(''.join(error_Pauli))                                        \n",
    "\n",
    "    return error_Pauli\n",
    "\n",
    "seed_sequence = np.random.SeedSequence()\n",
    "rng = np.random.default_rng()\n",
    "error_Pauli = rng.choice(('I', 'X', 'Y', 'Z'),size=100,p=prob_dist) #this assumes spatially uniform noise model\n",
    "error_Pauli"
   ]
  },
  {
   "cell_type": "code",
   "execution_count": 291,
   "metadata": {},
   "outputs": [
    {
     "name": "stdout",
     "output_type": "stream",
     "text": [
      "[4 3 5 4 4 3 3 0 5 1 0 4 2 3 4 2 1 5 3 4 5 5 1 2 1 1 3 5 1 5 4 3 2 3 4 4 4\n",
      " 5 0 4 4 3 0 2 4 3 3 3 4 5 3 4 2 2 0 2 0 3 4 1 5 3 5 0 3 4 4 3 4 0 5 3 5 0\n",
      " 3 1 1 5 3 3 5 0 5 3 5 4 5 0 0 0 2 2 3 3 5 5 3 1 1 1]\n"
     ]
    }
   ],
   "source": [
    "print(perm_vec)"
   ]
  },
  {
   "cell_type": "code",
   "execution_count": 292,
   "metadata": {},
   "outputs": [
    {
     "data": {
      "text/plain": [
       "array(['Y', 'Y', 'Z', 'Y', 'Y', 'Y', 'Y', 'X', 'Z', 'Z', 'X', 'Y', 'X',\n",
       "       'Y', 'X', 'Y', 'Z', 'Z', 'X', 'Y', 'Z', 'Z', 'Z', 'X', 'Z', 'Z',\n",
       "       'Y', 'X', 'Z', 'Z', 'Y', 'Y', 'Y', 'Y', 'Z', 'Y', 'Z', 'Z', 'Z',\n",
       "       'Y', 'I', 'Y', 'X', 'Y', 'X', 'Y', 'I', 'Y', 'Y', 'Y', 'Y', 'Y',\n",
       "       'X', 'X', 'I', 'Y', 'X', 'Y', 'Y', 'Z', 'Z', 'Y', 'Y', 'Y', 'Z',\n",
       "       'Y', 'I', 'Y', 'I', 'X', 'I', 'I', 'Z', 'Y', 'Y', 'Z', 'Z', 'Y',\n",
       "       'Z', 'Y', 'Z', 'X', 'I', 'Y', 'Y', 'Y', 'Z', 'Z', 'X', 'X', 'X',\n",
       "       'I', 'Y', 'I', 'Z', 'Z', 'Y', 'Z', 'Z', 'I'], dtype='<U1')"
      ]
     },
     "execution_count": 292,
     "metadata": {},
     "output_type": "execute_result"
    }
   ],
   "source": [
    "permute_error_Pauli(error_Pauli,perm_vec)"
   ]
  },
  {
   "cell_type": "code",
   "execution_count": 288,
   "metadata": {},
   "outputs": [],
   "source": [
    "prob_dist=[0.1,0.7,0.1,0.1]"
   ]
  },
  {
   "cell_type": "code",
   "execution_count": 296,
   "metadata": {},
   "outputs": [],
   "source": [
    "x=np.random.rand(3,5,8)"
   ]
  },
  {
   "cell_type": "code",
   "execution_count": 297,
   "metadata": {},
   "outputs": [
    {
     "data": {
      "text/plain": [
       "array([[[0.40395891, 0.14212321, 0.94601757, 0.72166562, 0.47923531,\n",
       "         0.51379733, 0.55206583, 0.78968663],\n",
       "        [0.04559106, 0.74766825, 0.80258604, 0.98193651, 0.41562329,\n",
       "         0.25843089, 0.26531928, 0.95330686],\n",
       "        [0.45518461, 0.07589177, 0.76553367, 0.70511273, 0.86534684,\n",
       "         0.05157484, 0.07055423, 0.86372642],\n",
       "        [0.93219433, 0.14665367, 0.78903574, 0.56785078, 0.10181819,\n",
       "         0.76577473, 0.45104094, 0.74858237],\n",
       "        [0.99993433, 0.76850554, 0.71034668, 0.06185301, 0.65210223,\n",
       "         0.5943002 , 0.79279616, 0.22070892]],\n",
       "\n",
       "       [[0.4702196 , 0.24413929, 0.13214041, 0.74957459, 0.2430989 ,\n",
       "         0.79495433, 0.93931417, 0.65563596],\n",
       "        [0.28707441, 0.75948439, 0.53860309, 0.84271111, 0.52210001,\n",
       "         0.44031484, 0.22582059, 0.08712933],\n",
       "        [0.6829757 , 0.91010438, 0.4067369 , 0.10055497, 0.58241598,\n",
       "         0.83195675, 0.09202543, 0.51784962],\n",
       "        [0.7687126 , 0.16960366, 0.90723356, 0.6184106 , 0.71988456,\n",
       "         0.15421935, 0.40466621, 0.91007848],\n",
       "        [0.24197869, 0.53013632, 0.26546155, 0.68437439, 0.45490638,\n",
       "         0.20582844, 0.36050286, 0.13267926]],\n",
       "\n",
       "       [[0.17712049, 0.52016256, 0.56334609, 0.64861263, 0.29248495,\n",
       "         0.48370932, 0.91157805, 0.5239629 ],\n",
       "        [0.69723049, 0.12837162, 0.99127686, 0.30413046, 0.72052525,\n",
       "         0.57327407, 0.41547922, 0.24797832],\n",
       "        [0.29043544, 0.97872647, 0.48770375, 0.04971819, 0.29607963,\n",
       "         0.40949993, 0.6464882 , 0.29511605],\n",
       "        [0.98422706, 0.19955255, 0.35394106, 0.72802656, 0.59483245,\n",
       "         0.14608429, 0.85068165, 0.24762465],\n",
       "        [0.44812851, 0.22293673, 0.32375663, 0.12841939, 0.51066224,\n",
       "         0.59049258, 0.06737816, 0.42092709]]])"
      ]
     },
     "execution_count": 297,
     "metadata": {},
     "output_type": "execute_result"
    }
   ],
   "source": [
    "x"
   ]
  },
  {
   "cell_type": "code",
   "execution_count": 300,
   "metadata": {},
   "outputs": [
    {
     "data": {
      "text/plain": [
       "array([[0.17712049, 0.52016256, 0.56334609, 0.64861263, 0.29248495,\n",
       "        0.48370932, 0.91157805, 0.5239629 ],\n",
       "       [0.69723049, 0.12837162, 0.99127686, 0.30413046, 0.72052525,\n",
       "        0.57327407, 0.41547922, 0.24797832],\n",
       "       [0.29043544, 0.97872647, 0.48770375, 0.04971819, 0.29607963,\n",
       "        0.40949993, 0.6464882 , 0.29511605],\n",
       "       [0.98422706, 0.19955255, 0.35394106, 0.72802656, 0.59483245,\n",
       "        0.14608429, 0.85068165, 0.24762465],\n",
       "       [0.44812851, 0.22293673, 0.32375663, 0.12841939, 0.51066224,\n",
       "        0.59049258, 0.06737816, 0.42092709]])"
      ]
     },
     "execution_count": 300,
     "metadata": {},
     "output_type": "execute_result"
    }
   ],
   "source": [
    "x[2]"
   ]
  },
  {
   "cell_type": "code",
   "execution_count": 304,
   "metadata": {},
   "outputs": [
    {
     "data": {
      "text/plain": [
       "array([2.597142  , 2.04974993, 2.72002439, 1.85890723, 2.41458452,\n",
       "       2.20306019, 2.89160528, 1.73560901])"
      ]
     },
     "execution_count": 304,
     "metadata": {},
     "output_type": "execute_result"
    }
   ],
   "source": [
    "np.sum(x[2],axis=0)"
   ]
  },
  {
   "cell_type": "code",
   "execution_count": 302,
   "metadata": {},
   "outputs": [
    {
     "data": {
      "text/plain": [
       "2.5771200000000003"
      ]
     },
     "execution_count": 302,
     "metadata": {},
     "output_type": "execute_result"
    }
   ],
   "source": [
    "0.17712+0.68+0.29+0.98+0.45"
   ]
  },
  {
   "cell_type": "code",
   "execution_count": 332,
   "metadata": {},
   "outputs": [],
   "source": [
    "g=nx.Graph()"
   ]
  },
  {
   "cell_type": "code",
   "execution_count": 333,
   "metadata": {},
   "outputs": [],
   "source": [
    "g.add_edge(1,2)\n",
    "g.add_edge(2,3)\n",
    "g.add_edge(2,5)"
   ]
  },
  {
   "cell_type": "code",
   "execution_count": 334,
   "metadata": {},
   "outputs": [
    {
     "data": {
      "text/plain": [
       "<networkx.classes.graph.Graph at 0x7ff2c9e0d1f0>"
      ]
     },
     "execution_count": 334,
     "metadata": {},
     "output_type": "execute_result"
    }
   ],
   "source": [
    "g"
   ]
  },
  {
   "cell_type": "code",
   "execution_count": 335,
   "metadata": {},
   "outputs": [],
   "source": [
    "g.add_edge(1,3)\n",
    "g.add_edge(2,4)\n",
    "g.add_edge(3,5)"
   ]
  },
  {
   "cell_type": "code",
   "execution_count": 336,
   "metadata": {},
   "outputs": [
    {
     "data": {
      "text/plain": [
       "EdgeView([(1, 2), (1, 3), (2, 3), (2, 5), (2, 4), (3, 5)])"
      ]
     },
     "execution_count": 336,
     "metadata": {},
     "output_type": "execute_result"
    }
   ],
   "source": [
    "g.edges"
   ]
  },
  {
   "cell_type": "code",
   "execution_count": 321,
   "metadata": {},
   "outputs": [],
   "source": [
    "g.remove_edge(1,2)"
   ]
  },
  {
   "cell_type": "code",
   "execution_count": 322,
   "metadata": {},
   "outputs": [],
   "source": [
    "g.remove_edge(1,3)"
   ]
  },
  {
   "cell_type": "code",
   "execution_count": 323,
   "metadata": {},
   "outputs": [
    {
     "data": {
      "text/plain": [
       "EdgeView([(2, 3), (2, 5), (2, 4), (3, 5)])"
      ]
     },
     "execution_count": 323,
     "metadata": {},
     "output_type": "execute_result"
    }
   ],
   "source": [
    "g.edges"
   ]
  },
  {
   "cell_type": "code",
   "execution_count": 329,
   "metadata": {},
   "outputs": [],
   "source": [
    "g.remove_node(1)"
   ]
  },
  {
   "cell_type": "code",
   "execution_count": 546,
   "metadata": {},
   "outputs": [
    {
     "data": {
      "text/plain": [
       "EdgeView([(3, 5), (0, 1)])"
      ]
     },
     "execution_count": 546,
     "metadata": {},
     "output_type": "execute_result"
    }
   ],
   "source": [
    "g.edges"
   ]
  },
  {
   "cell_type": "code",
   "execution_count": 543,
   "metadata": {},
   "outputs": [
    {
     "data": {
      "text/plain": [
       "NodeView((3, 5))"
      ]
     },
     "execution_count": 543,
     "metadata": {},
     "output_type": "execute_result"
    }
   ],
   "source": [
    "g.nodes"
   ]
  },
  {
   "cell_type": "code",
   "execution_count": 544,
   "metadata": {},
   "outputs": [
    {
     "data": {
      "text/plain": [
       "NodeView((3, 5))"
      ]
     },
     "execution_count": 544,
     "metadata": {},
     "output_type": "execute_result"
    }
   ],
   "source": [
    "e=[1,2,4]\n",
    "g.remove_nodes_from(e)\n",
    "g.nodes"
   ]
  },
  {
   "cell_type": "code",
   "execution_count": 545,
   "metadata": {},
   "outputs": [],
   "source": [
    "g.add_edge(0,1)"
   ]
  },
  {
   "cell_type": "code",
   "execution_count": 340,
   "metadata": {},
   "outputs": [],
   "source": [
    "if g.has_node(2):\n",
    "    g.remove_node(2)"
   ]
  },
  {
   "cell_type": "code",
   "execution_count": 341,
   "metadata": {},
   "outputs": [
    {
     "data": {
      "text/plain": [
       "NodeView((3, 5))"
      ]
     },
     "execution_count": 341,
     "metadata": {},
     "output_type": "execute_result"
    }
   ],
   "source": [
    "g.nodes"
   ]
  },
  {
   "cell_type": "code",
   "execution_count": 549,
   "metadata": {},
   "outputs": [],
   "source": [
    "decoder_graph=g\n",
    "mapping = dict(zip(decoder_graph, range(len(decoder_graph.nodes))))\n",
    "decoder_graph = nx.relabel_nodes(decoder_graph, mapping) "
   ]
  },
  {
   "cell_type": "code",
   "execution_count": 542,
   "metadata": {},
   "outputs": [],
   "source": [
    "L=9\n",
    "\n",
    "def map(i,j,k,L):\n",
    "    return int(i+j*L+k*L*L)\n",
    "\n",
    "rmnodes1=np.array([],dtype=int)\n",
    "rmnodes2=np.array([],dtype=int)\n",
    "rmnodes3=np.array([],dtype=int)\n",
    "\n",
    "if L in range(3,9):\n",
    "    x=int(np.round(L/3))\n",
    "    iv=x\n",
    "\n",
    "    for i in range(iv,iv+x):\n",
    "        for j in range(iv,iv+x):\n",
    "            for k in range(iv,iv+x):\n",
    "                rmnodes1=np.append(rmnodes1,map(i,j,k,L))   \n",
    "                \n",
    "if L in range(9,27):\n",
    "    x=int(np.round(L/3))\n",
    "    y=int(np.round(x/3))\n",
    "    y2=int(np.round((L-2*x)/3))\n",
    "    iv1=x\n",
    "    iv2=[y,x+y,2*x+y2] \n",
    "    \n",
    "    for i in range(iv,iv+x):\n",
    "        for j in range(iv,iv+x):\n",
    "            for k in range(iv,iv+x):\n",
    "                rmnodes1=np.append(rmnodes1,i+j*Ny+k*Nx*Ny)\n",
    "\n",
    "    corners=np.array([[0,0,0]],dtype=int)\n",
    "    for xi in iv2:\n",
    "        for xj in iv2:\n",
    "            for xk in iv2:\n",
    "                if map(xi,xj,xk,L) not in rmnodes1:\n",
    "                    corners=np.concatenate((corners,[[xi,xj,xk]]),axis=0)\n",
    "    corners=np.delete(corners,0,0)   \n",
    "    \n",
    "    for corner in corners:\n",
    "        iv,jv,kv=corner\n",
    "        if iv!=2*x and jv!=2*x and kv!=2*x:\n",
    "            for i in range(iv,iv+y):\n",
    "                for j in range(jv,jv+y):\n",
    "                    for k in range(kv,kv+y):\n",
    "                        if i+j*Ny+k*Nx*Ny not in rmnodes1:\n",
    "                            rmnodes2=np.append(rmnodes2,i+j*Ny+k*Nx*Ny)\n",
    "        else:\n",
    "            for i in range(iv,iv+y2):\n",
    "                for j in range(jv,jv+y2):\n",
    "                    for k in range(kv,kv+y2):\n",
    "                        if i+j*Ny+k*Nx*Ny not in rmnodes1:\n",
    "                            rmnodes2=np.append(rmnodes2,i+j*Ny+k*Nx*Ny)  \n",
    "\n",
    "                            \n",
    "if L in range(27,37):\n",
    "    x=int(np.round(L/3))\n",
    "    y=int(np.round(x/3))\n",
    "    y2=int(np.round((L-2*x)/3))\n",
    "    z=int(np.round(y/3))\n",
    "    z2=int(np.round((x-2*y)/3))\n",
    "    iv1=x\n",
    "    iv2=[y,x+y,2*x+y2]\n",
    "    zr=int(np.round(y2/3))\n",
    "    zr2=int(np.round((L-2*x-2*y2)/3))\n",
    "    iv3=[z,y+z,2*y+z2, x+z,x+y+z,x+2*y+z2,2*x+zr,2*x+y2+zr,2*x+2*y2+zr2]\n",
    "\n",
    "    for i in range(iv,iv+x):\n",
    "        for j in range(iv,iv+x):\n",
    "            for k in range(iv,iv+x):\n",
    "                rmnodes1=np.append(rmnodes1,i+j*Ny+k*Nx*Ny)\n",
    "\n",
    "    corners=[[0,0,0]]\n",
    "    for xi in iv2:\n",
    "        for xj in iv2:\n",
    "            for xk in iv2:\n",
    "                if map(xi,xj,xk,L) not in rmnodes1:\n",
    "                    corners=np.concatenate((corners,[[xi,xj,xk]]),axis=0)\n",
    "    corners=np.delete(corners,0,0)   \n",
    "\n",
    "    for corner in corners:\n",
    "        iv,jv,kv=corner\n",
    "        if iv!=2*x and jv!=2*x and kv!=2*x:\n",
    "            for i in range(iv,iv+y):\n",
    "                for j in range(jv,jv+y):\n",
    "                    for k in range(kv,kv+y):\n",
    "                        if i+j*Ny+k*Nx*Ny not in rmnodes1:\n",
    "                            rmnodes2=np.append(rmnodes2,i+j*Ny+k*Nx*Ny)\n",
    "        else:\n",
    "            for i in range(iv,iv+y2):\n",
    "                for j in range(jv,jv+y2):\n",
    "                    for k in range(kv,kv+y2):\n",
    "                        if i+j*Ny+k*Nx*Ny not in rmnodes1:\n",
    "                            rmnodes2=np.append(rmnodes2,i+j*Ny+k*Nx*Ny) \n",
    "\n",
    "\n",
    "    corners2=[[0,0,0]]\n",
    "    for xi in iv3:\n",
    "        for xj in iv3:\n",
    "            for xk in iv3:\n",
    "                if map(xi,xj,xk,L) not in rmnodes1 and map(xi,xj,xk,L) not in rmnodes2:\n",
    "                    corners2=np.concatenate((corners,[[xi,xj,xk]]),axis=0)\n",
    "    corners2=np.delete(corners2,0,0)      \n",
    "\n",
    "    for corner in corners2:\n",
    "        iv,jv,kv=corner        \n",
    "        rmnodes2=np.append(rmnodes2,iv+jv*Ny+kv*Nx*Ny)                            \n",
    "\n"
   ]
  },
  {
   "cell_type": "code",
   "execution_count": 501,
   "metadata": {},
   "outputs": [],
   "source": [
    "iv2=np.array([2,5,8])\n",
    "iv=3\n",
    "x=3\n",
    "\n",
    "rmnodes1=[[0,0,0]]\n",
    "for i in range(iv,iv+x):\n",
    "    for j in range(iv,iv+x):\n",
    "        for k in range(iv,iv+x):\n",
    "            rmnodes1=np.concatenate((rmnodes1,[[i,j,k]]),axis=0)\n",
    "            \n",
    "rmnodes1=np.delete(rmnodes1,0,0)        \n",
    "\n",
    "corners=[[0,0,0]]\n",
    "for xi in iv2:\n",
    "    for xj in iv2:\n",
    "        for xk in iv2:\n",
    "            if [xi,xj,xk] not in rmnodes1:\n",
    "                corners=np.concatenate((corners,[[xi,xj,xk]]),axis=0)\n",
    "\n",
    "corners=np.delete(corners,0,0)        \n",
    "\n",
    "corners2=[[0,0]]\n",
    "for xi in iv2:\n",
    "    for xj in iv2:\n",
    "        corners2=np.concatenate((corners2,[[xi,xj]]),axis=0)\n",
    "    \n",
    "corners2=np.delete(corners2,0,0)        \n",
    "    "
   ]
  },
  {
   "cell_type": "code",
   "execution_count": 502,
   "metadata": {},
   "outputs": [
    {
     "data": {
      "text/plain": [
       "array([[3, 3, 3],\n",
       "       [3, 3, 4],\n",
       "       [3, 3, 5],\n",
       "       [3, 4, 3],\n",
       "       [3, 4, 4],\n",
       "       [3, 4, 5],\n",
       "       [3, 5, 3],\n",
       "       [3, 5, 4],\n",
       "       [3, 5, 5],\n",
       "       [4, 3, 3],\n",
       "       [4, 3, 4],\n",
       "       [4, 3, 5],\n",
       "       [4, 4, 3],\n",
       "       [4, 4, 4],\n",
       "       [4, 4, 5],\n",
       "       [4, 5, 3],\n",
       "       [4, 5, 4],\n",
       "       [4, 5, 5],\n",
       "       [5, 3, 3],\n",
       "       [5, 3, 4],\n",
       "       [5, 3, 5],\n",
       "       [5, 4, 3],\n",
       "       [5, 4, 4],\n",
       "       [5, 4, 5],\n",
       "       [5, 5, 3],\n",
       "       [5, 5, 4],\n",
       "       [5, 5, 5]])"
      ]
     },
     "execution_count": 502,
     "metadata": {},
     "output_type": "execute_result"
    }
   ],
   "source": [
    "rmnodes1"
   ]
  },
  {
   "cell_type": "code",
   "execution_count": 505,
   "metadata": {},
   "outputs": [
    {
     "name": "stdout",
     "output_type": "stream",
     "text": [
      "2 2 2\n",
      "2 2 8\n",
      "2 8 2\n",
      "2 8 8\n",
      "8 2 2\n",
      "8 2 8\n",
      "8 8 2\n",
      "8 8 8\n"
     ]
    }
   ],
   "source": [
    "for corner in corners:\n",
    "    i,j,k=corner\n",
    "    print(i,j,k)"
   ]
  },
  {
   "cell_type": "code",
   "execution_count": 395,
   "metadata": {},
   "outputs": [
    {
     "data": {
      "text/plain": [
       "array([[0, 0],\n",
       "       [5, 6]])"
      ]
     },
     "execution_count": 395,
     "metadata": {},
     "output_type": "execute_result"
    }
   ],
   "source": [
    "b = np.array([[5, 6]])\n",
    "a = np.array([[0,0]])\n",
    "np.concatenate((a,b),axis=0)"
   ]
  },
  {
   "cell_type": "code",
   "execution_count": 415,
   "metadata": {},
   "outputs": [
    {
     "data": {
      "text/plain": [
       "array([[140684136837616],\n",
       "       [              0],\n",
       "       [              0]])"
      ]
     },
     "execution_count": 415,
     "metadata": {},
     "output_type": "execute_result"
    }
   ],
   "source": [
    "np.empty((3,1),dtype=int)"
   ]
  },
  {
   "cell_type": "code",
   "execution_count": 477,
   "metadata": {},
   "outputs": [
    {
     "data": {
      "text/plain": [
       "array([[3, 3, 4],\n",
       "       [2, 5, 3]])"
      ]
     },
     "execution_count": 477,
     "metadata": {},
     "output_type": "execute_result"
    }
   ],
   "source": [
    "a=np.array([[3,3,4],[2,5,3]])\n",
    "a"
   ]
  },
  {
   "cell_type": "code",
   "execution_count": 476,
   "metadata": {},
   "outputs": [
    {
     "data": {
      "text/plain": [
       "array([[ True,  True,  True]])"
      ]
     },
     "execution_count": 476,
     "metadata": {},
     "output_type": "execute_result"
    }
   ],
   "source": [
    "np.isin([[2,3,3]],a)"
   ]
  },
  {
   "cell_type": "code",
   "execution_count": 463,
   "metadata": {},
   "outputs": [],
   "source": [
    "rmnodes1=np.array([[3,3,3],\n",
    "       [3, 3, 4],\n",
    "       [3, 3, 5],\n",
    "       [3, 4, 3],\n",
    "       [3, 4, 4],\n",
    "       [3, 4, 5],\n",
    "       [3, 5, 3],\n",
    "       [3, 5, 4],\n",
    "       [3, 5, 5],\n",
    "       [4, 3, 3],\n",
    "       [4, 3, 4],\n",
    "       [4, 3, 5],\n",
    "       [4, 4, 3],\n",
    "       [4, 4, 4],\n",
    "       [4, 4, 5],\n",
    "       [4, 5, 3],\n",
    "       [4, 5, 4],\n",
    "       [4, 5, 5],\n",
    "       [5, 3, 3],\n",
    "       [5, 3, 4],\n",
    "       [5, 3, 5],\n",
    "       [5, 4, 3],\n",
    "       [5, 4, 4],\n",
    "       [5, 4, 5],\n",
    "       [5, 5, 3],\n",
    "       [5, 5, 4],\n",
    "       [5, 5, 5]])"
   ]
  },
  {
   "cell_type": "code",
   "execution_count": 464,
   "metadata": {},
   "outputs": [
    {
     "data": {
      "text/plain": [
       "True"
      ]
     },
     "execution_count": 464,
     "metadata": {},
     "output_type": "execute_result"
    }
   ],
   "source": [
    "[2,5,8] in rmnodes1"
   ]
  },
  {
   "cell_type": "code",
   "execution_count": 499,
   "metadata": {},
   "outputs": [
    {
     "ename": "ValueError",
     "evalue": "all the input arrays must have same number of dimensions, but the array at index 0 has 1 dimension(s) and the array at index 1 has 2 dimension(s)",
     "output_type": "error",
     "traceback": [
      "\u001b[0;31m---------------------------------------------------------------------------\u001b[0m",
      "\u001b[0;31mValueError\u001b[0m                                Traceback (most recent call last)",
      "\u001b[0;32m<ipython-input-499-75659dacc270>\u001b[0m in \u001b[0;36m<module>\u001b[0;34m\u001b[0m\n\u001b[1;32m     19\u001b[0m         \u001b[0;32mfor\u001b[0m \u001b[0mxk\u001b[0m \u001b[0;32min\u001b[0m \u001b[0miv2\u001b[0m\u001b[0;34m:\u001b[0m\u001b[0;34m\u001b[0m\u001b[0;34m\u001b[0m\u001b[0m\n\u001b[1;32m     20\u001b[0m             \u001b[0;32mif\u001b[0m \u001b[0mmap\u001b[0m\u001b[0;34m(\u001b[0m\u001b[0mxi\u001b[0m\u001b[0;34m,\u001b[0m\u001b[0mxj\u001b[0m\u001b[0;34m,\u001b[0m\u001b[0mxk\u001b[0m\u001b[0;34m,\u001b[0m\u001b[0mL\u001b[0m\u001b[0;34m)\u001b[0m \u001b[0;32mnot\u001b[0m \u001b[0;32min\u001b[0m \u001b[0mrmnodes1\u001b[0m\u001b[0;34m:\u001b[0m\u001b[0;34m\u001b[0m\u001b[0;34m\u001b[0m\u001b[0m\n\u001b[0;32m---> 21\u001b[0;31m                 \u001b[0mcorners\u001b[0m\u001b[0;34m=\u001b[0m\u001b[0mnp\u001b[0m\u001b[0;34m.\u001b[0m\u001b[0mconcatenate\u001b[0m\u001b[0;34m(\u001b[0m\u001b[0;34m(\u001b[0m\u001b[0mcorners\u001b[0m\u001b[0;34m,\u001b[0m\u001b[0;34m[\u001b[0m\u001b[0;34m[\u001b[0m\u001b[0mxi\u001b[0m\u001b[0;34m,\u001b[0m\u001b[0mxj\u001b[0m\u001b[0;34m,\u001b[0m\u001b[0mxk\u001b[0m\u001b[0;34m]\u001b[0m\u001b[0;34m]\u001b[0m\u001b[0;34m)\u001b[0m\u001b[0;34m,\u001b[0m\u001b[0maxis\u001b[0m\u001b[0;34m=\u001b[0m\u001b[0;36m0\u001b[0m\u001b[0;34m)\u001b[0m\u001b[0;34m\u001b[0m\u001b[0;34m\u001b[0m\u001b[0m\n\u001b[0m\u001b[1;32m     22\u001b[0m \u001b[0;34m\u001b[0m\u001b[0m\n\u001b[1;32m     23\u001b[0m \u001b[0;34m\u001b[0m\u001b[0m\n",
      "\u001b[0;32m<__array_function__ internals>\u001b[0m in \u001b[0;36mconcatenate\u001b[0;34m(*args, **kwargs)\u001b[0m\n",
      "\u001b[0;31mValueError\u001b[0m: all the input arrays must have same number of dimensions, but the array at index 0 has 1 dimension(s) and the array at index 1 has 2 dimension(s)"
     ]
    }
   ],
   "source": [
    "iv2=np.array([2,5,8])\n",
    "iv=3\n",
    "x=3\n",
    "\n",
    "L=9\n",
    "\n",
    "def map(i,j,k,L):\n",
    "    return int(i+j*L+k*L*L)\n",
    "\n",
    "rmnodes1=np.array([],dtype=int)\n",
    "for i in range(iv,iv+x):\n",
    "    for j in range(iv,iv+x):\n",
    "        for k in range(iv,iv+x):\n",
    "            rmnodes1=np.append(rmnodes1,map(i,j,k,L))\n",
    "            \n",
    "corners=np.array([],dtype=int)\n",
    "for xi in iv2:\n",
    "    for xj in iv2:\n",
    "        for xk in iv2:\n",
    "            if map(xi,xj,xk,L) not in rmnodes1:\n",
    "                corners=np.concatenate((corners,[[xi,xj,xk]]),axis=0)\n",
    "\n",
    "\n"
   ]
  },
  {
   "cell_type": "code",
   "execution_count": 497,
   "metadata": {},
   "outputs": [
    {
     "data": {
      "text/plain": [
       "array([273, 354, 435, 282, 363, 444, 291, 372, 453, 274, 355, 436, 283,\n",
       "       364, 445, 292, 373, 454, 275, 356, 437, 284, 365, 446, 293, 374,\n",
       "       455])"
      ]
     },
     "execution_count": 497,
     "metadata": {},
     "output_type": "execute_result"
    }
   ],
   "source": [
    "rmnodes1"
   ]
  },
  {
   "cell_type": "code",
   "execution_count": 487,
   "metadata": {},
   "outputs": [
    {
     "data": {
      "text/plain": [
       "False"
      ]
     },
     "execution_count": 487,
     "metadata": {},
     "output_type": "execute_result"
    }
   ],
   "source": [
    "200 in rmnodes1"
   ]
  },
  {
   "cell_type": "code",
   "execution_count": 488,
   "metadata": {},
   "outputs": [
    {
     "data": {
      "text/plain": [
       "array([[2, 2, 2],\n",
       "       [2, 2, 5],\n",
       "       [2, 2, 8],\n",
       "       [2, 5, 2],\n",
       "       [2, 5, 5],\n",
       "       [2, 5, 8],\n",
       "       [2, 8, 2],\n",
       "       [2, 8, 5],\n",
       "       [2, 8, 8],\n",
       "       [5, 2, 2],\n",
       "       [5, 2, 5],\n",
       "       [5, 2, 8],\n",
       "       [5, 5, 2],\n",
       "       [5, 5, 8],\n",
       "       [5, 8, 2],\n",
       "       [5, 8, 5],\n",
       "       [5, 8, 8],\n",
       "       [8, 2, 2],\n",
       "       [8, 2, 5],\n",
       "       [8, 2, 8],\n",
       "       [8, 5, 2],\n",
       "       [8, 5, 5],\n",
       "       [8, 5, 8],\n",
       "       [8, 8, 2],\n",
       "       [8, 8, 5],\n",
       "       [8, 8, 8]])"
      ]
     },
     "execution_count": 488,
     "metadata": {},
     "output_type": "execute_result"
    }
   ],
   "source": [
    "corners"
   ]
  },
  {
   "cell_type": "code",
   "execution_count": 491,
   "metadata": {},
   "outputs": [
    {
     "data": {
      "text/plain": [
       "False"
      ]
     },
     "execution_count": 491,
     "metadata": {},
     "output_type": "execute_result"
    }
   ],
   "source": [
    "map(5,5,5,9) not in rmnodes1"
   ]
  },
  {
   "cell_type": "code",
   "execution_count": 494,
   "metadata": {},
   "outputs": [],
   "source": [
    "rmnodes2=np.array([],dtype=int)\n",
    "L=9\n",
    "def map2(i,j,L):\n",
    "    return int(i+j*L)\n",
    "\n",
    "for i in range(iv,iv+x):\n",
    "    for j in range(iv,iv+x):\n",
    "        rmnodes2=np.append(rmnodes2,map2(i,j,L))\n",
    "        \n",
    "corners2=[[0,0]]\n",
    "for xi in iv2:\n",
    "    for xj in iv2:\n",
    "        if map2(xi,xj,L) not in rmnodes2:\n",
    "            corners2=np.concatenate((corners2,[[xi,xj]]),axis=0)\n",
    "    \n",
    "corners2=np.delete(corners2,0,0)  "
   ]
  },
  {
   "cell_type": "code",
   "execution_count": 495,
   "metadata": {},
   "outputs": [
    {
     "data": {
      "text/plain": [
       "array([[2, 2],\n",
       "       [2, 5],\n",
       "       [2, 8],\n",
       "       [5, 2],\n",
       "       [5, 8],\n",
       "       [8, 2],\n",
       "       [8, 5],\n",
       "       [8, 8]])"
      ]
     },
     "execution_count": 495,
     "metadata": {},
     "output_type": "execute_result"
    }
   ],
   "source": [
    "corners2"
   ]
  },
  {
   "cell_type": "code",
   "execution_count": null,
   "metadata": {},
   "outputs": [],
   "source": []
  }
 ],
 "metadata": {
  "kernelspec": {
   "display_name": "Python 3",
   "language": "python",
   "name": "python3"
  },
  "language_info": {
   "codemirror_mode": {
    "name": "ipython",
    "version": 3
   },
   "file_extension": ".py",
   "mimetype": "text/x-python",
   "name": "python",
   "nbconvert_exporter": "python",
   "pygments_lexer": "ipython3",
   "version": "3.8.5"
  }
 },
 "nbformat": 4,
 "nbformat_minor": 4
}
