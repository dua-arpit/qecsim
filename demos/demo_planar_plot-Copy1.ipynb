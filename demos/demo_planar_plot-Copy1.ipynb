{
 "cells": [
  {
   "cell_type": "markdown",
   "metadata": {
    "collapsed": true
   },
   "source": [
    "# qecsim demos"
   ]
  },
  {
   "cell_type": "markdown",
   "metadata": {},
   "source": [
    "## Plotting logical failure rate as a function of physical error rate for planar stabilizer codes\n",
    "This demo shows how to plot statistics on many error correction simulation runs, see figure for more details.\n",
    "\n",
    "The code makes use of `qecsim.app.run(code, error_model, decoder, error_probability, max_runs, max_failures)`."
   ]
  },
  {
   "cell_type": "markdown",
   "metadata": {},
   "source": [
    "### Initialise run parameters"
   ]
  },
  {
   "cell_type": "code",
   "execution_count": 33,
   "metadata": {},
   "outputs": [
    {
     "name": "stdout",
     "output_type": "stream",
     "text": [
      "Codes: ['Planar 3x3', 'Planar 5x5', 'Planar 7x7']\n",
      "Error model: Phase-flip\n",
      "Decoder: Planar MPS (mode=c)\n",
      "Error probabilities: [0.         0.02105263 0.04210526 0.06315789 0.08421053 0.10526316\n",
      " 0.12631579 0.14736842 0.16842105 0.18947368 0.21052632 0.23157895\n",
      " 0.25263158 0.27368421 0.29473684 0.31578947 0.33684211 0.35789474\n",
      " 0.37894737 0.4       ]\n",
      "Maximum runs: 400\n"
     ]
    }
   ],
   "source": [
    "%matplotlib inline\n",
    "import collections\n",
    "import itertools\n",
    "import numpy as np\n",
    "import matplotlib.pyplot as plt\n",
    "from qecsim import app\n",
    "from qecsim.models.generic import PhaseFlipErrorModel\n",
    "from qecsim.models.planar import PlanarCode, PlanarMPSDecoder\n",
    "\n",
    "# set models\n",
    "codes = [PlanarCode(*size) for size in [(3, 3), (5, 5),(7,7)]]\n",
    "error_model = PhaseFlipErrorModel()\n",
    "decoder = PlanarMPSDecoder()\n",
    "# set physical error probabilities\n",
    "error_probability_min, error_probability_max = 0, 0.4\n",
    "\n",
    "error_probabilities = np.linspace(error_probability_min, error_probability_max, 20)\n",
    "# set max_runs for each probability\n",
    "max_runs = 10\n",
    "\n",
    "# print run parameters\n",
    "print('Codes:', [code.label for code in codes])\n",
    "print('Error model:', error_model.label)\n",
    "print('Decoder:', decoder.label)\n",
    "print('Error probabilities:', error_probabilities)\n",
    "print('Maximum runs:', max_runs)"
   ]
  },
  {
   "cell_type": "markdown",
   "metadata": {},
   "source": [
    "### Run simulations"
   ]
  },
  {
   "cell_type": "code",
   "execution_count": 32,
   "metadata": {
    "scrolled": true
   },
   "outputs": [
    {
     "name": "stderr",
     "output_type": "stream",
     "text": [
      "Process ForkPoolWorker-137:\n"
     ]
    },
    {
     "ename": "KeyboardInterrupt",
     "evalue": "",
     "output_type": "error",
     "traceback": [
      "\u001b[0;31m---------------------------------------------------------------------------\u001b[0m",
      "\u001b[0;31mKeyboardInterrupt\u001b[0m                         Traceback (most recent call last)",
      "\u001b[0;32m<ipython-input-32-cf2466b86a12>\u001b[0m in \u001b[0;36m<module>\u001b[0;34m\u001b[0m\n\u001b[1;32m     12\u001b[0m     \u001b[0mp\u001b[0m\u001b[0;34m=\u001b[0m\u001b[0mmp\u001b[0m\u001b[0;34m.\u001b[0m\u001b[0mPool\u001b[0m\u001b[0;34m(\u001b[0m\u001b[0;34m)\u001b[0m\u001b[0;34m\u001b[0m\u001b[0;34m\u001b[0m\u001b[0m\n\u001b[1;32m     13\u001b[0m     \u001b[0mfunc\u001b[0m\u001b[0;34m=\u001b[0m\u001b[0mpartial\u001b[0m\u001b[0;34m(\u001b[0m\u001b[0mparallel_step_p\u001b[0m\u001b[0;34m,\u001b[0m\u001b[0mcode\u001b[0m\u001b[0;34m,\u001b[0m \u001b[0merror_model\u001b[0m\u001b[0;34m,\u001b[0m \u001b[0mdecoder\u001b[0m\u001b[0;34m,\u001b[0m \u001b[0mmax_runs\u001b[0m\u001b[0;34m)\u001b[0m\u001b[0;34m\u001b[0m\u001b[0;34m\u001b[0m\u001b[0m\n\u001b[0;32m---> 14\u001b[0;31m     \u001b[0mpL_list\u001b[0m\u001b[0;34m[\u001b[0m\u001b[0mcode_index\u001b[0m\u001b[0;34m]\u001b[0m\u001b[0;34m=\u001b[0m\u001b[0mp\u001b[0m\u001b[0;34m.\u001b[0m\u001b[0mmap\u001b[0m\u001b[0;34m(\u001b[0m\u001b[0mfunc\u001b[0m\u001b[0;34m,\u001b[0m \u001b[0merror_probabilities\u001b[0m\u001b[0;34m)\u001b[0m\u001b[0;34m\u001b[0m\u001b[0;34m\u001b[0m\u001b[0m\n\u001b[0m\u001b[1;32m     15\u001b[0m     \u001b[0mp\u001b[0m\u001b[0;34m.\u001b[0m\u001b[0mclose\u001b[0m\u001b[0;34m(\u001b[0m\u001b[0;34m)\u001b[0m\u001b[0;34m\u001b[0m\u001b[0;34m\u001b[0m\u001b[0m\n\u001b[1;32m     16\u001b[0m     \u001b[0mp\u001b[0m\u001b[0;34m.\u001b[0m\u001b[0mjoin\u001b[0m\u001b[0;34m(\u001b[0m\u001b[0;34m)\u001b[0m\u001b[0;34m\u001b[0m\u001b[0;34m\u001b[0m\u001b[0m\n",
      "\u001b[0;32m/usr/lib/python3.7/multiprocessing/pool.py\u001b[0m in \u001b[0;36mmap\u001b[0;34m(self, func, iterable, chunksize)\u001b[0m\n\u001b[1;32m    266\u001b[0m         \u001b[0;32min\u001b[0m \u001b[0ma\u001b[0m \u001b[0mlist\u001b[0m \u001b[0mthat\u001b[0m \u001b[0;32mis\u001b[0m \u001b[0mreturned\u001b[0m\u001b[0;34m.\u001b[0m\u001b[0;34m\u001b[0m\u001b[0;34m\u001b[0m\u001b[0m\n\u001b[1;32m    267\u001b[0m         '''\n\u001b[0;32m--> 268\u001b[0;31m         \u001b[0;32mreturn\u001b[0m \u001b[0mself\u001b[0m\u001b[0;34m.\u001b[0m\u001b[0m_map_async\u001b[0m\u001b[0;34m(\u001b[0m\u001b[0mfunc\u001b[0m\u001b[0;34m,\u001b[0m \u001b[0miterable\u001b[0m\u001b[0;34m,\u001b[0m \u001b[0mmapstar\u001b[0m\u001b[0;34m,\u001b[0m \u001b[0mchunksize\u001b[0m\u001b[0;34m)\u001b[0m\u001b[0;34m.\u001b[0m\u001b[0mget\u001b[0m\u001b[0;34m(\u001b[0m\u001b[0;34m)\u001b[0m\u001b[0;34m\u001b[0m\u001b[0;34m\u001b[0m\u001b[0m\n\u001b[0m\u001b[1;32m    269\u001b[0m \u001b[0;34m\u001b[0m\u001b[0m\n\u001b[1;32m    270\u001b[0m     \u001b[0;32mdef\u001b[0m \u001b[0mstarmap\u001b[0m\u001b[0;34m(\u001b[0m\u001b[0mself\u001b[0m\u001b[0;34m,\u001b[0m \u001b[0mfunc\u001b[0m\u001b[0;34m,\u001b[0m \u001b[0miterable\u001b[0m\u001b[0;34m,\u001b[0m \u001b[0mchunksize\u001b[0m\u001b[0;34m=\u001b[0m\u001b[0;32mNone\u001b[0m\u001b[0;34m)\u001b[0m\u001b[0;34m:\u001b[0m\u001b[0;34m\u001b[0m\u001b[0;34m\u001b[0m\u001b[0m\n",
      "\u001b[0;32m/usr/lib/python3.7/multiprocessing/pool.py\u001b[0m in \u001b[0;36mget\u001b[0;34m(self, timeout)\u001b[0m\n\u001b[1;32m    649\u001b[0m \u001b[0;34m\u001b[0m\u001b[0m\n\u001b[1;32m    650\u001b[0m     \u001b[0;32mdef\u001b[0m \u001b[0mget\u001b[0m\u001b[0;34m(\u001b[0m\u001b[0mself\u001b[0m\u001b[0;34m,\u001b[0m \u001b[0mtimeout\u001b[0m\u001b[0;34m=\u001b[0m\u001b[0;32mNone\u001b[0m\u001b[0;34m)\u001b[0m\u001b[0;34m:\u001b[0m\u001b[0;34m\u001b[0m\u001b[0;34m\u001b[0m\u001b[0m\n\u001b[0;32m--> 651\u001b[0;31m         \u001b[0mself\u001b[0m\u001b[0;34m.\u001b[0m\u001b[0mwait\u001b[0m\u001b[0;34m(\u001b[0m\u001b[0mtimeout\u001b[0m\u001b[0;34m)\u001b[0m\u001b[0;34m\u001b[0m\u001b[0;34m\u001b[0m\u001b[0m\n\u001b[0m\u001b[1;32m    652\u001b[0m         \u001b[0;32mif\u001b[0m \u001b[0;32mnot\u001b[0m \u001b[0mself\u001b[0m\u001b[0;34m.\u001b[0m\u001b[0mready\u001b[0m\u001b[0;34m(\u001b[0m\u001b[0;34m)\u001b[0m\u001b[0;34m:\u001b[0m\u001b[0;34m\u001b[0m\u001b[0;34m\u001b[0m\u001b[0m\n\u001b[1;32m    653\u001b[0m             \u001b[0;32mraise\u001b[0m \u001b[0mTimeoutError\u001b[0m\u001b[0;34m\u001b[0m\u001b[0;34m\u001b[0m\u001b[0m\n",
      "\u001b[0;32m/usr/lib/python3.7/multiprocessing/pool.py\u001b[0m in \u001b[0;36mwait\u001b[0;34m(self, timeout)\u001b[0m\n\u001b[1;32m    646\u001b[0m \u001b[0;34m\u001b[0m\u001b[0m\n\u001b[1;32m    647\u001b[0m     \u001b[0;32mdef\u001b[0m \u001b[0mwait\u001b[0m\u001b[0;34m(\u001b[0m\u001b[0mself\u001b[0m\u001b[0;34m,\u001b[0m \u001b[0mtimeout\u001b[0m\u001b[0;34m=\u001b[0m\u001b[0;32mNone\u001b[0m\u001b[0;34m)\u001b[0m\u001b[0;34m:\u001b[0m\u001b[0;34m\u001b[0m\u001b[0;34m\u001b[0m\u001b[0m\n\u001b[0;32m--> 648\u001b[0;31m         \u001b[0mself\u001b[0m\u001b[0;34m.\u001b[0m\u001b[0m_event\u001b[0m\u001b[0;34m.\u001b[0m\u001b[0mwait\u001b[0m\u001b[0;34m(\u001b[0m\u001b[0mtimeout\u001b[0m\u001b[0;34m)\u001b[0m\u001b[0;34m\u001b[0m\u001b[0;34m\u001b[0m\u001b[0m\n\u001b[0m\u001b[1;32m    649\u001b[0m \u001b[0;34m\u001b[0m\u001b[0m\n\u001b[1;32m    650\u001b[0m     \u001b[0;32mdef\u001b[0m \u001b[0mget\u001b[0m\u001b[0;34m(\u001b[0m\u001b[0mself\u001b[0m\u001b[0;34m,\u001b[0m \u001b[0mtimeout\u001b[0m\u001b[0;34m=\u001b[0m\u001b[0;32mNone\u001b[0m\u001b[0;34m)\u001b[0m\u001b[0;34m:\u001b[0m\u001b[0;34m\u001b[0m\u001b[0;34m\u001b[0m\u001b[0m\n",
      "\u001b[0;32m/usr/lib/python3.7/threading.py\u001b[0m in \u001b[0;36mwait\u001b[0;34m(self, timeout)\u001b[0m\n\u001b[1;32m    550\u001b[0m             \u001b[0msignaled\u001b[0m \u001b[0;34m=\u001b[0m \u001b[0mself\u001b[0m\u001b[0;34m.\u001b[0m\u001b[0m_flag\u001b[0m\u001b[0;34m\u001b[0m\u001b[0;34m\u001b[0m\u001b[0m\n\u001b[1;32m    551\u001b[0m             \u001b[0;32mif\u001b[0m \u001b[0;32mnot\u001b[0m \u001b[0msignaled\u001b[0m\u001b[0;34m:\u001b[0m\u001b[0;34m\u001b[0m\u001b[0;34m\u001b[0m\u001b[0m\n\u001b[0;32m--> 552\u001b[0;31m                 \u001b[0msignaled\u001b[0m \u001b[0;34m=\u001b[0m \u001b[0mself\u001b[0m\u001b[0;34m.\u001b[0m\u001b[0m_cond\u001b[0m\u001b[0;34m.\u001b[0m\u001b[0mwait\u001b[0m\u001b[0;34m(\u001b[0m\u001b[0mtimeout\u001b[0m\u001b[0;34m)\u001b[0m\u001b[0;34m\u001b[0m\u001b[0;34m\u001b[0m\u001b[0m\n\u001b[0m\u001b[1;32m    553\u001b[0m             \u001b[0;32mreturn\u001b[0m \u001b[0msignaled\u001b[0m\u001b[0;34m\u001b[0m\u001b[0;34m\u001b[0m\u001b[0m\n\u001b[1;32m    554\u001b[0m \u001b[0;34m\u001b[0m\u001b[0m\n",
      "\u001b[0;32m/usr/lib/python3.7/threading.py\u001b[0m in \u001b[0;36mwait\u001b[0;34m(self, timeout)\u001b[0m\n\u001b[1;32m    294\u001b[0m         \u001b[0;32mtry\u001b[0m\u001b[0;34m:\u001b[0m    \u001b[0;31m# restore state no matter what (e.g., KeyboardInterrupt)\u001b[0m\u001b[0;34m\u001b[0m\u001b[0;34m\u001b[0m\u001b[0m\n\u001b[1;32m    295\u001b[0m             \u001b[0;32mif\u001b[0m \u001b[0mtimeout\u001b[0m \u001b[0;32mis\u001b[0m \u001b[0;32mNone\u001b[0m\u001b[0;34m:\u001b[0m\u001b[0;34m\u001b[0m\u001b[0;34m\u001b[0m\u001b[0m\n\u001b[0;32m--> 296\u001b[0;31m                 \u001b[0mwaiter\u001b[0m\u001b[0;34m.\u001b[0m\u001b[0macquire\u001b[0m\u001b[0;34m(\u001b[0m\u001b[0;34m)\u001b[0m\u001b[0;34m\u001b[0m\u001b[0;34m\u001b[0m\u001b[0m\n\u001b[0m\u001b[1;32m    297\u001b[0m                 \u001b[0mgotit\u001b[0m \u001b[0;34m=\u001b[0m \u001b[0;32mTrue\u001b[0m\u001b[0;34m\u001b[0m\u001b[0;34m\u001b[0m\u001b[0m\n\u001b[1;32m    298\u001b[0m             \u001b[0;32melse\u001b[0m\u001b[0;34m:\u001b[0m\u001b[0;34m\u001b[0m\u001b[0;34m\u001b[0m\u001b[0m\n",
      "\u001b[0;31mKeyboardInterrupt\u001b[0m: "
     ]
    },
    {
     "name": "stderr",
     "output_type": "stream",
     "text": [
      "Process ForkPoolWorker-139:\n",
      "Process ForkPoolWorker-138:\n",
      "Traceback (most recent call last):\n",
      "Traceback (most recent call last):\n",
      "Traceback (most recent call last):\n",
      "  File \"/usr/lib/python3.7/multiprocessing/process.py\", line 297, in _bootstrap\n",
      "    self.run()\n",
      "  File \"/usr/lib/python3.7/multiprocessing/process.py\", line 297, in _bootstrap\n",
      "    self.run()\n",
      "  File \"/usr/lib/python3.7/multiprocessing/process.py\", line 297, in _bootstrap\n",
      "    self.run()\n",
      "  File \"/usr/lib/python3.7/multiprocessing/process.py\", line 297, in _bootstrap\n",
      "    self.run()\n",
      "  File \"/usr/lib/python3.7/multiprocessing/process.py\", line 99, in run\n",
      "    self._target(*self._args, **self._kwargs)\n",
      "  File \"/usr/lib/python3.7/multiprocessing/process.py\", line 99, in run\n",
      "    self._target(*self._args, **self._kwargs)\n",
      "  File \"/usr/lib/python3.7/multiprocessing/process.py\", line 99, in run\n",
      "    self._target(*self._args, **self._kwargs)\n",
      "  File \"/usr/lib/python3.7/multiprocessing/process.py\", line 99, in run\n",
      "    self._target(*self._args, **self._kwargs)\n",
      "  File \"/usr/lib/python3.7/multiprocessing/pool.py\", line 121, in worker\n",
      "    result = (True, func(*args, **kwds))\n",
      "  File \"/usr/lib/python3.7/multiprocessing/pool.py\", line 121, in worker\n",
      "    result = (True, func(*args, **kwds))\n",
      "  File \"/usr/lib/python3.7/multiprocessing/pool.py\", line 121, in worker\n",
      "    result = (True, func(*args, **kwds))\n",
      "  File \"/usr/lib/python3.7/multiprocessing/pool.py\", line 44, in mapstar\n",
      "    return list(map(*args))\n",
      "  File \"/usr/lib/python3.7/multiprocessing/pool.py\", line 121, in worker\n",
      "    result = (True, func(*args, **kwds))\n",
      "  File \"/usr/lib/python3.7/multiprocessing/pool.py\", line 44, in mapstar\n",
      "    return list(map(*args))\n",
      "  File \"<ipython-input-32-cf2466b86a12>\", line 5, in parallel_step_p\n",
      "    results= app.run(code, error_model, decoder, error_probability, max_runs=100)\n",
      "  File \"/usr/lib/python3.7/multiprocessing/pool.py\", line 44, in mapstar\n",
      "    return list(map(*args))\n",
      "  File \"/usr/lib/python3.7/multiprocessing/pool.py\", line 44, in mapstar\n",
      "    return list(map(*args))\n",
      "  File \"/opt/sagemath-9.2/local/lib/python3.7/site-packages/qecsim/app.py\", line 437, in run\n",
      "    return _run('ideal', code, 1, error_model, decoder, error_probability, 0.0, max_runs, max_failures, random_seed)\n",
      "  File \"<ipython-input-32-cf2466b86a12>\", line 5, in parallel_step_p\n",
      "    results= app.run(code, error_model, decoder, error_probability, max_runs=100)\n",
      "  File \"<ipython-input-32-cf2466b86a12>\", line 5, in parallel_step_p\n",
      "    results= app.run(code, error_model, decoder, error_probability, max_runs=100)\n",
      "  File \"<ipython-input-32-cf2466b86a12>\", line 5, in parallel_step_p\n",
      "    results= app.run(code, error_model, decoder, error_probability, max_runs=100)\n",
      "  File \"/opt/sagemath-9.2/local/lib/python3.7/site-packages/qecsim/app.py\", line 332, in _run\n",
      "    measurement_error_probability, rng)\n",
      "  File \"/opt/sagemath-9.2/local/lib/python3.7/site-packages/qecsim/app.py\", line 437, in run\n",
      "    return _run('ideal', code, 1, error_model, decoder, error_probability, 0.0, max_runs, max_failures, random_seed)\n",
      "  File \"/opt/sagemath-9.2/local/lib/python3.7/site-packages/qecsim/app.py\", line 437, in run\n",
      "    return _run('ideal', code, 1, error_model, decoder, error_probability, 0.0, max_runs, max_failures, random_seed)\n",
      "  File \"/opt/sagemath-9.2/local/lib/python3.7/site-packages/qecsim/app.py\", line 437, in run\n",
      "    return _run('ideal', code, 1, error_model, decoder, error_probability, 0.0, max_runs, max_failures, random_seed)\n",
      "  File \"/opt/sagemath-9.2/local/lib/python3.7/site-packages/qecsim/app.py\", line 70, in _run_once\n",
      "    decoding = decoder.decode(code, syndrome[0], **ctx)\n",
      "  File \"/opt/sagemath-9.2/local/lib/python3.7/site-packages/qecsim/app.py\", line 332, in _run\n",
      "    measurement_error_probability, rng)\n",
      "  File \"/opt/sagemath-9.2/local/lib/python3.7/site-packages/qecsim/app.py\", line 332, in _run\n",
      "    measurement_error_probability, rng)\n",
      "  File \"/opt/sagemath-9.2/local/lib/python3.7/site-packages/qecsim/app.py\", line 332, in _run\n",
      "    measurement_error_probability, rng)\n",
      "  File \"/opt/sagemath-9.2/local/lib/python3.7/site-packages/qecsim/models/planar/_planarmpsdecoder.py\", line 271, in decode\n",
      "    coset_ps, recoveries = self._coset_probabilities(prob_dist, any_recovery)\n",
      "  File \"/opt/sagemath-9.2/local/lib/python3.7/site-packages/qecsim/app.py\", line 70, in _run_once\n",
      "    decoding = decoder.decode(code, syndrome[0], **ctx)\n",
      "  File \"/opt/sagemath-9.2/local/lib/python3.7/site-packages/qecsim/app.py\", line 70, in _run_once\n",
      "    decoding = decoder.decode(code, syndrome[0], **ctx)\n",
      "  File \"/opt/sagemath-9.2/local/lib/python3.7/site-packages/qecsim/app.py\", line 70, in _run_once\n",
      "    decoding = decoder.decode(code, syndrome[0], **ctx)\n",
      "  File \"/opt/sagemath-9.2/local/lib/python3.7/site-packages/qecsim/models/planar/_planarmpsdecoder.py\", line 186, in _coset_probabilities\n",
      "    bra_i, mult = tt.mps2d.contract(tns[0], chi=self._chi, tol=self._tol, stop=-1, mask=mask)  # tns.i\n",
      "  File \"/opt/sagemath-9.2/local/lib/python3.7/site-packages/qecsim/models/planar/_planarmpsdecoder.py\", line 271, in decode\n",
      "    coset_ps, recoveries = self._coset_probabilities(prob_dist, any_recovery)\n",
      "  File \"/opt/sagemath-9.2/local/lib/python3.7/site-packages/qecsim/models/planar/_planarmpsdecoder.py\", line 271, in decode\n",
      "    coset_ps, recoveries = self._coset_probabilities(prob_dist, any_recovery)\n",
      "  File \"/opt/sagemath-9.2/local/lib/python3.7/site-packages/qecsim/models/planar/_planarmpsdecoder.py\", line 187, in _coset_probabilities\n",
      "    coset_ps_col[0] = tt.mps.inner_product(bra_i, tns[0][:, -1]) * mult  # coset_ps_col.i\n",
      "  File \"/opt/sagemath-9.2/local/lib/python3.7/site-packages/qecsim/models/planar/_planarmpsdecoder.py\", line 271, in decode\n",
      "    coset_ps, recoveries = self._coset_probabilities(prob_dist, any_recovery)\n",
      "  File \"/opt/sagemath-9.2/local/lib/python3.7/site-packages/qecsim/tensortools/mps2d.py\", line 93, in contract\n",
      "    result = tt_mps.contract_pairwise(left, right)\n",
      "  File \"/opt/sagemath-9.2/local/lib/python3.7/site-packages/qecsim/models/planar/_planarmpsdecoder.py\", line 187, in _coset_probabilities\n",
      "    coset_ps_col[0] = tt.mps.inner_product(bra_i, tns[0][:, -1]) * mult  # coset_ps_col.i\n",
      "  File \"/opt/sagemath-9.2/local/lib/python3.7/site-packages/qecsim/tensortools/mps.py\", line 180, in inner_product\n",
      "    mps = contract_pairwise(bra_mps, ket_mps)\n",
      "  File \"/opt/sagemath-9.2/local/lib/python3.7/site-packages/qecsim/models/planar/_planarmpsdecoder.py\", line 187, in _coset_probabilities\n",
      "    coset_ps_col[0] = tt.mps.inner_product(bra_i, tns[0][:, -1]) * mult  # coset_ps_col.i\n",
      "  File \"/opt/sagemath-9.2/local/lib/python3.7/site-packages/qecsim/tensortools/mps.py\", line 103, in contract_pairwise\n",
      "    return [_contract(le, ri) for le, ri in zip(left_mps, right_mps)]\n",
      "  File \"/opt/sagemath-9.2/local/lib/python3.7/site-packages/qecsim/tensortools/mps.py\", line 180, in inner_product\n",
      "    mps = contract_pairwise(bra_mps, ket_mps)\n",
      "  File \"/opt/sagemath-9.2/local/lib/python3.7/site-packages/qecsim/tensortools/mps.py\", line 103, in contract_pairwise\n",
      "    return [_contract(le, ri) for le, ri in zip(left_mps, right_mps)]\n",
      "  File \"/opt/sagemath-9.2/local/lib/python3.7/site-packages/qecsim/tensortools/mps.py\", line 180, in inner_product\n",
      "    mps = contract_pairwise(bra_mps, ket_mps)\n",
      "  File \"/opt/sagemath-9.2/local/lib/python3.7/site-packages/qecsim/tensortools/mps.py\", line 103, in <listcomp>\n",
      "    return [_contract(le, ri) for le, ri in zip(left_mps, right_mps)]\n",
      "  File \"/opt/sagemath-9.2/local/lib/python3.7/site-packages/qecsim/tensortools/mps.py\", line 103, in contract_pairwise\n",
      "    return [_contract(le, ri) for le, ri in zip(left_mps, right_mps)]\n",
      "  File \"/opt/sagemath-9.2/local/lib/python3.7/site-packages/qecsim/tensortools/mps.py\", line 98, in _contract\n",
      "    return np.einsum('nesw,NESe->nNEsSw', le, ri).reshape(\n",
      "  File \"/opt/sagemath-9.2/local/lib/python3.7/site-packages/qecsim/tensortools/mps.py\", line 103, in <listcomp>\n",
      "    return [_contract(le, ri) for le, ri in zip(left_mps, right_mps)]\n",
      "  File \"/opt/sagemath-9.2/local/lib/python3.7/site-packages/qecsim/tensortools/mps.py\", line 103, in contract_pairwise\n",
      "    return [_contract(le, ri) for le, ri in zip(left_mps, right_mps)]\n",
      "  File \"/opt/sagemath-9.2/local/lib/python3.7/site-packages/qecsim/tensortools/mps.py\", line 103, in <listcomp>\n",
      "    return [_contract(le, ri) for le, ri in zip(left_mps, right_mps)]\n"
     ]
    },
    {
     "name": "stderr",
     "output_type": "stream",
     "text": [
      "  File \"/opt/sagemath-9.2/local/lib/python3.7/site-packages/qecsim/tensortools/mps.py\", line 98, in _contract\n",
      "    return np.einsum('nesw,NESe->nNEsSw', le, ri).reshape(\n",
      "  File \"<__array_function__ internals>\", line 6, in einsum\n",
      "  File \"/opt/sagemath-9.2/local/lib/python3.7/site-packages/qecsim/tensortools/mps.py\", line 103, in <listcomp>\n",
      "    return [_contract(le, ri) for le, ri in zip(left_mps, right_mps)]\n",
      "  File \"/opt/sagemath-9.2/local/lib/python3.7/site-packages/qecsim/tensortools/mps.py\", line 98, in _contract\n",
      "    return np.einsum('nesw,NESe->nNEsSw', le, ri).reshape(\n",
      "  File \"<__array_function__ internals>\", line 6, in einsum\n",
      "  File \"/opt/sagemath-9.2/local/lib/python3.7/site-packages/numpy/core/einsumfunc.py\", line 1350, in einsum\n",
      "    return c_einsum(*operands, **kwargs)\n",
      "  File \"/opt/sagemath-9.2/local/lib/python3.7/site-packages/qecsim/tensortools/mps.py\", line 98, in _contract\n",
      "    return np.einsum('nesw,NESe->nNEsSw', le, ri).reshape(\n",
      "  File \"<__array_function__ internals>\", line 6, in einsum\n",
      "  File \"/opt/sagemath-9.2/local/lib/python3.7/site-packages/numpy/core/einsumfunc.py\", line 1350, in einsum\n",
      "    return c_einsum(*operands, **kwargs)\n",
      "KeyboardInterrupt\n",
      "  File \"<__array_function__ internals>\", line 6, in einsum\n",
      "  File \"/opt/sagemath-9.2/local/lib/python3.7/site-packages/numpy/core/einsumfunc.py\", line 1350, in einsum\n",
      "    return c_einsum(*operands, **kwargs)\n",
      "KeyboardInterrupt\n",
      "  File \"/opt/sagemath-9.2/local/lib/python3.7/site-packages/numpy/core/einsumfunc.py\", line 1350, in einsum\n",
      "    return c_einsum(*operands, **kwargs)\n",
      "KeyboardInterrupt\n",
      "KeyboardInterrupt\n"
     ]
    }
   ],
   "source": [
    "import multiprocessing as mp\n",
    "from functools import partial\n",
    "\n",
    "def parallel_step_p(code, error_model, decoder, max_runs,error_probability):\n",
    "    results= app.run(code, error_model, decoder, error_probability, max_runs=100)\n",
    "    return results['logical_failure_rate']\n",
    "\n",
    "pL_list =np.zeros((len(codes),len(error_probabilities)))\n",
    "std_list=np.zeros((len(codes),len(error_probabilities)))\n",
    "\n",
    "for code_index,code in enumerate(codes):\n",
    "    p=mp.Pool()\n",
    "    func=partial(parallel_step_p,code, error_model, decoder, max_runs)\n",
    "    pL_list[code_index]=p.map(func, error_probabilities)\n",
    "    p.close()\n",
    "    p.join()\n",
    "    \n",
    "pL_list"
   ]
  },
  {
   "cell_type": "code",
   "execution_count": 56,
   "metadata": {},
   "outputs": [
    {
     "name": "stdout",
     "output_type": "stream",
     "text": [
      "Codes: ['Planar 5x5', 'Planar 7x7']\n",
      "Error model: Depolarizing\n",
      "Decoder: Planar MPS (mode=c)\n",
      "Error probabilities: [0.  0.2 0.4 0.6]\n",
      "Maximum runs: 60\n"
     ]
    },
    {
     "ename": "MaybeEncodingError",
     "evalue": "Error sending result: '<multiprocessing.pool.ExceptionWithTraceback object at 0x6ffe1b035a10>'. Reason: 'PicklingError(\"Can't pickle <class 'MemoryError'>: it's not the same object as builtins.MemoryError\")'",
     "output_type": "error",
     "traceback": [
      "\u001b[0;31m---------------------------------------------------------------------------\u001b[0m",
      "\u001b[0;31mMaybeEncodingError\u001b[0m                        Traceback (most recent call last)",
      "\u001b[0;32m<ipython-input-56-b7570d34ec51>\u001b[0m in \u001b[0;36m<module>\u001b[0;34m\u001b[0m\n\u001b[1;32m     63\u001b[0m     \u001b[0mp\u001b[0m\u001b[0;34m=\u001b[0m\u001b[0mmp\u001b[0m\u001b[0;34m.\u001b[0m\u001b[0mPool\u001b[0m\u001b[0;34m(\u001b[0m\u001b[0;34m)\u001b[0m\u001b[0;34m\u001b[0m\u001b[0;34m\u001b[0m\u001b[0m\n\u001b[1;32m     64\u001b[0m     \u001b[0mfunc\u001b[0m\u001b[0;34m=\u001b[0m\u001b[0mpartial\u001b[0m\u001b[0;34m(\u001b[0m\u001b[0mparallel_step_p\u001b[0m\u001b[0;34m,\u001b[0m\u001b[0mcode\u001b[0m\u001b[0;34m,\u001b[0m\u001b[0mhadamard_mat_rand\u001b[0m\u001b[0;34m,\u001b[0m \u001b[0merror_model\u001b[0m\u001b[0;34m,\u001b[0m \u001b[0mdecoder\u001b[0m\u001b[0;34m,\u001b[0m \u001b[0mmax_runs\u001b[0m\u001b[0;34m)\u001b[0m\u001b[0;34m\u001b[0m\u001b[0;34m\u001b[0m\u001b[0m\n\u001b[0;32m---> 65\u001b[0;31m     \u001b[0mpL_list\u001b[0m\u001b[0;34m[\u001b[0m\u001b[0mcode_index\u001b[0m\u001b[0;34m]\u001b[0m\u001b[0;34m=\u001b[0m\u001b[0mp\u001b[0m\u001b[0;34m.\u001b[0m\u001b[0mmap\u001b[0m\u001b[0;34m(\u001b[0m\u001b[0mfunc\u001b[0m\u001b[0;34m,\u001b[0m \u001b[0merror_probabilities\u001b[0m\u001b[0;34m)\u001b[0m\u001b[0;34m\u001b[0m\u001b[0;34m\u001b[0m\u001b[0m\n\u001b[0m\u001b[1;32m     66\u001b[0m     \u001b[0mp\u001b[0m\u001b[0;34m.\u001b[0m\u001b[0mclose\u001b[0m\u001b[0;34m(\u001b[0m\u001b[0;34m)\u001b[0m\u001b[0;34m\u001b[0m\u001b[0;34m\u001b[0m\u001b[0m\n\u001b[1;32m     67\u001b[0m     \u001b[0mp\u001b[0m\u001b[0;34m.\u001b[0m\u001b[0mjoin\u001b[0m\u001b[0;34m(\u001b[0m\u001b[0;34m)\u001b[0m\u001b[0;34m\u001b[0m\u001b[0;34m\u001b[0m\u001b[0m\n",
      "\u001b[0;32m/usr/lib/python3.7/multiprocessing/pool.py\u001b[0m in \u001b[0;36mmap\u001b[0;34m(self, func, iterable, chunksize)\u001b[0m\n\u001b[1;32m    266\u001b[0m         \u001b[0;32min\u001b[0m \u001b[0ma\u001b[0m \u001b[0mlist\u001b[0m \u001b[0mthat\u001b[0m \u001b[0;32mis\u001b[0m \u001b[0mreturned\u001b[0m\u001b[0;34m.\u001b[0m\u001b[0;34m\u001b[0m\u001b[0;34m\u001b[0m\u001b[0m\n\u001b[1;32m    267\u001b[0m         '''\n\u001b[0;32m--> 268\u001b[0;31m         \u001b[0;32mreturn\u001b[0m \u001b[0mself\u001b[0m\u001b[0;34m.\u001b[0m\u001b[0m_map_async\u001b[0m\u001b[0;34m(\u001b[0m\u001b[0mfunc\u001b[0m\u001b[0;34m,\u001b[0m \u001b[0miterable\u001b[0m\u001b[0;34m,\u001b[0m \u001b[0mmapstar\u001b[0m\u001b[0;34m,\u001b[0m \u001b[0mchunksize\u001b[0m\u001b[0;34m)\u001b[0m\u001b[0;34m.\u001b[0m\u001b[0mget\u001b[0m\u001b[0;34m(\u001b[0m\u001b[0;34m)\u001b[0m\u001b[0;34m\u001b[0m\u001b[0;34m\u001b[0m\u001b[0m\n\u001b[0m\u001b[1;32m    269\u001b[0m \u001b[0;34m\u001b[0m\u001b[0m\n\u001b[1;32m    270\u001b[0m     \u001b[0;32mdef\u001b[0m \u001b[0mstarmap\u001b[0m\u001b[0;34m(\u001b[0m\u001b[0mself\u001b[0m\u001b[0;34m,\u001b[0m \u001b[0mfunc\u001b[0m\u001b[0;34m,\u001b[0m \u001b[0miterable\u001b[0m\u001b[0;34m,\u001b[0m \u001b[0mchunksize\u001b[0m\u001b[0;34m=\u001b[0m\u001b[0;32mNone\u001b[0m\u001b[0;34m)\u001b[0m\u001b[0;34m:\u001b[0m\u001b[0;34m\u001b[0m\u001b[0;34m\u001b[0m\u001b[0m\n",
      "\u001b[0;32m/usr/lib/python3.7/multiprocessing/pool.py\u001b[0m in \u001b[0;36mget\u001b[0;34m(self, timeout)\u001b[0m\n\u001b[1;32m    655\u001b[0m             \u001b[0;32mreturn\u001b[0m \u001b[0mself\u001b[0m\u001b[0;34m.\u001b[0m\u001b[0m_value\u001b[0m\u001b[0;34m\u001b[0m\u001b[0;34m\u001b[0m\u001b[0m\n\u001b[1;32m    656\u001b[0m         \u001b[0;32melse\u001b[0m\u001b[0;34m:\u001b[0m\u001b[0;34m\u001b[0m\u001b[0;34m\u001b[0m\u001b[0m\n\u001b[0;32m--> 657\u001b[0;31m             \u001b[0;32mraise\u001b[0m \u001b[0mself\u001b[0m\u001b[0;34m.\u001b[0m\u001b[0m_value\u001b[0m\u001b[0;34m\u001b[0m\u001b[0;34m\u001b[0m\u001b[0m\n\u001b[0m\u001b[1;32m    658\u001b[0m \u001b[0;34m\u001b[0m\u001b[0m\n\u001b[1;32m    659\u001b[0m     \u001b[0;32mdef\u001b[0m \u001b[0m_set\u001b[0m\u001b[0;34m(\u001b[0m\u001b[0mself\u001b[0m\u001b[0;34m,\u001b[0m \u001b[0mi\u001b[0m\u001b[0;34m,\u001b[0m \u001b[0mobj\u001b[0m\u001b[0;34m)\u001b[0m\u001b[0;34m:\u001b[0m\u001b[0;34m\u001b[0m\u001b[0;34m\u001b[0m\u001b[0m\n",
      "\u001b[0;31mMaybeEncodingError\u001b[0m: Error sending result: '<multiprocessing.pool.ExceptionWithTraceback object at 0x6ffe1b035a10>'. Reason: 'PicklingError(\"Can't pickle <class 'MemoryError'>: it's not the same object as builtins.MemoryError\")'"
     ]
    },
    {
     "name": "stderr",
     "output_type": "stream",
     "text": [
      "Process ForkPoolWorker-263:\n",
      "Process ForkPoolWorker-262:\n",
      "Process ForkPoolWorker-260:\n",
      "Process ForkPoolWorker-261:\n",
      "Traceback (most recent call last):\n",
      "Traceback (most recent call last):\n",
      "Traceback (most recent call last):\n",
      "Traceback (most recent call last):\n",
      "  File \"/usr/lib/python3.7/multiprocessing/process.py\", line 297, in _bootstrap\n",
      "    self.run()\n",
      "  File \"/usr/lib/python3.7/multiprocessing/process.py\", line 297, in _bootstrap\n",
      "    self.run()\n",
      "  File \"/usr/lib/python3.7/multiprocessing/process.py\", line 297, in _bootstrap\n",
      "    self.run()\n",
      "  File \"/usr/lib/python3.7/multiprocessing/process.py\", line 297, in _bootstrap\n",
      "    self.run()\n",
      "  File \"/usr/lib/python3.7/multiprocessing/process.py\", line 99, in run\n",
      "    self._target(*self._args, **self._kwargs)\n",
      "  File \"/usr/lib/python3.7/multiprocessing/process.py\", line 99, in run\n",
      "    self._target(*self._args, **self._kwargs)\n",
      "  File \"/usr/lib/python3.7/multiprocessing/process.py\", line 99, in run\n",
      "    self._target(*self._args, **self._kwargs)\n",
      "  File \"/usr/lib/python3.7/multiprocessing/process.py\", line 99, in run\n",
      "    self._target(*self._args, **self._kwargs)\n",
      "  File \"/usr/lib/python3.7/multiprocessing/pool.py\", line 110, in worker\n",
      "    task = get()\n",
      "  File \"/usr/lib/python3.7/multiprocessing/pool.py\", line 110, in worker\n",
      "    task = get()\n",
      "  File \"/usr/lib/python3.7/multiprocessing/pool.py\", line 110, in worker\n",
      "    task = get()\n",
      "  File \"/usr/lib/python3.7/multiprocessing/pool.py\", line 110, in worker\n",
      "    task = get()\n",
      "  File \"/usr/lib/python3.7/multiprocessing/queues.py\", line 351, in get\n",
      "    with self._rlock:\n",
      "  File \"/usr/lib/python3.7/multiprocessing/queues.py\", line 351, in get\n",
      "    with self._rlock:\n",
      "  File \"/usr/lib/python3.7/multiprocessing/queues.py\", line 351, in get\n",
      "    with self._rlock:\n",
      "  File \"/usr/lib/python3.7/multiprocessing/queues.py\", line 352, in get\n",
      "    res = self._reader.recv_bytes()\n",
      "  File \"/usr/lib/python3.7/multiprocessing/synchronize.py\", line 95, in __enter__\n",
      "    return self._semlock.__enter__()\n",
      "  File \"/usr/lib/python3.7/multiprocessing/synchronize.py\", line 95, in __enter__\n",
      "    return self._semlock.__enter__()\n",
      "  File \"/usr/lib/python3.7/multiprocessing/synchronize.py\", line 95, in __enter__\n",
      "    return self._semlock.__enter__()\n",
      "  File \"/usr/lib/python3.7/multiprocessing/connection.py\", line 216, in recv_bytes\n",
      "    buf = self._recv_bytes(maxlength)\n",
      "KeyboardInterrupt\n",
      "KeyboardInterrupt\n",
      "KeyboardInterrupt\n",
      "  File \"/usr/lib/python3.7/multiprocessing/connection.py\", line 407, in _recv_bytes\n",
      "    buf = self._recv(4)\n",
      "  File \"/usr/lib/python3.7/multiprocessing/connection.py\", line 379, in _recv\n",
      "    chunk = read(handle, remaining)\n",
      "KeyboardInterrupt\n"
     ]
    }
   ],
   "source": [
    "%matplotlib inline\n",
    "import collections\n",
    "import itertools\n",
    "import numpy as np\n",
    "from qecsim import paulitools as pt\n",
    "import matplotlib.pyplot as plt\n",
    "from qecsim import app\n",
    "from qecsim.models.generic import PhaseFlipErrorModel,DepolarizingErrorModel\n",
    "from qecsim.models.planar import PlanarCode, PlanarMPSDecoder\n",
    "from _planarmpsdecoder_def import PlanarMPSDecoder_def\n",
    "import app_def\n",
    "import importlib as imp\n",
    "imp.reload(app_def)\n",
    "\n",
    "# set models\n",
    "codes = [PlanarCode(*size) for size in [(5,5),(7,7)]]\n",
    "error_model = DepolarizingErrorModel()\n",
    "decoder = PlanarMPSDecoder_def()\n",
    "# set physical error probabilities\n",
    "error_probability_min, error_probability_max = 0, 0.6\n",
    "error_probabilities = np.linspace(error_probability_min, error_probability_max, 4)\n",
    "\n",
    "# set max_runs for each probability\n",
    "max_runs = 60\n",
    "\n",
    "# print run parameters\n",
    "print('Codes:', [code.label for code in codes])\n",
    "print('Error model:', error_model.label)\n",
    "print('Decoder:', decoder.label)\n",
    "print('Error probabilities:', error_probabilities)\n",
    "print('Maximum runs:', max_runs)\n",
    "\n",
    "import multiprocessing as mp\n",
    "from functools import partial\n",
    "\n",
    "def parallel_step_p(code,hadamard_mat,error_model, decoder, max_runs,error_probability):\n",
    "    results= app_def.run_def(code,hadamard_mat, error_model, decoder, error_probability, max_runs=100)\n",
    "    return results\n",
    "\n",
    "pL_list =np.zeros((len(codes),len(error_probabilities)))\n",
    "std_list=np.zeros((len(codes),len(error_probabilities)))\n",
    "\n",
    "for code_index,code in enumerate(codes):\n",
    "     #hadamard_mat_XZZX\n",
    "    rng = np.random.default_rng(59)\n",
    "    error = error_model.generate(code, error_probability_max, rng)\n",
    "    syndrome = pt.bsp(error, code.stabilizers.T)\n",
    "    sample_pauli = decoder.sample_recovery(code, syndrome)\n",
    "    hadamard_mat=np.zeros((2*sample_pauli.code.size[0] - 1, 2*sample_pauli.code.size[1] - 1))\n",
    "    hadamard_mat_XZZX=hadamard_mat\n",
    "    for row, col in np.ndindex(hadamard_mat_XZZX.shape):\n",
    "        if row%2==0 and col%2==0:\n",
    "                hadamard_mat_XZZX[row,col]=1\n",
    "\n",
    "    pH=0.5  \n",
    "    hadamard_mat_rand=hadamard_mat\n",
    "    for row, col in np.ndindex(hadamard_mat_rand.shape):\n",
    "        if ((row%2==0 and col%2==0) or (row%2==1 and col%2==1)):\n",
    "            if(np.random.rand(1,1))<pH:\n",
    "                hadamard_mat_rand[row,col]=1\n",
    "            \n",
    "    p=mp.Pool()\n",
    "    func=partial(parallel_step_p,code,hadamard_mat_rand, error_model, decoder, max_runs)\n",
    "    pL_list[code_index]=p.map(func, error_probabilities)\n",
    "    p.close()\n",
    "    p.join()\n",
    "    \n",
    "pL_list"
   ]
  },
  {
   "cell_type": "code",
   "execution_count": 58,
   "metadata": {},
   "outputs": [
    {
     "data": {
      "text/plain": [
       "PlanarCode(5, 5)"
      ]
     },
     "execution_count": 58,
     "metadata": {},
     "output_type": "execute_result"
    }
   ],
   "source": [
    "PlanarCode(*(5,5))"
   ]
  },
  {
   "cell_type": "code",
   "execution_count": 84,
   "metadata": {},
   "outputs": [
    {
     "name": "stdout",
     "output_type": "stream",
     "text": [
      "Codes: ['Planar 7x7']\n",
      "Error model: Depolarizing\n",
      "Decoder: Planar MPS (chi=8, mode=c)\n",
      "Error probabilities: [0.         0.05454545 0.10909091 0.16363636 0.21818182 0.27272727\n",
      " 0.32727273 0.38181818 0.43636364 0.49090909 0.54545455 0.6       ]\n",
      "Maximum runs: 10\n",
      "[[0.   0.   0.01 0.23 0.42 0.58 0.72 0.69 0.77 0.78 0.69 0.76]]\n"
     ]
    }
   ],
   "source": [
    "%matplotlib inline\n",
    "import collections\n",
    "import itertools\n",
    "import numpy as np\n",
    "from qecsim import paulitools as pt\n",
    "import matplotlib.pyplot as plt\n",
    "from qecsim import app\n",
    "from qecsim.models.generic import DepolarizingErrorModel\n",
    "from qecsim.models.planar import PlanarCode, PlanarMPSDecoder\n",
    "from _planarmpsdecoder_def import PlanarMPSDecoder_def\n",
    "import app_def\n",
    "import importlib as imp\n",
    "imp.reload(app_def)\n",
    "from qecsim import app\n",
    "imp.reload(app)\n",
    "\n",
    "# set models\n",
    "codes = [PlanarCode(*size) for size in [(7,7)]]\n",
    "error_model = DepolarizingErrorModel()\n",
    "decoder = PlanarMPSDecoder(chi=8)\n",
    "# set physical error probabilities\n",
    "error_probability_min, error_probability_max = 0, 0.6\n",
    "error_probabilities = np.linspace(error_probability_min, error_probability_max, 12)\n",
    "\n",
    "      \n",
    "# set max_runs for each probability\n",
    "max_runs = 10\n",
    "\n",
    "# print run parameters\n",
    "print('Codes:', [code.label for code in codes])\n",
    "print('Error model:', error_model.label)\n",
    "print('Decoder:', decoder.label)\n",
    "print('Error probabilities:', error_probabilities)\n",
    "print('Maximum runs:', max_runs)\n",
    "\n",
    "import multiprocessing as mp\n",
    "from functools import partial\n",
    "\n",
    "def parallel_step_p(code,hadamard_mat,error_model, decoder, max_runs,error_probability):\n",
    "    results= app.run(code, error_model, decoder, error_probability, max_runs=100)\n",
    "    result=results['logical_failure_rate']\n",
    "  # result= app_def.run_def(code, hadamard_mat,error_model, decoder, error_probability, max_runs=100)\n",
    "    return result\n",
    "\n",
    "pL_list =np.zeros((len(codes),len(error_probabilities)))\n",
    "std_list=np.zeros((len(codes),len(error_probabilities)))\n",
    "\n",
    "for code_index,code in enumerate(codes):\n",
    "     #hadamard_mat_XZZX\n",
    "    rng = np.random.default_rng(59)\n",
    "    error_model = DepolarizingErrorModel()\n",
    "    error = error_model.generate(code, error_probability_max, rng)\n",
    "    syndrome = pt.bsp(error, code.stabilizers.T)\n",
    "    sample_pauli = decoder.sample_recovery(code, syndrome)\n",
    "    hadamard_mat=np.zeros((2*sample_pauli.code.size[0] - 1, 2*sample_pauli.code.size[1] - 1))\n",
    "    hadamard_mat_XZZX=hadamard_mat\n",
    "    for row, col in np.ndindex(hadamard_mat_XZZX.shape):\n",
    "        if row%2==0 and col%2==0:\n",
    "                hadamard_mat_XZZX[row,col]=1\n",
    "\n",
    "    pH=0.5  \n",
    "    hadamard_mat_rand=hadamard_mat\n",
    "    for row, col in np.ndindex(hadamard_mat_rand.shape):\n",
    "        if ((row%2==0 and col%2==0) or (row%2==1 and col%2==1)):\n",
    "            if(np.random.rand(1,1))<pH:\n",
    "                hadamard_mat_rand[row,col]=1\n",
    "                \n",
    "                \n",
    "    p=mp.Pool()\n",
    "    func=partial(parallel_step_p,code,hadamard_mat, error_model, decoder, max_runs)\n",
    "    pL_list_code=p.map(func, error_probabilities)\n",
    "    p.close()\n",
    "    p.join()\n",
    "    pL_list[code_index]=pL_list_code #trying to avoid pickling errors this way? \n",
    "    \n",
    "print(pL_list)"
   ]
  },
  {
   "cell_type": "code",
   "execution_count": 85,
   "metadata": {
    "scrolled": true
   },
   "outputs": [
    {
     "name": "stdout",
     "output_type": "stream",
     "text": [
      "Codes: ['Planar 7x7']\n",
      "Error model: Depolarizing\n",
      "Decoder: Planar MPS (chi=8, mode=c)\n",
      "Error probabilities: [0.         0.05454545 0.10909091 0.16363636 0.21818182 0.27272727\n",
      " 0.32727273 0.38181818 0.43636364 0.49090909 0.54545455 0.6       ]\n",
      "Maximum runs: 10\n",
      "[[0.   0.   0.02 0.14 0.38 0.66 0.69 0.75 0.72 0.75 0.8  0.77]]\n"
     ]
    }
   ],
   "source": [
    "%matplotlib inline\n",
    "import collections\n",
    "import itertools\n",
    "import numpy as np\n",
    "from qecsim import paulitools as pt\n",
    "import matplotlib.pyplot as plt\n",
    "from qecsim import app\n",
    "from qecsim.models.generic import DepolarizingErrorModel\n",
    "from qecsim.models.planar import PlanarCode, PlanarMPSDecoder\n",
    "from _planarmpsdecoder_def import PlanarMPSDecoder_def\n",
    "import app_def\n",
    "import importlib as imp\n",
    "imp.reload(app_def)\n",
    "from qecsim import app\n",
    "imp.reload(app)\n",
    "\n",
    "# set models\n",
    "codes = [PlanarCode(*size) for size in [(7,7)]]\n",
    "error_model = DepolarizingErrorModel()\n",
    "decoder = PlanarMPSDecoder_def(chi=8)\n",
    "# set physical error probabilities\n",
    "error_probability_min, error_probability_max = 0, 0.6\n",
    "error_probabilities = np.linspace(error_probability_min, error_probability_max, 12)\n",
    "\n",
    "      \n",
    "# set max_runs for each probability\n",
    "max_runs = 10\n",
    "\n",
    "# print run parameters\n",
    "print('Codes:', [code.label for code in codes])\n",
    "print('Error model:', error_model.label)\n",
    "print('Decoder:', decoder.label)\n",
    "print('Error probabilities:', error_probabilities)\n",
    "print('Maximum runs:', max_runs)\n",
    "\n",
    "import multiprocessing as mp\n",
    "from functools import partial\n",
    "\n",
    "def parallel_step_p(code,hadamard_mat,error_model, decoder, max_runs,error_probability):\n",
    "    #result= app.run(code, error_model, decoder, error_probability, max_runs=100)\n",
    "    result= app_def.run_def(code, hadamard_mat,error_model, decoder, error_probability, max_runs=100)\n",
    "    return result\n",
    "\n",
    "pL_list =np.zeros((len(codes),len(error_probabilities)))\n",
    "std_list=np.zeros((len(codes),len(error_probabilities)))\n",
    "\n",
    "for code_index,code in enumerate(codes):\n",
    "     #hadamard_mat_XZZX\n",
    "    rng = np.random.default_rng(59)\n",
    "    error_model = DepolarizingErrorModel()\n",
    "    error = error_model.generate(code, error_probability_max, rng)\n",
    "    syndrome = pt.bsp(error, code.stabilizers.T)\n",
    "    sample_pauli = decoder.sample_recovery(code, syndrome)\n",
    "    hadamard_mat=np.zeros((2*sample_pauli.code.size[0] - 1, 2*sample_pauli.code.size[1] - 1))\n",
    "    hadamard_mat_XZZX=hadamard_mat\n",
    "    for row, col in np.ndindex(hadamard_mat_XZZX.shape):\n",
    "        if row%2==0 and col%2==0:\n",
    "                hadamard_mat_XZZX[row,col]=1\n",
    "\n",
    "    pH=0.5  \n",
    "    hadamard_mat_rand=hadamard_mat\n",
    "    for row, col in np.ndindex(hadamard_mat_rand.shape):\n",
    "        if ((row%2==0 and col%2==0) or (row%2==1 and col%2==1)):\n",
    "            if(np.random.rand(1,1))<pH:\n",
    "                hadamard_mat_rand[row,col]=1\n",
    "                \n",
    "    hadamard_mat_optimal=hadamard_mat\n",
    "    for row, col in np.ndindex(hadamard_mat_optimal.shape):\n",
    "        if ((row%2==0 and col%2==0) or (row%2==1 and col%2==1)):\n",
    "            if(np.random.rand(1,1))<pH:\n",
    "                hadamard_mat_optimal[row,col]=1\n",
    "                \n",
    "    p=mp.Pool()\n",
    "    func=partial(parallel_step_p,code,hadamard_mat_rand, error_model, decoder, max_runs)\n",
    "    pL_list_code=p.map(func, error_probabilities)\n",
    "    p.close()\n",
    "    p.join()\n",
    "    pL_list[code_index]=pL_list_code #trying to avoid pickling errors this way? \n",
    "    \n",
    "print(pL_list)"
   ]
  },
  {
   "cell_type": "code",
   "execution_count": 86,
   "metadata": {},
   "outputs": [
    {
     "name": "stdout",
     "output_type": "stream",
     "text": [
      "Codes: ['Planar 3x3', 'Planar 5x5', 'Planar 7x7']\n",
      "Error model: Depolarizing\n",
      "Decoder: Planar MPS (chi=8, mode=c)\n",
      "Error probabilities: [0.         0.03157895 0.06315789 0.09473684 0.12631579 0.15789474\n",
      " 0.18947368 0.22105263 0.25263158 0.28421053 0.31578947 0.34736842\n",
      " 0.37894737 0.41052632 0.44210526 0.47368421 0.50526316 0.53684211\n",
      " 0.56842105 0.6       ]\n",
      "Maximum runs: 100\n",
      "[[0.   0.   0.   0.09 0.14 0.24 0.27 0.37 0.4  0.5  0.54 0.57 0.5  0.76\n",
      "  0.63 0.64 0.73 0.77 0.7  0.75]\n",
      " [0.   0.01 0.   0.04 0.09 0.23 0.31 0.42 0.52 0.62 0.71 0.72 0.69 0.76\n",
      "  0.72 0.7  0.76 0.76 0.81 0.74]\n",
      " [0.   0.   0.   0.04 0.05 0.2  0.31 0.52 0.58 0.66 0.69 0.75 0.7  0.81\n",
      "  0.76 0.64 0.69 0.8  0.85 0.76]]\n"
     ]
    }
   ],
   "source": [
    "%matplotlib inline\n",
    "import collections\n",
    "import itertools\n",
    "import numpy as np\n",
    "from qecsim import paulitools as pt\n",
    "import matplotlib.pyplot as plt\n",
    "from qecsim import app\n",
    "from qecsim.models.generic import PhaseFlipErrorModel,DepolarizingErrorModel\n",
    "from qecsim.models.planar import PlanarCode, PlanarMPSDecoder\n",
    "from _planarmpsdecoder_def import PlanarMPSDecoder_def\n",
    "import app_def\n",
    "import importlib as imp\n",
    "imp.reload(app_def)\n",
    "\n",
    "# set models\n",
    "codes = [PlanarCode(*size) for size in [(3,3),(5,5),(7,7)]]\n",
    "error_model = DepolarizingErrorModel()\n",
    "decoder = PlanarMPSDecoder_def(chi=8)\n",
    "# set physical error probabilities\n",
    "error_probability_min, error_probability_max = 0, 0.6\n",
    "error_probabilities = np.linspace(error_probability_min, error_probability_max, 20)\n",
    "      \n",
    "# set max_runs for each probability\n",
    "max_runs = 100\n",
    "\n",
    "# print run parameters\n",
    "print('Codes:', [code.label for code in codes])\n",
    "print('Error model:', error_model.label)\n",
    "print('Decoder:', decoder.label)\n",
    "print('Error probabilities:', error_probabilities)\n",
    "print('Maximum runs:', max_runs)\n",
    "\n",
    "import multiprocessing as mp\n",
    "from functools import partial\n",
    "\n",
    "def parallel_step_p(code,hadamard_mat,error_model, decoder, max_runs,error_probability):\n",
    "    result= app_def.run_def(code,hadamard_mat, error_model, decoder, error_probability, max_runs=100)\n",
    "    return result\n",
    "\n",
    "pL_list =np.zeros((len(codes),len(error_probabilities)))\n",
    "std_list=np.zeros((len(codes),len(error_probabilities)))\n",
    "\n",
    "for code_index,code in enumerate(codes):\n",
    "    rng = np.random.default_rng(59)\n",
    "    error = error_model.generate(code, error_probability_max, rng)\n",
    "    syndrome = pt.bsp(error, code.stabilizers.T)\n",
    "    sample_pauli = decoder.sample_recovery(code, syndrome)\n",
    "    hadamard_mat=np.zeros((2*sample_pauli.code.size[0] - 1, 2*sample_pauli.code.size[1] - 1))\n",
    "    hadamard_mat_XZZX=hadamard_mat\n",
    "    for row, col in np.ndindex(hadamard_mat_XZZX.shape):\n",
    "        if row%2==0 and col%2==0:\n",
    "                hadamard_mat_XZZX[row,col]=1\n",
    "\n",
    "    pH=0.5  \n",
    "    hadamard_mat_rand=np.zeros(hadamard_mat.shape)\n",
    "    for row, col in np.ndindex(hadamard_mat_rand.shape):\n",
    "        if (row%2==0 and col%2==0):\n",
    "            if(np.random.rand(1,1))<pH:\n",
    "                hadamard_mat_rand[row,col]=1\n",
    "                \n",
    "    hadamard_mat_optimal=np.zeros(hadamard_mat.shape)\n",
    "    d=hadamard_mat.shape[0]\n",
    "    for row, col in np.ndindex(hadamard_mat_optimal.shape):\n",
    "        if (row ==0 and col in range(0,d,4)) or (row==d-1 and col in range(2,d-1,4)) or (row%2==1 and col%2==1):\n",
    "            hadamard_mat_optimal[row,col]=1\n",
    "                \n",
    "    p=mp.Pool()\n",
    "    func=partial(parallel_step_p,code,hadamard_mat_optimal, error_model, decoder, max_runs)\n",
    "    pL_list_code=p.map(func, error_probabilities)\n",
    "    p.close()\n",
    "    p.join()\n",
    "    pL_list[code_index]=pL_list_code\n",
    "    \n",
    "print(pL_list)"
   ]
  },
  {
   "cell_type": "code",
   "execution_count": 130,
   "metadata": {},
   "outputs": [
    {
     "data": {
      "text/plain": [
       "array([[0., 0., 0., 0., 0., 0., 0., 0., 0., 0., 0., 0., 0.],\n",
       "       [0., 0., 0., 0., 0., 0., 0., 0., 0., 0., 0., 0., 0.],\n",
       "       [0., 0., 0., 0., 0., 0., 0., 0., 0., 0., 0., 0., 0.],\n",
       "       [0., 0., 0., 0., 0., 0., 0., 0., 0., 0., 0., 0., 0.],\n",
       "       [0., 0., 0., 0., 0., 0., 0., 0., 0., 0., 0., 0., 0.],\n",
       "       [0., 0., 0., 0., 0., 0., 0., 0., 0., 0., 0., 0., 0.],\n",
       "       [0., 0., 0., 0., 0., 0., 0., 0., 0., 0., 0., 0., 0.],\n",
       "       [0., 0., 0., 0., 0., 0., 0., 0., 0., 0., 0., 0., 0.],\n",
       "       [0., 0., 0., 0., 0., 0., 0., 0., 0., 0., 0., 0., 0.],\n",
       "       [0., 0., 0., 0., 0., 0., 0., 0., 0., 0., 0., 0., 0.],\n",
       "       [0., 0., 0., 0., 0., 0., 0., 0., 0., 0., 0., 0., 0.],\n",
       "       [0., 0., 0., 0., 0., 0., 0., 0., 0., 0., 0., 0., 0.],\n",
       "       [0., 0., 0., 0., 0., 0., 0., 0., 0., 0., 0., 0., 0.]])"
      ]
     },
     "execution_count": 130,
     "metadata": {},
     "output_type": "execute_result"
    }
   ],
   "source": [
    "hadamard_mat_optimal=np.zeros(hadamard_mat.shape)\n",
    "hadamard_mat_optimal"
   ]
  },
  {
   "cell_type": "code",
   "execution_count": 140,
   "metadata": {},
   "outputs": [
    {
     "data": {
      "text/plain": [
       "array([[1., 0., 0., 0., 1., 0., 0., 0., 1., 0., 0., 0., 1.],\n",
       "       [0., 1., 0., 1., 0., 1., 0., 1., 0., 1., 0., 1., 0.],\n",
       "       [0., 0., 0., 0., 0., 0., 0., 0., 0., 0., 0., 0., 0.],\n",
       "       [0., 1., 0., 1., 0., 1., 0., 1., 0., 1., 0., 1., 0.],\n",
       "       [0., 0., 0., 0., 0., 0., 0., 0., 0., 0., 0., 0., 0.],\n",
       "       [0., 1., 0., 1., 0., 1., 0., 1., 0., 1., 0., 1., 0.],\n",
       "       [0., 0., 0., 0., 0., 0., 0., 0., 0., 0., 0., 0., 0.],\n",
       "       [0., 1., 0., 1., 0., 1., 0., 1., 0., 1., 0., 1., 0.],\n",
       "       [0., 0., 0., 0., 0., 0., 0., 0., 0., 0., 0., 0., 0.],\n",
       "       [0., 1., 0., 1., 0., 1., 0., 1., 0., 1., 0., 1., 0.],\n",
       "       [0., 0., 0., 0., 0., 0., 0., 0., 0., 0., 0., 0., 0.],\n",
       "       [0., 1., 0., 1., 0., 1., 0., 1., 0., 1., 0., 1., 0.],\n",
       "       [0., 0., 1., 0., 0., 0., 1., 0., 0., 0., 1., 0., 0.]])"
      ]
     },
     "execution_count": 140,
     "metadata": {},
     "output_type": "execute_result"
    }
   ],
   "source": [
    "hadamard_mat_optimal=np.zeros(hadamard_mat.shape)\n",
    "d=hadamard_mat.shape[0]\n",
    "\n",
    "for row, col in np.ndindex(hadamard_mat_optimal.shape):\n",
    "    if (row ==0 and col in range(0,d,4)) or (row==d-1 and col in range(2,d-1,4)) or (row%2==1 and col%2==1):\n",
    "        hadamard_mat_optimal[row,col]=1\n",
    "\n",
    "hadamard_mat_optimal"
   ]
  },
  {
   "cell_type": "code",
   "execution_count": 127,
   "metadata": {},
   "outputs": [
    {
     "data": {
      "text/plain": [
       "2"
      ]
     },
     "execution_count": 127,
     "metadata": {},
     "output_type": "execute_result"
    }
   ],
   "source": [
    "x=range(0,5,2);x[1]"
   ]
  },
  {
   "cell_type": "code",
   "execution_count": 111,
   "metadata": {},
   "outputs": [
    {
     "name": "stdout",
     "output_type": "stream",
     "text": [
      "Error model: Biased-depolarizing (bias=1000, axis='Y')\n"
     ]
    }
   ],
   "source": [
    "from qecsim.models.generic import PhaseFlipErrorModel,DepolarizingErrorModel,BiasedDepolarizingErrorModel\n",
    "error_model = BiasedDepolarizingErrorModel(1000,'Y')\n",
    "print('Error model:', error_model.label)\n"
   ]
  },
  {
   "cell_type": "code",
   "execution_count": null,
   "metadata": {},
   "outputs": [],
   "source": [
    "%matplotlib inline\n",
    "import collections\n",
    "import itertools\n",
    "import numpy as np\n",
    "from qecsim import paulitools as pt\n",
    "import matplotlib.pyplot as plt\n",
    "import qecsim\n",
    "from qecsim import app\n",
    "from qecsim.models.generic import PhaseFlipErrorModel,DepolarizingErrorModel,BiasedDepolarizingErrorModel\n",
    "from qecsim.models.planar import PlanarCode, PlanarMPSDecoder\n",
    "from _planarmpsdecoder_def import PlanarMPSDecoder_def\n",
    "import app_def\n",
    "import importlib as imp\n",
    "imp.reload(app_def)\n",
    "import os, time\n",
    "# set models\n",
    "sizes= range(5,9,2)\n",
    "codes_and_size = [PlanarCode(*(size,size)) for size in sizes]\n",
    "bias=10000\n",
    "error_model = BiasedDepolarizingErrorModel(bias,'Z')\n",
    "decoder = PlanarMPSDecoder_def(chi=20)\n",
    "# set physical error probabilities\n",
    "error_probability_min, error_probability_max = 0.3, 0.6\n",
    "error_probabilities = np.linspace(error_probability_min, error_probability_max, 15)\n",
    "\n",
    "# set max_runs for each probability\n",
    "max_runs = 400\n",
    "\n",
    "# print run parameters\n",
    "print('codes_and_size:', [code.label for code in codes_and_size])\n",
    "print('Error model:', error_model.label)\n",
    "print('Decoder:', decoder.label)\n",
    "print('Error probabilities:', error_probabilities)\n",
    "print('Maximum runs:', max_runs)\n",
    "\n",
    "import multiprocessing as mp\n",
    "from functools import partial\n",
    "\n",
    "def parallel_step_p(code,hadamard_mat,error_model, decoder, max_runs,error_probability):\n",
    "    result= app_def.run_def(code,hadamard_mat, error_model, decoder, error_probability, max_runs=100)\n",
    "    return result\n",
    "\n",
    "\n",
    "#code_name=\"optimal\"\n",
    "code_name=\"random\"\n",
    "#code_name=\"XZZX\"\n",
    "\n",
    "if (code_name==\"random\"):\n",
    "    realizations=50\n",
    "else:\n",
    "    realizations=1\n",
    "\n",
    "\n",
    "pL_list_rand =np.zeros((len(codes_and_size),realizations,len(error_probabilities)))\n",
    "std_list_rand=np.zeros((len(codes_and_size),realizations,len(error_probabilities)))\n",
    "\n",
    "pL_list =np.zeros((len(codes_and_size),len(error_probabilities)))\n",
    "std_list=np.zeros((len(codes_and_size),len(error_probabilities)))\n",
    "\n",
    "for code_index,code in enumerate(codes_and_size):\n",
    "    timestr = time.strftime(\"%Y%m%d-%H%M%S \")   #record current date and time\n",
    "    dirname=\"./data/\"+timestr+code_name\n",
    "    os.mkdir(dirname)     \n",
    "    rng = np.random.default_rng(59)\n",
    "\n",
    "    error = error_model.generate(code, error_probability_max, rng)\n",
    "    syndrome = pt.bsp(error, code.stabilizers.T)\n",
    "    sample_pauli = decoder.sample_recovery(code, syndrome)\n",
    "    hadamard_mat_sample=np.zeros((2*sample_pauli.code.size[0] - 1, 2*sample_pauli.code.size[1] - 1))\n",
    "\n",
    "\n",
    "    if code_name==\"random\":\n",
    "        pH=0.5  \n",
    "        hadamard_mat=np.zeros(hadamard_mat_sample.shape)\n",
    "        for realization_index in range(realizations):\n",
    "            for row, col in np.ndindex(hadamard_mat.shape):\n",
    "                if ((row%2==0 and col%2==0) or (row%2==1 and col%2==1)):\n",
    "                    if(np.random.rand(1,1))<pH:\n",
    "                        hadamard_mat[row,col]=1\n",
    "\n",
    "            p=mp.Pool()\n",
    "            func=partial(parallel_step_p,code,hadamard_mat, error_model, decoder, max_runs)\n",
    "            result=p.map(func, error_probabilities)\n",
    "            print(result)\n",
    "            p.close()\n",
    "            p.join()\n",
    "            for i in range(len(result)):\n",
    "                pL_list_rand[code_index][realization_index][i]=result[i][0]\n",
    "                std_list_rand[code_index][realization_index][i]=result[i][1]\n",
    "            \n",
    "        pL_list[code_index] = np.sum(pL_list_rand[code_index],axis=0)/realizations\n",
    "        std_list[code_index] = np.sum(std_list_rand[code_index],axis=0)/realizations**2\n",
    "\n",
    "    else:\n",
    "        if code_name==\"XZZX\":\n",
    "            hadamard_mat=np.zeros(hadamard_mat_sample.shape)\n",
    "            for row, col in np.ndindex(hadamard_mat.shape):\n",
    "                if row%2==0 and col%2==0:\n",
    "                    hadamard_mat[row,col]=1\n",
    "\n",
    "        if code_name==\"optimal\":\n",
    "            hadamard_mat=np.zeros(hadamard_mat_sample.shape)\n",
    "            d=hadamard_mat.shape[0]\n",
    "            for row, col in np.ndindex(hadamard_mat.shape):\n",
    "                if (row ==0 and col in range(0,d,4)) or (row==d-1 and col in range(2,d-1,4)) or (row%2==1 and col%2==1):\n",
    "                    hadamard_mat[row,col]=1\n",
    "\n",
    "        p=mp.Pool()\n",
    "        func=partial(parallel_step_p,code,hadamard_mat,error_model, decoder, max_runs)\n",
    "        result=p.map(func, error_probabilities)\n",
    "        print(result)\n",
    "        p.close()\n",
    "        p.join()\n",
    "        \n",
    "        for i in range(len(result)):\n",
    "            pL_list[code_index][i]=result[i][0]   \n",
    "            std_list[code_index][i]=result[i][1]\n",
    "\n",
    "    \n",
    "from itertools import cycle\n",
    "plt.figure(figsize=(20,10))\n",
    "lines = [\"-\",\":\",\"--\",\"-.\"]\n",
    "linecycler = cycle(lines)\n",
    "plt.title('TND at bias of'+str(bias))\n",
    "for sizes_index,size in enumerate(sizes):\n",
    "    plt.errorbar(error_probabilities,pL_list[sizes_index],std_list[sizes_index])\n",
    "plt.xlabel('p')\n",
    "plt.ylabel('$p_L$')\n",
    "plt.legend(sizes) \n",
    "plt.savefig(dirname+\"/threshold_plot.pdf\")\n"
   ]
  },
  {
   "cell_type": "code",
   "execution_count": null,
   "metadata": {},
   "outputs": [],
   "source": []
  },
  {
   "cell_type": "code",
   "execution_count": 150,
   "metadata": {},
   "outputs": [
    {
     "data": {
      "text/plain": [
       "array([0., 0., 0., 0., 0.])"
      ]
     },
     "execution_count": 150,
     "metadata": {},
     "output_type": "execute_result"
    }
   ],
   "source": [
    "np.zeros(5)"
   ]
  },
  {
   "cell_type": "code",
   "execution_count": 148,
   "metadata": {},
   "outputs": [
    {
     "data": {
      "text/plain": [
       "<matplotlib.legend.Legend at 0x6ffe18f3fa50>"
      ]
     },
     "execution_count": 148,
     "metadata": {},
     "output_type": "execute_result"
    },
    {
     "data": {
      "image/png": "[encoded data removed]",
      "text/plain": [
       "<Figure size 1440x720 with 1 Axes>"
      ]
     },
     "metadata": {
      "needs_background": "light"
     },
     "output_type": "display_data"
    }
   ],
   "source": [
    "from itertools import cycle\n",
    "plt.figure(figsize=(20,10))\n",
    "lines = [\"-\",\":\",\"--\",\"-.\"]\n",
    "linecycler = cycle(lines)\n",
    "plt.title('TND at bias of 10000')\n",
    "for codesize_index,code in enumerate(codes):\n",
    "    plt.plot(error_probabilities, pL_list[codesize_index])\n",
    "plt.xlabel('p')\n",
    "plt.ylabel('$p_L$')\n",
    "plt.legend([5,7,9]) "
   ]
  },
  {
   "cell_type": "code",
   "execution_count": 113,
   "metadata": {},
   "outputs": [
    {
     "data": {
      "text/plain": [
       "0.37894736842105264"
      ]
     },
     "execution_count": 113,
     "metadata": {},
     "output_type": "execute_result"
    }
   ],
   "source": [
    "error_probabilities[12]"
   ]
  },
  {
   "cell_type": "code",
   "execution_count": 48,
   "metadata": {},
   "outputs": [
    {
     "name": "stdout",
     "output_type": "stream",
     "text": [
      "0 PlanarCode(3, 3)\n",
      "1 PlanarCode(5, 5)\n",
      "2 PlanarCode(7, 7)\n"
     ]
    }
   ],
   "source": [
    "for code_index,code in enumerate(codes):\n",
    "    print(code_index,code)"
   ]
  },
  {
   "cell_type": "code",
   "execution_count": 142,
   "metadata": {},
   "outputs": [
    {
     "name": "stdout",
     "output_type": "stream",
     "text": [
      "[[0. 0. 0. 0. 0. 0. 0. 0. 0. 0. 0. 0. 0. 0. 0. 0. 0. 0. 0. 0.]\n",
      " [0. 0. 0. 0. 0. 0. 0. 0. 0. 0. 0. 0. 0. 0. 0. 0. 0. 0. 0. 0.]\n",
      " [0. 0. 0. 0. 0. 0. 0. 0. 0. 0. 0. 0. 0. 0. 0. 0. 0. 0. 0. 0.]]\n"
     ]
    }
   ],
   "source": [
    "print(pL_list)"
   ]
  },
  {
   "cell_type": "markdown",
   "metadata": {},
   "source": [
    "### Prepare data for plotting\n"
   ]
  },
  {
   "cell_type": "code",
   "execution_count": 3,
   "metadata": {},
   "outputs": [
    {
     "name": "stdout",
     "output_type": "stream",
     "text": [
      "Planar 3x3: [(0.0, 0.0), (0.020376923076923077, 0.0085), (0.04244615384615385, 0.0339), (0.06314615384615385, 0.0713), (0.08421538461538462, 0.1125), (0.10518461538461538, 0.1627), (0.12524615384615387, 0.2042), (0.1468, 0.254), (0.17186923076923077, 0.2956), (0.1902, 0.3364), (0.21196923076923077, 0.3696), (0.23303076923076924, 0.3952), (0.2512615384615385, 0.4136), (0.2741769230769231, 0.4347), (0.2947923076923077, 0.4546), (0.31774615384615384, 0.4721), (0.3381076923076923, 0.4793), (0.35857692307692307, 0.4901), (0.3784692307692308, 0.4911), (0.4005230769230769, 0.4927)]\n",
      "Planar 5x5: [(0.0, 0.0), (0.021153658536585365, 0.0027), (0.04207073170731707, 0.0142), (0.06267317073170732, 0.0523), (0.08428536585365853, 0.0965), (0.10525365853658536, 0.163), (0.12549024390243904, 0.2215), (0.14862926829268291, 0.2955), (0.1693560975609756, 0.3417), (0.18898536585365852, 0.389), (0.2097243902439024, 0.426), (0.23202195121951216, 0.459), (0.2523170731707317, 0.4671), (0.2725073170731707, 0.4724), (0.2952780487804878, 0.4851), (0.31633170731707316, 0.4983), (0.3362390243902439, 0.5026), (0.3576731707317073, 0.506), (0.3787609756097561, 0.5027), (0.3996, 0.5078)]\n",
      "Planar 7x7: [(0.0, 0.0), (0.020943529411764705, 0.0003), (0.041849411764705885, 0.0061), (0.06304, 0.0312), (0.08437176470588235, 0.0899), (0.10522470588235294, 0.1595), (0.12592823529411765, 0.2386), (0.14631882352941178, 0.3085), (0.16866235294117646, 0.3857), (0.1902129411764706, 0.4415), (0.21099058823529412, 0.4643), (0.23165882352941175, 0.4785), (0.2520835294117647, 0.4965), (0.2742423529411765, 0.4891), (0.2945717647058823, 0.4982), (0.31610941176470586, 0.4936), (0.3369682352941176, 0.4979), (0.35838705882352945, 0.4974), (0.3780823529411765, 0.5022), (0.4012858823529412, 0.502)]\n",
      "Planar 9x9: [(0.0, 0.0), (0.02117241379310345, 0.0001), (0.04204068965517241, 0.0034), (0.06298344827586207, 0.0221), (0.08383448275862068, 0.0739), (0.10494068965517242, 0.1538), (0.12643517241379312, 0.2645), (0.14736689655172414, 0.3509), (0.16846620689655173, 0.4282), (0.1898193103448276, 0.4638), (0.21077172413793105, 0.4846), (0.23222413793103447, 0.5052), (0.25206206896551725, 0.4946), (0.27421103448275863, 0.5001), (0.29489931034482764, 0.4937), (0.31612758620689657, 0.5062), (0.3366724137931034, 0.4913), (0.35776206896551727, 0.4988), (0.3794165517241379, 0.4968), (0.4000496551724138, 0.5046)]\n"
     ]
    }
   ],
   "source": [
    "# prepare code to x,y map and print\n",
    "code_to_xys = {}\n",
    "for run in data:\n",
    "    xys = code_to_xys.setdefault(run['code'], [])\n",
    "    xys.append((error_probabilities,pL_list))\n",
    "print('\\n'.join('{}: {}'.format(k, v) for k, v in code_to_xys.items()))"
   ]
  },
  {
   "cell_type": "markdown",
   "metadata": {},
   "source": [
    "### Plot logical failure rate against physical error rate"
   ]
  },
  {
   "cell_type": "code",
   "execution_count": 4,
   "metadata": {},
   "outputs": [
    {
     "data": {
      "image/png": "[encoded data removed]",
      "text/plain": [
       "<Figure size 864x648 with 1 Axes>"
      ]
     },
     "metadata": {
      "needs_background": "light"
     },
     "output_type": "display_data"
    }
   ],
   "source": [
    "# format plot\n",
    "fig = plt.figure(1, figsize=(12, 9))\n",
    "plt.title('Planar code simulation\\n({} error model, {} decoder)'.format(error_model.label, decoder.label))\n",
    "plt.xlabel('Physical error rate')\n",
    "plt.ylabel('Logical failure rate')\n",
    "plt.xlim(error_probability_min-0.05, error_probability_max+0.05)\n",
    "plt.ylim(-0.05, 0.65)\n",
    "# add data\n",
    "for code, xys in code_to_xys.items():\n",
    "    plt.plot(*zip(*xys), 'x-', label='{} code'.format(code))\n",
    "plt.legend(loc='lower right')\n",
    "plt.show()"
   ]
  },
  {
   "cell_type": "markdown",
   "metadata": {},
   "source": [
    "Fig. 1. Logical failure rate as a function of physical error rate for planar stabilizer codes.\n",
    "\n",
    "Definitions:\n",
    "\n",
    "* A physical error occurs when the generated error acts non-trivially on a physical qubit.  \n",
    "  $(\\text{physical error rate}) = mean(\\text{error weight}) / (\\text{number of physical qubits})$.\n",
    "\n",
    "* A logical failure occurs when the combined action of the generated error and recovery operation acts non-trivially on the codespace, irrespective of the number of logical qubits encoded.  \n",
    "  $(\\text{logical failure rate}) = (\\text{number of logical failures}) / (\\text{number of runs})$."
   ]
  }
 ],
 "metadata": {
  "anaconda-cloud": {},
  "kernelspec": {
   "display_name": "Python 3",
   "language": "python",
   "name": "python3"
  },
  "language_info": {
   "codemirror_mode": {
    "name": "ipython",
    "version": 3
   },
   "file_extension": ".py",
   "mimetype": "text/x-python",
   "name": "python",
   "nbconvert_exporter": "python",
   "pygments_lexer": "ipython3",
   "version": "3.7.7"
  }
 },
 "nbformat": 4,
 "nbformat_minor": 1
}
