{
 "cells": [
  {
   "cell_type": "markdown",
   "metadata": {
    "collapsed": true
   },
   "source": [
    "# qecsim demos"
   ]
  },
  {
   "cell_type": "markdown",
   "metadata": {},
   "source": [
    "## Simulating error correction with a toric stabilizer code\n",
    "This demo shows verbosely how to simulate one error correction run. \n",
    "\n",
    "| For normal use, the code in this demo is encapsulated in the function:\n",
    "| `qecsim.app.run_once(code, error_model, decoder, error_probability)`,\n",
    "| and the simulation of many error correction runs is encapsulated in the function:\n",
    "| `qecsim.app.run(code, error_model, decoder, error_probability, max_runs, max_failures)`.\n",
    "\n",
    "Notes:\n",
    "\n",
    "* Operators can be visualised in binary symplectic form (bsf) or Pauli form, e.g. `[1 1 0|0 1 0] = XYI`.\n",
    "* The binary symplectic product is denoted by $\\odot$ and defined as $A \\odot B \\equiv A \\Lambda B \\bmod 2$ where $\\Lambda = \\left[\\begin{matrix} 0 & I \\\\ I & 0 \\end{matrix}\\right]$.\n",
    "* Binary addition is denoted by $\\oplus$ and defined as addition modulo 2, or equivalently exclusive-or."
   ]
  },
  {
   "cell_type": "markdown",
   "metadata": {},
   "source": [
    "### Initialise the models"
   ]
  },
  {
   "cell_type": "code",
   "execution_count": 18,
   "metadata": {},
   "outputs": [
    {
     "name": "stdout",
     "output_type": "stream",
     "text": [
      "ToricCode(3, 4)\n",
      "DepolarizingErrorModel()\n",
      "ToricMWPMDecoder()\n"
     ]
    }
   ],
   "source": [
    "%run qsu.ipynb  # color-printing functions\n",
    "import numpy as np\n",
    "from qecsim import paulitools as pt\n",
    "from qecsim.models.generic import DepolarizingErrorModel\n",
    "from qecsim.models.toric import ToricCode, ToricMWPMDecoder\n",
    "\n",
    "# initialise models\n",
    "my_code = ToricCode(3, 4)\n",
    "my_error_model = DepolarizingErrorModel()\n",
    "my_decoder = ToricMWPMDecoder()\n",
    "# print models\n",
    "print(my_code)\n",
    "print(my_error_model)\n",
    "print(my_decoder)"
   ]
  },
  {
   "cell_type": "markdown",
   "metadata": {},
   "source": [
    "### Generate a random error"
   ]
  },
  {
   "cell_type": "code",
   "execution_count": 19,
   "metadata": {},
   "outputs": [
    {
     "data": {
      "text/html": [
       "<div class=\"highlight\"><pre style=\"line-height:1!important;\">error:\n",
       "┼─·─┼─·─┼─·─┼─·\n",
       "·   ·   ·   ·  \n",
       "┼─·─┼─·─┼─·─┼─<span style=\"color:magenta; font-weight:bold\">Y</span>\n",
       "·   ·   ·   ·  \n",
       "┼─·─┼─·─┼─·─┼─·\n",
       "·   ·   ·   ·  </pre></div>"
      ],
      "text/plain": [
       "<IPython.core.display.HTML object>"
      ]
     },
     "metadata": {},
     "output_type": "display_data"
    }
   ],
   "source": [
    "# set physical error probability to 10%\n",
    "error_probability = 0.05\n",
    "# seed random number generator for repeatability\n",
    "rng = np.random.default_rng(59)\n",
    "\n",
    "# error: random error based on error probability\n",
    "error = my_error_model.generate(my_code, error_probability, rng)\n",
    "qsu.print_pauli('error:\\n{}'.format(my_code.new_pauli(error)))"
   ]
  },
  {
   "cell_type": "code",
   "execution_count": 16,
   "metadata": {},
   "outputs": [
    {
     "data": {
      "text/plain": [
       "(2, 3, 4)"
      ]
     },
     "execution_count": 16,
     "metadata": {},
     "output_type": "execute_result"
    }
   ],
   "source": [
    "hadamard_mat=np.zeros((2,3,4))\n",
    "hadamard_mat.shape"
   ]
  },
  {
   "cell_type": "code",
   "execution_count": 20,
   "metadata": {},
   "outputs": [
    {
     "name": "stdout",
     "output_type": "stream",
     "text": [
      "0 0 0 0\n",
      "0 0 1 1\n",
      "0 0 2 2\n",
      "0 0 3 3\n",
      "0 1 0 4\n",
      "0 1 1 5\n",
      "0 1 2 6\n",
      "0 1 3 7\n",
      "0 2 0 8\n",
      "0 2 1 9\n",
      "0 2 2 10\n",
      "0 2 3 11\n",
      "1 0 0 12\n",
      "1 0 1 13\n",
      "1 0 2 14\n",
      "1 0 3 15\n",
      "1 1 0 16\n",
      "1 1 1 17\n",
      "1 1 2 18\n",
      "1 1 3 19\n",
      "1 2 0 20\n",
      "1 2 1 21\n",
      "1 2 2 22\n",
      "1 2 3 23\n"
     ]
    }
   ],
   "source": [
    "for i,j,k in np.ndindex(hadamard_mat.shape):\n",
    "    print(i,j,k,i*12+j*4+k)"
   ]
  },
  {
   "cell_type": "code",
   "execution_count": 24,
   "metadata": {},
   "outputs": [
    {
     "name": "stdout",
     "output_type": "stream",
     "text": [
      "0 0 0 1.0\n",
      "0 0 1 1.0\n",
      "0 0 2 1.0\n",
      "0 0 3 1.0\n",
      "0 1 0 1.0\n",
      "0 1 1 1.0\n",
      "0 1 2 1.0\n",
      "0 1 3 1.0\n",
      "0 2 0 1.0\n",
      "0 2 1 1.0\n",
      "0 2 2 1.0\n",
      "0 2 3 1.0\n",
      "1 0 0 0.0\n",
      "1 0 1 0.0\n",
      "1 0 2 0.0\n",
      "1 0 3 0.0\n",
      "1 1 0 0.0\n",
      "1 1 1 0.0\n",
      "1 1 2 0.0\n",
      "1 1 3 0.0\n",
      "1 2 0 0.0\n",
      "1 2 1 0.0\n",
      "1 2 2 0.0\n",
      "1 2 3 0.0\n"
     ]
    }
   ],
   "source": [
    "_,nrows,ncols=hadamard_mat.shape\n",
    "hadamard_vec=np.zeros(2*np.prod((nrows,ncols)))\n",
    "for i,j,k in np.ndindex(hadamard_mat.shape):\n",
    "    hadamard_mat[0,j,k]=1\n",
    "\n",
    "for i,j,k in np.ndindex(hadamard_mat.shape):\n",
    "    hadamard_vec[i*nrows*ncols+j*ncols+k]=hadamard_mat[i,j,k]\n",
    "    print(i,j,k,hadamard_mat[i,j,k])\n",
    "    \n"
   ]
  },
  {
   "cell_type": "markdown",
   "metadata": {},
   "source": [
    "### Evaluate the syndrome\n",
    "The syndrome is a binary array indicating the stabilizers with which the error does not commute. It is calculated as $syndrome = error \\odot stabilisers^T$."
   ]
  },
  {
   "cell_type": "code",
   "execution_count": 3,
   "metadata": {},
   "outputs": [
    {
     "data": {
      "text/html": [
       "<div class=\"highlight\"><pre style=\"line-height:1!important;\">syndrome:\n",
       "┼───┼───┼───<span style=\"color:red; font-weight:bold\">X</span>───<span style=\"color:red; font-weight:bold\">X</span>──\n",
       "│   │   │ <span style=\"color:blue; font-weight:bold\">Z</span> │   │  \n",
       "<span style=\"color:red; font-weight:bold\">X</span>───<span style=\"color:red; font-weight:bold\">X</span>───<span style=\"color:red; font-weight:bold\">X</span>───┼───<span style=\"color:red; font-weight:bold\">X</span>──\n",
       "│   │   │   │   │ <span style=\"color:blue; font-weight:bold\">Z</span>\n",
       "┼───<span style=\"color:red; font-weight:bold\">X</span>───┼───┼───<span style=\"color:red; font-weight:bold\">X</span>──\n",
       "│   │ <span style=\"color:blue; font-weight:bold\">Z</span> │ <span style=\"color:blue; font-weight:bold\">Z</span> │   │  \n",
       "┼───┼───┼───┼───┼──\n",
       "│   │   │   │   │  \n",
       "┼───┼───┼───┼───┼──\n",
       "│   │   │   │   │  </pre></div>"
      ],
      "text/plain": [
       "<IPython.core.display.HTML object>"
      ]
     },
     "metadata": {},
     "output_type": "display_data"
    }
   ],
   "source": [
    "# syndrome: stabilizers that do not commute with the error\n",
    "syndrome = pt.bsp(error, my_code.stabilizers.T)\n",
    "qsu.print_pauli('syndrome:\\n{}'.format(my_code.ascii_art(syndrome)))"
   ]
  },
  {
   "cell_type": "markdown",
   "metadata": {},
   "source": [
    "### Find a recovery operation\n",
    "In this case, the recovery operation is found by a minimum weight perfect matching decoder that finds the recovery operation as follows:\n",
    "\n",
    "* The syndrome is resolved to plaquettes using: `ToricCode.syndrome_to_plaquette_indices`.\n",
    "* A graph between plaquettes is built with weights given by: `ToricMWPMDecoder.distance`.\n",
    "* A MWPM algorithm is used to match plaquettes into pairs.\n",
    "* A recovery operator is constructed by applying the shortest path between matching plaquette pairs using:\n",
    "  `ToricPauli.path`."
   ]
  },
  {
   "cell_type": "code",
   "execution_count": 4,
   "metadata": {},
   "outputs": [
    {
     "data": {
      "text/html": [
       "<div class=\"highlight\"><pre style=\"line-height:1!important;\">recovery:\n",
       "┼─·─┼─·─┼─·─┼─<span style=\"color:blue; font-weight:bold\">Z</span>─┼─·\n",
       "·   ·   ·   ·   ·  \n",
       "┼─·─┼─<span style=\"color:blue; font-weight:bold\">Z</span>─┼─<span style=\"color:red; font-weight:bold\">X</span>─┼─·─┼─·\n",
       "<span style=\"color:blue; font-weight:bold\">Z</span>   ·   ·   <span style=\"color:red; font-weight:bold\">X</span>   <span style=\"color:magenta; font-weight:bold\">Y</span>  \n",
       "┼─<span style=\"color:blue; font-weight:bold\">Z</span>─┼─·─┼─·─┼─·─┼─·\n",
       "·   ·   <span style=\"color:red; font-weight:bold\">X</span>   ·   ·  \n",
       "┼─·─┼─·─┼─·─┼─·─┼─·\n",
       "·   ·   ·   ·   ·  \n",
       "┼─·─┼─·─┼─·─┼─·─┼─·\n",
       "·   ·   ·   ·   ·  </pre></div>"
      ],
      "text/plain": [
       "<IPython.core.display.HTML object>"
      ]
     },
     "metadata": {},
     "output_type": "display_data"
    }
   ],
   "source": [
    "# recovery: best match recovery operation based on decoder\n",
    "recovery = my_decoder.decode(my_code, syndrome)\n",
    "qsu.print_pauli('recovery:\\n{}'.format(my_code.new_pauli(recovery)))"
   ]
  },
  {
   "cell_type": "markdown",
   "metadata": {},
   "source": [
    "As a sanity check, we expect $recovery \\oplus error$ to commute with all stabilizers, i.e. $(recovery \\oplus error) \\odot stabilisers^T = 0$."
   ]
  },
  {
   "cell_type": "code",
   "execution_count": 5,
   "metadata": {},
   "outputs": [
    {
     "name": "stdout",
     "output_type": "stream",
     "text": [
      "[0 0 0 0 0 0 0 0 0 0 0 0 0 0 0 0 0 0 0 0 0 0 0 0 0 0 0 0 0 0 0 0 0 0 0 0 0\n",
      " 0 0 0 0 0 0 0 0 0 0 0 0 0]\n"
     ]
    }
   ],
   "source": [
    "# check recovery ^ error commutes with stabilizers (by construction)\n",
    "print(pt.bsp(recovery ^ error, my_code.stabilizers.T))"
   ]
  },
  {
   "cell_type": "markdown",
   "metadata": {},
   "source": [
    "### Visualise $recovery \\oplus error$\n",
    "Just out of curiosity, we can see what $recovery \\oplus error$ looks like. If successful, it should be a product of stabilizer plaquette / vertex operators."
   ]
  },
  {
   "cell_type": "code",
   "execution_count": 6,
   "metadata": {},
   "outputs": [
    {
     "data": {
      "text/html": [
       "<div class=\"highlight\"><pre style=\"line-height:1!important;\">recovery ^ error:\n",
       "┼─·─┼─·─┼─·─┼─<span style=\"color:blue; font-weight:bold\">Z</span>─┼─·\n",
       "·   ·   ·   <span style=\"color:magenta; font-weight:bold\">Y</span>   <span style=\"color:magenta; font-weight:bold\">Y</span>  \n",
       "┼─·─┼─<span style=\"color:blue; font-weight:bold\">Z</span>─┼─<span style=\"color:magenta; font-weight:bold\">Y</span>─┼─·─┼─<span style=\"color:magenta; font-weight:bold\">Y</span>\n",
       "<span style=\"color:blue; font-weight:bold\">Z</span>   <span style=\"color:blue; font-weight:bold\">Z</span>   ·   <span style=\"color:red; font-weight:bold\">X</span>   <span style=\"color:red; font-weight:bold\">X</span>  \n",
       "┼─<span style=\"color:blue; font-weight:bold\">Z</span>─┼─·─┼─·─┼─·─┼─·\n",
       "·   ·   ·   ·   ·  \n",
       "┼─·─┼─·─┼─·─┼─·─┼─·\n",
       "·   ·   ·   ·   ·  \n",
       "┼─·─┼─·─┼─·─┼─·─┼─·\n",
       "·   ·   ·   ·   ·  </pre></div>"
      ],
      "text/plain": [
       "<IPython.core.display.HTML object>"
      ]
     },
     "metadata": {},
     "output_type": "display_data"
    }
   ],
   "source": [
    "# print recovery ^ error (out of curiosity)\n",
    "qsu.print_pauli('recovery ^ error:\\n{}'.format(my_code.new_pauli(recovery ^ error)))"
   ]
  },
  {
   "cell_type": "markdown",
   "metadata": {},
   "source": [
    "### Test if the recovery operation is successful\n",
    "The recovery operation is successful iff $recovery \\oplus error$ commutes with all logical operators, i.e. $(recovery \\oplus error) \\odot logicals^T = 0.$"
   ]
  },
  {
   "cell_type": "code",
   "execution_count": 7,
   "metadata": {},
   "outputs": [
    {
     "name": "stdout",
     "output_type": "stream",
     "text": [
      "[1 0 0 0]\n"
     ]
    }
   ],
   "source": [
    "# success iff recovery ^ error commutes with logicals\n",
    "print(pt.bsp(recovery ^ error, my_code.logicals.T))"
   ]
  },
  {
   "cell_type": "markdown",
   "metadata": {},
   "source": [
    "Note: The decoder is not guaranteed to find a successful recovery operation. The toric 5 x 5 code has distance $d = 5$ so we can only guarantee to correct errors up to weight $(d - 1)/2=2$."
   ]
  },
  {
   "cell_type": "markdown",
   "metadata": {
    "collapsed": true
   },
   "source": [
    "### Equivalent code in single call\n",
    "The above demo is equivalent to the following code."
   ]
  },
  {
   "cell_type": "code",
   "execution_count": 8,
   "metadata": {},
   "outputs": [
    {
     "name": "stdout",
     "output_type": "stream",
     "text": [
      "{'error_weight': 4, 'success': True}\n"
     ]
    }
   ],
   "source": [
    "# repeat demo in single call\n",
    "from qecsim import app\n",
    "print(app.run_once(my_code, my_error_model, my_decoder, error_probability))"
   ]
  },
  {
   "cell_type": "code",
   "execution_count": 171,
   "metadata": {},
   "outputs": [
    {
     "data": {
      "text/plain": [
       "array([[ 0,  4,  8, 12],\n",
       "       [ 1,  5,  9, 13],\n",
       "       [ 2,  6, 10, 14],\n",
       "       [ 3,  7, 11, 15]])"
      ]
     },
     "execution_count": 171,
     "metadata": {},
     "output_type": "execute_result"
    }
   ],
   "source": [
    "def dic(Nx, Ny):\n",
    "    v = np.zeros((Nx, Ny),dtype=int)\n",
    "    for i in range(0,Nx):\n",
    "        for j in range(0,Ny):\n",
    "            v[i,j] = int(i+j*Nx)\n",
    "    return v\n",
    "\n",
    "dic(4,4)"
   ]
  },
  {
   "cell_type": "code",
   "execution_count": 285,
   "metadata": {},
   "outputs": [
    {
     "name": "stdout",
     "output_type": "stream",
     "text": [
      "[[ 0  0  0  0  0]\n",
      " [17  0  1  2 18]\n",
      " [17  3  4  5 18]\n",
      " [17  6  7  8 18]\n",
      " [ 0  0  0  0  0]]\n"
     ]
    },
    {
     "data": {
      "text/plain": [
       "array([[-8, -7, -6, -5,  0],\n",
       "       [19, 19, 19, 19,  0],\n",
       "       [ 0,  1,  2,  3,  0],\n",
       "       [ 4,  5,  6,  7,  0],\n",
       "       [20, 20, 20, 20,  0]])"
      ]
     },
     "execution_count": 285,
     "metadata": {},
     "output_type": "execute_result"
    }
   ],
   "source": [
    "def dicX(Nx, Ny,virX1,virX2):\n",
    "    v = np.zeros((Nx+2, Ny+2),dtype=int)\n",
    "    for i in range(0,Nx+1):\n",
    "        for j in range(0,Ny+2):\n",
    "            if j==1:\n",
    "                v[i,j]= virX1\n",
    "            elif j==Ny+1:\n",
    "                v[i,j]= virX2\n",
    "            else:\n",
    "                v[i,j] = round(i+(j-2)*(Nx+1))\n",
    "    return v\n",
    "\n",
    "def dicZ(Nx, Ny,virZ1,virZ2):\n",
    "    v = np.zeros((Nx+2, Ny+2),dtype=int)\n",
    "    for i in range(0,Nx+2):\n",
    "        for j in range(1,Ny+1):\n",
    "            if i==0:\n",
    "                v[i,j] = virZ1\n",
    "            elif i==Nx+1:\n",
    "                v[i,j] = virZ2\n",
    "            else:\n",
    "                v[i,j] = round(i-1+(j-1)*Nx)\n",
    "    return v\n",
    "\n",
    "\n",
    "Nx=3\n",
    "Ny=3\n",
    "virZ1= Nx*Ny+(Nx+1)*(Ny-1)\n",
    "virZ2= Nx*Ny+(Nx+1)*(Ny-1)+1\n",
    "virX1= Nx*Ny+(Nx+1)*(Ny-1)+2\n",
    "virX2= Nx*Ny+(Nx+1)*(Ny-1)+3\n",
    "\n",
    "print(dicZ(Nx, Ny,virZ1,virZ2).T)\n",
    "dicX(Nx, Ny,virX1,virX2).T"
   ]
  },
  {
   "cell_type": "code",
   "execution_count": 311,
   "metadata": {},
   "outputs": [
    {
     "data": {
      "text/plain": [
       "array([[19, -1,  3, 20, 11],\n",
       "       [19,  0,  4, 20, 12],\n",
       "       [19,  1,  5, 20, 13],\n",
       "       [19,  2,  6, 20, 14],\n",
       "       [ 0,  0,  0,  0,  0]])"
      ]
     },
     "execution_count": 311,
     "metadata": {},
     "output_type": "execute_result"
    }
   ],
   "source": [
    "vX"
   ]
  },
  {
   "cell_type": "code",
   "execution_count": 334,
   "metadata": {},
   "outputs": [
    {
     "name": "stdout",
     "output_type": "stream",
     "text": [
      "1 1 0 1 19 1\n",
      "1 1 0 3 19 0\n",
      "1 2 3 4 1 5\n",
      "1 2 3 6 0 4\n",
      "1 3 6 7 5 20\n",
      "1 3 6 0 4 20\n",
      "2 1 1 2 19 2\n",
      "2 1 1 4 19 1\n",
      "2 2 4 5 2 6\n",
      "2 2 4 7 1 5\n",
      "2 3 7 8 6 20\n",
      "2 3 7 0 5 20\n",
      "3 1 2 18 19 3\n",
      "3 1 2 5 19 2\n",
      "3 2 5 18 3 7\n",
      "3 2 5 8 2 6\n",
      "3 3 8 18 7 20\n",
      "3 3 8 0 6 20\n"
     ]
    }
   ],
   "source": [
    "def dicX(Nx, Ny,virX1,virX2):\n",
    "    v = np.zeros((Nx+2, Ny+2),dtype=int)\n",
    "    for i in range(0,Nx+2):\n",
    "        for j in range(0,Ny+2):\n",
    "            if j==0:\n",
    "                v[i,j]= virX1\n",
    "            elif j==Ny:\n",
    "                v[i,j]= virX2\n",
    "            else:\n",
    "                v[i,j] = round(i-1+(j-1)*(Nx+1))\n",
    "    return v\n",
    "\n",
    "def dicZ(Nx, Ny,virZ1,virZ2):\n",
    "    v = np.zeros((Nx+2, Ny+2),dtype=int)\n",
    "    for i in range(0,Nx+2):\n",
    "        for j in range(1,Ny+1):\n",
    "            if i==0:\n",
    "                v[i,j] = virZ1\n",
    "            elif i==Nx+1:\n",
    "                v[i,j] = virZ2\n",
    "            else:\n",
    "                v[i,j] = round(i-1+(j-1)*Nx)\n",
    "    return v\n",
    "\n",
    "\n",
    "import networkx as nx\n",
    "\n",
    "\n",
    "pX=0.2\n",
    "pZ=0.2\n",
    "pY=0.1\n",
    "\n",
    "Nx=3\n",
    "Ny=3\n",
    "virZ1= Nx*Ny+(Nx+1)*(Ny-1)\n",
    "virZ2= Nx*Ny+(Nx+1)*(Ny-1)+1\n",
    "virX1= Nx*Ny+(Nx+1)*(Ny-1)+2\n",
    "virX2= Nx*Ny+(Nx+1)*(Ny-1)+3\n",
    "\n",
    "vZ=dicZ(Nx, Ny,virZ1,virZ2)\n",
    "vX=dicX(Nx, Ny,virX1,virX2)\n",
    "Nx_X=Nx+1\n",
    "Ny_X=Ny-1\n",
    "\n",
    "#error probabilities\n",
    "pI = 1-pX-pY-pZ\n",
    "\n",
    "#weights\n",
    "wZ = abs(np.log(pZ / pI))\n",
    "wX = abs(np.log(pX / pI))\n",
    "\n",
    "Graph_Zerr= nx.Graph()\n",
    "Graph_Xerr= nx.Graph()\n",
    "\n",
    "X_logical1_Graph_Zerr=np.array([], dtype=int)\n",
    "Z_logical1_Graph_Xerr=np.array([], dtype=int)\n",
    "\n",
    "\n",
    "X_syndrome_num=Nx*Ny+2  #total number of X syndromes including the virtual ones \n",
    "Z_syndrome_num=(Nx+1)*(Ny-1)+2  #total number of Z syndromes including the virtual ones \n",
    "total_syndrome_num=X_syndrome_num+Z_syndrome_num\n",
    "\n",
    "#construct the Z lattice\n",
    "id=0\n",
    "for i in range(1,Nx+1):\n",
    "    for j in range(1,Ny+1):\n",
    "        if j==Ny:\n",
    "            Graph_Zerr.add_edge(vZ[i,j],vZ[i+1,j],qubit_id=id, weight=wZ, error_probability=pZ)  \n",
    "            Graph_Xerr.add_edge(vX[i+1,j-1], vX[i+1,j], qubit_id=id, weight=wX, error_probability=pX) \n",
    "            id+=1\n",
    "        else:\n",
    "            Graph_Zerr.add_edge(vZ[i,j],vZ[i+1,j],qubit_id=id, weight=wZ, error_probability=pZ)  \n",
    "            Graph_Xerr.add_edge(vX[i+1,j-1], vX[i+1,j], qubit_id=id, weight=wX, error_probability=pX) \n",
    "            id+=1\n",
    "            Graph_Zerr.add_edge(vZ[i,j],vZ[i,j+1],qubit_id=id, weight=wZ, error_probability=pZ) \n",
    "            Graph_Xerr.add_edge(vX[i,j],vX[i+1,j],qubit_id=id, weight=wX, error_probability=pX)\n",
    "            id+=1\n",
    "        if i==1:\n",
    "            Graph_Zerr.add_edge(vZ[i-1,j],vZ[i,j],qubit_id=id, weight=wZ, error_probability=pZ)  \n",
    "            Graph_Xerr.add_edge(vX[i,j-1], vX[i,j], qubit_id=id, weight=wX, error_probability=pX) \n",
    "        print(i,j,vZ[i,j],vZ[i+1,j],vX[i+1,j-1], vX[i+1,j])\n",
    "        print(i,j,vZ[i,j],vZ[i,j+1],vX[i,j-1], vX[i,j])\n",
    "\n",
    "\n",
    "        \n",
    "Z_logical_qubit_num = Nx+1     #number of qubits of the lowest y-line for Z logical\n",
    "X_logical_qubit_num = Ny       #number of qubits of the leftmost x-line for X logical\n",
    "\n"
   ]
  },
  {
   "cell_type": "code",
   "execution_count": 313,
   "metadata": {},
   "outputs": [
    {
     "data": {
      "text/plain": [
       "EdgeView([(0, 1), (0, 3), (0, 17), (1, 2), (1, 4), (3, 4), (3, 6), (3, 17), (17, 6), (17, 18), (4, 5), (4, 7), (6, 7), (7, 8), (2, 18), (2, 5), (5, 18), (5, 8), (8, 18)])"
      ]
     },
     "execution_count": 313,
     "metadata": {},
     "output_type": "execute_result"
    }
   ],
   "source": [
    "Graph_Zerr.edges"
   ]
  },
  {
   "cell_type": "code",
   "execution_count": 316,
   "metadata": {},
   "outputs": [
    {
     "data": {
      "text/plain": [
       "EdgeView([(19, 1), (19, 0), (19, 2), (19, 3), (19, 20), (1, 0), (1, 5), (1, 2), (0, 4), (5, 4), (5, 20), (5, 6), (4, 20), (20, 6), (20, 7), (2, 6), (2, 3), (6, 7), (3, 7)])"
      ]
     },
     "execution_count": 316,
     "metadata": {},
     "output_type": "execute_result"
    }
   ],
   "source": [
    "Graph_Xerr.edges"
   ]
  },
  {
   "cell_type": "code",
   "execution_count": 240,
   "metadata": {},
   "outputs": [],
   "source": [
    "def dicX(Nx, Ny):\n",
    "    v = np.zeros((Nx, Ny),dtype=int)\n",
    "    for i in range(0,Nx):\n",
    "        for j in range(0,Ny+2):\n",
    "            if j==0:\n",
    "                v[i,j]= virX1\n",
    "            elif j==Ny+1\n",
    "                v[i,j]= virX2\n",
    "            else:\n",
    "                v[i,j] = round(i+j*Nx)\n",
    "    return v\n",
    "\n",
    "def dicZ(Nx, Ny,virZ1,virZ2):\n",
    "    v = np.zeros((Nx, Ny),dtype=int)\n",
    "    for i in range(0,Nx+2):\n",
    "        for j in range(0,Ny):\n",
    "            if i==0:\n",
    "                v[i,j] = virZ1\n",
    "            elif i==Nx+2:\n",
    "                v[i,j] = virZ2\n",
    "            else:\n",
    "                v[i,j] = round(i+j*Nx)\n",
    "    return v\n",
    "\n",
    "\n",
    "\n",
    "import networkx as nx\n",
    "\n",
    "\n",
    "pX=0.2\n",
    "pZ=0.2\n",
    "pY=0.1\n",
    "\n",
    "Nx=3\n",
    "Ny=3\n",
    "\n",
    "vZ=dic(Nx, Ny)\n",
    "Nx_X=Nx+1\n",
    "Ny_X=Ny-1\n",
    "vX=dic(Nx_X, Ny_X)\n",
    "\n",
    "#error probabilities\n",
    "pI = 1-pX-pY-pZ\n",
    "\n",
    "#weights\n",
    "wZ = abs(np.log(pZ / pI))\n",
    "wX = abs(np.log(pX / pI))\n",
    "\n",
    "Graph_Zerr= nx.Graph()\n",
    "Graph_Xerr= nx.Graph()\n",
    "\n",
    "X_logical1_Graph_Zerr=np.array([], dtype=int)\n",
    "Z_logical1_Graph_Xerr=np.array([], dtype=int)\n",
    "\n",
    "virZ1= Nx*Ny+(Nx+1)*(Ny-1)\n",
    "virZ2= Nx*Ny+(Nx+1)*(Ny-1)+1\n",
    "virX1= Nx*Ny+(Nx+1)*(Ny-1)+2\n",
    "virX2= Nx*Ny+(Nx+1)*(Ny-1)+3\n",
    "\n",
    "X_syndrome_num=Nx*Ny+2  #total number of X syndromes including the virtual ones \n",
    "Z_syndrome_num=(Nx+1)*(Ny-1)+2  #total number of Z syndromes including the virtual ones \n",
    "total_syndrome_num=X_syndrome_num+Z_syndrome_num\n",
    "\n",
    "#construct the Z lattice\n",
    "id=0\n",
    "for i in range(Nx):\n",
    "    for j in range(Ny):\n",
    "        #bulk\n",
    "        if (i!=0 and i!=Nx-1 and j!=0 and j!=Ny-1):\n",
    "            Graph_Zerr.add_edge(vZ[i,j],vZ[i+1,j],qubit_id=id, weight=wZ, error_probability=pZ)  \n",
    "            Graph_Xerr.add_edge(vX[i+1,j-1], vX[i+1,j], qubit_id=id, weight=wX, error_probability=pX) \n",
    "            id+=1\n",
    "            Graph_Zerr.add_edge(vZ[i,j],vZ[i,j+1],qubit_id=id, weight=wZ, error_probability=pZ) \n",
    "            Graph_Xerr.add_edge(vX[i,j],vX[i+1,j],qubit_id=id, weight=wX, error_probability=pX)\n",
    "            id+=1\n",
    "        \n",
    "        #x=0\n",
    "        if i==0:\n",
    "            Graph_Zerr.add_edge(vZ[i,j],vZ[i+1,j],qubit_id=id, weight=wZ, error_probability=pZ)\n",
    "            if j==0:\n",
    "                Graph_Xerr.add_edge(virX1,vX[i+1,j],qubit_id=id, weight=wX, error_probability=pX) \n",
    "            elif j==Ny-1:\n",
    "                Graph_Xerr.add_edge(vX[i+1,j-1],virX2,qubit_id=id, weight=wX, error_probability=pX) \n",
    "            else:\n",
    "                Graph_Xerr.add_edge(vX[i+1,j-1],vX[i+1,j], qubit_id=id, weight=wX, error_probability=pX) \n",
    "            id+=1\n",
    "            \n",
    "            if j!=Ny-1:\n",
    "                Graph_Zerr.add_edge(vZ[i,j],vZ[i,j+1],qubit_id=id, weight=wZ, error_probability=pZ) \n",
    "                Graph_Xerr.add_edge(vX[i,j],vX[i+1,j],qubit_id=id, weight=wX, error_probability=pX)\n",
    "            id+=1\n",
    "            \n",
    "            Graph_Zerr.add_edge(virZ1,vZ[i,j],qubit_id=id, weight=wZ, error_probability=pZ) \n",
    "            if j==0:\n",
    "                Graph_Xerr.add_edge(virX1,vX[i,j],qubit_id=id, weight=wX, error_probability=pX) \n",
    "            elif j==Ny-1:\n",
    "                Graph_Xerr.add_edge(vX[i,j-1],virX2,qubit_id=id, weight=wX, error_probability=pX) \n",
    "            else:\n",
    "                Graph_Xerr.add_edge(vX[i,j-1],vX[i,j],qubit_id=id, weight=wX, error_probability=pX) \n",
    "            id+=1\n",
    "\n",
    "\n",
    "        #x=Nx-1\n",
    "        if i==Nx-1:\n",
    "            if j!=Ny-1:\n",
    "                Graph_Zerr.add_edge(vZ[i,j],vZ[i,j+1],qubit_id=id, weight=wZ, error_probability=pZ) \n",
    "                Graph_Xerr.add_edge(vX[i,j],vX[i+1,j],qubit_id=id, weight=wX, error_probability=pX)\n",
    "                id+=1\n",
    "            Graph_Zerr.add_edge(vZ[i,j],virZ2,qubit_id=id, weight=wZ, error_probability=pZ) \n",
    "            if j==0:\n",
    "                Graph_Xerr.add_edge(virX1,vX[i+1,j], qubit_id=id, weight=wX, error_probability=pX) \n",
    "            elif j==Ny-1:\n",
    "                Graph_Xerr.add_edge(vX[i+1,j-1],virX2, qubit_id=id, weight=wX, error_probability=pX)             \n",
    "            else:\n",
    "                Graph_Xerr.add_edge(vX[i+1,j-1],vX[i+1,j], qubit_id=id, weight=wX, error_probability=pX)                 \n",
    "            id+=1\n",
    "            \n",
    "        #y=0\n",
    "        if (j==0 and i!=0 and i!=Nx-1):\n",
    "            Graph_Zerr.add_edge(vZ[i,j],vZ[i+1,j],qubit_id=id, weight=wZ, error_probability=pZ)  \n",
    "            Graph_Xerr.add_edge(virX1, vX[i+1,j], qubit_id=id, weight=wX, error_probability=pX) \n",
    "            id+=1\n",
    "            Graph_Zerr.add_edge(vZ[i,j],vZ[i,j+1],qubit_id=id, weight=wZ, error_probability=pZ) \n",
    "            Graph_Xerr.add_edge(vX[i,j],vX[i+1,j],qubit_id=id, weight=wX, error_probability=pX)\n",
    "            id+=1\n",
    "        \n",
    "        #y=Ny-1\n",
    "        if (j==Ny-1 and i!=0 and i!=Nx-1):\n",
    "            Graph_Zerr.add_edge(vZ[i,j],vZ[i+1,j],qubit_id=id, weight=wZ, error_probability=pZ)  \n",
    "            Graph_Xerr.add_edge(vX[i+1,j-1], virX2, qubit_id=id, weight=wX, error_probability=pX) \n",
    "            id+=1\n",
    "\n",
    "\n",
    "Graph_Zerr.add_edge(virZ1,virZ2,qubit_id=set(), weight=0, error_probability=0)  \n",
    "Graph_Xerr.add_edge(virX1,virX2,qubit_id=set(), weight=0, error_probability=0) \n",
    "\n",
    "        \n",
    "Z_logical_qubit_num = Nx+1     #number of qubits of the lowest y-line for Z logical\n",
    "X_logical_qubit_num = Ny       #number of qubits of the leftmost x-line for X logical\n",
    "\n"
   ]
  },
  {
   "cell_type": "code",
   "execution_count": 241,
   "metadata": {},
   "outputs": [
    {
     "data": {
      "text/plain": [
       "EdgeView([(0, 1), (0, 3), (0, 17), (1, 2), (1, 4), (3, 4), (3, 6), (3, 17), (17, 6), (17, 18), (4, 5), (4, 7), (6, 7), (7, 8), (2, 5), (2, 18), (5, 8), (5, 18), (8, 18)])"
      ]
     },
     "execution_count": 241,
     "metadata": {},
     "output_type": "execute_result"
    }
   ],
   "source": [
    "Graph_Zerr.edges"
   ]
  },
  {
   "cell_type": "code",
   "execution_count": 281,
   "metadata": {},
   "outputs": [
    {
     "data": {
      "text/plain": [
       "EdgeView([(0, 0), (0, 19), (0, 3), (0, 2), (0, 20), (19, 3), (19, 20), (3, 6), (2, 1), (2, 5), (5, 4), (5, 8), (20, 20)])"
      ]
     },
     "execution_count": 281,
     "metadata": {},
     "output_type": "execute_result"
    }
   ],
   "source": [
    "Graph_Xerr.edges"
   ]
  },
  {
   "cell_type": "code",
   "execution_count": 242,
   "metadata": {},
   "outputs": [
    {
     "ename": "IndexError",
     "evalue": "index 2 is out of bounds for axis 1 with size 2",
     "output_type": "error",
     "traceback": [
      "\u001b[0;31m---------------------------------------------------------------------------\u001b[0m",
      "\u001b[0;31mIndexError\u001b[0m                                Traceback (most recent call last)",
      "\u001b[0;32m<ipython-input-242-394598f55c6d>\u001b[0m in \u001b[0;36m<module>\u001b[0;34m\u001b[0m\n\u001b[1;32m      3\u001b[0m        \u001b[0;32mif\u001b[0m \u001b[0mvZ\u001b[0m\u001b[0;34m[\u001b[0m\u001b[0mi\u001b[0m\u001b[0;34m,\u001b[0m\u001b[0mj\u001b[0m\u001b[0;34m]\u001b[0m \u001b[0;32min\u001b[0m \u001b[0mrange\u001b[0m\u001b[0;34m(\u001b[0m\u001b[0;36m0\u001b[0m\u001b[0;34m,\u001b[0m\u001b[0mNx\u001b[0m\u001b[0;34m*\u001b[0m\u001b[0mNy\u001b[0m\u001b[0;34m,\u001b[0m\u001b[0mNx\u001b[0m\u001b[0;34m)\u001b[0m\u001b[0;34m:\u001b[0m\u001b[0;34m\u001b[0m\u001b[0;34m\u001b[0m\u001b[0m\n\u001b[1;32m      4\u001b[0m            \u001b[0mX_logical1_Graph_Zerr\u001b[0m\u001b[0;34m=\u001b[0m\u001b[0mnp\u001b[0m\u001b[0;34m.\u001b[0m\u001b[0mappend\u001b[0m\u001b[0;34m(\u001b[0m\u001b[0mX_logical1_Graph_Zerr\u001b[0m\u001b[0;34m,\u001b[0m\u001b[0mGraph_Zerr\u001b[0m\u001b[0;34m[\u001b[0m\u001b[0mvZ\u001b[0m\u001b[0;34m[\u001b[0m\u001b[0mi\u001b[0m\u001b[0;34m,\u001b[0m\u001b[0mj\u001b[0m\u001b[0;34m]\u001b[0m\u001b[0;34m]\u001b[0m\u001b[0;34m[\u001b[0m\u001b[0mvZ\u001b[0m\u001b[0;34m[\u001b[0m\u001b[0;34m(\u001b[0m\u001b[0mi\u001b[0m \u001b[0;34m+\u001b[0m \u001b[0;36m1\u001b[0m\u001b[0;34m)\u001b[0m\u001b[0;34m%\u001b[0m \u001b[0mNx\u001b[0m\u001b[0;34m,\u001b[0m\u001b[0mj\u001b[0m\u001b[0;34m]\u001b[0m\u001b[0;34m]\u001b[0m\u001b[0;34m[\u001b[0m\u001b[0;34m'qubit_id'\u001b[0m\u001b[0;34m]\u001b[0m\u001b[0;34m)\u001b[0m\u001b[0;34m\u001b[0m\u001b[0;34m\u001b[0m\u001b[0m\n\u001b[0;32m----> 5\u001b[0;31m        \u001b[0;32mif\u001b[0m \u001b[0mvX\u001b[0m\u001b[0;34m[\u001b[0m\u001b[0mi\u001b[0m\u001b[0;34m,\u001b[0m\u001b[0mj\u001b[0m\u001b[0;34m]\u001b[0m \u001b[0;32min\u001b[0m \u001b[0mrange\u001b[0m\u001b[0;34m(\u001b[0m\u001b[0;36m0\u001b[0m\u001b[0;34m,\u001b[0m\u001b[0mNx\u001b[0m\u001b[0;34m)\u001b[0m\u001b[0;34m:\u001b[0m\u001b[0;34m\u001b[0m\u001b[0;34m\u001b[0m\u001b[0m\n\u001b[0m\u001b[1;32m      6\u001b[0m            \u001b[0mZ_logical1_Graph_Xerr\u001b[0m\u001b[0;34m=\u001b[0m\u001b[0mnp\u001b[0m\u001b[0;34m.\u001b[0m\u001b[0mappend\u001b[0m\u001b[0;34m(\u001b[0m\u001b[0mZ_logical1_Graph_Xerr\u001b[0m\u001b[0;34m,\u001b[0m\u001b[0mGraph_Xerr\u001b[0m\u001b[0;34m[\u001b[0m\u001b[0mvX\u001b[0m\u001b[0;34m[\u001b[0m\u001b[0mi\u001b[0m\u001b[0;34m,\u001b[0m\u001b[0mj\u001b[0m\u001b[0;34m]\u001b[0m\u001b[0;34m]\u001b[0m\u001b[0;34m[\u001b[0m\u001b[0mvX\u001b[0m\u001b[0;34m[\u001b[0m\u001b[0mi\u001b[0m\u001b[0;34m,\u001b[0m\u001b[0;34m(\u001b[0m\u001b[0mj\u001b[0m\u001b[0;34m+\u001b[0m\u001b[0;36m1\u001b[0m\u001b[0;34m)\u001b[0m\u001b[0;34m%\u001b[0m\u001b[0mNy\u001b[0m\u001b[0;34m]\u001b[0m\u001b[0;34m]\u001b[0m\u001b[0;34m[\u001b[0m\u001b[0;34m'qubit_id'\u001b[0m\u001b[0;34m]\u001b[0m\u001b[0;34m)\u001b[0m\u001b[0;34m\u001b[0m\u001b[0;34m\u001b[0m\u001b[0m\n\u001b[1;32m      7\u001b[0m        \u001b[0;32mif\u001b[0m \u001b[0mvZ\u001b[0m\u001b[0;34m[\u001b[0m\u001b[0mi\u001b[0m\u001b[0;34m,\u001b[0m\u001b[0mj\u001b[0m\u001b[0;34m]\u001b[0m \u001b[0;32min\u001b[0m \u001b[0mrange\u001b[0m\u001b[0;34m(\u001b[0m\u001b[0;36m0\u001b[0m\u001b[0;34m,\u001b[0m\u001b[0mNx\u001b[0m\u001b[0;34m)\u001b[0m\u001b[0;34m:\u001b[0m\u001b[0;34m\u001b[0m\u001b[0;34m\u001b[0m\u001b[0m\n",
      "\u001b[0;31mIndexError\u001b[0m: index 2 is out of bounds for axis 1 with size 2"
     ]
    }
   ],
   "source": [
    " for i in range(0,Nx):\n",
    "    for j in range(0,Ny):\n",
    "        if vZ[i,j] in range(0,Nx*Ny,Nx):\n",
    "            X_logical1_Graph_Zerr=np.append(X_logical1_Graph_Zerr,Graph_Zerr[vZ[i,j]][vZ[(i + 1)% Nx,j]]['qubit_id'])\n",
    "        if vX[i,j] in range(0,Nx):\n",
    "            Z_logical1_Graph_Xerr=np.append(Z_logical1_Graph_Xerr,Graph_Xerr[vX[i,j]][vX[i,(j+1)%Ny]]['qubit_id'])\n",
    "        if vZ[i,j] in range(0,Nx):\n",
    "            X_logical2_Graph_Zerr=np.append(X_logical2_Graph_Zerr,Graph_Zerr[vZ[i,j]][vZ[i,(j+1)%Ny]]['qubit_id'])\n",
    "        if vX[i,j] in range(0,Nx*Ny,Nx):\n",
    "            Z_logical2_Graph_Xerr=np.append(Z_logical2_Graph_Xerr,Graph_Xerr[vX[i,j]][vX[(i + 1)% Nx,j]]['qubit_id'])"
   ]
  },
  {
   "cell_type": "code",
   "execution_count": 136,
   "metadata": {},
   "outputs": [
    {
     "data": {
      "text/plain": [
       "'yellow'"
      ]
     },
     "execution_count": 136,
     "metadata": {},
     "output_type": "execute_result"
    }
   ],
   "source": [
    "G = nx.Graph([(1, 2, {\"color\": \"yellow\"})])\n",
    "G[1][2][\"color\"]"
   ]
  },
  {
   "cell_type": "code",
   "execution_count": 341,
   "metadata": {},
   "outputs": [],
   "source": [
    "for i in range(1,Nx+1):\n",
    "    for j in range(1,Ny+1):\n",
    "        if vZ[i,j]in range(0,Nx*Ny,Nx):\n",
    "            X_logical1_Graph_Zerr=np.append(X_logical1_Graph_Zerr,Graph_Zerr[vZ[i,j]][virZ1]['qubit_id'])\n",
    "\n",
    "for i in range(1,Nx+2):\n",
    "    for j in range(1,Ny):\n",
    "        if vX[i,j]in range(0,Nx+1):\n",
    "             Z_logical1_Graph_Xerr=np.append(Z_logical1_Graph_Xerr,Graph_Xerr[vX[i,j]][virX1]['qubit_id'])"
   ]
  },
  {
   "cell_type": "code",
   "execution_count": 342,
   "metadata": {},
   "outputs": [
    {
     "data": {
      "text/plain": [
       "array([ 2,  0,  5, 10])"
      ]
     },
     "execution_count": 342,
     "metadata": {},
     "output_type": "execute_result"
    }
   ],
   "source": [
    "Z_logical1_Graph_Xerr"
   ]
  },
  {
   "cell_type": "code",
   "execution_count": 344,
   "metadata": {},
   "outputs": [
    {
     "data": {
      "text/plain": [
       "array([2, 4, 5])"
      ]
     },
     "execution_count": 344,
     "metadata": {},
     "output_type": "execute_result"
    }
   ],
   "source": [
    "X_logical1_Graph_Zerr"
   ]
  },
  {
   "cell_type": "code",
   "execution_count": 345,
   "metadata": {},
   "outputs": [
    {
     "name": "stdout",
     "output_type": "stream",
     "text": [
      "19 1 0\n",
      "19 0 2\n",
      "19 2 5\n",
      "19 3 10\n",
      "1 0 1\n",
      "1 5 2\n",
      "1 2 6\n",
      "0 4 4\n",
      "5 4 3\n",
      "5 20 4\n",
      "5 6 8\n",
      "4 20 5\n",
      "20 6 9\n",
      "20 7 14\n",
      "2 6 7\n",
      "2 3 11\n",
      "6 7 13\n",
      "3 7 12\n"
     ]
    }
   ],
   "source": [
    "for i,j in Graph_Xerr.edges:\n",
    "    print(i,j,Graph_Xerr[i][j]['qubit_id'])"
   ]
  },
  {
   "cell_type": "code",
   "execution_count": 346,
   "metadata": {
    "scrolled": true
   },
   "outputs": [
    {
     "name": "stdout",
     "output_type": "stream",
     "text": [
      "0 1 0\n",
      "0 3 1\n",
      "0 17 2\n",
      "1 2 5\n",
      "1 4 6\n",
      "3 4 2\n",
      "3 6 3\n",
      "3 17 4\n",
      "17 6 5\n",
      "4 5 7\n",
      "4 7 8\n",
      "6 7 4\n",
      "7 8 9\n",
      "2 18 10\n",
      "2 5 11\n",
      "5 18 12\n",
      "5 8 13\n",
      "8 18 14\n"
     ]
    }
   ],
   "source": [
    "for i,j in Graph_Zerr.edges:\n",
    "    print(i,j,Graph_Zerr[i][j]['qubit_id'])"
   ]
  },
  {
   "cell_type": "code",
   "execution_count": null,
   "metadata": {},
   "outputs": [],
   "source": [
    "Graph_Zerr.nodes[len(Graph_Zerr.nodes)-1]['is_boundary'] = True\n",
    "Graph_Zerr.nodes[len(Graph_Zerr.nodes)-2]['is_boundary'] = True\n",
    "Graph_Xerr.nodes[len(Graph_Xerr.nodes)-1]['is_boundary'] = True   \n",
    "Graph_Xerr.nodes[len(Graph_Xerr.nodes)-2]['is_boundary'] = True   "
   ]
  },
  {
   "cell_type": "code",
   "execution_count": 364,
   "metadata": {},
   "outputs": [],
   "source": [
    "Graph_Zerr.nodes[virZ1]['is_boundary'] = True\n",
    "Graph_Zerr.nodes[virZ2]['is_boundary'] = True\n",
    "Graph_Xerr.nodes[virX1]['is_boundary'] = True   \n",
    "Graph_Xerr.nodes[virX2]['is_boundary'] = True   "
   ]
  },
  {
   "cell_type": "code",
   "execution_count": 221,
   "metadata": {},
   "outputs": [
    {
     "data": {
      "text/plain": [
       "array([ 3,  1,  0,  6, 12])"
      ]
     },
     "execution_count": 221,
     "metadata": {},
     "output_type": "execute_result"
    }
   ],
   "source": [
    "Z_logical1_Graph_Xerr"
   ]
  },
  {
   "cell_type": "code",
   "execution_count": 368,
   "metadata": {},
   "outputs": [
    {
     "data": {
      "text/plain": [
       "True"
      ]
     },
     "execution_count": 368,
     "metadata": {},
     "output_type": "execute_result"
    }
   ],
   "source": [
    "Graph_Zerr[0][1]['qubit_id']>-1"
   ]
  },
  {
   "cell_type": "code",
   "execution_count": 223,
   "metadata": {
    "scrolled": true
   },
   "outputs": [
    {
     "ename": "KeyError",
     "evalue": "10",
     "output_type": "error",
     "traceback": [
      "\u001b[0;31m---------------------------------------------------------------------------\u001b[0m",
      "\u001b[0;31mKeyError\u001b[0m                                  Traceback (most recent call last)",
      "\u001b[0;32m<ipython-input-223-24b5138fd812>\u001b[0m in \u001b[0;36m<module>\u001b[0;34m\u001b[0m\n\u001b[0;32m----> 1\u001b[0;31m \u001b[0mx\u001b[0m\u001b[0;34m=\u001b[0m\u001b[0mGraph_Zerr\u001b[0m\u001b[0;34m.\u001b[0m\u001b[0mnodes\u001b[0m\u001b[0;34m;\u001b[0m\u001b[0mx\u001b[0m\u001b[0;34m[\u001b[0m\u001b[0;36m10\u001b[0m\u001b[0;34m]\u001b[0m\u001b[0;34m\u001b[0m\u001b[0;34m\u001b[0m\u001b[0m\n\u001b[0m",
      "\u001b[0;32m~/.local/lib/python3.8/site-packages/networkx/classes/reportviews.py\u001b[0m in \u001b[0;36m__getitem__\u001b[0;34m(self, n)\u001b[0m\n\u001b[1;32m    185\u001b[0m \u001b[0;34m\u001b[0m\u001b[0m\n\u001b[1;32m    186\u001b[0m     \u001b[0;32mdef\u001b[0m \u001b[0m__getitem__\u001b[0m\u001b[0;34m(\u001b[0m\u001b[0mself\u001b[0m\u001b[0;34m,\u001b[0m \u001b[0mn\u001b[0m\u001b[0;34m)\u001b[0m\u001b[0;34m:\u001b[0m\u001b[0;34m\u001b[0m\u001b[0;34m\u001b[0m\u001b[0m\n\u001b[0;32m--> 187\u001b[0;31m         \u001b[0;32mreturn\u001b[0m \u001b[0mself\u001b[0m\u001b[0;34m.\u001b[0m\u001b[0m_nodes\u001b[0m\u001b[0;34m[\u001b[0m\u001b[0mn\u001b[0m\u001b[0;34m]\u001b[0m\u001b[0;34m\u001b[0m\u001b[0;34m\u001b[0m\u001b[0m\n\u001b[0m\u001b[1;32m    188\u001b[0m \u001b[0;34m\u001b[0m\u001b[0m\n\u001b[1;32m    189\u001b[0m     \u001b[0;31m# Set methods\u001b[0m\u001b[0;34m\u001b[0m\u001b[0;34m\u001b[0m\u001b[0;34m\u001b[0m\u001b[0m\n",
      "\u001b[0;31mKeyError\u001b[0m: 10"
     ]
    }
   ],
   "source": [
    "x=Graph_Zerr.nodes;x[10]"
   ]
  },
  {
   "cell_type": "code",
   "execution_count": 244,
   "metadata": {},
   "outputs": [
    {
     "ename": "KeyError",
     "evalue": "10",
     "output_type": "error",
     "traceback": [
      "\u001b[0;31m---------------------------------------------------------------------------\u001b[0m",
      "\u001b[0;31mKeyError\u001b[0m                                  Traceback (most recent call last)",
      "\u001b[0;32m<ipython-input-244-4a2f957f32d9>\u001b[0m in \u001b[0;36m<module>\u001b[0;34m\u001b[0m\n\u001b[0;32m----> 1\u001b[0;31m \u001b[0mGraph_Zerr\u001b[0m\u001b[0;34m.\u001b[0m\u001b[0mnodes\u001b[0m\u001b[0;34m[\u001b[0m\u001b[0mlen\u001b[0m\u001b[0;34m(\u001b[0m\u001b[0mGraph_Zerr\u001b[0m\u001b[0;34m.\u001b[0m\u001b[0mnodes\u001b[0m\u001b[0;34m)\u001b[0m\u001b[0;34m-\u001b[0m\u001b[0;36m1\u001b[0m\u001b[0;34m]\u001b[0m\u001b[0;34m[\u001b[0m\u001b[0;34m'is_boundary'\u001b[0m\u001b[0;34m]\u001b[0m \u001b[0;34m=\u001b[0m \u001b[0;32mTrue\u001b[0m\u001b[0;34m\u001b[0m\u001b[0;34m\u001b[0m\u001b[0m\n\u001b[0m\u001b[1;32m      2\u001b[0m \u001b[0mGraph_Zerr\u001b[0m\u001b[0;34m.\u001b[0m\u001b[0mnodes\u001b[0m\u001b[0;34m[\u001b[0m\u001b[0mlen\u001b[0m\u001b[0;34m(\u001b[0m\u001b[0mGraph_Zerr\u001b[0m\u001b[0;34m.\u001b[0m\u001b[0mnodes\u001b[0m\u001b[0;34m)\u001b[0m\u001b[0;34m-\u001b[0m\u001b[0;36m2\u001b[0m\u001b[0;34m]\u001b[0m\u001b[0;34m[\u001b[0m\u001b[0;34m'is_boundary'\u001b[0m\u001b[0;34m]\u001b[0m \u001b[0;34m=\u001b[0m \u001b[0;32mTrue\u001b[0m\u001b[0;34m\u001b[0m\u001b[0;34m\u001b[0m\u001b[0m\n\u001b[1;32m      3\u001b[0m \u001b[0mGraph_Xerr\u001b[0m\u001b[0;34m.\u001b[0m\u001b[0mnodes\u001b[0m\u001b[0;34m[\u001b[0m\u001b[0mlen\u001b[0m\u001b[0;34m(\u001b[0m\u001b[0mGraph_Xerr\u001b[0m\u001b[0;34m.\u001b[0m\u001b[0mnodes\u001b[0m\u001b[0;34m)\u001b[0m\u001b[0;34m-\u001b[0m\u001b[0;36m1\u001b[0m\u001b[0;34m]\u001b[0m\u001b[0;34m[\u001b[0m\u001b[0;34m'is_boundary'\u001b[0m\u001b[0;34m]\u001b[0m \u001b[0;34m=\u001b[0m \u001b[0;32mTrue\u001b[0m\u001b[0;34m\u001b[0m\u001b[0;34m\u001b[0m\u001b[0m\n\u001b[1;32m      4\u001b[0m \u001b[0mGraph_Xerr\u001b[0m\u001b[0;34m.\u001b[0m\u001b[0mnodes\u001b[0m\u001b[0;34m[\u001b[0m\u001b[0mlen\u001b[0m\u001b[0;34m(\u001b[0m\u001b[0mGraph_Xerr\u001b[0m\u001b[0;34m.\u001b[0m\u001b[0mnodes\u001b[0m\u001b[0;34m)\u001b[0m\u001b[0;34m-\u001b[0m\u001b[0;36m2\u001b[0m\u001b[0;34m]\u001b[0m\u001b[0;34m[\u001b[0m\u001b[0;34m'is_boundary'\u001b[0m\u001b[0;34m]\u001b[0m \u001b[0;34m=\u001b[0m \u001b[0;32mTrue\u001b[0m\u001b[0;34m\u001b[0m\u001b[0;34m\u001b[0m\u001b[0m\n",
      "\u001b[0;32m~/.local/lib/python3.8/site-packages/networkx/classes/reportviews.py\u001b[0m in \u001b[0;36m__getitem__\u001b[0;34m(self, n)\u001b[0m\n\u001b[1;32m    185\u001b[0m \u001b[0;34m\u001b[0m\u001b[0m\n\u001b[1;32m    186\u001b[0m     \u001b[0;32mdef\u001b[0m \u001b[0m__getitem__\u001b[0m\u001b[0;34m(\u001b[0m\u001b[0mself\u001b[0m\u001b[0;34m,\u001b[0m \u001b[0mn\u001b[0m\u001b[0;34m)\u001b[0m\u001b[0;34m:\u001b[0m\u001b[0;34m\u001b[0m\u001b[0;34m\u001b[0m\u001b[0m\n\u001b[0;32m--> 187\u001b[0;31m         \u001b[0;32mreturn\u001b[0m \u001b[0mself\u001b[0m\u001b[0;34m.\u001b[0m\u001b[0m_nodes\u001b[0m\u001b[0;34m[\u001b[0m\u001b[0mn\u001b[0m\u001b[0;34m]\u001b[0m\u001b[0;34m\u001b[0m\u001b[0;34m\u001b[0m\u001b[0m\n\u001b[0m\u001b[1;32m    188\u001b[0m \u001b[0;34m\u001b[0m\u001b[0m\n\u001b[1;32m    189\u001b[0m     \u001b[0;31m# Set methods\u001b[0m\u001b[0;34m\u001b[0m\u001b[0;34m\u001b[0m\u001b[0;34m\u001b[0m\u001b[0m\n",
      "\u001b[0;31mKeyError\u001b[0m: 10"
     ]
    }
   ],
   "source": []
  },
  {
   "cell_type": "code",
   "execution_count": 93,
   "metadata": {},
   "outputs": [
    {
     "data": {
      "text/plain": [
       "25"
      ]
     },
     "execution_count": 93,
     "metadata": {},
     "output_type": "execute_result"
    }
   ],
   "source": [
    "len(Graph_Zerr.nodes)-2"
   ]
  },
  {
   "cell_type": "code",
   "execution_count": 224,
   "metadata": {},
   "outputs": [],
   "source": [
    "from pymatching import Matching\n",
    "import networkx as nx\n",
    "import numpy as np\n",
    "\n",
    "p = 0.2\n",
    "g = nx.Graph()\n",
    "g.add_edge(0, 1, qubit_id=0, weight=np.log((1-p)/p), error_probability=p)\n",
    "g.add_edge(1, 2, qubit_id=1, weight=np.log((1-p)/p), error_probability=p)\n",
    "g.add_edge(2, 3, qubit_id=2, weight=np.log((1-p)/p), error_probability=p)\n",
    "g.add_edge(3, 4, qubit_id=3, weight=np.log((1-p)/p), error_probability=p)\n",
    "g.add_edge(4, 5, qubit_id=4, weight=np.log((1-p)/p), error_probability=p)"
   ]
  },
  {
   "cell_type": "code",
   "execution_count": 225,
   "metadata": {},
   "outputs": [],
   "source": [
    "p2 = 0.12\n",
    "g.add_edge(2, 4, qubit_id={2, 3}, weight=np.log((1-p2)/p2), error_probability=p2)\n",
    "g.nodes[0]['is_boundary'] = True\n",
    "g.nodes[5]['is_boundary'] = True"
   ]
  },
  {
   "cell_type": "code",
   "execution_count": 226,
   "metadata": {},
   "outputs": [
    {
     "data": {
      "text/plain": [
       "{'qubit_id': 0, 'weight': 1.3862943611198906, 'error_probability': 0.2}"
      ]
     },
     "execution_count": 226,
     "metadata": {},
     "output_type": "execute_result"
    }
   ],
   "source": [
    "g[0][1]"
   ]
  },
  {
   "cell_type": "code",
   "execution_count": 232,
   "metadata": {},
   "outputs": [
    {
     "data": {
      "text/plain": [
       "{}"
      ]
     },
     "execution_count": 232,
     "metadata": {},
     "output_type": "execute_result"
    }
   ],
   "source": [
    "x=g.nodes;x[3]"
   ]
  },
  {
   "cell_type": "code",
   "execution_count": 36,
   "metadata": {},
   "outputs": [],
   "source": [
    "[vX,vZ]=dic_pbc(Nx, Ny)\n",
    "\n",
    "#error probabilities\n",
    "pI = 1-pX-pY-pZ\n",
    "\n",
    "#weights\n",
    "wZ = abs(np.log(pZ / pI))\n",
    "wX = abs(np.log(pX / pI))\n",
    "\n",
    "Graph_Zerr= nx.Graph()\n",
    "Graph_Xerr= nx.Graph()\n",
    "\n",
    "id=0\n",
    "twist=0\n",
    "if(twist==0):\n",
    "    for i in range(0,Nx):\n",
    "        for j in range(0,Ny):\n",
    "            Graph_Zerr.add_edge(vZ[i][j], vZ[(i + 1)% Nx][j], qubit_id=id, weight=wZ, error_probability=pZ)\n",
    "            Graph_Xerr.add_edge(vX[(i+1)%Nx][(j-1)%Ny], vX[(i+1)%Nx][j], qubit_id=id, weight=wX, error_probability=pX)\n",
    "            id=id+1\n",
    "            Graph_Zerr.add_edge(vZ[i][j], vZ[i][(j + 1)%Ny], qubit_id=id, weight=wZ, error_probability=pZ)\n",
    "            Graph_Xerr.add_edge(vX[i][j], vX[(i + 1)% Nx][j], qubit_id=id, weight=wX, error_probability=pX)\n",
    "            id=id+1"
   ]
  },
  {
   "cell_type": "code",
   "execution_count": null,
   "metadata": {},
   "outputs": [],
   "source": []
  }
 ],
 "metadata": {
  "anaconda-cloud": {},
  "kernelspec": {
   "display_name": "Python 3",
   "language": "python",
   "name": "python3"
  },
  "language_info": {
   "codemirror_mode": {
    "name": "ipython",
    "version": 3
   },
   "file_extension": ".py",
   "mimetype": "text/x-python",
   "name": "python",
   "nbconvert_exporter": "python",
   "pygments_lexer": "ipython3",
   "version": "3.8.5"
  }
 },
 "nbformat": 4,
 "nbformat_minor": 1
}
