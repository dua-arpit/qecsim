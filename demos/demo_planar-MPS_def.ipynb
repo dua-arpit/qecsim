{
 "cells": [
  {
   "cell_type": "markdown",
   "metadata": {
    "collapsed": true
   },
   "source": [
    "# qecsim demos"
   ]
  },
  {
   "cell_type": "markdown",
   "metadata": {},
   "source": [
    "## Simulating error correction with a planar stabilizer code\n",
    "This demo shows verbosely how to simulate one error correction run. \n",
    "\n",
    "| For normal use, the code in this demo is encapsulated in the function:\n",
    "| `qecsim.app.run_once(code, error_model, decoder, error_probability)`,\n",
    "| and the simulation of many error correction runs is encapsulated in the function:\n",
    "| `qecsim.app.run(code, error_model, decoder, error_probability, max_runs, max_failures)`.\n",
    "\n",
    "Notes:\n",
    "\n",
    "* Operators can be visualised in binary symplectic form (bsf) or Pauli form, e.g. `[1 1 0|0 1 0] = XYI`.\n",
    "* The binary symplectic product is denoted by $\\odot$ and defined as $A \\odot B \\equiv A \\Lambda B \\bmod 2$ where $\\Lambda = \\left[\\begin{matrix} 0 & I \\\\ I & 0 \\end{matrix}\\right]$.\n",
    "* Binary addition is denoted by $\\oplus$ and defined as addition modulo 2, or equivalently exclusive-or."
   ]
  },
  {
   "cell_type": "markdown",
   "metadata": {},
   "source": [
    "### Initialise the models"
   ]
  },
  {
   "cell_type": "code",
   "execution_count": 1,
   "metadata": {},
   "outputs": [
    {
     "name": "stdout",
     "output_type": "stream",
     "text": [
      "PlanarCode(4, 4)\n",
      "DepolarizingErrorModel()\n",
      "PlanarMPSDecoder(None, 'c', None, None)\n"
     ]
    }
   ],
   "source": [
    "%run qsu.ipynb  # color-printing functions\n",
    "import numpy as np\n",
    "from qecsim import paulitools as pt\n",
    "from qecsim.models.generic import DepolarizingErrorModel\n",
    "from qecsim.models.planar import PlanarCode, PlanarMWPMDecoder, PlanarMPSDecoder\n",
    "from _planarmpsdecoder_def import PlanarMPSDecoder_def\n",
    "\n",
    "# initialise models\n",
    "my_code = PlanarCode(4, 4)\n",
    "my_error_model = DepolarizingErrorModel()\n",
    "my_decoder = PlanarMPSDecoder()\n",
    "# print models\n",
    "print(my_code)\n",
    "print(my_error_model)\n",
    "print(my_decoder)"
   ]
  },
  {
   "cell_type": "markdown",
   "metadata": {},
   "source": [
    "### Generate a random error"
   ]
  },
  {
   "cell_type": "code",
   "execution_count": 2,
   "metadata": {},
   "outputs": [
    {
     "data": {
      "text/html": [
       "<div class=\"highlight\"><pre style=\"line-height:1!important;\">error:\n",
       "·─┬─·─┬─·─┬─·\n",
       "  ·   ·   ·  \n",
       "·─┼─·─┼─·─┼─<span style=\"color:blue; font-weight:bold\">Z</span>\n",
       "  ·   ·   ·  \n",
       "·─┼─<span style=\"color:magenta; font-weight:bold\">Y</span>─┼─·─┼─·\n",
       "  ·   ·   ·  \n",
       "·─┴─·─┴─·─┴─·</pre></div>"
      ],
      "text/plain": [
       "<IPython.core.display.HTML object>"
      ]
     },
     "metadata": {},
     "output_type": "display_data"
    }
   ],
   "source": [
    "# set physical error probability to 10%\n",
    "error_probability = 0.1\n",
    "# seed random number generator for repeatability\n",
    "rng = np.random.default_rng(59)\n",
    "\n",
    "# error: random error based on error probability\n",
    "error = my_error_model.generate(my_code, error_probability, rng)\n",
    "qsu.print_pauli('error:\\n{}'.format(my_code.new_pauli(error)))"
   ]
  },
  {
   "cell_type": "code",
   "execution_count": 4,
   "metadata": {},
   "outputs": [
    {
     "data": {
      "text/plain": [
       "array([0, 0, 0, 0, 0, 0, 0, 0, 0, 1, 0, 0, 0, 0, 0, 0, 0, 0, 0, 0, 0, 0,\n",
       "       0, 0, 0, 0, 0, 0, 0, 0, 0, 0, 1, 0, 1, 0, 0, 0, 0, 0, 0, 0, 0, 0,\n",
       "       0, 0, 0, 0, 0, 0])"
      ]
     },
     "execution_count": 4,
     "metadata": {},
     "output_type": "execute_result"
    }
   ],
   "source": [
    "error"
   ]
  },
  {
   "cell_type": "code",
   "execution_count": 51,
   "metadata": {},
   "outputs": [
    {
     "data": {
      "text/html": [
       "<div class=\"highlight\"><pre style=\"line-height:1!important;\">error:\n",
       "<span style=\"color:red; font-weight:bold\">X</span>─┬─·─┬─·─┬─·\n",
       "  ·   ·   ·  \n",
       "·─┼─·─┼─·─┼─·\n",
       "  ·   ·   ·  \n",
       "·─┼─·─┼─·─┼─·\n",
       "  ·   ·   ·  \n",
       "·─┴─·─┴─·─┴─·</pre></div>"
      ],
      "text/plain": [
       "<IPython.core.display.HTML object>"
      ]
     },
     "metadata": {},
     "output_type": "display_data"
    },
    {
     "data": {
      "text/html": [
       "<div class=\"highlight\"><pre style=\"line-height:1!important;\">error:\n",
       "·─┬─<span style=\"color:red; font-weight:bold\">X</span>─┬─·─┬─·\n",
       "  ·   ·   ·  \n",
       "·─┼─·─┼─·─┼─·\n",
       "  ·   ·   ·  \n",
       "·─┼─·─┼─·─┼─·\n",
       "  ·   ·   ·  \n",
       "·─┴─·─┴─·─┴─·</pre></div>"
      ],
      "text/plain": [
       "<IPython.core.display.HTML object>"
      ]
     },
     "metadata": {},
     "output_type": "display_data"
    },
    {
     "data": {
      "text/html": [
       "<div class=\"highlight\"><pre style=\"line-height:1!important;\">error:\n",
       "·─┬─·─┬─<span style=\"color:red; font-weight:bold\">X</span>─┬─·\n",
       "  ·   ·   ·  \n",
       "·─┼─·─┼─·─┼─·\n",
       "  ·   ·   ·  \n",
       "·─┼─·─┼─·─┼─·\n",
       "  ·   ·   ·  \n",
       "·─┴─·─┴─·─┴─·</pre></div>"
      ],
      "text/plain": [
       "<IPython.core.display.HTML object>"
      ]
     },
     "metadata": {},
     "output_type": "display_data"
    },
    {
     "data": {
      "text/html": [
       "<div class=\"highlight\"><pre style=\"line-height:1!important;\">error:\n",
       "·─┬─·─┬─·─┬─<span style=\"color:red; font-weight:bold\">X</span>\n",
       "  ·   ·   ·  \n",
       "·─┼─·─┼─·─┼─·\n",
       "  ·   ·   ·  \n",
       "·─┼─·─┼─·─┼─·\n",
       "  ·   ·   ·  \n",
       "·─┴─·─┴─·─┴─·</pre></div>"
      ],
      "text/plain": [
       "<IPython.core.display.HTML object>"
      ]
     },
     "metadata": {},
     "output_type": "display_data"
    },
    {
     "data": {
      "text/html": [
       "<div class=\"highlight\"><pre style=\"line-height:1!important;\">error:\n",
       "·─┬─·─┬─·─┬─·\n",
       "  ·   ·   ·  \n",
       "<span style=\"color:red; font-weight:bold\">X</span>─┼─·─┼─·─┼─·\n",
       "  ·   ·   ·  \n",
       "·─┼─·─┼─·─┼─·\n",
       "  ·   ·   ·  \n",
       "·─┴─·─┴─·─┴─·</pre></div>"
      ],
      "text/plain": [
       "<IPython.core.display.HTML object>"
      ]
     },
     "metadata": {},
     "output_type": "display_data"
    },
    {
     "data": {
      "text/html": [
       "<div class=\"highlight\"><pre style=\"line-height:1!important;\">error:\n",
       "·─┬─·─┬─·─┬─·\n",
       "  ·   ·   ·  \n",
       "·─┼─<span style=\"color:red; font-weight:bold\">X</span>─┼─·─┼─·\n",
       "  ·   ·   ·  \n",
       "·─┼─·─┼─·─┼─·\n",
       "  ·   ·   ·  \n",
       "·─┴─·─┴─·─┴─·</pre></div>"
      ],
      "text/plain": [
       "<IPython.core.display.HTML object>"
      ]
     },
     "metadata": {},
     "output_type": "display_data"
    },
    {
     "data": {
      "text/html": [
       "<div class=\"highlight\"><pre style=\"line-height:1!important;\">error:\n",
       "·─┬─·─┬─·─┬─·\n",
       "  ·   ·   ·  \n",
       "·─┼─·─┼─<span style=\"color:red; font-weight:bold\">X</span>─┼─·\n",
       "  ·   ·   ·  \n",
       "·─┼─·─┼─·─┼─·\n",
       "  ·   ·   ·  \n",
       "·─┴─·─┴─·─┴─·</pre></div>"
      ],
      "text/plain": [
       "<IPython.core.display.HTML object>"
      ]
     },
     "metadata": {},
     "output_type": "display_data"
    },
    {
     "data": {
      "text/html": [
       "<div class=\"highlight\"><pre style=\"line-height:1!important;\">error:\n",
       "·─┬─·─┬─·─┬─·\n",
       "  ·   ·   ·  \n",
       "·─┼─·─┼─·─┼─<span style=\"color:red; font-weight:bold\">X</span>\n",
       "  ·   ·   ·  \n",
       "·─┼─·─┼─·─┼─·\n",
       "  ·   ·   ·  \n",
       "·─┴─·─┴─·─┴─·</pre></div>"
      ],
      "text/plain": [
       "<IPython.core.display.HTML object>"
      ]
     },
     "metadata": {},
     "output_type": "display_data"
    },
    {
     "data": {
      "text/html": [
       "<div class=\"highlight\"><pre style=\"line-height:1!important;\">error:\n",
       "·─┬─·─┬─·─┬─·\n",
       "  ·   ·   ·  \n",
       "·─┼─·─┼─·─┼─·\n",
       "  ·   ·   ·  \n",
       "<span style=\"color:red; font-weight:bold\">X</span>─┼─·─┼─·─┼─·\n",
       "  ·   ·   ·  \n",
       "·─┴─·─┴─·─┴─·</pre></div>"
      ],
      "text/plain": [
       "<IPython.core.display.HTML object>"
      ]
     },
     "metadata": {},
     "output_type": "display_data"
    },
    {
     "data": {
      "text/html": [
       "<div class=\"highlight\"><pre style=\"line-height:1!important;\">error:\n",
       "·─┬─·─┬─·─┬─·\n",
       "  ·   ·   ·  \n",
       "·─┼─·─┼─·─┼─·\n",
       "  ·   ·   ·  \n",
       "·─┼─<span style=\"color:red; font-weight:bold\">X</span>─┼─·─┼─·\n",
       "  ·   ·   ·  \n",
       "·─┴─·─┴─·─┴─·</pre></div>"
      ],
      "text/plain": [
       "<IPython.core.display.HTML object>"
      ]
     },
     "metadata": {},
     "output_type": "display_data"
    },
    {
     "data": {
      "text/html": [
       "<div class=\"highlight\"><pre style=\"line-height:1!important;\">error:\n",
       "·─┬─·─┬─·─┬─·\n",
       "  ·   ·   ·  \n",
       "·─┼─·─┼─·─┼─·\n",
       "  ·   ·   ·  \n",
       "·─┼─·─┼─<span style=\"color:red; font-weight:bold\">X</span>─┼─·\n",
       "  ·   ·   ·  \n",
       "·─┴─·─┴─·─┴─·</pre></div>"
      ],
      "text/plain": [
       "<IPython.core.display.HTML object>"
      ]
     },
     "metadata": {},
     "output_type": "display_data"
    },
    {
     "data": {
      "text/html": [
       "<div class=\"highlight\"><pre style=\"line-height:1!important;\">error:\n",
       "·─┬─·─┬─·─┬─·\n",
       "  ·   ·   ·  \n",
       "·─┼─·─┼─·─┼─·\n",
       "  ·   ·   ·  \n",
       "·─┼─·─┼─·─┼─<span style=\"color:red; font-weight:bold\">X</span>\n",
       "  ·   ·   ·  \n",
       "·─┴─·─┴─·─┴─·</pre></div>"
      ],
      "text/plain": [
       "<IPython.core.display.HTML object>"
      ]
     },
     "metadata": {},
     "output_type": "display_data"
    },
    {
     "data": {
      "text/html": [
       "<div class=\"highlight\"><pre style=\"line-height:1!important;\">error:\n",
       "·─┬─·─┬─·─┬─·\n",
       "  ·   ·   ·  \n",
       "·─┼─·─┼─·─┼─·\n",
       "  ·   ·   ·  \n",
       "·─┼─·─┼─·─┼─·\n",
       "  ·   ·   ·  \n",
       "<span style=\"color:red; font-weight:bold\">X</span>─┴─·─┴─·─┴─·</pre></div>"
      ],
      "text/plain": [
       "<IPython.core.display.HTML object>"
      ]
     },
     "metadata": {},
     "output_type": "display_data"
    },
    {
     "data": {
      "text/html": [
       "<div class=\"highlight\"><pre style=\"line-height:1!important;\">error:\n",
       "·─┬─·─┬─·─┬─·\n",
       "  ·   ·   ·  \n",
       "·─┼─·─┼─·─┼─·\n",
       "  ·   ·   ·  \n",
       "·─┼─·─┼─·─┼─·\n",
       "  ·   ·   ·  \n",
       "·─┴─<span style=\"color:red; font-weight:bold\">X</span>─┴─·─┴─·</pre></div>"
      ],
      "text/plain": [
       "<IPython.core.display.HTML object>"
      ]
     },
     "metadata": {},
     "output_type": "display_data"
    },
    {
     "data": {
      "text/html": [
       "<div class=\"highlight\"><pre style=\"line-height:1!important;\">error:\n",
       "·─┬─·─┬─·─┬─·\n",
       "  ·   ·   ·  \n",
       "·─┼─·─┼─·─┼─·\n",
       "  ·   ·   ·  \n",
       "·─┼─·─┼─·─┼─·\n",
       "  ·   ·   ·  \n",
       "·─┴─·─┴─<span style=\"color:red; font-weight:bold\">X</span>─┴─·</pre></div>"
      ],
      "text/plain": [
       "<IPython.core.display.HTML object>"
      ]
     },
     "metadata": {},
     "output_type": "display_data"
    },
    {
     "data": {
      "text/html": [
       "<div class=\"highlight\"><pre style=\"line-height:1!important;\">error:\n",
       "·─┬─·─┬─·─┬─·\n",
       "  ·   ·   ·  \n",
       "·─┼─·─┼─·─┼─·\n",
       "  ·   ·   ·  \n",
       "·─┼─·─┼─·─┼─·\n",
       "  ·   ·   ·  \n",
       "·─┴─·─┴─·─┴─<span style=\"color:red; font-weight:bold\">X</span></pre></div>"
      ],
      "text/plain": [
       "<IPython.core.display.HTML object>"
      ]
     },
     "metadata": {},
     "output_type": "display_data"
    },
    {
     "data": {
      "text/html": [
       "<div class=\"highlight\"><pre style=\"line-height:1!important;\">error:\n",
       "·─┬─·─┬─·─┬─·\n",
       "  <span style=\"color:red; font-weight:bold\">X</span>   ·   ·  \n",
       "·─┼─·─┼─·─┼─·\n",
       "  ·   ·   ·  \n",
       "·─┼─·─┼─·─┼─·\n",
       "  ·   ·   ·  \n",
       "·─┴─·─┴─·─┴─·</pre></div>"
      ],
      "text/plain": [
       "<IPython.core.display.HTML object>"
      ]
     },
     "metadata": {},
     "output_type": "display_data"
    },
    {
     "data": {
      "text/html": [
       "<div class=\"highlight\"><pre style=\"line-height:1!important;\">error:\n",
       "·─┬─·─┬─·─┬─·\n",
       "  ·   <span style=\"color:red; font-weight:bold\">X</span>   ·  \n",
       "·─┼─·─┼─·─┼─·\n",
       "  ·   ·   ·  \n",
       "·─┼─·─┼─·─┼─·\n",
       "  ·   ·   ·  \n",
       "·─┴─·─┴─·─┴─·</pre></div>"
      ],
      "text/plain": [
       "<IPython.core.display.HTML object>"
      ]
     },
     "metadata": {},
     "output_type": "display_data"
    },
    {
     "data": {
      "text/html": [
       "<div class=\"highlight\"><pre style=\"line-height:1!important;\">error:\n",
       "·─┬─·─┬─·─┬─·\n",
       "  ·   ·   <span style=\"color:red; font-weight:bold\">X</span>  \n",
       "·─┼─·─┼─·─┼─·\n",
       "  ·   ·   ·  \n",
       "·─┼─·─┼─·─┼─·\n",
       "  ·   ·   ·  \n",
       "·─┴─·─┴─·─┴─·</pre></div>"
      ],
      "text/plain": [
       "<IPython.core.display.HTML object>"
      ]
     },
     "metadata": {},
     "output_type": "display_data"
    },
    {
     "data": {
      "text/html": [
       "<div class=\"highlight\"><pre style=\"line-height:1!important;\">error:\n",
       "·─┬─·─┬─·─┬─·\n",
       "  ·   ·   ·  \n",
       "·─┼─·─┼─·─┼─·\n",
       "  <span style=\"color:red; font-weight:bold\">X</span>   ·   ·  \n",
       "·─┼─·─┼─·─┼─·\n",
       "  ·   ·   ·  \n",
       "·─┴─·─┴─·─┴─·</pre></div>"
      ],
      "text/plain": [
       "<IPython.core.display.HTML object>"
      ]
     },
     "metadata": {},
     "output_type": "display_data"
    },
    {
     "data": {
      "text/html": [
       "<div class=\"highlight\"><pre style=\"line-height:1!important;\">error:\n",
       "·─┬─·─┬─·─┬─·\n",
       "  ·   ·   ·  \n",
       "·─┼─·─┼─·─┼─·\n",
       "  ·   <span style=\"color:red; font-weight:bold\">X</span>   ·  \n",
       "·─┼─·─┼─·─┼─·\n",
       "  ·   ·   ·  \n",
       "·─┴─·─┴─·─┴─·</pre></div>"
      ],
      "text/plain": [
       "<IPython.core.display.HTML object>"
      ]
     },
     "metadata": {},
     "output_type": "display_data"
    },
    {
     "data": {
      "text/html": [
       "<div class=\"highlight\"><pre style=\"line-height:1!important;\">error:\n",
       "·─┬─·─┬─·─┬─·\n",
       "  ·   ·   ·  \n",
       "·─┼─·─┼─·─┼─·\n",
       "  ·   ·   <span style=\"color:red; font-weight:bold\">X</span>  \n",
       "·─┼─·─┼─·─┼─·\n",
       "  ·   ·   ·  \n",
       "·─┴─·─┴─·─┴─·</pre></div>"
      ],
      "text/plain": [
       "<IPython.core.display.HTML object>"
      ]
     },
     "metadata": {},
     "output_type": "display_data"
    },
    {
     "data": {
      "text/html": [
       "<div class=\"highlight\"><pre style=\"line-height:1!important;\">error:\n",
       "·─┬─·─┬─·─┬─·\n",
       "  ·   ·   ·  \n",
       "·─┼─·─┼─·─┼─·\n",
       "  ·   ·   ·  \n",
       "·─┼─·─┼─·─┼─·\n",
       "  <span style=\"color:red; font-weight:bold\">X</span>   ·   ·  \n",
       "·─┴─·─┴─·─┴─·</pre></div>"
      ],
      "text/plain": [
       "<IPython.core.display.HTML object>"
      ]
     },
     "metadata": {},
     "output_type": "display_data"
    },
    {
     "data": {
      "text/html": [
       "<div class=\"highlight\"><pre style=\"line-height:1!important;\">error:\n",
       "·─┬─·─┬─·─┬─·\n",
       "  ·   ·   ·  \n",
       "·─┼─·─┼─·─┼─·\n",
       "  ·   ·   ·  \n",
       "·─┼─·─┼─·─┼─·\n",
       "  ·   <span style=\"color:red; font-weight:bold\">X</span>   ·  \n",
       "·─┴─·─┴─·─┴─·</pre></div>"
      ],
      "text/plain": [
       "<IPython.core.display.HTML object>"
      ]
     },
     "metadata": {},
     "output_type": "display_data"
    },
    {
     "data": {
      "text/html": [
       "<div class=\"highlight\"><pre style=\"line-height:1!important;\">error:\n",
       "·─┬─·─┬─·─┬─·\n",
       "  ·   ·   ·  \n",
       "·─┼─·─┼─·─┼─·\n",
       "  ·   ·   ·  \n",
       "·─┼─·─┼─·─┼─·\n",
       "  ·   ·   <span style=\"color:red; font-weight:bold\">X</span>  \n",
       "·─┴─·─┴─·─┴─·</pre></div>"
      ],
      "text/plain": [
       "<IPython.core.display.HTML object>"
      ]
     },
     "metadata": {},
     "output_type": "display_data"
    }
   ],
   "source": [
    "for i in range(my_code.n_k_d[0]):\n",
    "    error2=np.array([0, 0, 0, 0, 0, 0, 0, 0, 0, 0, 0, 0, 0, 0, 0, 0, 0, 0, 0, 0, 0, 0,\n",
    "       0, 0, 0, 0, 0, 0, 0, 0, 0, 0, 0, 0, 0, 0, 0, 0, 0, 0, 0, 0, 0, 0,\n",
    "       0, 0, 0, 0, 0, 0])\n",
    "    error2[i]=1\n",
    "    qsu.print_pauli('error:\\n{}'.format(my_code.new_pauli(error2)))"
   ]
  },
  {
   "cell_type": "code",
   "execution_count": 52,
   "metadata": {},
   "outputs": [
    {
     "data": {
      "text/plain": [
       "array([0, 0, 0, 0, 0, 0, 0, 0, 0, 0, 0, 0, 0, 0, 0, 0, 0, 0, 0, 0, 0, 0,\n",
       "       0, 0, 1, 0, 0, 0, 0, 0, 0, 0, 0, 0, 0, 0, 0, 0, 0, 0, 0, 0, 0, 0,\n",
       "       0, 0, 0, 0, 0, 0])"
      ]
     },
     "execution_count": 52,
     "metadata": {},
     "output_type": "execute_result"
    }
   ],
   "source": [
    "error2"
   ]
  },
  {
   "cell_type": "code",
   "execution_count": 56,
   "metadata": {},
   "outputs": [
    {
     "name": "stdout",
     "output_type": "stream",
     "text": [
      "0 0 I\n",
      "0 2 I\n",
      "0 4 I\n",
      "0 6 I\n",
      "1 1 I\n",
      "1 3 I\n",
      "1 5 I\n",
      "2 0 I\n",
      "2 2 I\n",
      "2 4 I\n",
      "2 6 I\n",
      "3 1 I\n",
      "3 3 I\n",
      "3 5 I\n",
      "4 0 I\n",
      "4 2 I\n",
      "4 4 I\n",
      "4 6 I\n",
      "5 1 I\n",
      "5 3 I\n",
      "5 5 X\n",
      "6 0 I\n",
      "6 2 I\n",
      "6 4 I\n",
      "6 6 I\n"
     ]
    }
   ],
   "source": [
    "error3=my_code.new_pauli(error2)\n",
    "for row,col in np.ndindex((7,7)):\n",
    "    if row%2==0 and col%2==0:\n",
    "        print(row,col,error3.operator((row,col)))\n",
    "    elif row%2==1 and col%2==1:\n",
    "        print(row,col,error3.operator((row,col)))   "
   ]
  },
  {
   "cell_type": "code",
   "execution_count": 73,
   "metadata": {},
   "outputs": [
    {
     "data": {
      "text/plain": [
       "[<matplotlib.lines.Line2D at 0x7fb76ab9c460>]"
      ]
     },
     "execution_count": 73,
     "metadata": {},
     "output_type": "execute_result"
    },
    {
     "data": {
      "image/png": "[encoded data removed]",
      "text/plain": [
       "<Figure size 1440x720 with 1 Axes>"
      ]
     },
     "metadata": {
      "needs_background": "light"
     },
     "output_type": "display_data"
    }
   ],
   "source": [
    "x=[1,2,3,4,5]\n",
    "y=x\n",
    "y2=[yel*2 for yel in y]\n",
    "import matplotlib.pyplot as plt\n",
    "plt.figure(figsize=(20,10))\n",
    "plt.plot(x,y,label='first')\n",
    "# plt.legend('first')\n",
    "plt.plot(x,y2)\n",
    "# plt.legend('123')"
   ]
  },
  {
   "cell_type": "code",
   "execution_count": 74,
   "metadata": {},
   "outputs": [
    {
     "name": "stdout",
     "output_type": "stream",
     "text": [
      "0.25\n",
      "0.3125\n",
      "0.375\n",
      "0.4375\n",
      "0.5\n"
     ]
    }
   ],
   "source": [
    "for pYZ in np.linspace(1/4,1/2,5):\n",
    "    print(str(pYZ))"
   ]
  },
  {
   "cell_type": "code",
   "execution_count": 76,
   "metadata": {},
   "outputs": [
    {
     "data": {
      "text/plain": [
       "'0.5hello'"
      ]
     },
     "execution_count": 76,
     "metadata": {},
     "output_type": "execute_result"
    }
   ],
   "source": [
    "str(pYZ)+'hello'"
   ]
  },
  {
   "cell_type": "markdown",
   "metadata": {},
   "source": [
    "### Evaluate the syndrome\n",
    "The syndrome is a binary array indicating the stabilizers with which the error does not commute. It is calculated as $syndrome = error \\odot stabilisers^T$."
   ]
  },
  {
   "cell_type": "code",
   "execution_count": 3,
   "metadata": {},
   "outputs": [
    {
     "data": {
      "text/html": [
       "<div class=\"highlight\"><pre style=\"line-height:1!important;\">syndrome:\n",
       "──┬───┬───┬──\n",
       "  │   │   │  \n",
       "──┼───┼───<span style=\"color:red; font-weight:bold\">X</span>──\n",
       "  │ <span style=\"color:blue; font-weight:bold\">Z</span> │   │  \n",
       "──<span style=\"color:red; font-weight:bold\">X</span>───<span style=\"color:red; font-weight:bold\">X</span>───┼──\n",
       "  │ <span style=\"color:blue; font-weight:bold\">Z</span> │   │  \n",
       "──┴───┴───┴──</pre></div>"
      ],
      "text/plain": [
       "<IPython.core.display.HTML object>"
      ]
     },
     "metadata": {},
     "output_type": "display_data"
    }
   ],
   "source": [
    "# syndrome: stabilizers that do not commute with the error\n",
    "syndrome = pt.bsp(error, my_code.stabilizers.T)\n",
    "qsu.print_pauli('syndrome:\\n{}'.format(my_code.ascii_art(syndrome)))"
   ]
  },
  {
   "cell_type": "markdown",
   "metadata": {},
   "source": [
    "### Find a recovery operation\n",
    "In this case, the recovery operation is found by a minimum weight perfect matching decoder that finds the recovery operation as follows:\n",
    "\n",
    "* The syndrome is resolved to plaquettes using: `PlanarCode.syndrome_to_plaquette_indices`.\n",
    "* For each plaquette, the nearest corresponding off-boundary plaquette is found using: `PlanarCode.virtual_plaquette_index`.\n",
    "* A graph between plaquettes is built with weights given by: `PlanarMWPMDecoder.distance`.\n",
    "* A MWPM algorithm is used to match plaquettes into pairs.\n",
    "* A recovery operator is constructed by applying the shortest path between matching plaquette pairs using:\n",
    "  `PlanarPauli.path`."
   ]
  },
  {
   "cell_type": "code",
   "execution_count": 26,
   "metadata": {},
   "outputs": [
    {
     "ename": "TypeError",
     "evalue": "cannot unpack non-iterable int object",
     "output_type": "error",
     "traceback": [
      "\u001b[0;31m---------------------------------------------------------------------------\u001b[0m",
      "\u001b[0;31mTypeError\u001b[0m                                 Traceback (most recent call last)",
      "\u001b[0;32m<ipython-input-26-a42654f7e84d>\u001b[0m in \u001b[0;36m<module>\u001b[0;34m\u001b[0m\n\u001b[1;32m      1\u001b[0m \u001b[0;31m# recovery: best match recovery operation based on decoder\u001b[0m\u001b[0;34m\u001b[0m\u001b[0;34m\u001b[0m\u001b[0;34m\u001b[0m\u001b[0m\n\u001b[1;32m      2\u001b[0m \u001b[0mrecovery\u001b[0m\u001b[0;34m=\u001b[0m\u001b[0mmy_code\u001b[0m\u001b[0;34m.\u001b[0m\u001b[0mnew_pauli\u001b[0m\u001b[0;34m(\u001b[0m\u001b[0;34m)\u001b[0m\u001b[0;34m\u001b[0m\u001b[0;34m\u001b[0m\u001b[0m\n\u001b[0;32m----> 3\u001b[0;31m \u001b[0mprint\u001b[0m\u001b[0;34m(\u001b[0m\u001b[0mrecovery\u001b[0m\u001b[0;34m.\u001b[0m\u001b[0moperator\u001b[0m\u001b[0;34m(\u001b[0m\u001b[0;36m1\u001b[0m\u001b[0;34m)\u001b[0m\u001b[0;34m)\u001b[0m\u001b[0;34m\u001b[0m\u001b[0;34m\u001b[0m\u001b[0m\n\u001b[0m\u001b[1;32m      4\u001b[0m \u001b[0mrecovery\u001b[0m \u001b[0;34m=\u001b[0m \u001b[0mmy_decoder\u001b[0m\u001b[0;34m.\u001b[0m\u001b[0mdecode\u001b[0m\u001b[0;34m(\u001b[0m\u001b[0mmy_code\u001b[0m\u001b[0;34m,\u001b[0m\u001b[0msyndrome\u001b[0m\u001b[0;34m)\u001b[0m\u001b[0;34m\u001b[0m\u001b[0;34m\u001b[0m\u001b[0m\n\u001b[1;32m      5\u001b[0m \u001b[0mqsu\u001b[0m\u001b[0;34m.\u001b[0m\u001b[0mprint_pauli\u001b[0m\u001b[0;34m(\u001b[0m\u001b[0;34m'recovery:\\n{}'\u001b[0m\u001b[0;34m.\u001b[0m\u001b[0mformat\u001b[0m\u001b[0;34m(\u001b[0m\u001b[0mmy_code\u001b[0m\u001b[0;34m.\u001b[0m\u001b[0mnew_pauli\u001b[0m\u001b[0;34m(\u001b[0m\u001b[0mrecovery\u001b[0m\u001b[0;34m)\u001b[0m\u001b[0;34m)\u001b[0m\u001b[0;34m)\u001b[0m\u001b[0;34m\u001b[0m\u001b[0;34m\u001b[0m\u001b[0m\n",
      "\u001b[0;32m~/.local/lib/python3.8/site-packages/qecsim/models/planar/_planarpauli.py\u001b[0m in \u001b[0;36moperator\u001b[0;34m(self, index)\u001b[0m\n\u001b[1;32m     87\u001b[0m         \"\"\"\n\u001b[1;32m     88\u001b[0m         \u001b[0;31m# check valid in-bounds index\u001b[0m\u001b[0;34m\u001b[0m\u001b[0;34m\u001b[0m\u001b[0;34m\u001b[0m\u001b[0m\n\u001b[0;32m---> 89\u001b[0;31m         \u001b[0;32mif\u001b[0m \u001b[0;32mnot\u001b[0m \u001b[0;34m(\u001b[0m\u001b[0mself\u001b[0m\u001b[0;34m.\u001b[0m\u001b[0mcode\u001b[0m\u001b[0;34m.\u001b[0m\u001b[0mis_site\u001b[0m\u001b[0;34m(\u001b[0m\u001b[0mindex\u001b[0m\u001b[0;34m)\u001b[0m \u001b[0;32mand\u001b[0m \u001b[0mself\u001b[0m\u001b[0;34m.\u001b[0m\u001b[0mcode\u001b[0m\u001b[0;34m.\u001b[0m\u001b[0mis_in_bounds\u001b[0m\u001b[0;34m(\u001b[0m\u001b[0mindex\u001b[0m\u001b[0;34m)\u001b[0m\u001b[0;34m)\u001b[0m\u001b[0;34m:\u001b[0m\u001b[0;34m\u001b[0m\u001b[0;34m\u001b[0m\u001b[0m\n\u001b[0m\u001b[1;32m     90\u001b[0m             \u001b[0;32mraise\u001b[0m \u001b[0mIndexError\u001b[0m\u001b[0;34m(\u001b[0m\u001b[0;34m'{} is not an in-bounds site index for code of size {}.'\u001b[0m\u001b[0;34m.\u001b[0m\u001b[0mformat\u001b[0m\u001b[0;34m(\u001b[0m\u001b[0mindex\u001b[0m\u001b[0;34m,\u001b[0m \u001b[0mself\u001b[0m\u001b[0;34m.\u001b[0m\u001b[0mcode\u001b[0m\u001b[0;34m.\u001b[0m\u001b[0msize\u001b[0m\u001b[0;34m)\u001b[0m\u001b[0;34m)\u001b[0m\u001b[0;34m\u001b[0m\u001b[0;34m\u001b[0m\u001b[0m\n\u001b[1;32m     91\u001b[0m         \u001b[0;31m# extract binary x and z\u001b[0m\u001b[0;34m\u001b[0m\u001b[0;34m\u001b[0m\u001b[0;34m\u001b[0m\u001b[0m\n",
      "\u001b[0;32m~/.local/lib/python3.8/site-packages/qecsim/models/planar/_planarcode.py\u001b[0m in \u001b[0;36mis_site\u001b[0;34m(cls, index)\u001b[0m\n\u001b[1;32m    162\u001b[0m         \u001b[0;34m:\u001b[0m\u001b[0mrtype\u001b[0m\u001b[0;34m:\u001b[0m \u001b[0mbool\u001b[0m\u001b[0;34m\u001b[0m\u001b[0;34m\u001b[0m\u001b[0m\n\u001b[1;32m    163\u001b[0m         \"\"\"\n\u001b[0;32m--> 164\u001b[0;31m         \u001b[0;32mreturn\u001b[0m \u001b[0;32mnot\u001b[0m \u001b[0mcls\u001b[0m\u001b[0;34m.\u001b[0m\u001b[0mis_plaquette\u001b[0m\u001b[0;34m(\u001b[0m\u001b[0mindex\u001b[0m\u001b[0;34m)\u001b[0m\u001b[0;34m\u001b[0m\u001b[0;34m\u001b[0m\u001b[0m\n\u001b[0m\u001b[1;32m    165\u001b[0m \u001b[0;34m\u001b[0m\u001b[0m\n\u001b[1;32m    166\u001b[0m     \u001b[0;34m@\u001b[0m\u001b[0mclassmethod\u001b[0m\u001b[0;34m\u001b[0m\u001b[0;34m\u001b[0m\u001b[0m\n",
      "\u001b[0;32m~/.local/lib/python3.8/site-packages/qecsim/models/planar/_planarcode.py\u001b[0m in \u001b[0;36mis_plaquette\u001b[0;34m(cls, index)\u001b[0m\n\u001b[1;32m    149\u001b[0m         \u001b[0;34m:\u001b[0m\u001b[0mrtype\u001b[0m\u001b[0;34m:\u001b[0m \u001b[0mbool\u001b[0m\u001b[0;34m\u001b[0m\u001b[0;34m\u001b[0m\u001b[0m\n\u001b[1;32m    150\u001b[0m         \"\"\"\n\u001b[0;32m--> 151\u001b[0;31m         \u001b[0mr\u001b[0m\u001b[0;34m,\u001b[0m \u001b[0mc\u001b[0m \u001b[0;34m=\u001b[0m \u001b[0mindex\u001b[0m\u001b[0;34m\u001b[0m\u001b[0;34m\u001b[0m\u001b[0m\n\u001b[0m\u001b[1;32m    152\u001b[0m         \u001b[0;32mreturn\u001b[0m \u001b[0;34m(\u001b[0m\u001b[0mr\u001b[0m \u001b[0;34m+\u001b[0m \u001b[0mc\u001b[0m\u001b[0;34m)\u001b[0m \u001b[0;34m%\u001b[0m \u001b[0;36m2\u001b[0m \u001b[0;34m==\u001b[0m \u001b[0;36m1\u001b[0m\u001b[0;34m\u001b[0m\u001b[0;34m\u001b[0m\u001b[0m\n\u001b[1;32m    153\u001b[0m \u001b[0;34m\u001b[0m\u001b[0m\n",
      "\u001b[0;31mTypeError\u001b[0m: cannot unpack non-iterable int object"
     ]
    }
   ],
   "source": [
    "# recovery: best match recovery operation based on decoder\n",
    "recovery=my_code.new_pauli()\n",
    "recovery = my_decoder.decode(my_code,syndrome)\n",
    "qsu.print_pauli('recovery:\\n{}'.format(my_code.new_pauli(recovery)))\n",
    "print(recovery[0:my_code.n_k_d[0]])\n",
    "print(recovery[my_code.n_k_d[0]:2*my_code.n_k_d[0]])\n"
   ]
  },
  {
   "cell_type": "code",
   "execution_count": 57,
   "metadata": {},
   "outputs": [
    {
     "name": "stdout",
     "output_type": "stream",
     "text": [
      "0 0\n",
      "0 2\n",
      "0 4\n",
      "0 6\n",
      "2 0\n",
      "2 2\n",
      "2 4\n",
      "2 6\n",
      "4 0\n",
      "4 2\n",
      "4 4\n",
      "4 6\n",
      "6 0\n",
      "6 2\n",
      "6 4\n",
      "6 6\n",
      "1 1\n",
      "1 3\n",
      "1 5\n",
      "3 1\n",
      "3 3\n",
      "3 5\n",
      "5 1\n",
      "5 3\n",
      "5 5\n"
     ]
    }
   ],
   "source": [
    "perm_mat_sample=np.zeros((7,7),dtype=int)\n",
    "perm_mat=np.zeros(perm_mat_sample.shape,dtype=int)\n",
    "n_qubits =my_code.n_k_d[0]\n",
    "perm_vec=[]\n",
    "\n",
    "for row,col in np.ndindex(perm_mat.shape):\n",
    "    if row%2==0 and col%2==0:\n",
    "        print(row,col)\n",
    "for row,col in np.ndindex(perm_mat.shape):\n",
    "    if row%2==1 and col%2==1:\n",
    "        print(row,col)"
   ]
  },
  {
   "cell_type": "code",
   "execution_count": 58,
   "metadata": {},
   "outputs": [
    {
     "data": {
      "text/plain": [
       "'random'"
      ]
     },
     "execution_count": 58,
     "metadata": {},
     "output_type": "execute_result"
    }
   ],
   "source": [
    "code='random_allll'\n",
    "code[:6]"
   ]
  },
  {
   "cell_type": "markdown",
   "metadata": {},
   "source": [
    "As a sanity check, we expect $recovery \\oplus error$ to commute with all stabilizers, i.e. $(recovery \\oplus error) \\odot stabilisers^T = 0$."
   ]
  },
  {
   "cell_type": "code",
   "execution_count": 97,
   "metadata": {},
   "outputs": [
    {
     "name": "stdout",
     "output_type": "stream",
     "text": [
      "[0 0 0 1 0 0 0 1 0 0 0 0 0 0 0 0 0 1 0 0 0 0 0 0]\n"
     ]
    },
    {
     "data": {
      "text/plain": [
       "array([0, 0, 0, 0, 0, 0, 0, 1, 0, 0, 0, 0, 0, 0, 0, 0, 0, 0, 0, 0, 0, 0,\n",
       "       0, 0, 0, 0, 0, 0, 0, 0, 0, 0, 1, 0, 0, 0, 0, 0, 0, 0, 0, 0, 0, 0,\n",
       "       0, 0, 0, 0, 0, 0])"
      ]
     },
     "execution_count": 97,
     "metadata": {},
     "output_type": "execute_result"
    }
   ],
   "source": [
    "# check recovery ^ error commutes with stabilizers (by construction)\n",
    "print(pt.bsp(recovery, my_code.stabilizers.T))\n",
    "recovery"
   ]
  },
  {
   "cell_type": "markdown",
   "metadata": {},
   "source": [
    "### Visualise $recovery \\oplus error$\n",
    "Just out of curiosity, we can see what $recovery \\oplus error$ looks like. If successful, it should be a product of stabilizer plaquette / vertex operators."
   ]
  },
  {
   "cell_type": "code",
   "execution_count": 17,
   "metadata": {},
   "outputs": [
    {
     "data": {
      "text/html": [
       "<div class=\"highlight\"><pre style=\"line-height:1!important;\">recovery ^ error:\n",
       "<span style=\"color:red; font-weight:bold\">X</span>─┬─<span style=\"color:red; font-weight:bold\">X</span>─┬─·─┬─<span style=\"color:red; font-weight:bold\">X</span>─┬─<span style=\"color:magenta; font-weight:bold\">Y</span>\n",
       "  ·   ·   ·   <span style=\"color:magenta; font-weight:bold\">Y</span>  \n",
       "<span style=\"color:red; font-weight:bold\">X</span>─┼─<span style=\"color:magenta; font-weight:bold\">Y</span>─┼─<span style=\"color:blue; font-weight:bold\">Z</span>─┼─·─┼─<span style=\"color:blue; font-weight:bold\">Z</span>\n",
       "  <span style=\"color:magenta; font-weight:bold\">Y</span>   ·   <span style=\"color:blue; font-weight:bold\">Z</span>   ·  \n",
       "·─┼─<span style=\"color:blue; font-weight:bold\">Z</span>─┼─·─┼─<span style=\"color:blue; font-weight:bold\">Z</span>─┼─<span style=\"color:blue; font-weight:bold\">Z</span>\n",
       "  ·   <span style=\"color:blue; font-weight:bold\">Z</span>   ·   ·  \n",
       "<span style=\"color:blue; font-weight:bold\">Z</span>─┼─<span style=\"color:blue; font-weight:bold\">Z</span>─┼─·─┼─·─┼─·\n",
       "  <span style=\"color:red; font-weight:bold\">X</span>   ·   ·   ·  \n",
       "<span style=\"color:magenta; font-weight:bold\">Y</span>─┴─<span style=\"color:magenta; font-weight:bold\">Y</span>─┴─<span style=\"color:blue; font-weight:bold\">Z</span>─┴─<span style=\"color:blue; font-weight:bold\">Z</span>─┴─<span style=\"color:blue; font-weight:bold\">Z</span></pre></div>"
      ],
      "text/plain": [
       "<IPython.core.display.HTML object>"
      ]
     },
     "metadata": {},
     "output_type": "display_data"
    }
   ],
   "source": [
    "# print recovery ^ error (out of curiosity)\n",
    "qsu.print_pauli('recovery ^ error:\\n{}'.format(my_code.new_pauli(recovery ^ error)))"
   ]
  },
  {
   "cell_type": "markdown",
   "metadata": {},
   "source": [
    "### Test if the recovery operation is successful\n",
    "The recovery operation is successful iff $recovery \\oplus error$ commutes with all logical operators, i.e. $(recovery \\oplus error) \\odot logicals^T = 0.$"
   ]
  },
  {
   "cell_type": "code",
   "execution_count": 18,
   "metadata": {},
   "outputs": [
    {
     "name": "stdout",
     "output_type": "stream",
     "text": [
      "[0 0]\n"
     ]
    }
   ],
   "source": [
    "# success iff recovery ^ error commutes with logicals\n",
    "print(pt.bsp(recovery ^ error, my_code.logicals.T))"
   ]
  },
  {
   "cell_type": "markdown",
   "metadata": {},
   "source": [
    "Note: The decoder is not guaranteed to find a successful recovery operation. The planar 5 x 5 code has distance $d = 5$ so we can only guarantee to correct errors up to weight $(d - 1)/2=2$."
   ]
  },
  {
   "cell_type": "markdown",
   "metadata": {
    "collapsed": true
   },
   "source": [
    "### Equivalent code in single call\n",
    "The above demo is equivalent to the following code."
   ]
  },
  {
   "cell_type": "code",
   "execution_count": 19,
   "metadata": {},
   "outputs": [
    {
     "name": "stdout",
     "output_type": "stream",
     "text": [
      "{'error_weight': 2, 'success': True, 'logical_commutations': array([0, 0]), 'custom_values': None}\n"
     ]
    }
   ],
   "source": [
    "# repeat demo in single call\n",
    "from qecsim import app\n",
    "print(app.run_once(my_code, my_error_model, my_decoder, error_probability))"
   ]
  },
  {
   "cell_type": "code",
   "execution_count": 20,
   "metadata": {},
   "outputs": [
    {
     "ename": "AttributeError",
     "evalue": "'numpy.ndarray' object has no attribute 'code'",
     "output_type": "error",
     "traceback": [
      "\u001b[0;31m---------------------------------------------------------------------------\u001b[0m",
      "\u001b[0;31mAttributeError\u001b[0m                            Traceback (most recent call last)",
      "\u001b[0;32m<ipython-input-20-127147a0f5d2>\u001b[0m in \u001b[0;36m<module>\u001b[0;34m\u001b[0m\n\u001b[0;32m----> 1\u001b[0;31m \u001b[0mrecovery\u001b[0m\u001b[0;34m.\u001b[0m\u001b[0mcode\u001b[0m\u001b[0;34m\u001b[0m\u001b[0;34m\u001b[0m\u001b[0m\n\u001b[0m",
      "\u001b[0;31mAttributeError\u001b[0m: 'numpy.ndarray' object has no attribute 'code'"
     ]
    }
   ],
   "source": [
    "recovery.code"
   ]
  },
  {
   "cell_type": "code",
   "execution_count": 39,
   "metadata": {},
   "outputs": [],
   "source": [
    "sample_pauli=recovery\n",
    "tn = np.empty((2 * sample_pauli.code.size[0] - 1, 2 * sample_pauli.code.size[1] - 1), dtype=object)\n",
    "# index to direction maps\n",
    "row_to_direction = {0: 'n', tn.shape[0] - 1: 's'}\n",
    "col_to_direction = {0: 'w', tn.shape[1] - 1: 'e'}"
   ]
  },
  {
   "cell_type": "code",
   "execution_count": 40,
   "metadata": {},
   "outputs": [
    {
     "data": {
      "text/plain": [
       "''"
      ]
     },
     "execution_count": 40,
     "metadata": {},
     "output_type": "execute_result"
    }
   ],
   "source": [
    "row_to_direction.get(1,'')"
   ]
  },
  {
   "cell_type": "code",
   "execution_count": 30,
   "metadata": {},
   "outputs": [
    {
     "data": {
      "text/plain": [
       "(2, 1, 1, 2)"
      ]
     },
     "execution_count": 30,
     "metadata": {},
     "output_type": "execute_result"
    }
   ],
   "source": [
    "{'n': (1, 2, 2, 2),\n",
    "'ne': (1, 1, 2, 2),\n",
    "'e': (2, 1, 2, 2),\n",
    "'se': (2, 1, 1, 2),\n",
    "'s': (2, 2, 1, 2),\n",
    "'sw': (2, 2, 1, 1),\n",
    "'w': (2, 2, 2, 1),\n",
    "'nw': (1, 2, 2, 1),}.get('se')"
   ]
  },
  {
   "cell_type": "code",
   "execution_count": 34,
   "metadata": {},
   "outputs": [],
   "source": [
    "import functools\n",
    "import json\n",
    "import logging\n",
    "import operator\n",
    "\n",
    "import numpy as np\n",
    "from mpmath import mp\n",
    "\n",
    "from qecsim import paulitools as pt, tensortools as tt\n",
    "from qecsim.model import Decoder, cli_description\n",
    "from qecsim.models.generic import DepolarizingErrorModel\n",
    "recovery=sample_recovery(my_code, syndrome)"
   ]
  },
  {
   "cell_type": "code",
   "execution_count": 30,
   "metadata": {},
   "outputs": [
    {
     "data": {
      "text/plain": [
       "<bound method PlanarPauli.operator of PlanarPauli(PlanarCode(4, 4), array([0, 1, 0, 0, 0, 1, 0, 0, 0, 0, 0, 0, 0, 1, 0, 0, 0, 0, 0, 0, 0, 0,\n",
       "       0, 0, 0, 0, 0, 0, 0, 0, 0, 0, 1, 0, 1, 0, 0, 0, 0, 0, 0, 0, 0, 0,\n",
       "       0, 0, 0, 0, 0, 0]))>"
      ]
     },
     "execution_count": 30,
     "metadata": {},
     "output_type": "execute_result"
    }
   ],
   "source": [
    "recovery.operator"
   ]
  },
  {
   "cell_type": "code",
   "execution_count": 32,
   "metadata": {},
   "outputs": [
    {
     "name": "stdout",
     "output_type": "stream",
     "text": [
      "0 0 I\n",
      "0 2 X\n",
      "2 0 I\n",
      "2 2 X\n"
     ]
    }
   ],
   "source": [
    "for row,col in np.ndindex((4,4)):\n",
    "    if row%2==0 and col%2==0:\n",
    "        print(row,col,recovery.operator((row,col)))"
   ]
  },
  {
   "cell_type": "code",
   "execution_count": 27,
   "metadata": {},
   "outputs": [],
   "source": [
    "def sample_recovery(code, syndrome):\n",
    "        \"\"\"\n",
    "        Return a sample Pauli consistent with the syndrome, created by applying a path between each plaquette identified\n",
    "        by the syndrome and the nearest boundary of the same type as the plaquette.\n",
    "\n",
    "        :param code: Planar code.\n",
    "        :type code: PlanarCode\n",
    "        :param syndrome: Syndrome as binary vector.\n",
    "        :type syndrome: numpy.array (1d)\n",
    "        :return: Sample recovery operation as planar pauli.\n",
    "        :rtype: PlanarPauli\n",
    "        \"\"\"\n",
    "        # prepare sample\n",
    "        sample_recovery = code.new_pauli()\n",
    "        # ask code for syndrome plaquette_indices\n",
    "        plaquette_indices = code.syndrome_to_plaquette_indices(syndrome)\n",
    "        # for each plaquette\n",
    "        for index in plaquette_indices:\n",
    "            # find nearest off-boundary plaquette\n",
    "            virtual_index = code.virtual_plaquette_index(index)\n",
    "            # add path to boundary\n",
    "            sample_recovery.path(index, virtual_index)\n",
    "        # return sample\n",
    "        return sample_recovery"
   ]
  },
  {
   "cell_type": "code",
   "execution_count": 43,
   "metadata": {},
   "outputs": [
    {
     "data": {
      "text/plain": [
       "'Y'"
      ]
     },
     "execution_count": 43,
     "metadata": {},
     "output_type": "execute_result"
    }
   ],
   "source": [
    "sample_pauli.operator((2,2))"
   ]
  },
  {
   "cell_type": "code",
   "execution_count": 45,
   "metadata": {},
   "outputs": [],
   "source": [
    "def node_shape(compass_direction=None):\n",
    "            \"\"\"Return shape of tensor including dummy indices.\"\"\"\n",
    "            return {\n",
    "                'n': (1, 2, 2, 2),\n",
    "                'ne': (1, 1, 2, 2),\n",
    "                'e': (2, 1, 2, 2),\n",
    "                'se': (2, 1, 1, 2),\n",
    "                's': (2, 2, 1, 2),\n",
    "                'sw': (2, 2, 1, 1),\n",
    "                'w': (2, 2, 2, 1),\n",
    "                'nw': (1, 2, 2, 1),\n",
    "            }.get(compass_direction, (2, 2, 2, 2))\n"
   ]
  },
  {
   "cell_type": "code",
   "execution_count": 46,
   "metadata": {},
   "outputs": [
    {
     "data": {
      "text/plain": [
       "(2, 2, 2, 2)"
      ]
     },
     "execution_count": 46,
     "metadata": {},
     "output_type": "execute_result"
    }
   ],
   "source": [
    "node_shape()"
   ]
  },
  {
   "cell_type": "code",
   "execution_count": 48,
   "metadata": {},
   "outputs": [],
   "source": [
    "def h_node_value(prob_dist, f, n, e, s, w):\n",
    "            \"\"\"Return horizontal edge tensor element value.\"\"\"\n",
    "            paulis = ('I', 'X', 'Y', 'Z')\n",
    "            op_to_pr = dict(zip(paulis, prob_dist))\n",
    "            f = pt.pauli_to_bsf(f)\n",
    "            I, X, Y, Z = pt.pauli_to_bsf(paulis)\n",
    "            # n, e, s, w are in {0, 1} so multiply op to turn on or off\n",
    "            op = (f + (n * Z) + (e * X) + (s * Z) + (w * X)) % 2\n",
    "            return op_to_pr[pt.bsf_to_pauli(op)]\n"
   ]
  },
  {
   "cell_type": "code",
   "execution_count": 62,
   "metadata": {},
   "outputs": [
    {
     "data": {
      "text/plain": [
       "0.4"
      ]
     },
     "execution_count": 62,
     "metadata": {},
     "output_type": "execute_result"
    }
   ],
   "source": [
    "h_node_value([0.1,0.3,0.4,0.2],'X',0,1,1,1)"
   ]
  },
  {
   "cell_type": "code",
   "execution_count": 61,
   "metadata": {},
   "outputs": [
    {
     "name": "stdout",
     "output_type": "stream",
     "text": [
      "0 0 0 0 0.0\n",
      "0 0 0 1 0.4\n",
      "0 0 1 0 0.1\n",
      "0 0 1 1 0.3\n",
      "0 1 0 0 0.4\n",
      "0 1 0 1 0.0\n",
      "0 1 1 0 0.3\n",
      "0 1 1 1 0.1\n"
     ]
    }
   ],
   "source": [
    "node = np.empty(node_shape('n'), dtype=np.float64)\n",
    "for n, e, s, w in np.ndindex(node.shape):\n",
    "    print(n,e,s,w,h_node_value([0.1,0.3,0.4,0.0],'Z',n,e,s,w))"
   ]
  },
  {
   "cell_type": "code",
   "execution_count": 69,
   "metadata": {},
   "outputs": [
    {
     "name": "stdout",
     "output_type": "stream",
     "text": [
      "{'I': 0.1, 'X': 0.3, 'Y': 0.4, 'Z': 0.2}\n"
     ]
    }
   ],
   "source": [
    "paulis = ('I', 'X', 'Y', 'Z')\n",
    "prob_dist=[0.1,0.3,0.4,0.2]\n",
    "op_to_pr = dict(zip(paulis, prob_dist))\n",
    "print(op_to_pr)\n",
    "\n"
   ]
  },
  {
   "cell_type": "code",
   "execution_count": 71,
   "metadata": {},
   "outputs": [
    {
     "name": "stdout",
     "output_type": "stream",
     "text": [
      "[0 1]\n"
     ]
    }
   ],
   "source": [
    "f=pt.pauli_to_bsf('Z')\n",
    "print(f)"
   ]
  },
  {
   "cell_type": "code",
   "execution_count": 75,
   "metadata": {},
   "outputs": [
    {
     "data": {
      "text/plain": [
       "0.3"
      ]
     },
     "execution_count": 75,
     "metadata": {},
     "output_type": "execute_result"
    }
   ],
   "source": [
    "op_to_pr['X']"
   ]
  },
  {
   "cell_type": "code",
   "execution_count": 76,
   "metadata": {},
   "outputs": [
    {
     "name": "stdout",
     "output_type": "stream",
     "text": [
      "[0 0] [1 0] [1 1] [0 1]\n"
     ]
    }
   ],
   "source": [
    "I, X, Y, Z = pt.pauli_to_bsf(paulis)\n",
    "print(I,X,Y,Z)"
   ]
  },
  {
   "cell_type": "code",
   "execution_count": 80,
   "metadata": {},
   "outputs": [
    {
     "name": "stdout",
     "output_type": "stream",
     "text": [
      "[1 0]\n"
     ]
    },
    {
     "data": {
      "text/plain": [
       "0.3"
      ]
     },
     "execution_count": 80,
     "metadata": {},
     "output_type": "execute_result"
    }
   ],
   "source": [
    "op=(f+1*I+1*Y)%2\n",
    "print(op)\n",
    "op_to_pr[pt.bsf_to_pauli(op)]"
   ]
  },
  {
   "cell_type": "code",
   "execution_count": 82,
   "metadata": {},
   "outputs": [],
   "source": [
    "direction = row_to_direction.get(0, '')+col_to_direction.get(0, '')"
   ]
  },
  {
   "cell_type": "code",
   "execution_count": 83,
   "metadata": {},
   "outputs": [
    {
     "data": {
      "text/plain": [
       "'nw'"
      ]
     },
     "execution_count": 83,
     "metadata": {},
     "output_type": "execute_result"
    }
   ],
   "source": [
    "direction"
   ]
  },
  {
   "cell_type": "code",
   "execution_count": 113,
   "metadata": {},
   "outputs": [
    {
     "name": "stdout",
     "output_type": "stream",
     "text": [
      "0 0\n",
      "0 2\n",
      "0 4\n",
      "2 0\n",
      "2 2\n",
      "2 4\n",
      "4 0\n",
      "4 2\n",
      "4 4\n"
     ]
    }
   ],
   "source": [
    "for row,col in np.ndindex((5,5)):\n",
    "    if row%2==0 and col%2==0:\n",
    "        print(row,col)"
   ]
  },
  {
   "cell_type": "code",
   "execution_count": null,
   "metadata": {},
   "outputs": [],
   "source": []
  }
 ],
 "metadata": {
  "anaconda-cloud": {},
  "kernelspec": {
   "display_name": "Python 3",
   "language": "python",
   "name": "python3"
  },
  "language_info": {
   "codemirror_mode": {
    "name": "ipython",
    "version": 3
   },
   "file_extension": ".py",
   "mimetype": "text/x-python",
   "name": "python",
   "nbconvert_exporter": "python",
   "pygments_lexer": "ipython3",
   "version": "3.8.5"
  }
 },
 "nbformat": 4,
 "nbformat_minor": 1
}
