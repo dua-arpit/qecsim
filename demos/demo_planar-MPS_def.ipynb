{
 "cells": [
  {
   "cell_type": "markdown",
   "metadata": {
    "collapsed": true
   },
   "source": [
    "# qecsim demos"
   ]
  },
  {
   "cell_type": "markdown",
   "metadata": {},
   "source": [
    "## Simulating error correction with a planar stabilizer code\n",
    "This demo shows verbosely how to simulate one error correction run. \n",
    "\n",
    "| For normal use, the code in this demo is encapsulated in the function:\n",
    "| `qecsim.app.run_once(code, error_model, decoder, error_probability)`,\n",
    "| and the simulation of many error correction runs is encapsulated in the function:\n",
    "| `qecsim.app.run(code, error_model, decoder, error_probability, max_runs, max_failures)`.\n",
    "\n",
    "Notes:\n",
    "\n",
    "* Operators can be visualised in binary symplectic form (bsf) or Pauli form, e.g. `[1 1 0|0 1 0] = XYI`.\n",
    "* The binary symplectic product is denoted by $\\odot$ and defined as $A \\odot B \\equiv A \\Lambda B \\bmod 2$ where $\\Lambda = \\left[\\begin{matrix} 0 & I \\\\ I & 0 \\end{matrix}\\right]$.\n",
    "* Binary addition is denoted by $\\oplus$ and defined as addition modulo 2, or equivalently exclusive-or."
   ]
  },
  {
   "cell_type": "markdown",
   "metadata": {},
   "source": [
    "### Initialise the models"
   ]
  },
  {
   "cell_type": "code",
   "execution_count": 27,
   "metadata": {},
   "outputs": [
    {
     "name": "stdout",
     "output_type": "stream",
     "text": [
      "PlanarCode(5, 5)\n",
      "DepolarizingErrorModel()\n",
      "PlanarMPSDecoder_def(None, 'c', None, None)\n"
     ]
    }
   ],
   "source": [
    "%run qsu.ipynb  # color-printing functions\n",
    "import numpy as np\n",
    "from qecsim import paulitools as pt\n",
    "from qecsim.models.generic import DepolarizingErrorModel\n",
    "from qecsim.models.planar import PlanarCode, PlanarMWPMDecoder, PlanarMPSDecoder\n",
    "from _planarmpsdecoder_def import PlanarMPSDecoder_def\n",
    "\n",
    "# initialise models\n",
    "my_code = PlanarCode(5, 5)\n",
    "my_error_model = DepolarizingErrorModel()\n",
    "my_decoder = PlanarMPSDecoder_def()\n",
    "# print models\n",
    "print(my_code)\n",
    "print(my_error_model)\n",
    "print(my_decoder)"
   ]
  },
  {
   "cell_type": "markdown",
   "metadata": {},
   "source": [
    "### Generate a random error"
   ]
  },
  {
   "cell_type": "code",
   "execution_count": 28,
   "metadata": {},
   "outputs": [
    {
     "data": {
      "text/html": [
       "<div class=\"highlight\"><pre style=\"line-height:1!important;\">error:\n",
       "·─┬─·─┬─·─┬─·─┬─·\n",
       "  ·   ·   ·   <span style=\"color:magenta; font-weight:bold\">Y</span>  \n",
       "·─┼─·─┼─<span style=\"color:blue; font-weight:bold\">Z</span>─┼─·─┼─<span style=\"color:magenta; font-weight:bold\">Y</span>\n",
       "  <span style=\"color:magenta; font-weight:bold\">Y</span>   ·   <span style=\"color:blue; font-weight:bold\">Z</span>   ·  \n",
       "·─┼─·─┼─·─┼─·─┼─·\n",
       "  ·   <span style=\"color:blue; font-weight:bold\">Z</span>   ·   ·  \n",
       "·─┼─·─┼─·─┼─·─┼─·\n",
       "  <span style=\"color:red; font-weight:bold\">X</span>   ·   ·   ·  \n",
       "·─┴─·─┴─·─┴─·─┴─·</pre></div>"
      ],
      "text/plain": [
       "<IPython.core.display.HTML object>"
      ]
     },
     "metadata": {},
     "output_type": "display_data"
    }
   ],
   "source": [
    "# set physical error probability to 10%\n",
    "error_probability = 0.1\n",
    "# seed random number generator for repeatability\n",
    "rng = np.random.default_rng(59)\n",
    "\n",
    "# error: random error based on error probability\n",
    "error = my_error_model.generate(my_code, error_probability, rng)\n",
    "qsu.print_pauli('error:\\n{}'.format(my_code.new_pauli(error)))"
   ]
  },
  {
   "cell_type": "markdown",
   "metadata": {},
   "source": [
    "### Evaluate the syndrome\n",
    "The syndrome is a binary array indicating the stabilizers with which the error does not commute. It is calculated as $syndrome = error \\odot stabilisers^T$."
   ]
  },
  {
   "cell_type": "code",
   "execution_count": 13,
   "metadata": {},
   "outputs": [
    {
     "data": {
      "text/html": [
       "<div class=\"highlight\"><pre style=\"line-height:1!important;\">syndrome:\n",
       "──┬───┬───┬───<span style=\"color:red; font-weight:bold\">X</span>──\n",
       "  │   │   │ <span style=\"color:blue; font-weight:bold\">Z</span> │  \n",
       "──<span style=\"color:red; font-weight:bold\">X</span>───<span style=\"color:red; font-weight:bold\">X</span>───┼───┼──\n",
       "<span style=\"color:blue; font-weight:bold\">Z</span> │ <span style=\"color:blue; font-weight:bold\">Z</span> │   │   │ <span style=\"color:blue; font-weight:bold\">Z</span>\n",
       "──<span style=\"color:red; font-weight:bold\">X</span>───<span style=\"color:red; font-weight:bold\">X</span>───<span style=\"color:red; font-weight:bold\">X</span>───┼──\n",
       "  │   │   │   │  \n",
       "──┼───<span style=\"color:red; font-weight:bold\">X</span>───┼───┼──\n",
       "<span style=\"color:blue; font-weight:bold\">Z</span> │ <span style=\"color:blue; font-weight:bold\">Z</span> │   │   │  \n",
       "──┴───┴───┴───┴──</pre></div>"
      ],
      "text/plain": [
       "<IPython.core.display.HTML object>"
      ]
     },
     "metadata": {},
     "output_type": "display_data"
    }
   ],
   "source": [
    "# syndrome: stabilizers that do not commute with the error\n",
    "syndrome = pt.bsp(error, my_code.stabilizers.T)\n",
    "qsu.print_pauli('syndrome:\\n{}'.format(my_code.ascii_art(syndrome)))"
   ]
  },
  {
   "cell_type": "markdown",
   "metadata": {},
   "source": [
    "### Find a recovery operation\n",
    "In this case, the recovery operation is found by a minimum weight perfect matching decoder that finds the recovery operation as follows:\n",
    "\n",
    "* The syndrome is resolved to plaquettes using: `PlanarCode.syndrome_to_plaquette_indices`.\n",
    "* For each plaquette, the nearest corresponding off-boundary plaquette is found using: `PlanarCode.virtual_plaquette_index`.\n",
    "* A graph between plaquettes is built with weights given by: `PlanarMWPMDecoder.distance`.\n",
    "* A MWPM algorithm is used to match plaquettes into pairs.\n",
    "* A recovery operator is constructed by applying the shortest path between matching plaquette pairs using:\n",
    "  `PlanarPauli.path`."
   ]
  },
  {
   "cell_type": "code",
   "execution_count": 24,
   "metadata": {},
   "outputs": [
    {
     "data": {
      "text/html": [
       "<div class=\"highlight\"><pre style=\"line-height:1!important;\">recovery:\n",
       "<span style=\"color:red; font-weight:bold\">X</span>─┬─<span style=\"color:red; font-weight:bold\">X</span>─┬─·─┬─<span style=\"color:red; font-weight:bold\">X</span>─┬─<span style=\"color:magenta; font-weight:bold\">Y</span>\n",
       "  ·   ·   ·   ·  \n",
       "<span style=\"color:red; font-weight:bold\">X</span>─┼─<span style=\"color:magenta; font-weight:bold\">Y</span>─┼─·─┼─·─┼─<span style=\"color:red; font-weight:bold\">X</span>\n",
       "  ·   ·   ·   ·  \n",
       "·─┼─<span style=\"color:blue; font-weight:bold\">Z</span>─┼─·─┼─<span style=\"color:blue; font-weight:bold\">Z</span>─┼─<span style=\"color:blue; font-weight:bold\">Z</span>\n",
       "  ·   ·   ·   ·  \n",
       "<span style=\"color:blue; font-weight:bold\">Z</span>─┼─<span style=\"color:blue; font-weight:bold\">Z</span>─┼─·─┼─·─┼─·\n",
       "  ·   ·   ·   ·  \n",
       "<span style=\"color:magenta; font-weight:bold\">Y</span>─┴─<span style=\"color:magenta; font-weight:bold\">Y</span>─┴─<span style=\"color:blue; font-weight:bold\">Z</span>─┴─<span style=\"color:blue; font-weight:bold\">Z</span>─┴─<span style=\"color:blue; font-weight:bold\">Z</span></pre></div>"
      ],
      "text/plain": [
       "<IPython.core.display.HTML object>"
      ]
     },
     "metadata": {},
     "output_type": "display_data"
    }
   ],
   "source": [
    "# recovery: best match recovery operation based on decoder\n",
    "recovery = my_decoder.decode(my_code,hadamard_mat,syndrome)\n",
    "qsu.print_pauli('recovery:\\n{}'.format(my_code.new_pauli(recovery)))"
   ]
  },
  {
   "cell_type": "markdown",
   "metadata": {},
   "source": [
    "As a sanity check, we expect $recovery \\oplus error$ to commute with all stabilizers, i.e. $(recovery \\oplus error) \\odot stabilisers^T = 0$."
   ]
  },
  {
   "cell_type": "code",
   "execution_count": 25,
   "metadata": {},
   "outputs": [
    {
     "name": "stdout",
     "output_type": "stream",
     "text": [
      "[0 0 0 0 0 0 0 0 0 0 0 0 0 0 0 0 0 0 0 0 0 0 0 0 0 0 0 0 0 0 0 0 0 0 0 0 0\n",
      " 0 0 0]\n"
     ]
    }
   ],
   "source": [
    "# check recovery ^ error commutes with stabilizers (by construction)\n",
    "print(pt.bsp(recovery ^ error, my_code.stabilizers.T))"
   ]
  },
  {
   "cell_type": "markdown",
   "metadata": {},
   "source": [
    "### Visualise $recovery \\oplus error$\n",
    "Just out of curiosity, we can see what $recovery \\oplus error$ looks like. If successful, it should be a product of stabilizer plaquette / vertex operators."
   ]
  },
  {
   "cell_type": "code",
   "execution_count": 7,
   "metadata": {},
   "outputs": [
    {
     "data": {
      "text/html": [
       "<div class=\"highlight\"><pre style=\"line-height:1!important;\">recovery ^ error:\n",
       "·─┬─·─┬─·─┬─·─┬─<span style=\"color:blue; font-weight:bold\">Z</span>\n",
       "  ·   ·   ·   <span style=\"color:blue; font-weight:bold\">Z</span>  \n",
       "·─┼─·─┼─·─┼─·─┼─<span style=\"color:blue; font-weight:bold\">Z</span>\n",
       "  ·   ·   ·   ·  \n",
       "·─┼─·─┼─·─┼─·─┼─·\n",
       "  ·   ·   ·   ·  \n",
       "·─┼─·─┼─·─┼─·─┼─·\n",
       "  ·   ·   ·   ·  \n",
       "·─┴─·─┴─·─┴─·─┴─·</pre></div>"
      ],
      "text/plain": [
       "<IPython.core.display.HTML object>"
      ]
     },
     "metadata": {},
     "output_type": "display_data"
    }
   ],
   "source": [
    "# print recovery ^ error (out of curiosity)\n",
    "qsu.print_pauli('recovery ^ error:\\n{}'.format(my_code.new_pauli(recovery ^ error)))"
   ]
  },
  {
   "cell_type": "markdown",
   "metadata": {},
   "source": [
    "### Test if the recovery operation is successful\n",
    "The recovery operation is successful iff $recovery \\oplus error$ commutes with all logical operators, i.e. $(recovery \\oplus error) \\odot logicals^T = 0.$"
   ]
  },
  {
   "cell_type": "code",
   "execution_count": 8,
   "metadata": {},
   "outputs": [
    {
     "name": "stdout",
     "output_type": "stream",
     "text": [
      "[0 0]\n"
     ]
    }
   ],
   "source": [
    "# success iff recovery ^ error commutes with logicals\n",
    "print(pt.bsp(recovery ^ error, my_code.logicals.T))"
   ]
  },
  {
   "cell_type": "markdown",
   "metadata": {},
   "source": [
    "Note: The decoder is not guaranteed to find a successful recovery operation. The planar 5 x 5 code has distance $d = 5$ so we can only guarantee to correct errors up to weight $(d - 1)/2=2$."
   ]
  },
  {
   "cell_type": "markdown",
   "metadata": {
    "collapsed": true
   },
   "source": [
    "### Equivalent code in single call\n",
    "The above demo is equivalent to the following code."
   ]
  },
  {
   "cell_type": "code",
   "execution_count": 26,
   "metadata": {},
   "outputs": [
    {
     "name": "stdout",
     "output_type": "stream",
     "text": [
      "{'error_weight': 7, 'success': True, 'logical_commutations': array([0, 0]), 'custom_values': None}\n"
     ]
    }
   ],
   "source": [
    "# repeat demo in single call\n",
    "from qecsim import app\n",
    "print(app.run_once(my_code, my_error_model, my_decoder, error_probability))"
   ]
  },
  {
   "cell_type": "code",
   "execution_count": null,
   "metadata": {},
   "outputs": [],
   "source": []
  }
 ],
 "metadata": {
  "anaconda-cloud": {},
  "kernelspec": {
   "display_name": "Python 3",
   "language": "python",
   "name": "python3"
  },
  "language_info": {
   "codemirror_mode": {
    "name": "ipython",
    "version": 3
   },
   "file_extension": ".py",
   "mimetype": "text/x-python",
   "name": "python",
   "nbconvert_exporter": "python",
   "pygments_lexer": "ipython3",
   "version": "3.7.7"
  }
 },
 "nbformat": 4,
 "nbformat_minor": 1
}
