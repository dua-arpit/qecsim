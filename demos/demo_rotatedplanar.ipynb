{
 "cells": [
  {
   "cell_type": "markdown",
   "metadata": {
    "collapsed": true
   },
   "source": [
    "# qecsim demos"
   ]
  },
  {
   "cell_type": "markdown",
   "metadata": {},
   "source": [
    "## Simulating error correction with a rotated planar stabilizer code\n",
    "This demo shows verbosely how to simulate one error correction run. \n",
    "\n",
    "| For normal use, the code in this demo is encapsulated in the function:\n",
    "| `qecsim.app.run_once(code, error_model, decoder, error_probability)`,\n",
    "| and the simulation of many error correction runs is encapsulated in the function:\n",
    "| `qecsim.app.run(code, error_model, decoder, error_probability, max_runs, max_failures)`.\n",
    "\n",
    "Notes:\n",
    "\n",
    "* Operators can be visualised in binary symplectic form (bsf) or Pauli form, e.g. `[1 1 0|0 1 0] = XYI`.\n",
    "* The binary symplectic product is denoted by $\\odot$ and defined as $A \\odot B \\equiv A \\Lambda B \\bmod 2$ where $\\Lambda = \\left[\\begin{matrix} 0 & I \\\\ I & 0 \\end{matrix}\\right]$.\n",
    "* Binary addition is denoted by $\\oplus$ and defined as addition modulo 2, or equivalently exclusive-or."
   ]
  },
  {
   "cell_type": "markdown",
   "metadata": {},
   "source": [
    "### Initialise the models"
   ]
  },
  {
   "cell_type": "code",
   "execution_count": 3,
   "metadata": {},
   "outputs": [
    {
     "name": "stdout",
     "output_type": "stream",
     "text": [
      "RotatedPlanarCode(7, 7)\n",
      "DepolarizingErrorModel()\n",
      "RotatedPlanarMPSDecoder(8, 'c', None)\n"
     ]
    }
   ],
   "source": [
    "%run qsu.ipynb  # color-printing functions\n",
    "import collections\n",
    "import itertools\n",
    "import numpy as np\n",
    "from qecsim import paulitools as pt\n",
    "import matplotlib.pyplot as plt\n",
    "import qecsim\n",
    "from qecsim import app\n",
    "from qecsim.models.generic import PhaseFlipErrorModel,DepolarizingErrorModel,BiasedDepolarizingErrorModel\n",
    "from qecsim.models.planar import PlanarCode, PlanarMPSDecoder\n",
    "from qecsim.models.rotatedplanar import RotatedPlanarCode, RotatedPlanarMPSDecoder\n",
    "\n",
    "from _planarmpsdecoder_def import PlanarMPSDecoder_def\n",
    "from _rotatedplanarmpsdecoder_def import RotatedPlanarMPSDecoder_def\n",
    "import app_def\n",
    "import importlib as imp\n",
    "imp.reload(app_def)\n",
    "import os, time\n",
    "import multiprocessing as mp\n",
    "from functools import partial\n",
    "from itertools import cycle\n",
    "\n",
    "# initialise models\n",
    "my_code = RotatedPlanarCode(7, 7)\n",
    "my_error_model = DepolarizingErrorModel()\n",
    "my_decoder = RotatedPlanarMPSDecoder(chi=8)\n",
    "# print models\n",
    "print(my_code)\n",
    "print(my_error_model)\n",
    "print(my_decoder)"
   ]
  },
  {
   "cell_type": "code",
   "execution_count": 5,
   "metadata": {},
   "outputs": [
    {
     "name": "stdout",
     "output_type": "stream",
     "text": [
      "(5, 5)\n",
      "5 0\n"
     ]
    },
    {
     "data": {
      "text/plain": [
       "(10, 5)"
      ]
     },
     "execution_count": 5,
     "metadata": {},
     "output_type": "execute_result"
    }
   ],
   "source": [
    "code = RotatedPlanarCode(6,6)\n",
    "print(code.site_bounds)\n",
    "code_index=(0,0)\n",
    "code.is_z_plaquette(code_index)\n",
    "def _rotate_q_index(index, code):\n",
    "    \"\"\"Convert code site index in format (x, y) to tensor network q-node index in format (r, c)\"\"\"\n",
    "    site_x, site_y = index  # qubit index in (x, y)\n",
    "    site_r, site_c = code.site_bounds[1] - site_y, site_x  # qubit index in (r, c)\n",
    "    print(site_r, site_c)\n",
    "    return code.site_bounds[0] - site_c + site_r, site_r + site_c  # q-node index in (r, c)\n",
    "\n",
    "_rotate_q_index(code_index, code)"
   ]
  },
  {
   "cell_type": "code",
   "execution_count": 6,
   "metadata": {},
   "outputs": [
    {
     "name": "stdout",
     "output_type": "stream",
     "text": [
      "5 0\n",
      "5 5\n"
     ]
    },
    {
     "data": {
      "text/plain": [
       "(11, 11)"
      ]
     },
     "execution_count": 6,
     "metadata": {},
     "output_type": "execute_result"
    }
   ],
   "source": [
    "tn_max_r, _ = _rotate_q_index((0, 0), code)\n",
    "_, tn_max_c = _rotate_q_index((code.site_bounds[0], 0), code)\n",
    "tn = np.empty((tn_max_r + 1, tn_max_c + 1), dtype=object)\n",
    "tn.shape"
   ]
  },
  {
   "cell_type": "markdown",
   "metadata": {},
   "source": [
    "### Generate a random error"
   ]
  },
  {
   "cell_type": "code",
   "execution_count": 7,
   "metadata": {},
   "outputs": [],
   "source": [
    "import collections\n",
    "import itertools\n",
    "import numpy as np\n",
    "from qecsim import paulitools as pt\n",
    "import matplotlib.pyplot as plt\n",
    "import qecsim\n",
    "from qecsim import app\n",
    "from qecsim.models.generic import PhaseFlipErrorModel,DepolarizingErrorModel,BiasedDepolarizingErrorModel\n",
    "from qecsim.models.planar import PlanarCode, PlanarMPSDecoder\n",
    "from qecsim.models.rotatedplanar import RotatedPlanarCode, RotatedPlanarMPSDecoder\n",
    "\n",
    "from _planarmpsdecoder_def import PlanarMPSDecoder_def\n",
    "from _rotatedplanarmpsdecoder_def import RotatedPlanarMPSDecoder_def\n",
    "import app_def\n",
    "import importlib as imp\n",
    "imp.reload(app_def)\n",
    "import os, time\n",
    "import multiprocessing as mp\n",
    "from functools import partial\n",
    "from itertools import cycle"
   ]
  },
  {
   "cell_type": "code",
   "execution_count": 8,
   "metadata": {},
   "outputs": [
    {
     "data": {
      "text/html": [
       "<div class=\"highlight\"><pre style=\"line-height:1!important;\">error:\n",
       "      ┌───┐   ┌───┐      \n",
       "┌─·───·───<span style=\"color:blue; font-weight:bold\">Z</span>───<span style=\"color:red; font-weight:bold\">X</span>───·───·─┐\n",
       "│░│   │░░░│   │░░░│   │░│\n",
       "└─·───·───·───<span style=\"color:red; font-weight:bold\">X</span>───·───<span style=\"color:red; font-weight:bold\">X</span>─┘\n",
       "  │░░░│   │░░░│   │░░░│  \n",
       "┌─·───<span style=\"color:blue; font-weight:bold\">Z</span>───·───<span style=\"color:magenta; font-weight:bold\">Y</span>───·───<span style=\"color:blue; font-weight:bold\">Z</span>─┐\n",
       "│░│   │░░░│   │░░░│   │░│\n",
       "└─·───<span style=\"color:magenta; font-weight:bold\">Y</span>───<span style=\"color:magenta; font-weight:bold\">Y</span>───<span style=\"color:blue; font-weight:bold\">Z</span>───·───<span style=\"color:magenta; font-weight:bold\">Y</span>─┘\n",
       "  │░░░│   │░░░│   │░░░│  \n",
       "┌─<span style=\"color:red; font-weight:bold\">X</span>───<span style=\"color:magenta; font-weight:bold\">Y</span>───·───<span style=\"color:blue; font-weight:bold\">Z</span>───<span style=\"color:magenta; font-weight:bold\">Y</span>───·─┐\n",
       "│░│   │░░░│   │░░░│   │░│\n",
       "└─<span style=\"color:blue; font-weight:bold\">Z</span>───·───<span style=\"color:magenta; font-weight:bold\">Y</span>───·───·───·─┘\n",
       "      └───┘   └───┘      </pre></div>"
      ],
      "text/plain": [
       "<IPython.core.display.HTML object>"
      ]
     },
     "metadata": {},
     "output_type": "display_data"
    }
   ],
   "source": [
    "# set physical error probability to 10%\n",
    "error_probability = 0.4\n",
    "bias =0.5\n",
    "# seed random number generator for repeatability\n",
    "rng = np.random.default_rng(10)\n",
    "error_model = BiasedDepolarizingErrorModel(bias,'Z')\n",
    "chi_val=10\n",
    "decoder = RotatedPlanarMPSDecoder_def(chi=chi_val)\n",
    "    \n",
    "# error: random error based on error probability\n",
    "error = error_model.generate(code, error_probability, rng)\n",
    "qsu.print_pauli('error:\\n{}'.format(code.new_pauli(error)))"
   ]
  },
  {
   "cell_type": "markdown",
   "metadata": {},
   "source": [
    "### Evaluate the syndrome\n",
    "The syndrome is a binary array indicating the stabilizers with which the error does not commute. It is calculated as $syndrome = error \\odot stabilisers^T$."
   ]
  },
  {
   "cell_type": "code",
   "execution_count": 31,
   "metadata": {},
   "outputs": [
    {
     "data": {
      "text/html": [
       "<div class=\"highlight\"><pre style=\"line-height:1!important;\">syndrome:\n",
       "      ┌───┐   ┌───┐      \n",
       "┌─·───·───·───·───·───·─┐\n",
       "│░│   │░░░│   │░░░│   │░│\n",
       "└─·───·───·───·───·───·─┘\n",
       "  │░░░│ <span style=\"color:blue; font-weight:bold\">Z</span> │░░░│   │░<span style=\"color:red; font-weight:bold\">X</span>░│  \n",
       "┌─·───·───·───·───·───·─┐\n",
       "│░│ <span style=\"color:blue; font-weight:bold\">Z</span> │░░░│ <span style=\"color:blue; font-weight:bold\">Z</span> │░<span style=\"color:red; font-weight:bold\">X</span>░│   │░<span style=\"color:red; font-weight:bold\">X</span>\n",
       "└─·───·───·───·───·───·─┘\n",
       "  │░░░│   │░░░│   │░░░│  \n",
       "┌─·───·───·───·───·───·─┐\n",
       "<span style=\"color:red; font-weight:bold\">X</span>░│ <span style=\"color:blue; font-weight:bold\">Z</span> │░░░│ <span style=\"color:blue; font-weight:bold\">Z</span> │░<span style=\"color:red; font-weight:bold\">X</span>░│   │░│\n",
       "└─·───·───·───·───·───·─┘\n",
       "      └───┘   └───┘      </pre></div>"
      ],
      "text/plain": [
       "<IPython.core.display.HTML object>"
      ]
     },
     "metadata": {},
     "output_type": "display_data"
    }
   ],
   "source": [
    "# syndrome: stabilizers that do not commute with the error\n",
    "syndrome = pt.bsp(error, my_code.stabilizers.T)\n",
    "qsu.print_pauli('syndrome:\\n{}'.format(my_code.ascii_art(syndrome)))"
   ]
  },
  {
   "cell_type": "markdown",
   "metadata": {},
   "source": [
    "### Find a recovery operation\n",
    "In this case, the recovery operation is found by contracting a tensor network defined to have the value of the coset :\n",
    "\n",
    "* Create a sample recovery operation by applying strings of Paulis between syndrome plaquettes and appropriate boundaries.\n",
    "* Define tensor networks corresponding to the probability of each left coset of the generator group with the sample recovery and logical Pauli operations.\n",
    "* Contract each tensor network (approximately) to evaluate the coset probabilities.\n",
    "* Return any recovery from the most probable coset."
   ]
  },
  {
   "cell_type": "code",
   "execution_count": 32,
   "metadata": {},
   "outputs": [
    {
     "data": {
      "text/html": [
       "<div class=\"highlight\"><pre style=\"line-height:1!important;\">recovery:\n",
       "      ┌───┐   ┌───┐      \n",
       "┌─·───·───·───·───·───·─┐\n",
       "│░│   │░░░│   │░░░│   │░│\n",
       "└─·───·───·───·───·───·─┘\n",
       "  │░░░│   │░░░│   │░░░│  \n",
       "┌─<span style=\"color:red; font-weight:bold\">X</span>───<span style=\"color:red; font-weight:bold\">X</span>───·───·───<span style=\"color:blue; font-weight:bold\">Z</span>───·─┐\n",
       "│░│   │░░░│   │░░░│   │░│\n",
       "└─·───<span style=\"color:red; font-weight:bold\">X</span>───<span style=\"color:red; font-weight:bold\">X</span>───<span style=\"color:blue; font-weight:bold\">Z</span>───<span style=\"color:blue; font-weight:bold\">Z</span>───<span style=\"color:blue; font-weight:bold\">Z</span>─┘\n",
       "  │░░░│   │░░░│   │░░░│  \n",
       "┌─·───·───·───<span style=\"color:blue; font-weight:bold\">Z</span>───<span style=\"color:blue; font-weight:bold\">Z</span>───<span style=\"color:blue; font-weight:bold\">Z</span>─┐\n",
       "│░│   │░░░│   │░░░│   │░│\n",
       "└─<span style=\"color:blue; font-weight:bold\">Z</span>───<span style=\"color:red; font-weight:bold\">X</span>───<span style=\"color:red; font-weight:bold\">X</span>───·───<span style=\"color:blue; font-weight:bold\">Z</span>───<span style=\"color:blue; font-weight:bold\">Z</span>─┘\n",
       "      └───┘   └───┘      </pre></div>"
      ],
      "text/plain": [
       "<IPython.core.display.HTML object>"
      ]
     },
     "metadata": {},
     "output_type": "display_data"
    }
   ],
   "source": [
    "# recovery: best match recovery operation based on decoder\n",
    "recovery = my_decoder.decode(my_code, syndrome)\n",
    "qsu.print_pauli('recovery:\\n{}'.format(my_code.new_pauli(recovery)))"
   ]
  },
  {
   "cell_type": "markdown",
   "metadata": {},
   "source": [
    "As a sanity check, we expect $recovery \\oplus error$ to commute with all stabilizers, i.e. $(recovery \\oplus error) \\odot stabilisers^T = 0$."
   ]
  },
  {
   "cell_type": "code",
   "execution_count": 33,
   "metadata": {},
   "outputs": [
    {
     "name": "stdout",
     "output_type": "stream",
     "text": [
      "[0 0 0 0 0 0 0 0 0 0 0 0 0 0 0 0 0 0 0 0 0 0 0 0 0 0 0 0 0 0 0 0 0 0 0]\n"
     ]
    }
   ],
   "source": [
    "# check recovery ^ error commutes with stabilizers (by construction)\n",
    "print(pt.bsp(recovery ^ error, my_code.stabilizers.T))"
   ]
  },
  {
   "cell_type": "markdown",
   "metadata": {},
   "source": [
    "### Visualise $recovery \\oplus error$\n",
    "Just out of curiosity, we can see what $recovery \\oplus error$ looks like. If successful, it should be a product of stabilizer plaquette operators."
   ]
  },
  {
   "cell_type": "code",
   "execution_count": 34,
   "metadata": {},
   "outputs": [
    {
     "data": {
      "text/html": [
       "<div class=\"highlight\"><pre style=\"line-height:1!important;\">recovery ^ error:\n",
       "      ┌───┐   ┌───┐      \n",
       "┌─·───·───·───·───·───·─┐\n",
       "│░│   │░░░│   │░░░│   │░│\n",
       "└─·───·───·───·───·───·─┘\n",
       "  │░░░│   │░░░│   │░░░│  \n",
       "┌─<span style=\"color:red; font-weight:bold\">X</span>───·───·───·───<span style=\"color:blue; font-weight:bold\">Z</span>───<span style=\"color:blue; font-weight:bold\">Z</span>─┐\n",
       "│░│   │░░░│   │░░░│   │░│\n",
       "└─·───<span style=\"color:red; font-weight:bold\">X</span>───<span style=\"color:red; font-weight:bold\">X</span>───<span style=\"color:red; font-weight:bold\">X</span>───<span style=\"color:blue; font-weight:bold\">Z</span>───<span style=\"color:blue; font-weight:bold\">Z</span>─┘\n",
       "  │░░░│   │░░░│   │░░░│  \n",
       "┌─·───·───·───<span style=\"color:red; font-weight:bold\">X</span>───<span style=\"color:blue; font-weight:bold\">Z</span>───<span style=\"color:blue; font-weight:bold\">Z</span>─┐\n",
       "│░│   │░░░│   │░░░│   │░│\n",
       "└─<span style=\"color:red; font-weight:bold\">X</span>───<span style=\"color:red; font-weight:bold\">X</span>───<span style=\"color:red; font-weight:bold\">X</span>───·───<span style=\"color:blue; font-weight:bold\">Z</span>───<span style=\"color:blue; font-weight:bold\">Z</span>─┘\n",
       "      └───┘   └───┘      </pre></div>"
      ],
      "text/plain": [
       "<IPython.core.display.HTML object>"
      ]
     },
     "metadata": {},
     "output_type": "display_data"
    }
   ],
   "source": [
    "# print recovery ^ error (out of curiosity)\n",
    "qsu.print_pauli('recovery ^ error:\\n{}'.format(my_code.new_pauli(recovery ^ error)))"
   ]
  },
  {
   "cell_type": "markdown",
   "metadata": {},
   "source": [
    "### Test if the recovery operation is successful\n",
    "The recovery operation is successful iff $recovery \\oplus error$ commutes with all logical operators, i.e. $(recovery \\oplus error) \\odot logicals^T = 0.$"
   ]
  },
  {
   "cell_type": "code",
   "execution_count": 35,
   "metadata": {},
   "outputs": [
    {
     "name": "stdout",
     "output_type": "stream",
     "text": [
      "[0 0]\n"
     ]
    }
   ],
   "source": [
    "# success iff recovery ^ error commutes with logicals\n",
    "print(pt.bsp(recovery ^ error, my_code.logicals.T))"
   ]
  },
  {
   "cell_type": "markdown",
   "metadata": {},
   "source": [
    "Note: The decoder is not guaranteed to find a successful recovery operation. The rotated planar 7 x 7 code has distance $d = 7$ so we can only guarantee to correct errors up to weight $(d - 1)/2=3$."
   ]
  },
  {
   "cell_type": "markdown",
   "metadata": {
    "collapsed": true
   },
   "source": [
    "### Equivalent code in single call\n",
    "The above demo is equivalent to the following code."
   ]
  },
  {
   "cell_type": "code",
   "execution_count": 4,
   "metadata": {},
   "outputs": [
    {
     "name": "stdout",
     "output_type": "stream",
     "text": [
      "{'error_weight': 7, 'success': True, 'logical_commutations': array([0, 0]), 'custom_values': None}\n"
     ]
    }
   ],
   "source": [
    "# repeat demo in single call\n",
    "from qecsim import app\n",
    "print(app.run_once(my_code, my_error_model, my_decoder, error_probability))"
   ]
  },
  {
   "cell_type": "code",
   "execution_count": 40,
   "metadata": {},
   "outputs": [],
   "source": [
    "%matplotlib inline\n",
    "import collections\n",
    "import itertools\n",
    "import numpy as np\n",
    "from qecsim import paulitools as pt\n",
    "import matplotlib.pyplot as plt\n",
    "from qecsim import app\n",
    "from qecsim.models.generic import PhaseFlipErrorModel,DepolarizingErrorModel\n",
    "from qecsim.models.planar import PlanarCode, PlanarMPSDecoder\n",
    "from _planarmpsdecoder_def import PlanarMPSDecoder_def\n",
    "import app_def\n",
    "import importlib as imp\n",
    "imp.reload(app_def)\n",
    "sizes= range(5,9,2)\n",
    "codes_and_size = [PlanarCode(*(size,size)) for size in sizes]"
   ]
  },
  {
   "cell_type": "code",
   "execution_count": 18,
   "metadata": {},
   "outputs": [
    {
     "data": {
      "text/plain": [
       "[PlanarCode(5, 5), PlanarCode(7, 7)]"
      ]
     },
     "execution_count": 18,
     "metadata": {},
     "output_type": "execute_result"
    }
   ],
   "source": [
    "codes_and_size"
   ]
  },
  {
   "cell_type": "code",
   "execution_count": 19,
   "metadata": {},
   "outputs": [],
   "source": [
    "x=np.zeros(5)"
   ]
  },
  {
   "cell_type": "code",
   "execution_count": 20,
   "metadata": {},
   "outputs": [],
   "source": [
    "x=np.append(x,1)"
   ]
  },
  {
   "cell_type": "code",
   "execution_count": 21,
   "metadata": {},
   "outputs": [
    {
     "data": {
      "text/plain": [
       "array([0., 0., 0., 0., 0., 1.])"
      ]
     },
     "execution_count": 21,
     "metadata": {},
     "output_type": "execute_result"
    }
   ],
   "source": [
    "x"
   ]
  },
  {
   "cell_type": "code",
   "execution_count": 23,
   "metadata": {},
   "outputs": [
    {
     "name": "stdout",
     "output_type": "stream",
     "text": [
      "(-1, -1)\n",
      "(-1, 0)\n",
      "(-1, 1)\n",
      "(-1, 2)\n",
      "(-1, 3)\n",
      "(-1, 4)\n",
      "(-1, 5)\n",
      "(0, -1)\n",
      "(0, 0)\n",
      "(0, 1)\n",
      "(0, 2)\n",
      "(0, 3)\n",
      "(0, 4)\n",
      "(0, 5)\n",
      "(1, -1)\n",
      "(1, 0)\n",
      "(1, 1)\n",
      "(1, 2)\n",
      "(1, 3)\n",
      "(1, 4)\n",
      "(1, 5)\n",
      "(2, -1)\n",
      "(2, 0)\n",
      "(2, 1)\n",
      "(2, 2)\n",
      "(2, 3)\n",
      "(2, 4)\n",
      "(2, 5)\n",
      "(3, -1)\n",
      "(3, 0)\n",
      "(3, 1)\n",
      "(3, 2)\n",
      "(3, 3)\n",
      "(3, 4)\n",
      "(3, 5)\n",
      "(4, -1)\n",
      "(4, 0)\n",
      "(4, 1)\n",
      "(4, 2)\n",
      "(4, 3)\n",
      "(4, 4)\n",
      "(4, 5)\n",
      "(5, -1)\n",
      "(5, 0)\n",
      "(5, 1)\n",
      "(5, 2)\n",
      "(5, 3)\n",
      "(5, 4)\n",
      "(5, 5)\n"
     ]
    }
   ],
   "source": [
    "for code_index in itertools.product(range(-1, 5 + 1), range(-1, 5 + 1)):\n",
    "    print(code_index)"
   ]
  },
  {
   "cell_type": "code",
   "execution_count": null,
   "metadata": {},
   "outputs": [],
   "source": [
    "import collections\n",
    "import itertools\n",
    "import numpy as np\n",
    "from qecsim import paulitools as pt\n",
    "import matplotlib.pyplot as plt\n",
    "import qecsim\n",
    "from qecsim import app\n",
    "from qecsim.models.generic import PhaseFlipErrorModel,DepolarizingErrorModel,BiasedDepolarizingErrorModel\n",
    "from qecsim.models.planar import PlanarCode, PlanarMPSDecoder\n",
    "from qecsim.models.rotatedplanar import RotatedPlanarCode, RotatedPlanarMPSDecoder\n",
    "\n",
    "from _planarmpsdecoder_def import PlanarMPSDecoder_def\n",
    "from _rotatedplanarmpsdecoder_def import RotatedPlanarMPSDecoder_def\n",
    "import app_def\n",
    "import importlib as imp\n",
    "imp.reload(app_def)\n",
    "import os, time\n",
    "import multiprocessing as mp\n",
    "from functools import partial\n",
    "from itertools import cycle\n",
    "\n",
    "def parallel_step_p(code,hadamard_mat,error_model, decoder, max_runs,error_probability):\n",
    "    result= app_def.run_def(code,hadamard_mat, error_model, decoder, error_probability, max_runs)\n",
    "    return result\n",
    "\n",
    "# set models\n",
    "sizes= range(5,10,4)\n",
    "codes_and_size = [RotatedPlanarCode(*(size,size)) for size in sizes]\n",
    "bias_list=[30,100000]\n",
    "\n",
    "code_name=\"optimal\"\n",
    "code_name=\"random\"\n",
    "code_name=\"CSS\"\n",
    "code_name=\"XZZX\"\n",
    "\n",
    "if (code_name==\"random\"):\n",
    "    realizations=50\n",
    "else:\n",
    "    realizations=1\n",
    "\n",
    "# set physical error probabilities\n",
    "error_probability_min, error_probability_max = 0.05, 0.24\n",
    "error_probabilities = np.linspace(error_probability_min, error_probability_max, 10)\n",
    "# set max_runs for each probability\n",
    "max_runs = 2000\n",
    "\n",
    "timestr = time.strftime(\"%Y%m%d-%H%M%S \")   #record current date and time\n",
    "dirname=\"./data/\"+timestr+code_name\n",
    "os.mkdir(dirname)     \n",
    "\n",
    "for bias in bias_list:\n",
    "    error_model = BiasedDepolarizingErrorModel(bias,'Z')\n",
    "    chi_val=10\n",
    "    decoder = RotatedPlanarMPSDecoder_def(chi=chi_val)\n",
    "\n",
    "    # print run parameters\n",
    "    print('codes_and_size:', [code.label for code in codes_and_size])\n",
    "    print('Error model:', error_model.label)\n",
    "    print('Decoder:', decoder.label)\n",
    "    print('Error probabilities:', error_probabilities)\n",
    "    print('Maximum runs:', max_runs)\n",
    "\n",
    "    pL_list_rand =np.zeros((len(codes_and_size),realizations,len(error_probabilities)))\n",
    "    std_list_rand=np.zeros((len(codes_and_size),realizations,len(error_probabilities)))\n",
    "\n",
    "    pL_list =np.zeros((len(codes_and_size),len(error_probabilities)))\n",
    "    std_list=np.zeros((len(codes_and_size),len(error_probabilities)))\n",
    "    def _rotate_q_index(index, code):\n",
    "        \"\"\"Convert code site index in format (x, y) to tensor network q-node index in format (r, c)\"\"\"\n",
    "        site_x, site_y = index  # qubit index in (x, y)\n",
    "        site_r, site_c = code.site_bounds[1] - site_y, site_x  # qubit index in (r, c)\n",
    "        return code.site_bounds[0] - site_c + site_r, site_r + site_c  # q-node index in (r, c)\n",
    "\n",
    "    for code_index,code in enumerate(codes_and_size):\n",
    "        tn_max_r, _ = _rotate_q_index((0, 0), code)\n",
    "        _, tn_max_c = _rotate_q_index((code.site_bounds[0], 0), code)\n",
    "\n",
    "        hadamard_mat=np.zeros((tn_max_r,tn_max_c))\n",
    "\n",
    "        if code_name==\"random\":\n",
    "            pH=0.5  \n",
    "            for realization_index in range(realizations):\n",
    "                for row, col in np.ndindex(hadamard_mat.shape):\n",
    "                    if ((row%2==0 and col%2==0) or (row%2==1 and col%2==1)):\n",
    "                        if(np.random.rand(1,1))<pH:\n",
    "                            hadamard_mat[row,col]=1\n",
    "\n",
    "                p=mp.Pool()\n",
    "                func=partial(parallel_step_p,code,hadamard_mat, error_model, decoder, max_runs)\n",
    "                result=p.map(func, error_probabilities)\n",
    "                #print(result)\n",
    "                p.close()\n",
    "                p.join()\n",
    "                for i in range(len(result)):\n",
    "                    pL_list_rand[code_index][realization_index][i]=result[i][0]\n",
    "                    std_list_rand[code_index][realization_index][i]=result[i][1]\n",
    "                \n",
    "            pL_list[code_index] = np.sum(pL_list_rand[code_index],axis=0)/realizations\n",
    "            std_list[code_index] = np.sum(std_list_rand[code_index],axis=0)/realizations**2\n",
    "\n",
    "        else:\n",
    "            if code_name==\"XZZX\":\n",
    "                for row, col in np.ndindex(hadamard_mat.shape):\n",
    "                    if row%2==0 and col%2==0:\n",
    "                        hadamard_mat[row,col]=1\n",
    "\n",
    "            if code_name==\"optimal\":\n",
    "                d=hadamard_mat.shape[0]\n",
    "                for row, col in np.ndindex(hadamard_mat.shape):\n",
    "                    if (row ==0 and col in range(0,d,4)) or (row==d-1 and col in range(2,d-1,4)) or (row%2==1 and col%2==1):\n",
    "                        hadamard_mat[row,col]=1\n",
    "\n",
    "            p=mp.Pool()\n",
    "            func=partial(parallel_step_p,code,hadamard_mat,error_model, decoder, max_runs)\n",
    "            result=p.map(func, error_probabilities)\n",
    "            print(result)\n",
    "            p.close()\n",
    "            p.join()\n",
    "            \n",
    "            for i in range(len(result)):\n",
    "                pL_list[code_index][i]=result[i][0]   \n",
    "                std_list[code_index][i]=result[i][1]\n",
    "\n",
    "        \n",
    "    plt.figure(figsize=(20,10))\n",
    "    lines = [\"-\",\":\",\"--\",\"-.\"]\n",
    "    linecycler = cycle(lines)\n",
    "    plt.title('TND at bias='+str(bias)+' and xi='+str(chi_val))\n",
    "    for sizes_index,size in enumerate(sizes):\n",
    "        plt.errorbar(error_probabilities,pL_list[sizes_index],std_list[sizes_index])\n",
    "    plt.xlabel('p')\n",
    "    plt.ylabel('$p_L$')\n",
    "    plt.legend(sizes) \n",
    "    plt.savefig(dirname+\"/threshold_plot_bias_\"+str(bias)+\".pdf\")\n"
   ]
  },
  {
   "cell_type": "code",
   "execution_count": 39,
   "metadata": {},
   "outputs": [
    {
     "ename": "NameError",
     "evalue": "name 'rng' is not defined",
     "output_type": "error",
     "traceback": [
      "\u001b[0;31m---------------------------------------------------------------------------\u001b[0m",
      "\u001b[0;31mNameError\u001b[0m                                 Traceback (most recent call last)",
      "\u001b[0;32m<ipython-input-39-479cbee92dae>\u001b[0m in \u001b[0;36m<module>\u001b[0;34m\u001b[0m\n\u001b[0;32m----> 1\u001b[0;31m \u001b[0mrng\u001b[0m \u001b[0;34m=\u001b[0m \u001b[0mnp\u001b[0m\u001b[0;34m.\u001b[0m\u001b[0mrandom\u001b[0m\u001b[0;34m.\u001b[0m\u001b[0mdefault_rng\u001b[0m\u001b[0;34m(\u001b[0m\u001b[0;34m)\u001b[0m \u001b[0;32mif\u001b[0m \u001b[0mrng\u001b[0m \u001b[0;32mis\u001b[0m \u001b[0;32mNone\u001b[0m \u001b[0;32melse\u001b[0m \u001b[0mrng\u001b[0m\u001b[0;34m\u001b[0m\u001b[0;34m\u001b[0m\u001b[0m\n\u001b[0m\u001b[1;32m      2\u001b[0m \u001b[0msize\u001b[0m\u001b[0;34m=\u001b[0m\u001b[0;36m3\u001b[0m\u001b[0;34m\u001b[0m\u001b[0;34m\u001b[0m\u001b[0m\n\u001b[1;32m      3\u001b[0m \u001b[0mcode\u001b[0m\u001b[0;34m=\u001b[0m\u001b[0mPlanarCode\u001b[0m\u001b[0;34m(\u001b[0m\u001b[0;34m*\u001b[0m\u001b[0;34m(\u001b[0m\u001b[0msize\u001b[0m\u001b[0;34m,\u001b[0m\u001b[0msize\u001b[0m\u001b[0;34m+\u001b[0m\u001b[0;36m1\u001b[0m\u001b[0;34m)\u001b[0m\u001b[0;34m)\u001b[0m\u001b[0;34m\u001b[0m\u001b[0;34m\u001b[0m\u001b[0m\n\u001b[1;32m      4\u001b[0m \u001b[0;34m\u001b[0m\u001b[0m\n\u001b[1;32m      5\u001b[0m \u001b[0mn_qubits\u001b[0m \u001b[0;34m=\u001b[0m\u001b[0mcode\u001b[0m\u001b[0;34m.\u001b[0m\u001b[0mn_k_d\u001b[0m\u001b[0;34m[\u001b[0m\u001b[0;36m0\u001b[0m\u001b[0;34m]\u001b[0m\u001b[0;34m\u001b[0m\u001b[0;34m\u001b[0m\u001b[0m\n",
      "\u001b[0;31mNameError\u001b[0m: name 'rng' is not defined"
     ]
    }
   ],
   "source": [
    "rng = np.random.default_rng() if rng is None else rng\n",
    "size=3\n",
    "code=PlanarCode(*(size,size+1)) \n",
    "\n",
    "n_qubits =code.n_k_d[0]\n",
    "probability=0.8\n",
    "error_model = BiasedDepolarizingErrorModel(bias,'Z')\n",
    "p=error_model.probability_distribution(probability)\n",
    "\n",
    "p"
   ]
  },
  {
   "cell_type": "code",
   "execution_count": null,
   "metadata": {},
   "outputs": [],
   "source": [
    "    3x4 planar code (H=qubit on horizontal edge, V=qubit on vertical edge):\n",
    "    ::\n",
    "      H1---H2---H3---H4\n",
    "          |   |   |\n",
    "          V13 V14 V15\n",
    "          |   |   |\n",
    "      H5---H6---H7---H8\n",
    "          |   |   |\n",
    "          V16 V17 V18\n",
    "          |   |   |\n",
    "      H9---H10--H11-H12\n"
   ]
  },
  {
   "cell_type": "code",
   "execution_count": 58,
   "metadata": {},
   "outputs": [
    {
     "data": {
      "text/plain": [
       "(18, 1, 3)"
      ]
     },
     "execution_count": 58,
     "metadata": {},
     "output_type": "execute_result"
    }
   ],
   "source": [
    "code.n_k_d"
   ]
  },
  {
   "cell_type": "code",
   "execution_count": 59,
   "metadata": {},
   "outputs": [
    {
     "data": {
      "text/plain": [
       "'YZXZZZXIZZYXZZYZXI'"
      ]
     },
     "execution_count": 59,
     "metadata": {},
     "output_type": "execute_result"
    }
   ],
   "source": [
    "error_pauli = ''.join(rng.choice(\n",
    "            ('I', 'X', 'Y', 'Z'),\n",
    "            size=n_qubits,\n",
    "            p=error_model.probability_distribution(probability)\n",
    "        ))\n",
    "error_pauli"
   ]
  },
  {
   "cell_type": "code",
   "execution_count": 60,
   "metadata": {},
   "outputs": [
    {
     "data": {
      "text/plain": [
       "array([1, 0, 1, 0, 0, 0, 1, 0, 0, 0, 1, 1, 0, 0, 1, 0, 1, 0, 1, 1, 0, 1,\n",
       "       1, 1, 0, 0, 1, 1, 1, 0, 1, 1, 1, 1, 0, 0])"
      ]
     },
     "execution_count": 60,
     "metadata": {},
     "output_type": "execute_result"
    }
   ],
   "source": [
    "error=pt.pauli_to_bsf(error_pauli)\n",
    "error"
   ]
  },
  {
   "cell_type": "code",
   "execution_count": 61,
   "metadata": {},
   "outputs": [
    {
     "data": {
      "text/plain": [
       "array([1, 4, 0])"
      ]
     },
     "execution_count": 61,
     "metadata": {},
     "output_type": "execute_result"
    }
   ],
   "source": [
    "rng.choice(5, 3)"
   ]
  },
  {
   "cell_type": "code",
   "execution_count": 62,
   "metadata": {},
   "outputs": [
    {
     "data": {
      "text/plain": [
       "array([1, 0, 1, 1, 0, 1, 1, 1, 1, 0, 0, 0, 0, 1, 1, 0, 1])"
      ]
     },
     "execution_count": 62,
     "metadata": {},
     "output_type": "execute_result"
    }
   ],
   "source": [
    "syndrome = pt.bsp(error, code.stabilizers.T)\n",
    "syndrome"
   ]
  },
  {
   "cell_type": "code",
   "execution_count": 63,
   "metadata": {
    "scrolled": false
   },
   "outputs": [
    {
     "data": {
      "text/plain": [
       "array([[0, 0, 0, 0, 0, 0, 0, 0, 1, 0, 0, 0, 0, 0, 0, 0, 0],\n",
       "       [0, 0, 0, 0, 0, 0, 0, 0, 1, 1, 0, 0, 0, 0, 0, 0, 0],\n",
       "       [0, 0, 0, 0, 0, 0, 0, 0, 0, 1, 1, 0, 0, 0, 0, 0, 0],\n",
       "       [0, 0, 0, 0, 0, 0, 0, 0, 0, 0, 1, 0, 0, 0, 0, 0, 0],\n",
       "       [0, 0, 0, 0, 0, 0, 0, 0, 0, 0, 0, 1, 0, 0, 0, 0, 0],\n",
       "       [0, 0, 0, 0, 0, 0, 0, 0, 0, 0, 0, 1, 1, 0, 0, 0, 0],\n",
       "       [0, 0, 0, 0, 0, 0, 0, 0, 0, 0, 0, 0, 1, 1, 0, 0, 0],\n",
       "       [0, 0, 0, 0, 0, 0, 0, 0, 0, 0, 0, 0, 0, 1, 0, 0, 0],\n",
       "       [0, 0, 0, 0, 0, 0, 0, 0, 0, 0, 0, 0, 0, 0, 1, 0, 0],\n",
       "       [0, 0, 0, 0, 0, 0, 0, 0, 0, 0, 0, 0, 0, 0, 1, 1, 0],\n",
       "       [0, 0, 0, 0, 0, 0, 0, 0, 0, 0, 0, 0, 0, 0, 0, 1, 1],\n",
       "       [0, 0, 0, 0, 0, 0, 0, 0, 0, 0, 0, 0, 0, 0, 0, 0, 1],\n",
       "       [0, 0, 0, 0, 0, 0, 0, 0, 1, 0, 0, 1, 0, 0, 0, 0, 0],\n",
       "       [0, 0, 0, 0, 0, 0, 0, 0, 0, 1, 0, 0, 1, 0, 0, 0, 0],\n",
       "       [0, 0, 0, 0, 0, 0, 0, 0, 0, 0, 1, 0, 0, 1, 0, 0, 0],\n",
       "       [0, 0, 0, 0, 0, 0, 0, 0, 0, 0, 0, 1, 0, 0, 1, 0, 0],\n",
       "       [0, 0, 0, 0, 0, 0, 0, 0, 0, 0, 0, 0, 1, 0, 0, 1, 0],\n",
       "       [0, 0, 0, 0, 0, 0, 0, 0, 0, 0, 0, 0, 0, 1, 0, 0, 1],\n",
       "       [1, 0, 0, 0, 0, 0, 0, 0, 0, 0, 0, 0, 0, 0, 0, 0, 0],\n",
       "       [0, 1, 0, 0, 0, 0, 0, 0, 0, 0, 0, 0, 0, 0, 0, 0, 0],\n",
       "       [0, 0, 1, 0, 0, 0, 0, 0, 0, 0, 0, 0, 0, 0, 0, 0, 0],\n",
       "       [0, 0, 0, 1, 0, 0, 0, 0, 0, 0, 0, 0, 0, 0, 0, 0, 0],\n",
       "       [1, 0, 0, 0, 1, 0, 0, 0, 0, 0, 0, 0, 0, 0, 0, 0, 0],\n",
       "       [0, 1, 0, 0, 0, 1, 0, 0, 0, 0, 0, 0, 0, 0, 0, 0, 0],\n",
       "       [0, 0, 1, 0, 0, 0, 1, 0, 0, 0, 0, 0, 0, 0, 0, 0, 0],\n",
       "       [0, 0, 0, 1, 0, 0, 0, 1, 0, 0, 0, 0, 0, 0, 0, 0, 0],\n",
       "       [0, 0, 0, 0, 1, 0, 0, 0, 0, 0, 0, 0, 0, 0, 0, 0, 0],\n",
       "       [0, 0, 0, 0, 0, 1, 0, 0, 0, 0, 0, 0, 0, 0, 0, 0, 0],\n",
       "       [0, 0, 0, 0, 0, 0, 1, 0, 0, 0, 0, 0, 0, 0, 0, 0, 0],\n",
       "       [0, 0, 0, 0, 0, 0, 0, 1, 0, 0, 0, 0, 0, 0, 0, 0, 0],\n",
       "       [1, 1, 0, 0, 0, 0, 0, 0, 0, 0, 0, 0, 0, 0, 0, 0, 0],\n",
       "       [0, 1, 1, 0, 0, 0, 0, 0, 0, 0, 0, 0, 0, 0, 0, 0, 0],\n",
       "       [0, 0, 1, 1, 0, 0, 0, 0, 0, 0, 0, 0, 0, 0, 0, 0, 0],\n",
       "       [0, 0, 0, 0, 1, 1, 0, 0, 0, 0, 0, 0, 0, 0, 0, 0, 0],\n",
       "       [0, 0, 0, 0, 0, 1, 1, 0, 0, 0, 0, 0, 0, 0, 0, 0, 0],\n",
       "       [0, 0, 0, 0, 0, 0, 1, 1, 0, 0, 0, 0, 0, 0, 0, 0, 0]])"
      ]
     },
     "execution_count": 63,
     "metadata": {},
     "output_type": "execute_result"
    }
   ],
   "source": [
    "code.stabilizers.T"
   ]
  },
  {
   "cell_type": "code",
   "execution_count": 38,
   "metadata": {},
   "outputs": [
    {
     "data": {
      "text/plain": [
       "array([1, 1, 0, 1, 1, 0, 1, 1, 0, 1, 1, 0, 1, 0, 0, 1, 1, 0, 0, 0, 1, 0,\n",
       "       1, 0, 0, 1, 0, 0, 1, 1, 0, 1])"
      ]
     },
     "execution_count": 38,
     "metadata": {},
     "output_type": "execute_result"
    }
   ],
   "source": [
    "error.T"
   ]
  },
  {
   "cell_type": "code",
   "execution_count": 41,
   "metadata": {},
   "outputs": [
    {
     "ename": "NameError",
     "evalue": "name 'rng' is not defined",
     "output_type": "error",
     "traceback": [
      "\u001b[0;31m---------------------------------------------------------------------------\u001b[0m",
      "\u001b[0;31mNameError\u001b[0m                                 Traceback (most recent call last)",
      "\u001b[0;32m<ipython-input-41-9bed3093b88e>\u001b[0m in \u001b[0;36m<module>\u001b[0;34m\u001b[0m\n\u001b[1;32m     16\u001b[0m \u001b[0;31m#                \\---/\u001b[0m\u001b[0;34m\u001b[0m\u001b[0;34m\u001b[0m\u001b[0;34m\u001b[0m\u001b[0m\n\u001b[1;32m     17\u001b[0m \u001b[0;34m\u001b[0m\u001b[0m\n\u001b[0;32m---> 18\u001b[0;31m \u001b[0mrng\u001b[0m \u001b[0;34m=\u001b[0m \u001b[0mnp\u001b[0m\u001b[0;34m.\u001b[0m\u001b[0mrandom\u001b[0m\u001b[0;34m.\u001b[0m\u001b[0mdefault_rng\u001b[0m\u001b[0;34m(\u001b[0m\u001b[0;34m)\u001b[0m \u001b[0;32mif\u001b[0m \u001b[0mrng\u001b[0m \u001b[0;32mis\u001b[0m \u001b[0;32mNone\u001b[0m \u001b[0;32melse\u001b[0m \u001b[0mrng\u001b[0m\u001b[0;34m\u001b[0m\u001b[0;34m\u001b[0m\u001b[0m\n\u001b[0m\u001b[1;32m     19\u001b[0m \u001b[0msize\u001b[0m\u001b[0;34m=\u001b[0m\u001b[0;36m3\u001b[0m\u001b[0;34m\u001b[0m\u001b[0;34m\u001b[0m\u001b[0m\n\u001b[1;32m     20\u001b[0m \u001b[0mcode\u001b[0m\u001b[0;34m=\u001b[0m\u001b[0mRotatedPlanarCode\u001b[0m\u001b[0;34m(\u001b[0m\u001b[0;34m*\u001b[0m\u001b[0;34m(\u001b[0m\u001b[0msize\u001b[0m\u001b[0;34m,\u001b[0m\u001b[0msize\u001b[0m\u001b[0;34m)\u001b[0m\u001b[0;34m)\u001b[0m\u001b[0;34m\u001b[0m\u001b[0;34m\u001b[0m\u001b[0m\n",
      "\u001b[0;31mNameError\u001b[0m: name 'rng' is not defined"
     ]
    }
   ],
   "source": [
    "#    3x3 rotated planar code with H or V indicating qubits and hashed/blank plaquettes indicating X/Z stabilizers:\n",
    "#     ::\n",
    "\n",
    "#            /---\\\n",
    "#            |   |\n",
    "#            H6--V7--H8\\\n",
    "#            |###|   |##|\n",
    "#            |###|   |##|\n",
    "#            |###|   |##|\n",
    "#         /--V3---H4---V5-/\n",
    "#         |##|   |###|\n",
    "#         |##|   |###|\n",
    "#         |##|   |###|\n",
    "#         \\--H0---V1---H2\n",
    "#                |   |\n",
    "#                \\---/\n",
    "\n",
    "rng = np.random.default_rng() if rng is None else rng\n",
    "size=3\n",
    "code=RotatedPlanarCode(*(size,size)) \n",
    "\n",
    "n_qubits =code.n_k_d[0]\n",
    "probability=0.8\n",
    "error_model = BiasedDepolarizingErrorModel(bias,'Z')\n",
    "p=error_model.probability_distribution(probability)\n",
    "\n",
    "error_pauli = ''.join(rng.choice(\n",
    "            ('I', 'X', 'Y', 'Z'),\n",
    "            size=n_qubits,\n",
    "            p=error_model.probability_distribution(probability)\n",
    "        ))\n",
    "error=pt.pauli_to_bsf(error_pauli)\n",
    "syndrome = pt.bsp(error, code.stabilizers.T)\n",
    "code.stabilizers.T"
   ]
  },
  {
   "cell_type": "code",
   "execution_count": 95,
   "metadata": {},
   "outputs": [
    {
     "data": {
      "text/plain": [
       "array([[1],\n",
       "       [1],\n",
       "       [1],\n",
       "       [1],\n",
       "       [1],\n",
       "       [0],\n",
       "       [1],\n",
       "       [0],\n",
       "       [0]])"
      ]
     },
     "execution_count": 95,
     "metadata": {},
     "output_type": "execute_result"
    }
   ],
   "source": [
    "hvec=np.random.randint(2,size=(len(error_pauli),1))\n",
    "hvec"
   ]
  },
  {
   "cell_type": "code",
   "execution_count": 96,
   "metadata": {},
   "outputs": [
    {
     "data": {
      "text/plain": [
       "array([1, 1, 0, 0, 0, 0, 1, 1, 0, 0, 1, 1, 0, 0, 1, 1, 0, 1])"
      ]
     },
     "execution_count": 96,
     "metadata": {},
     "output_type": "execute_result"
    }
   ],
   "source": [
    "error"
   ]
  },
  {
   "cell_type": "code",
   "execution_count": 97,
   "metadata": {},
   "outputs": [],
   "source": [
    "q=len(error_pauli)\n",
    "for i in range(len(error_pauli)):\n",
    "    if hvec[i]==1:\n",
    "        error_temp=error[i]\n",
    "        error[i]=error[q+i]\n",
    "        error[q+i]=error_temp"
   ]
  },
  {
   "cell_type": "code",
   "execution_count": 37,
   "metadata": {},
   "outputs": [
    {
     "ename": "NameError",
     "evalue": "name 'error' is not defined",
     "output_type": "error",
     "traceback": [
      "\u001b[0;31m---------------------------------------------------------------------------\u001b[0m",
      "\u001b[0;31mNameError\u001b[0m                                 Traceback (most recent call last)",
      "\u001b[0;32m<ipython-input-37-ded28046d863>\u001b[0m in \u001b[0;36m<module>\u001b[0;34m\u001b[0m\n\u001b[0;32m----> 1\u001b[0;31m \u001b[0merror\u001b[0m\u001b[0;34m\u001b[0m\u001b[0;34m\u001b[0m\u001b[0m\n\u001b[0m",
      "\u001b[0;31mNameError\u001b[0m: name 'error' is not defined"
     ]
    }
   ],
   "source": [
    "error"
   ]
  },
  {
   "cell_type": "code",
   "execution_count": 81,
   "metadata": {},
   "outputs": [
    {
     "data": {
      "text/plain": [
       "array([[1, 0, 1, 1, 0, 1, 0, 0, 0]])"
      ]
     },
     "execution_count": 81,
     "metadata": {},
     "output_type": "execute_result"
    }
   ],
   "source": [
    "hvec.T"
   ]
  },
  {
   "cell_type": "code",
   "execution_count": 128,
   "metadata": {},
   "outputs": [
    {
     "data": {
      "text/plain": [
       "array([1.2, 0.2])"
      ]
     },
     "execution_count": 128,
     "metadata": {},
     "output_type": "execute_result"
    }
   ],
   "source": [
    "paulis = ('I', 'X', 'Y', 'Z')\n",
    "bias=1000\n",
    "error_model = BiasedDepolarizingErrorModel(bias,'Z')\n",
    "\n",
    "prob_dist=error_model.probability_distribution(probability)\n",
    "op_to_pr = dict(zip(paulis, prob_dist))\n",
    "f='X'\n",
    "f = pt.pauli_to_bsf(f)\n",
    "I, X, Y, Z = pt.pauli_to_bsf(paulis)\n",
    "n=0.1\n",
    "e=0.1\n",
    "s=0.1\n",
    "w=0.1\n",
    "# n, e, s, w are in {0, 1} so multiply op to turn on or off\n",
    "op = (f + (n * Z) + (e * X) + (s * Z) + (w * X)) % 2\n",
    "op"
   ]
  },
  {
   "cell_type": "code",
   "execution_count": 129,
   "metadata": {},
   "outputs": [
    {
     "data": {
      "text/plain": [
       "'X.6'"
      ]
     },
     "execution_count": 129,
     "metadata": {},
     "output_type": "execute_result"
    }
   ],
   "source": [
    "pt.bsf_to_pauli(op)"
   ]
  },
  {
   "cell_type": "code",
   "execution_count": 130,
   "metadata": {},
   "outputs": [
    {
     "data": {
      "text/plain": [
       "'X'"
      ]
     },
     "execution_count": 130,
     "metadata": {},
     "output_type": "execute_result"
    }
   ],
   "source": [
    "pt.bsf_to_pauli(np.array([1, 0]))"
   ]
  },
  {
   "cell_type": "code",
   "execution_count": 131,
   "metadata": {},
   "outputs": [
    {
     "data": {
      "text/plain": [
       "array([1, 0])"
      ]
     },
     "execution_count": 131,
     "metadata": {},
     "output_type": "execute_result"
    }
   ],
   "source": [
    "pt.pauli_to_bsf('X')"
   ]
  },
  {
   "cell_type": "code",
   "execution_count": 132,
   "metadata": {},
   "outputs": [
    {
     "data": {
      "text/plain": [
       "0.0003996003996003996"
      ]
     },
     "execution_count": 132,
     "metadata": {},
     "output_type": "execute_result"
    }
   ],
   "source": [
    "op_to_pr['X']"
   ]
  },
  {
   "cell_type": "code",
   "execution_count": 133,
   "metadata": {},
   "outputs": [
    {
     "data": {
      "text/plain": [
       "{'I': 0.19999999999999996,\n",
       " 'X': 0.0003996003996003996,\n",
       " 'Y': 0.0003996003996003996,\n",
       " 'Z': 0.7992007992007992}"
      ]
     },
     "execution_count": 133,
     "metadata": {},
     "output_type": "execute_result"
    }
   ],
   "source": [
    "op_to_pr = dict(zip(paulis, prob_dist))\n",
    "op_to_pr"
   ]
  },
  {
   "cell_type": "code",
   "execution_count": 134,
   "metadata": {},
   "outputs": [
    {
     "data": {
      "text/plain": [
       "9"
      ]
     },
     "execution_count": 134,
     "metadata": {},
     "output_type": "execute_result"
    }
   ],
   "source": [
    "n_qubits"
   ]
  },
  {
   "cell_type": "code",
   "execution_count": 136,
   "metadata": {},
   "outputs": [],
   "source": [
    "hadamard_vec=np.zeros(n_qubits)\n",
    "for i in range(n_qubits):\n",
    "    if i%2:\n",
    "        hadamard_vec[i]=1"
   ]
  },
  {
   "cell_type": "code",
   "execution_count": 137,
   "metadata": {},
   "outputs": [
    {
     "data": {
      "text/plain": [
       "array([0., 1., 0., 1., 0., 1., 0., 1., 0.])"
      ]
     },
     "execution_count": 137,
     "metadata": {},
     "output_type": "execute_result"
    }
   ],
   "source": [
    "hadamard_vec"
   ]
  },
  {
   "cell_type": "code",
   "execution_count": 3,
   "metadata": {},
   "outputs": [
    {
     "data": {
      "text/plain": [
       "array([[0.55376431]])"
      ]
     },
     "execution_count": 3,
     "metadata": {},
     "output_type": "execute_result"
    }
   ],
   "source": [
    "import numpy as np\n",
    "np.random.rand(1,1)"
   ]
  },
  {
   "cell_type": "code",
   "execution_count": 19,
   "metadata": {},
   "outputs": [
    {
     "data": {
      "text/plain": [
       "500239"
      ]
     },
     "execution_count": 19,
     "metadata": {},
     "output_type": "execute_result"
    }
   ],
   "source": [
    "count =0\n",
    "for i in range(1000000):\n",
    "    x=np.random.rand(1,1)\n",
    "    if x<=0.5:\n",
    "        count+=1\n",
    "count"
   ]
  },
  {
   "cell_type": "code",
   "execution_count": 23,
   "metadata": {},
   "outputs": [
    {
     "data": {
      "text/plain": [
       "25"
      ]
     },
     "execution_count": 23,
     "metadata": {},
     "output_type": "execute_result"
    }
   ],
   "source": [
    "hadamard_mat=np.zeros((5,5))\n",
    "np.prod(hadamard_mat.shape)"
   ]
  },
  {
   "cell_type": "code",
   "execution_count": 27,
   "metadata": {},
   "outputs": [
    {
     "name": "stdout",
     "output_type": "stream",
     "text": [
      "4 4\n"
     ]
    }
   ],
   "source": [
    "from qecsim.models.rotatedplanar import RotatedPlanarCode, RotatedPlanarMPSDecoder\n",
    "\n",
    "size=3\n",
    "code=RotatedPlanarCode(*(size,size)) \n",
    "tn_max_r, _ = _rotate_q_index((0, 0), code)\n",
    "_, tn_max_c = _rotate_q_index((code.site_bounds[0], 0), code)\n",
    "\n",
    "print(tn_max_r,tn_max_c)"
   ]
  },
  {
   "cell_type": "code",
   "execution_count": 26,
   "metadata": {},
   "outputs": [],
   "source": [
    "\n",
    "            def _rotate_q_index(index, code):\n",
    "                \"\"\"Convert code site index in format (x, y) to tensor network q-node index in format (r, c)\"\"\"\n",
    "                site_x, site_y = index  # qubit index in (x, y)\n",
    "                site_r, site_c = code.site_bounds[1] - site_y, site_x  # qubit index in (r, c)\n",
    "                return code.site_bounds[0] - site_c + site_r, site_r + site_c  # q-node index in (r, c)"
   ]
  },
  {
   "cell_type": "code",
   "execution_count": 29,
   "metadata": {},
   "outputs": [
    {
     "data": {
      "text/plain": [
       "[(1, -1), (0, 0), (1, 1), (0, 2), (-1, 0), (1, 0), (0, 1), (2, 1)]"
      ]
     },
     "execution_count": 29,
     "metadata": {},
     "output_type": "execute_result"
    }
   ],
   "source": [
    "code._plaquette_indices"
   ]
  },
  {
   "cell_type": "code",
   "execution_count": 30,
   "metadata": {},
   "outputs": [
    {
     "data": {
      "text/plain": [
       "(2, 2)"
      ]
     },
     "execution_count": 30,
     "metadata": {},
     "output_type": "execute_result"
    }
   ],
   "source": [
    "code.site_bounds"
   ]
  },
  {
   "cell_type": "code",
   "execution_count": 36,
   "metadata": {},
   "outputs": [
    {
     "data": {
      "text/plain": [
       "True"
      ]
     },
     "execution_count": 36,
     "metadata": {},
     "output_type": "execute_result"
    }
   ],
   "source": [
    "code.is_z_plaquette((2,0))"
   ]
  },
  {
   "cell_type": "code",
   "execution_count": 347,
   "metadata": {},
   "outputs": [
    {
     "data": {
      "text/plain": [
       "array([0, 0, 0, 0, 1, 1, 1, 0])"
      ]
     },
     "execution_count": 347,
     "metadata": {},
     "output_type": "execute_result"
    }
   ],
   "source": [
    "#    3x3 rotated planar code with H or V indicating qubits and hashed/blank plaquettes indicating X/Z stabilizers:\n",
    "#     ::\n",
    "\n",
    "#            /---\\\n",
    "#            |   |\n",
    "#            H6--V7--H8\\\n",
    "#            |###|   |##|\n",
    "#            |###|   |##|\n",
    "#            |###|   |##|\n",
    "#         /--V3---H4---V5-/\n",
    "#         |##|   |###|\n",
    "#         |##|   |###|\n",
    "#         |##|   |###|\n",
    "#         \\--H0---V1---H2\n",
    "#                |   |\n",
    "#                \\---/\n",
    "\n",
    "import collections\n",
    "import itertools\n",
    "import numpy as np\n",
    "from qecsim import paulitools as pt\n",
    "import matplotlib.pyplot as plt\n",
    "import qecsim\n",
    "from qecsim import app\n",
    "from qecsim.models.generic import PhaseFlipErrorModel,DepolarizingErrorModel,BiasedDepolarizingErrorModel\n",
    "#from qecsim.models.planar import PlanarCode, PlanarMPSDecoder\n",
    "from qecsim.models.rotatedplanar import RotatedPlanarCode\n",
    "\n",
    "from _planarmpsdecoder_def import PlanarMPSDecoder_def\n",
    "from _rotatedplanarmpsdecoder_def import RotatedPlanarMPSDecoder_def\n",
    "import app_def\n",
    "import _rotatedplanarmpsdecoder_def\n",
    "import importlib as imp\n",
    "imp.reload(app_def)\n",
    "imp.reload(_rotatedplanarmpsdecoder_def)\n",
    "import os, time\n",
    "import multiprocessing as mp\n",
    "from functools import partial\n",
    "\n",
    "import collections\n",
    "import itertools\n",
    "import json\n",
    "import logging\n",
    "import statistics\n",
    "import time\n",
    "import numpy as np\n",
    "from qecsim import paulitools as pt\n",
    "from qecsim.error import QecsimError\n",
    "from qecsim.model import DecodeResult\n",
    "\n",
    "rng = np.random.default_rng(10)\n",
    "\n",
    "size=3\n",
    "code=RotatedPlanarCode(*(size,size)) \n",
    "bias=100\n",
    "n_qubits =code.n_k_d[0]\n",
    "probability=0.2\n",
    "error_model = BiasedDepolarizingErrorModel(bias,'Z')\n",
    "p=error_model.probability_distribution(probability)\n",
    "\n",
    "error_pauli = ''.join(rng.choice(\n",
    "            ('I', 'X', 'Y', 'Z'),\n",
    "            size=n_qubits,\n",
    "            p=error_model.probability_distribution(probability)\n",
    "        ))\n",
    "error=pt.pauli_to_bsf(error_pauli)\n",
    "syndrome = pt.bsp(error, code.stabilizers.T)\n",
    "syndrome"
   ]
  },
  {
   "cell_type": "code",
   "execution_count": 348,
   "metadata": {},
   "outputs": [
    {
     "data": {
      "text/plain": [
       "array([[0, 0, 0, 0, 1, 0, 0, 0],\n",
       "       [0, 0, 0, 0, 0, 1, 0, 0],\n",
       "       [0, 0, 0, 0, 0, 1, 0, 0],\n",
       "       [0, 0, 0, 0, 1, 0, 1, 0],\n",
       "       [0, 0, 0, 0, 0, 1, 1, 0],\n",
       "       [0, 0, 0, 0, 0, 1, 0, 1],\n",
       "       [0, 0, 0, 0, 0, 0, 1, 0],\n",
       "       [0, 0, 0, 0, 0, 0, 1, 0],\n",
       "       [0, 0, 0, 0, 0, 0, 0, 1],\n",
       "       [0, 1, 0, 0, 0, 0, 0, 0],\n",
       "       [1, 1, 0, 0, 0, 0, 0, 0],\n",
       "       [1, 0, 0, 0, 0, 0, 0, 0],\n",
       "       [0, 1, 0, 0, 0, 0, 0, 0],\n",
       "       [0, 1, 1, 0, 0, 0, 0, 0],\n",
       "       [0, 0, 1, 0, 0, 0, 0, 0],\n",
       "       [0, 0, 0, 1, 0, 0, 0, 0],\n",
       "       [0, 0, 1, 1, 0, 0, 0, 0],\n",
       "       [0, 0, 1, 0, 0, 0, 0, 0]])"
      ]
     },
     "execution_count": 348,
     "metadata": {},
     "output_type": "execute_result"
    }
   ],
   "source": [
    "code.stabilizers.T\n"
   ]
  },
  {
   "cell_type": "code",
   "execution_count": 349,
   "metadata": {},
   "outputs": [
    {
     "data": {
      "text/plain": [
       "'ZIZIIIIZI'"
      ]
     },
     "execution_count": 349,
     "metadata": {},
     "output_type": "execute_result"
    }
   ],
   "source": [
    "error_pauli"
   ]
  },
  {
   "cell_type": "code",
   "execution_count": 98,
   "metadata": {},
   "outputs": [
    {
     "data": {
      "text/plain": [
       "(2, 2)"
      ]
     },
     "execution_count": 98,
     "metadata": {},
     "output_type": "execute_result"
    }
   ],
   "source": [
    "code.site_bounds"
   ]
  },
  {
   "cell_type": "code",
   "execution_count": 99,
   "metadata": {},
   "outputs": [
    {
     "data": {
      "text/plain": [
       "1"
      ]
     },
     "execution_count": 99,
     "metadata": {},
     "output_type": "execute_result"
    }
   ],
   "source": [
    "int(2*0.6)"
   ]
  },
  {
   "cell_type": "code",
   "execution_count": 100,
   "metadata": {},
   "outputs": [],
   "source": [
    "pH=0.5"
   ]
  },
  {
   "cell_type": "code",
   "execution_count": 356,
   "metadata": {},
   "outputs": [],
   "source": [
    "\n",
    "size=3\n",
    "code=RotatedPlanarCode(*(size,size+1)) \n",
    "\n",
    "hadamard_mat=np.zeros((3,4))\n",
    "from sklearn.utils.random import sample_without_replacement\n",
    "\n",
    "def random_coords(dims, nsamp):\n",
    "    idx = sample_without_replacement(np.prod(dims), nsamp)\n",
    "    return np.vstack(np.unravel_index(idx, dims)).T\n",
    "\n",
    "rand_coords= random_coords(hadamard_mat.shape,int(np.prod(hadamard_mat.shape)*pH))\n",
    "for row, col in rand_coords:\n",
    "    hadamard_mat[row,col]=1"
   ]
  },
  {
   "cell_type": "code",
   "execution_count": 357,
   "metadata": {},
   "outputs": [
    {
     "data": {
      "text/plain": [
       "array([[0., 1., 0., 0.],\n",
       "       [0., 1., 1., 1.],\n",
       "       [1., 0., 0., 1.]])"
      ]
     },
     "execution_count": 357,
     "metadata": {},
     "output_type": "execute_result"
    }
   ],
   "source": [
    "hadamard_mat"
   ]
  },
  {
   "cell_type": "code",
   "execution_count": 360,
   "metadata": {},
   "outputs": [
    {
     "data": {
      "text/plain": [
       "array([0., 0., 1., 1., 1., 0., 0., 1., 0., 0., 1., 1.])"
      ]
     },
     "execution_count": 360,
     "metadata": {},
     "output_type": "execute_result"
    }
   ],
   "source": [
    "n_qubits = code.n_k_d[0]\n",
    "hadamard_vec=np.zeros(n_qubits)\n",
    "\n",
    "Nx=code.site_bounds[0]+1\n",
    "Ny=code.site_bounds[1]+1\n",
    "\n",
    "for i,j in np.ndindex(hadamard_mat.shape):\n",
    "    if hadamard_mat[i,j]==1:\n",
    "        hadamard_vec[i+j*(Nx-1)]=1\n",
    "        \n",
    "hadamard_vec"
   ]
  },
  {
   "cell_type": "code",
   "execution_count": 118,
   "metadata": {},
   "outputs": [],
   "source": [
    "code=RotatedPlanarCode(*(size,size+1)) \n",
    "n_qubits =code.n_k_d[0]\n",
    "hadamard_vec=np.zeros(n_qubits)\n",
    "\n",
    "hadamard_mat=np.zeros((3,4))\n",
    "for row, col in np.ndindex(hadamard_mat.shape):\n",
    "    if (row+col)%2==0:\n",
    "        hadamard_mat[row,col]=1\n",
    "for i in range(n_qubits):\n",
    "    if i%2==0:\n",
    "        hadamard_vec[i]=1"
   ]
  },
  {
   "cell_type": "code",
   "execution_count": 119,
   "metadata": {},
   "outputs": [
    {
     "data": {
      "text/plain": [
       "array([[1., 0., 1., 0.],\n",
       "       [0., 1., 0., 1.],\n",
       "       [1., 0., 1., 0.]])"
      ]
     },
     "execution_count": 119,
     "metadata": {},
     "output_type": "execute_result"
    }
   ],
   "source": [
    "hadamard_mat"
   ]
  },
  {
   "cell_type": "code",
   "execution_count": 120,
   "metadata": {},
   "outputs": [
    {
     "data": {
      "text/plain": [
       "array([1., 0., 1., 0., 1., 0., 1., 0., 1., 0., 1., 0.])"
      ]
     },
     "execution_count": 120,
     "metadata": {},
     "output_type": "execute_result"
    }
   ],
   "source": [
    "hadamard_vec"
   ]
  },
  {
   "cell_type": "code",
   "execution_count": 123,
   "metadata": {},
   "outputs": [],
   "source": [
    "hadamard_mat=np.zeros((3,4))\n",
    "rand_coords= random_coords(hadamard_mat.shape,int(np.prod(hadamard_mat.shape)*pH))\n",
    "for row, col in rand_coords:\n",
    "        hadamard_mat[row,col]=1"
   ]
  },
  {
   "cell_type": "code",
   "execution_count": 124,
   "metadata": {},
   "outputs": [
    {
     "data": {
      "text/plain": [
       "array([[0., 0., 1., 1.],\n",
       "       [1., 0., 1., 0.],\n",
       "       [1., 1., 0., 0.]])"
      ]
     },
     "execution_count": 124,
     "metadata": {},
     "output_type": "execute_result"
    }
   ],
   "source": [
    "hadamard_mat"
   ]
  },
  {
   "cell_type": "code",
   "execution_count": 125,
   "metadata": {},
   "outputs": [
    {
     "data": {
      "text/plain": [
       "array([[2, 0],\n",
       "       [0, 3],\n",
       "       [1, 0],\n",
       "       [2, 1],\n",
       "       [0, 2],\n",
       "       [1, 2]])"
      ]
     },
     "execution_count": 125,
     "metadata": {},
     "output_type": "execute_result"
    }
   ],
   "source": [
    "rand_coords"
   ]
  },
  {
   "cell_type": "code",
   "execution_count": 126,
   "metadata": {},
   "outputs": [
    {
     "data": {
      "text/plain": [
       "6"
      ]
     },
     "execution_count": 126,
     "metadata": {},
     "output_type": "execute_result"
    }
   ],
   "source": [
    "dims=(3,2)\n",
    "np.prod(dims)"
   ]
  },
  {
   "cell_type": "code",
   "execution_count": 130,
   "metadata": {},
   "outputs": [],
   "source": [
    "y=random_coords((3,3),4)"
   ]
  },
  {
   "cell_type": "code",
   "execution_count": 129,
   "metadata": {},
   "outputs": [],
   "source": [
    "x=random_coords((3,3),9)"
   ]
  },
  {
   "cell_type": "code",
   "execution_count": 137,
   "metadata": {},
   "outputs": [
    {
     "data": {
      "text/plain": [
       "False"
      ]
     },
     "execution_count": 137,
     "metadata": {},
     "output_type": "execute_result"
    }
   ],
   "source": [
    "(3,4) in x"
   ]
  },
  {
   "cell_type": "code",
   "execution_count": 139,
   "metadata": {},
   "outputs": [],
   "source": [
    "error_pauli = ''.join(rng.choice(\n",
    "        ('I', 'X', 'Y', 'Z'),\n",
    "        size=n_qubits,\n",
    "        p=error_model.probability_distribution(probability)\n",
    "    ))"
   ]
  },
  {
   "cell_type": "code",
   "execution_count": 140,
   "metadata": {},
   "outputs": [
    {
     "data": {
      "text/plain": [
       "'ZZIIIZZIIIZI'"
      ]
     },
     "execution_count": 140,
     "metadata": {},
     "output_type": "execute_result"
    }
   ],
   "source": [
    "error_pauli"
   ]
  },
  {
   "cell_type": "code",
   "execution_count": 147,
   "metadata": {},
   "outputs": [
    {
     "data": {
      "text/plain": [
       "['X', 'Y', 'Z']"
      ]
     },
     "execution_count": 147,
     "metadata": {},
     "output_type": "execute_result"
    }
   ],
   "source": [
    "x=['X','Y','Z']\n",
    "x"
   ]
  },
  {
   "cell_type": "code",
   "execution_count": 149,
   "metadata": {},
   "outputs": [
    {
     "data": {
      "text/plain": [
       "'XYZ'"
      ]
     },
     "execution_count": 149,
     "metadata": {},
     "output_type": "execute_result"
    }
   ],
   "source": [
    "''.join(x)"
   ]
  },
  {
   "cell_type": "code",
   "execution_count": 180,
   "metadata": {},
   "outputs": [
    {
     "data": {
      "text/plain": [
       "array([[6],\n",
       "       [4]])"
      ]
     },
     "execution_count": 180,
     "metadata": {},
     "output_type": "execute_result"
    }
   ],
   "source": [
    "x=random_coords(10,2)\n",
    "y=random_coords(10,10)\n",
    "\n",
    "x"
   ]
  },
  {
   "cell_type": "code",
   "execution_count": 181,
   "metadata": {},
   "outputs": [
    {
     "data": {
      "text/plain": [
       "array([[0],\n",
       "       [1],\n",
       "       [2],\n",
       "       [3],\n",
       "       [4],\n",
       "       [5],\n",
       "       [6],\n",
       "       [7],\n",
       "       [8],\n",
       "       [9]])"
      ]
     },
     "execution_count": 181,
     "metadata": {},
     "output_type": "execute_result"
    }
   ],
   "source": [
    "y"
   ]
  },
  {
   "cell_type": "code",
   "execution_count": 182,
   "metadata": {},
   "outputs": [
    {
     "data": {
      "text/plain": [
       "False"
      ]
     },
     "execution_count": 182,
     "metadata": {},
     "output_type": "execute_result"
    }
   ],
   "source": [
    "[5] in x"
   ]
  },
  {
   "cell_type": "code",
   "execution_count": 192,
   "metadata": {},
   "outputs": [],
   "source": [
    "def complement(listA, listB):\n",
    "    listC=[]    \n",
    "    for i in range(len(listA)):\n",
    "        if listA[i] not in listB:\n",
    "            listC.append(listA[i][0])\n",
    "    return listC"
   ]
  },
  {
   "cell_type": "code",
   "execution_count": 193,
   "metadata": {},
   "outputs": [],
   "source": [
    "z=complement(y,x)"
   ]
  },
  {
   "cell_type": "code",
   "execution_count": 194,
   "metadata": {},
   "outputs": [
    {
     "data": {
      "text/plain": [
       "[0, 1, 2, 3, 5, 7, 8, 9]"
      ]
     },
     "execution_count": 194,
     "metadata": {},
     "output_type": "execute_result"
    }
   ],
   "source": [
    "z"
   ]
  },
  {
   "cell_type": "code",
   "execution_count": 212,
   "metadata": {},
   "outputs": [
    {
     "data": {
      "text/plain": [
       "'ZYIXYZX'"
      ]
     },
     "execution_count": 212,
     "metadata": {},
     "output_type": "execute_result"
    }
   ],
   "source": [
    "from random import shuffle\n",
    "x = ['X','Y','Z','I','X','Y','Z']\n",
    "shuffle(x)\n",
    "''.join(x)"
   ]
  },
  {
   "cell_type": "code",
   "execution_count": 199,
   "metadata": {},
   "outputs": [
    {
     "data": {
      "text/plain": [
       "[0, 4, 1, 3, 8, 9, 2, 5, 6, 7]"
      ]
     },
     "execution_count": 199,
     "metadata": {},
     "output_type": "execute_result"
    }
   ],
   "source": [
    "x"
   ]
  },
  {
   "cell_type": "code",
   "execution_count": 208,
   "metadata": {},
   "outputs": [],
   "source": [
    "pI=0.2;p=(1-pI)/3\n",
    "y=[]"
   ]
  },
  {
   "cell_type": "code",
   "execution_count": 209,
   "metadata": {},
   "outputs": [
    {
     "data": {
      "text/plain": [
       "['I', 'I', 'X', 'X', 'X', 'Y', 'Y', 'Y', 'Z', 'Z', 'Z']"
      ]
     },
     "execution_count": 209,
     "metadata": {},
     "output_type": "execute_result"
    }
   ],
   "source": [
    "for i in range(int(n_qubits*pI)):\n",
    "    y.append('I')\n",
    "  \n",
    "  \n",
    "        \n",
    "for i in range(int(n_qubits*p)):\n",
    "    y.append('X')\n",
    "\n",
    "for i in range(int(n_qubits*p)):\n",
    "    y.append('Y')\n",
    "for i in range(int(n_qubits*p)):\n",
    "    y.append('Z')\n",
    "  \n",
    "  \n",
    "y\n",
    "   "
   ]
  },
  {
   "cell_type": "code",
   "execution_count": 210,
   "metadata": {},
   "outputs": [
    {
     "data": {
      "text/plain": [
       "['X', 'X', 'Z', 'I', 'I', 'Y', 'Z', 'X', 'Z', 'Y', 'Y']"
      ]
     },
     "execution_count": 210,
     "metadata": {},
     "output_type": "execute_result"
    }
   ],
   "source": [
    "shuffle(y)\n",
    "y"
   ]
  },
  {
   "cell_type": "code",
   "execution_count": 245,
   "metadata": {},
   "outputs": [],
   "source": [
    "from random import shuffle\n",
    "def generate(error_model, code, probability, rng=None):\n",
    "    \"\"\"\n",
    "    See :meth:`qecsim.model.ErrorModel.generate`\n",
    "\n",
    "    Notes:\n",
    "\n",
    "    * This method delegates to :meth:`probability_distribution` to find the probability of I, X, Y, Z operators on\n",
    "      each qubit, assuming an IID error model.\n",
    "    \"\"\"\n",
    "    n_qubits = code.n_k_d[0]\n",
    "    (pI,pX,pY,pZ)=error_model.probability_distribution(probability)\n",
    "    error_Pauli=[]\n",
    "    error_Pauli.extend('I'*int(n_qubits*pI))    \n",
    "    error_Pauli.extend('X'*int(n_qubits*pX))    \n",
    "    error_Pauli.extend('Y'*int(n_qubits*pY))    \n",
    "    error_Pauli.extend('Z'*int(n_qubits*pZ))    \n",
    "    shuffle(error_Pauli)\n",
    "    print(error_Pauli)\n",
    "    return pt.pauli_to_bsf(''.join(error_Pauli))"
   ]
  },
  {
   "cell_type": "code",
   "execution_count": 246,
   "metadata": {},
   "outputs": [
    {
     "name": "stdout",
     "output_type": "stream",
     "text": [
      "['I', 'Z', 'I', 'I', 'I', 'Z', 'Z', 'Z', 'Z', 'Z', 'Z']\n"
     ]
    },
    {
     "data": {
      "text/plain": [
       "array([0, 0, 0, 0, 0, 0, 0, 0, 0, 0, 0, 0, 1, 0, 0, 0, 1, 1, 1, 1, 1, 1])"
      ]
     },
     "execution_count": 246,
     "metadata": {},
     "output_type": "execute_result"
    }
   ],
   "source": [
    "error_Pauli=generate(error_model,code,0.6)\n",
    "error_Pauli"
   ]
  },
  {
   "cell_type": "code",
   "execution_count": 285,
   "metadata": {},
   "outputs": [
    {
     "name": "stdout",
     "output_type": "stream",
     "text": [
      "['I', 'I', 'I', 'I', 'I', 'X', 'X', 'X', 'X', 'X', 'X', 'X', 'Y', 'Y', 'Y', 'Y', 'Y', 'Y', 'Y', 'Z', 'Z', 'Z', 'Z', 'Z', 'Z', 'Z']\n",
      "['I', 'I', 'I', 'I', 'I', 'Z', 'Z', 'X', 'X', 'Z', 'X', 'X', 'Y', 'Y', 'Y', 'Y', 'Y', 'Y', 'Y', 'Z', 'X', 'X', 'X', 'X', 'X', 'Z']\n"
     ]
    }
   ],
   "source": [
    "code=RotatedPlanarCode(*(5,5)) \n",
    "\n",
    "error_model = BiasedDepolarizingErrorModel(0.5,'Z')\n",
    "\n",
    "n_qubits = code.n_k_d[0]\n",
    "(pI,pX,pY,pZ)=error_model.probability_distribution(0.8)\n",
    "error_Pauli=[]\n",
    "error_Pauli.extend('I'*round(n_qubits*pI))    \n",
    "error_Pauli.extend('X'*round(n_qubits*pX))    \n",
    "error_Pauli.extend('Y'*round(n_qubits*pY))    \n",
    "error_Pauli.extend('Z'*round(n_qubits*pZ))    \n",
    "error_Pauli.extend('I'*(n_qubits-round(n_qubits*pI)-round(n_qubits*pX)-round(n_qubits*pY)-round(n_qubits*pZ)))\n",
    "print(error_Pauli)\n",
    "for i in range(n_qubits):\n",
    "    if hadamard_vec[i]==1:\n",
    "        if error_Pauli[i]=='X':\n",
    "            error_Pauli[i]='Z'\n",
    "        elif error_Pauli[i]=='Z':\n",
    "            error_Pauli[i]='X'\n",
    "            \n",
    "print(error_Pauli)\n"
   ]
  },
  {
   "cell_type": "code",
   "execution_count": 283,
   "metadata": {},
   "outputs": [],
   "source": [
    "hadamard_vec=np.random.randint(0,2,n_qubits)"
   ]
  },
  {
   "cell_type": "code",
   "execution_count": 284,
   "metadata": {},
   "outputs": [
    {
     "data": {
      "text/plain": [
       "array([0, 0, 0, 1, 0, 1, 1, 0, 0, 1, 0, 0, 0, 0, 0, 1, 0, 1, 0, 0, 1, 1,\n",
       "       1, 1, 1])"
      ]
     },
     "execution_count": 284,
     "metadata": {},
     "output_type": "execute_result"
    }
   ],
   "source": [
    "hadamard_vec"
   ]
  },
  {
   "cell_type": "code",
   "execution_count": 275,
   "metadata": {},
   "outputs": [],
   "source": [
    "error_Pauli[3]='Z'"
   ]
  },
  {
   "cell_type": "code",
   "execution_count": 276,
   "metadata": {},
   "outputs": [
    {
     "data": {
      "text/plain": [
       "['I', 'I', 'X', 'Z', 'X', 'Y', 'Y', 'Y', 'Z', 'Z', 'Z', 'I']"
      ]
     },
     "execution_count": 276,
     "metadata": {},
     "output_type": "execute_result"
    }
   ],
   "source": [
    "error_Pauli"
   ]
  },
  {
   "cell_type": "code",
   "execution_count": 299,
   "metadata": {},
   "outputs": [
    {
     "data": {
      "text/plain": [
       "True"
      ]
     },
     "execution_count": 299,
     "metadata": {},
     "output_type": "execute_result"
    }
   ],
   "source": [
    "n_qubits = code.n_k_d[0]\n",
    "(pI,pX,pY,pZ)=error_model.probability_distribution(0.8)\n",
    "error_Pauli=[]\n",
    "error_Pauli.extend('X'*round(n_qubits*pX))    \n",
    "error_Pauli.extend('Y'*round(n_qubits*pY))    \n",
    "error_Pauli.extend('Z'*round(n_qubits*pZ))    \n",
    "error_Pauli.extend('I'*(n_qubits-len(error_Pauli)))\n",
    "len(error_Pauli)== n_qubits"
   ]
  },
  {
   "cell_type": "code",
   "execution_count": 297,
   "metadata": {},
   "outputs": [
    {
     "data": {
      "text/plain": [
       "27"
      ]
     },
     "execution_count": 297,
     "metadata": {},
     "output_type": "execute_result"
    }
   ],
   "source": [
    "len(error_Pauli)"
   ]
  },
  {
   "cell_type": "code",
   "execution_count": 295,
   "metadata": {},
   "outputs": [
    {
     "data": {
      "text/plain": [
       "25"
      ]
     },
     "execution_count": 295,
     "metadata": {},
     "output_type": "execute_result"
    }
   ],
   "source": [
    "n_qubits"
   ]
  },
  {
   "cell_type": "code",
   "execution_count": 296,
   "metadata": {},
   "outputs": [],
   "source": [
    "error_Pauli.extend('I'*-1)\n"
   ]
  },
  {
   "cell_type": "code",
   "execution_count": 311,
   "metadata": {},
   "outputs": [],
   "source": [
    "error_probability_min, error_probability_max = 0.05, 0.5\n",
    "error_probabilities = np.linspace(error_probability_min, error_probability_max, 18)"
   ]
  },
  {
   "cell_type": "code",
   "execution_count": 312,
   "metadata": {},
   "outputs": [
    {
     "data": {
      "text/plain": [
       "range(5, 9, 2)"
      ]
     },
     "execution_count": 312,
     "metadata": {},
     "output_type": "execute_result"
    }
   ],
   "source": [
    "sizes"
   ]
  },
  {
   "cell_type": "code",
   "execution_count": 346,
   "metadata": {},
   "outputs": [
    {
     "data": {
      "text/plain": [
       "[1, 2, 3, 4, 5, 6, 7, 8, 9, 10, 11, 12, 13, 14, 15, 17, 18, 19, 21, 22, 23, 24]"
      ]
     },
     "execution_count": 346,
     "metadata": {},
     "output_type": "execute_result"
    }
   ],
   "source": [
    "def removedup(vec):\n",
    "    vec2 = [] \n",
    "    [vec2.append(x) for x in vec if x not in vec2] \n",
    "    return np.array(vec2)\n",
    "\n",
    "n_qubits=sizes[0]**2\n",
    "vround = np.vectorize(round)\n",
    "n_error_vec=removedup(vround(error_probabilities*n_qubits))\n",
    "\n",
    "n_errors =[]\n",
    "n_errors.extend(n_error_vec)\n",
    "\n",
    "for i in range(1,len(sizes)):\n",
    "    n_qubits=sizes[i]**2\n",
    "    n_error_vec=removedup(vround(error_probabilities*n_qubits))\n",
    "    n_errors.extend(n_error_vec[n_error_vec>n_errors[-1]])\n",
    "    \n",
    "n_errors"
   ]
  },
  {
   "cell_type": "code",
   "execution_count": 342,
   "metadata": {},
   "outputs": [
    {
     "ename": "TypeError",
     "evalue": "'>' not supported between instances of 'list' and 'int'",
     "output_type": "error",
     "traceback": [
      "\u001b[0;31m---------------------------------------------------------------------------\u001b[0m",
      "\u001b[0;31mTypeError\u001b[0m                                 Traceback (most recent call last)",
      "\u001b[0;32m<ipython-input-342-639468d3e32c>\u001b[0m in \u001b[0;36m<module>\u001b[0;34m\u001b[0m\n\u001b[0;32m----> 1\u001b[0;31m \u001b[0mn_error_vec\u001b[0m\u001b[0;34m[\u001b[0m\u001b[0mn_error_vec\u001b[0m\u001b[0;34m>\u001b[0m\u001b[0;36m9\u001b[0m\u001b[0;34m]\u001b[0m\u001b[0;34m\u001b[0m\u001b[0;34m\u001b[0m\u001b[0m\n\u001b[0m",
      "\u001b[0;31mTypeError\u001b[0m: '>' not supported between instances of 'list' and 'int'"
     ]
    }
   ],
   "source": [
    "n_error_vec[n_error_vec>9]"
   ]
  },
  {
   "cell_type": "code",
   "execution_count": 319,
   "metadata": {},
   "outputs": [
    {
     "data": {
      "text/plain": [
       "2"
      ]
     },
     "execution_count": 319,
     "metadata": {},
     "output_type": "execute_result"
    }
   ],
   "source": [
    "round(1.5)"
   ]
  },
  {
   "cell_type": "code",
   "execution_count": 320,
   "metadata": {},
   "outputs": [
    {
     "data": {
      "text/plain": [
       "array([0, 2])"
      ]
     },
     "execution_count": 320,
     "metadata": {},
     "output_type": "execute_result"
    }
   ],
   "source": [
    "vfunc = np.vectorize(round)\n",
    "vfunc([0.3,2.5])"
   ]
  },
  {
   "cell_type": "code",
   "execution_count": 322,
   "metadata": {},
   "outputs": [
    {
     "data": {
      "text/plain": [
       "array([0.25      , 0.38235294, 0.51470588, 0.64705882, 0.77941176,\n",
       "       0.91176471, 1.04411765, 1.17647059, 1.30882353, 1.44117647,\n",
       "       1.57352941, 1.70588235, 1.83823529, 1.97058824, 2.10294118,\n",
       "       2.23529412, 2.36764706, 2.5       ])"
      ]
     },
     "execution_count": 322,
     "metadata": {},
     "output_type": "execute_result"
    }
   ],
   "source": [
    "error_probabilities*sizes[0]"
   ]
  },
  {
   "cell_type": "code",
   "execution_count": 324,
   "metadata": {},
   "outputs": [],
   "source": [
    "n_errors =[]\n",
    "vround = np.vectorize(round)\n",
    "\n",
    "n_qubits=sizes[0]**2\n",
    "n_errors.extend(vround(error_probabilities*n_qubits))"
   ]
  },
  {
   "cell_type": "code",
   "execution_count": 325,
   "metadata": {},
   "outputs": [
    {
     "data": {
      "text/plain": [
       "[1, 2, 3, 3, 4, 5, 5, 6, 7, 7, 8, 9, 9, 10, 11, 11, 12, 12]"
      ]
     },
     "execution_count": 325,
     "metadata": {},
     "output_type": "execute_result"
    }
   ],
   "source": [
    "n_errors"
   ]
  },
  {
   "cell_type": "code",
   "execution_count": 361,
   "metadata": {},
   "outputs": [
    {
     "name": "stdout",
     "output_type": "stream",
     "text": [
      "(-1, -1)\n",
      "(-1, 0)\n",
      "(-1, 1)\n",
      "(-1, 2)\n",
      "(0, -1)\n",
      "(0, 0)\n",
      "(0, 1)\n",
      "(0, 2)\n",
      "(1, -1)\n",
      "(1, 0)\n",
      "(1, 1)\n",
      "(1, 2)\n",
      "(2, -1)\n",
      "(2, 0)\n",
      "(2, 1)\n",
      "(2, 2)\n",
      "(3, -1)\n",
      "(3, 0)\n",
      "(3, 1)\n",
      "(3, 2)\n"
     ]
    }
   ],
   "source": [
    "max_site_x, max_site_y = code.site_bounds\n",
    "for code_index in itertools.product(range(-1, max_site_x + 1), range(-1, max_site_y + 1)):\n",
    "    print(code_index)"
   ]
  },
  {
   "cell_type": "code",
   "execution_count": 378,
   "metadata": {},
   "outputs": [],
   "source": [
    "code=PlanarCode(*(5,5)) \n",
    "rng = np.random.default_rng(59)\n",
    "bias=100\n",
    "\n",
    "error_model = BiasedDepolarizingErrorModel(bias,'Z')\n",
    "chi_val=10\n",
    "decoder = PlanarMPSDecoder_def(chi=chi_val)\n",
    "error = error_model.generate(code, error_probability_max, rng)\n",
    "syndrome = pt.bsp(error, code.stabilizers.T)\n",
    "sample_pauli = decoder.sample_recovery(code, syndrome)\n",
    "hadamard_mat_sample=np.zeros((2*sample_pauli.code.size[0] - 1, 2*sample_pauli.code.size[1] - 1))\n",
    "hadamard_mat=np.zeros(hadamard_mat_sample.shape)\n",
    "\n",
    "n_qubits =code.n_k_d[0]\n",
    "\n",
    "        \n",
    "for row, col in np.ndindex(hadamard_mat.shape):\n",
    "    if row%2==0 and col%2==0:\n",
    "        hadamard_mat[row,col]=1\n",
    "# for i in range(n_qubits):\n",
    "#     if i<sizes[code_index]**2\n",
    "#         hadamard_vec[i]=1\n",
    "n_qubits = code.n_k_d[0]\n",
    "hadamard_vec=np.zeros(np.prod(hadamard_mat.shape))\n",
    "\n",
    "for i,j in np.ndindex(hadamard_mat.shape):\n",
    "    if hadamard_mat[i,j]==1:\n",
    "        hadamard_vec[j+i*hadamard_mat.shape[1]]=1\n",
    "        \n",
    "hadamard_vec2=[]        \n",
    "for row, col in np.ndindex(hadamard_mat.shape):\n",
    "    if (row%2==0 and col%2==0):\n",
    "        hadamard_mat[row,col]=1\n",
    "        hadamard_vec2.append(hadamard_mat[row,col])\n",
    "\n",
    "for row, col in np.ndindex(hadamard_mat.shape):\n",
    "    if (row%2==1 and col%2==1):\n",
    "        hadamard_vec2.append(hadamard_mat[row,col])\n",
    "        \n",
    "        \n",
    "hadamard_vec2=np.array(hadamard_vec2)        "
   ]
  },
  {
   "cell_type": "code",
   "execution_count": 379,
   "metadata": {},
   "outputs": [
    {
     "data": {
      "text/plain": [
       "array([1., 0., 1., 0., 1., 0., 1., 0., 1., 0., 0., 0., 0., 0., 0., 0., 0.,\n",
       "       0., 1., 0., 1., 0., 1., 0., 1., 0., 1., 0., 0., 0., 0., 0., 0., 0.,\n",
       "       0., 0., 1., 0., 1., 0., 1., 0., 1., 0., 1., 0., 0., 0., 0., 0., 0.,\n",
       "       0., 0., 0., 1., 0., 1., 0., 1., 0., 1., 0., 1., 0., 0., 0., 0., 0.,\n",
       "       0., 0., 0., 0., 1., 0., 1., 0., 1., 0., 1., 0., 1.])"
      ]
     },
     "execution_count": 379,
     "metadata": {},
     "output_type": "execute_result"
    }
   ],
   "source": [
    "hadamard_vec"
   ]
  },
  {
   "cell_type": "code",
   "execution_count": 380,
   "metadata": {},
   "outputs": [
    {
     "data": {
      "text/plain": [
       "array([1., 1., 1., 1., 1., 1., 1., 1., 1., 1., 1., 1., 1., 1., 1., 1., 1.,\n",
       "       1., 1., 1., 1., 1., 1., 1., 1., 0., 0., 0., 0., 0., 0., 0., 0., 0.,\n",
       "       0., 0., 0., 0., 0., 0., 0.])"
      ]
     },
     "execution_count": 380,
     "metadata": {},
     "output_type": "execute_result"
    }
   ],
   "source": [
    "hadamard_vec2"
   ]
  },
  {
   "cell_type": "code",
   "execution_count": 371,
   "metadata": {},
   "outputs": [],
   "source": [
    "code=RotatedPlanarCode(*(5,5)) \n",
    "rng = np.random.default_rng(59)\n",
    "bias=100\n",
    "sizes=[5]\n",
    "error_model = BiasedDepolarizingErrorModel(bias,'Z')\n",
    "chi_val=10\n",
    "hadamard_mat=np.zeros((sizes[0],sizes[0]))\n",
    "\n",
    "\n",
    "n_qubits =code.n_k_d[0]\n",
    "       \n",
    "for row, col in np.ndindex(hadamard_mat.shape):\n",
    "    if (row+col)%2==0:\n",
    "        hadamard_mat[row,col]=1\n",
    "        \n",
    "# for i in range(n_qubits):\n",
    "#     if i<sizes[code_index]**2\n",
    "#         hadamard_vec[i]=1\n",
    "n_qubits = code.n_k_d[0]\n",
    "hadamard_vec=np.zeros(np.prod(hadamard_mat.shape))\n",
    "\n",
    "for i,j in np.ndindex(hadamard_mat.shape):\n",
    "    if hadamard_mat[i,j]==1:\n",
    "        hadamard_vec[j+i*hadamard_mat.shape[1]]=1"
   ]
  },
  {
   "cell_type": "code",
   "execution_count": 372,
   "metadata": {},
   "outputs": [
    {
     "data": {
      "text/plain": [
       "array([1., 0., 1., 0., 1., 0., 1., 0., 1., 0., 1., 0., 1., 0., 1., 0., 1.,\n",
       "       0., 1., 0., 1., 0., 1., 0., 1.])"
      ]
     },
     "execution_count": 372,
     "metadata": {},
     "output_type": "execute_result"
    }
   ],
   "source": [
    "hadamard_vec"
   ]
  },
  {
   "cell_type": "code",
   "execution_count": null,
   "metadata": {},
   "outputs": [],
   "source": []
  }
 ],
 "metadata": {
  "anaconda-cloud": {},
  "kernelspec": {
   "display_name": "Python 3",
   "language": "python",
   "name": "python3"
  },
  "language_info": {
   "codemirror_mode": {
    "name": "ipython",
    "version": 3
   },
   "file_extension": ".py",
   "mimetype": "text/x-python",
   "name": "python",
   "nbconvert_exporter": "python",
   "pygments_lexer": "ipython3",
   "version": "3.8.5"
  }
 },
 "nbformat": 4,
 "nbformat_minor": 1
}
