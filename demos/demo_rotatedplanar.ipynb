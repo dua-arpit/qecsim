{
 "cells": [
  {
   "cell_type": "markdown",
   "metadata": {
    "collapsed": true
   },
   "source": [
    "# qecsim demos"
   ]
  },
  {
   "cell_type": "markdown",
   "metadata": {},
   "source": [
    "## Simulating error correction with a rotated planar stabilizer code\n",
    "This demo shows verbosely how to simulate one error correction run. \n",
    "\n",
    "| For normal use, the code in this demo is encapsulated in the function:\n",
    "| `qecsim.app.run_once(code, error_model, decoder, error_probability)`,\n",
    "| and the simulation of many error correction runs is encapsulated in the function:\n",
    "| `qecsim.app.run(code, error_model, decoder, error_probability, max_runs, max_failures)`.\n",
    "\n",
    "Notes:\n",
    "\n",
    "* Operators can be visualised in binary symplectic form (bsf) or Pauli form, e.g. `[1 1 0|0 1 0] = XYI`.\n",
    "* The binary symplectic product is denoted by $\\odot$ and defined as $A \\odot B \\equiv A \\Lambda B \\bmod 2$ where $\\Lambda = \\left[\\begin{matrix} 0 & I \\\\ I & 0 \\end{matrix}\\right]$.\n",
    "* Binary addition is denoted by $\\oplus$ and defined as addition modulo 2, or equivalently exclusive-or."
   ]
  },
  {
   "cell_type": "markdown",
   "metadata": {},
   "source": [
    "### Initialise the models"
   ]
  },
  {
   "cell_type": "code",
   "execution_count": 1,
   "metadata": {},
   "outputs": [
    {
     "name": "stdout",
     "output_type": "stream",
     "text": [
      "Setting permissions of DOT_SAGE directory so only you can read and write it.\n",
      "RotatedPlanarCode(7, 7)\n",
      "DepolarizingErrorModel()\n",
      "RotatedPlanarMPSDecoder(8, 'c', None)\n"
     ]
    }
   ],
   "source": [
    "%run qsu.ipynb  # color-printing functions\n",
    "import collections\n",
    "import itertools\n",
    "import numpy as np\n",
    "from qecsim import paulitools as pt\n",
    "import matplotlib.pyplot as plt\n",
    "import qecsim\n",
    "from qecsim import app\n",
    "from qecsim.models.generic import PhaseFlipErrorModel,DepolarizingErrorModel,BiasedDepolarizingErrorModel\n",
    "from qecsim.models.planar import PlanarCode, PlanarMPSDecoder\n",
    "from qecsim.models.rotatedplanar import RotatedPlanarCode, RotatedPlanarMPSDecoder\n",
    "\n",
    "from _planarmpsdecoder_def import PlanarMPSDecoder_def\n",
    "from _rotatedplanarmpsdecoder_def import RotatedPlanarMPSDecoder_def\n",
    "import app_def\n",
    "import importlib as imp\n",
    "imp.reload(app_def)\n",
    "import os, time\n",
    "import multiprocessing as mp\n",
    "from functools import partial\n",
    "from itertools import cycle\n",
    "\n",
    "# initialise models\n",
    "my_code = RotatedPlanarCode(7, 7)\n",
    "my_error_model = DepolarizingErrorModel()\n",
    "my_decoder = RotatedPlanarMPSDecoder(chi=8)\n",
    "# print models\n",
    "print(my_code)\n",
    "print(my_error_model)\n",
    "print(my_decoder)"
   ]
  },
  {
   "cell_type": "code",
   "execution_count": 51,
   "metadata": {},
   "outputs": [
    {
     "name": "stdout",
     "output_type": "stream",
     "text": [
      "(5, 5)\n",
      "5 0\n"
     ]
    },
    {
     "data": {
      "text/plain": [
       "(10, 5)"
      ]
     },
     "execution_count": 51,
     "metadata": {},
     "output_type": "execute_result"
    }
   ],
   "source": [
    "code = RotatedPlanarCode(6,6)\n",
    "print(code.site_bounds)\n",
    "code_index=(0,0)\n",
    "code.is_z_plaquette(code_index)\n",
    "def _rotate_q_index(index, code):\n",
    "    \"\"\"Convert code site index in format (x, y) to tensor network q-node index in format (r, c)\"\"\"\n",
    "    site_x, site_y = index  # qubit index in (x, y)\n",
    "    site_r, site_c = code.site_bounds[1] - site_y, site_x  # qubit index in (r, c)\n",
    "    print(site_r, site_c)\n",
    "    return code.site_bounds[0] - site_c + site_r, site_r + site_c  # q-node index in (r, c)\n",
    "\n",
    "_rotate_q_index(code_index, code)"
   ]
  },
  {
   "cell_type": "code",
   "execution_count": 43,
   "metadata": {},
   "outputs": [
    {
     "name": "stdout",
     "output_type": "stream",
     "text": [
      "5 0\n",
      "5 5\n"
     ]
    },
    {
     "data": {
      "text/plain": [
       "(11, 11)"
      ]
     },
     "execution_count": 43,
     "metadata": {},
     "output_type": "execute_result"
    }
   ],
   "source": [
    "tn_max_r, _ = _rotate_q_index((0, 0), code)\n",
    "_, tn_max_c = _rotate_q_index((code.site_bounds[0], 0), code)\n",
    "tn = np.empty((tn_max_r + 1, tn_max_c + 1), dtype=object)\n",
    "tn.shape"
   ]
  },
  {
   "cell_type": "markdown",
   "metadata": {},
   "source": [
    "### Generate a random error"
   ]
  },
  {
   "cell_type": "code",
   "execution_count": 70,
   "metadata": {},
   "outputs": [
    {
     "data": {
      "text/html": [
       "<div class=\"highlight\"><pre style=\"line-height:1!important;\">error:\n",
       "      ┌───┐   ┌───┐      \n",
       "┌─·───·───<span style=\"color:blue; font-weight:bold\">Z</span>───<span style=\"color:red; font-weight:bold\">X</span>───·───·─┐\n",
       "│░│   │░░░│   │░░░│   │░│\n",
       "└─·───·───·───<span style=\"color:red; font-weight:bold\">X</span>───·───<span style=\"color:red; font-weight:bold\">X</span>─┘\n",
       "  │░░░│   │░░░│   │░░░│  \n",
       "┌─·───<span style=\"color:blue; font-weight:bold\">Z</span>───·───<span style=\"color:magenta; font-weight:bold\">Y</span>───·───<span style=\"color:blue; font-weight:bold\">Z</span>─┐\n",
       "│░│   │░░░│   │░░░│   │░│\n",
       "└─·───<span style=\"color:magenta; font-weight:bold\">Y</span>───<span style=\"color:magenta; font-weight:bold\">Y</span>───<span style=\"color:blue; font-weight:bold\">Z</span>───·───<span style=\"color:magenta; font-weight:bold\">Y</span>─┘\n",
       "  │░░░│   │░░░│   │░░░│  \n",
       "┌─<span style=\"color:red; font-weight:bold\">X</span>───<span style=\"color:magenta; font-weight:bold\">Y</span>───·───<span style=\"color:blue; font-weight:bold\">Z</span>───<span style=\"color:magenta; font-weight:bold\">Y</span>───·─┐\n",
       "│░│   │░░░│   │░░░│   │░│\n",
       "└─<span style=\"color:blue; font-weight:bold\">Z</span>───·───<span style=\"color:magenta; font-weight:bold\">Y</span>───·───·───·─┘\n",
       "      └───┘   └───┘      </pre></div>"
      ],
      "text/plain": [
       "<IPython.core.display.HTML object>"
      ]
     },
     "metadata": {},
     "output_type": "display_data"
    }
   ],
   "source": [
    "import collections\n",
    "import itertools\n",
    "import numpy as np\n",
    "from qecsim import paulitools as pt\n",
    "import matplotlib.pyplot as plt\n",
    "import qecsim\n",
    "from qecsim import app\n",
    "from qecsim.models.generic import PhaseFlipErrorModel,DepolarizingErrorModel,BiasedDepolarizingErrorModel\n",
    "from qecsim.models.planar import PlanarCode, PlanarMPSDecoder\n",
    "from qecsim.models.rotatedplanar import RotatedPlanarCode, RotatedPlanarMPSDecoder\n",
    "\n",
    "from _planarmpsdecoder_def import PlanarMPSDecoder_def\n",
    "from _rotatedplanarmpsdecoder_def import RotatedPlanarMPSDecoder_def\n",
    "import app_def\n",
    "import importlib as imp\n",
    "imp.reload(app_def)\n",
    "import os, time\n",
    "import multiprocessing as mp\n",
    "from functools import partial\n",
    "from itertools import cycle"
   ]
  },
  {
   "cell_type": "code",
   "execution_count": 77,
   "metadata": {},
   "outputs": [
    {
     "data": {
      "text/html": [
       "<div class=\"highlight\"><pre style=\"line-height:1!important;\">error:\n",
       "      ┌───┐   ┌───┐      \n",
       "┌─·───·───<span style=\"color:blue; font-weight:bold\">Z</span>───<span style=\"color:red; font-weight:bold\">X</span>───·───·─┐\n",
       "│░│   │░░░│   │░░░│   │░│\n",
       "└─·───·───·───<span style=\"color:red; font-weight:bold\">X</span>───·───<span style=\"color:red; font-weight:bold\">X</span>─┘\n",
       "  │░░░│   │░░░│   │░░░│  \n",
       "┌─·───<span style=\"color:blue; font-weight:bold\">Z</span>───·───<span style=\"color:magenta; font-weight:bold\">Y</span>───·───<span style=\"color:blue; font-weight:bold\">Z</span>─┐\n",
       "│░│   │░░░│   │░░░│   │░│\n",
       "└─·───<span style=\"color:magenta; font-weight:bold\">Y</span>───<span style=\"color:magenta; font-weight:bold\">Y</span>───<span style=\"color:blue; font-weight:bold\">Z</span>───·───<span style=\"color:magenta; font-weight:bold\">Y</span>─┘\n",
       "  │░░░│   │░░░│   │░░░│  \n",
       "┌─<span style=\"color:red; font-weight:bold\">X</span>───<span style=\"color:magenta; font-weight:bold\">Y</span>───·───<span style=\"color:blue; font-weight:bold\">Z</span>───<span style=\"color:magenta; font-weight:bold\">Y</span>───·─┐\n",
       "│░│   │░░░│   │░░░│   │░│\n",
       "└─<span style=\"color:blue; font-weight:bold\">Z</span>───·───<span style=\"color:magenta; font-weight:bold\">Y</span>───·───·───·─┘\n",
       "      └───┘   └───┘      </pre></div>"
      ],
      "text/plain": [
       "<IPython.core.display.HTML object>"
      ]
     },
     "metadata": {},
     "output_type": "display_data"
    }
   ],
   "source": [
    "# set physical error probability to 10%\n",
    "error_probability = 0.4\n",
    "bias =0.5\n",
    "# seed random number generator for repeatability\n",
    "rng = np.random.default_rng(10)\n",
    "error_model = BiasedDepolarizingErrorModel(bias,'Z')\n",
    "chi_val=10\n",
    "decoder = RotatedPlanarMPSDecoder_def(chi=chi_val)\n",
    "    \n",
    "# error: random error based on error probability\n",
    "error = error_model.generate(code, error_probability, rng)\n",
    "qsu.print_pauli('error:\\n{}'.format(code.new_pauli(error)))"
   ]
  },
  {
   "cell_type": "markdown",
   "metadata": {},
   "source": [
    "### Evaluate the syndrome\n",
    "The syndrome is a binary array indicating the stabilizers with which the error does not commute. It is calculated as $syndrome = error \\odot stabilisers^T$."
   ]
  },
  {
   "cell_type": "code",
   "execution_count": 31,
   "metadata": {},
   "outputs": [
    {
     "data": {
      "text/html": [
       "<div class=\"highlight\"><pre style=\"line-height:1!important;\">syndrome:\n",
       "      ┌───┐   ┌───┐      \n",
       "┌─·───·───·───·───·───·─┐\n",
       "│░│   │░░░│   │░░░│   │░│\n",
       "└─·───·───·───·───·───·─┘\n",
       "  │░░░│ <span style=\"color:blue; font-weight:bold\">Z</span> │░░░│   │░<span style=\"color:red; font-weight:bold\">X</span>░│  \n",
       "┌─·───·───·───·───·───·─┐\n",
       "│░│ <span style=\"color:blue; font-weight:bold\">Z</span> │░░░│ <span style=\"color:blue; font-weight:bold\">Z</span> │░<span style=\"color:red; font-weight:bold\">X</span>░│   │░<span style=\"color:red; font-weight:bold\">X</span>\n",
       "└─·───·───·───·───·───·─┘\n",
       "  │░░░│   │░░░│   │░░░│  \n",
       "┌─·───·───·───·───·───·─┐\n",
       "<span style=\"color:red; font-weight:bold\">X</span>░│ <span style=\"color:blue; font-weight:bold\">Z</span> │░░░│ <span style=\"color:blue; font-weight:bold\">Z</span> │░<span style=\"color:red; font-weight:bold\">X</span>░│   │░│\n",
       "└─·───·───·───·───·───·─┘\n",
       "      └───┘   └───┘      </pre></div>"
      ],
      "text/plain": [
       "<IPython.core.display.HTML object>"
      ]
     },
     "metadata": {},
     "output_type": "display_data"
    }
   ],
   "source": [
    "# syndrome: stabilizers that do not commute with the error\n",
    "syndrome = pt.bsp(error, my_code.stabilizers.T)\n",
    "qsu.print_pauli('syndrome:\\n{}'.format(my_code.ascii_art(syndrome)))"
   ]
  },
  {
   "cell_type": "markdown",
   "metadata": {},
   "source": [
    "### Find a recovery operation\n",
    "In this case, the recovery operation is found by contracting a tensor network defined to have the value of the coset :\n",
    "\n",
    "* Create a sample recovery operation by applying strings of Paulis between syndrome plaquettes and appropriate boundaries.\n",
    "* Define tensor networks corresponding to the probability of each left coset of the generator group with the sample recovery and logical Pauli operations.\n",
    "* Contract each tensor network (approximately) to evaluate the coset probabilities.\n",
    "* Return any recovery from the most probable coset."
   ]
  },
  {
   "cell_type": "code",
   "execution_count": 32,
   "metadata": {},
   "outputs": [
    {
     "data": {
      "text/html": [
       "<div class=\"highlight\"><pre style=\"line-height:1!important;\">recovery:\n",
       "      ┌───┐   ┌───┐      \n",
       "┌─·───·───·───·───·───·─┐\n",
       "│░│   │░░░│   │░░░│   │░│\n",
       "└─·───·───·───·───·───·─┘\n",
       "  │░░░│   │░░░│   │░░░│  \n",
       "┌─<span style=\"color:red; font-weight:bold\">X</span>───<span style=\"color:red; font-weight:bold\">X</span>───·───·───<span style=\"color:blue; font-weight:bold\">Z</span>───·─┐\n",
       "│░│   │░░░│   │░░░│   │░│\n",
       "└─·───<span style=\"color:red; font-weight:bold\">X</span>───<span style=\"color:red; font-weight:bold\">X</span>───<span style=\"color:blue; font-weight:bold\">Z</span>───<span style=\"color:blue; font-weight:bold\">Z</span>───<span style=\"color:blue; font-weight:bold\">Z</span>─┘\n",
       "  │░░░│   │░░░│   │░░░│  \n",
       "┌─·───·───·───<span style=\"color:blue; font-weight:bold\">Z</span>───<span style=\"color:blue; font-weight:bold\">Z</span>───<span style=\"color:blue; font-weight:bold\">Z</span>─┐\n",
       "│░│   │░░░│   │░░░│   │░│\n",
       "└─<span style=\"color:blue; font-weight:bold\">Z</span>───<span style=\"color:red; font-weight:bold\">X</span>───<span style=\"color:red; font-weight:bold\">X</span>───·───<span style=\"color:blue; font-weight:bold\">Z</span>───<span style=\"color:blue; font-weight:bold\">Z</span>─┘\n",
       "      └───┘   └───┘      </pre></div>"
      ],
      "text/plain": [
       "<IPython.core.display.HTML object>"
      ]
     },
     "metadata": {},
     "output_type": "display_data"
    }
   ],
   "source": [
    "# recovery: best match recovery operation based on decoder\n",
    "recovery = my_decoder.decode(my_code, syndrome)\n",
    "qsu.print_pauli('recovery:\\n{}'.format(my_code.new_pauli(recovery)))"
   ]
  },
  {
   "cell_type": "markdown",
   "metadata": {},
   "source": [
    "As a sanity check, we expect $recovery \\oplus error$ to commute with all stabilizers, i.e. $(recovery \\oplus error) \\odot stabilisers^T = 0$."
   ]
  },
  {
   "cell_type": "code",
   "execution_count": 33,
   "metadata": {},
   "outputs": [
    {
     "name": "stdout",
     "output_type": "stream",
     "text": [
      "[0 0 0 0 0 0 0 0 0 0 0 0 0 0 0 0 0 0 0 0 0 0 0 0 0 0 0 0 0 0 0 0 0 0 0]\n"
     ]
    }
   ],
   "source": [
    "# check recovery ^ error commutes with stabilizers (by construction)\n",
    "print(pt.bsp(recovery ^ error, my_code.stabilizers.T))"
   ]
  },
  {
   "cell_type": "markdown",
   "metadata": {},
   "source": [
    "### Visualise $recovery \\oplus error$\n",
    "Just out of curiosity, we can see what $recovery \\oplus error$ looks like. If successful, it should be a product of stabilizer plaquette operators."
   ]
  },
  {
   "cell_type": "code",
   "execution_count": 34,
   "metadata": {},
   "outputs": [
    {
     "data": {
      "text/html": [
       "<div class=\"highlight\"><pre style=\"line-height:1!important;\">recovery ^ error:\n",
       "      ┌───┐   ┌───┐      \n",
       "┌─·───·───·───·───·───·─┐\n",
       "│░│   │░░░│   │░░░│   │░│\n",
       "└─·───·───·───·───·───·─┘\n",
       "  │░░░│   │░░░│   │░░░│  \n",
       "┌─<span style=\"color:red; font-weight:bold\">X</span>───·───·───·───<span style=\"color:blue; font-weight:bold\">Z</span>───<span style=\"color:blue; font-weight:bold\">Z</span>─┐\n",
       "│░│   │░░░│   │░░░│   │░│\n",
       "└─·───<span style=\"color:red; font-weight:bold\">X</span>───<span style=\"color:red; font-weight:bold\">X</span>───<span style=\"color:red; font-weight:bold\">X</span>───<span style=\"color:blue; font-weight:bold\">Z</span>───<span style=\"color:blue; font-weight:bold\">Z</span>─┘\n",
       "  │░░░│   │░░░│   │░░░│  \n",
       "┌─·───·───·───<span style=\"color:red; font-weight:bold\">X</span>───<span style=\"color:blue; font-weight:bold\">Z</span>───<span style=\"color:blue; font-weight:bold\">Z</span>─┐\n",
       "│░│   │░░░│   │░░░│   │░│\n",
       "└─<span style=\"color:red; font-weight:bold\">X</span>───<span style=\"color:red; font-weight:bold\">X</span>───<span style=\"color:red; font-weight:bold\">X</span>───·───<span style=\"color:blue; font-weight:bold\">Z</span>───<span style=\"color:blue; font-weight:bold\">Z</span>─┘\n",
       "      └───┘   └───┘      </pre></div>"
      ],
      "text/plain": [
       "<IPython.core.display.HTML object>"
      ]
     },
     "metadata": {},
     "output_type": "display_data"
    }
   ],
   "source": [
    "# print recovery ^ error (out of curiosity)\n",
    "qsu.print_pauli('recovery ^ error:\\n{}'.format(my_code.new_pauli(recovery ^ error)))"
   ]
  },
  {
   "cell_type": "markdown",
   "metadata": {},
   "source": [
    "### Test if the recovery operation is successful\n",
    "The recovery operation is successful iff $recovery \\oplus error$ commutes with all logical operators, i.e. $(recovery \\oplus error) \\odot logicals^T = 0.$"
   ]
  },
  {
   "cell_type": "code",
   "execution_count": 35,
   "metadata": {},
   "outputs": [
    {
     "name": "stdout",
     "output_type": "stream",
     "text": [
      "[0 0]\n"
     ]
    }
   ],
   "source": [
    "# success iff recovery ^ error commutes with logicals\n",
    "print(pt.bsp(recovery ^ error, my_code.logicals.T))"
   ]
  },
  {
   "cell_type": "markdown",
   "metadata": {},
   "source": [
    "Note: The decoder is not guaranteed to find a successful recovery operation. The rotated planar 7 x 7 code has distance $d = 7$ so we can only guarantee to correct errors up to weight $(d - 1)/2=3$."
   ]
  },
  {
   "cell_type": "markdown",
   "metadata": {
    "collapsed": true
   },
   "source": [
    "### Equivalent code in single call\n",
    "The above demo is equivalent to the following code."
   ]
  },
  {
   "cell_type": "code",
   "execution_count": 4,
   "metadata": {},
   "outputs": [
    {
     "name": "stdout",
     "output_type": "stream",
     "text": [
      "{'error_weight': 7, 'success': True, 'logical_commutations': array([0, 0]), 'custom_values': None}\n"
     ]
    }
   ],
   "source": [
    "# repeat demo in single call\n",
    "from qecsim import app\n",
    "print(app.run_once(my_code, my_error_model, my_decoder, error_probability))"
   ]
  },
  {
   "cell_type": "code",
   "execution_count": 17,
   "metadata": {},
   "outputs": [],
   "source": [
    "%matplotlib inline\n",
    "import collections\n",
    "import itertools\n",
    "import numpy as np\n",
    "from qecsim import paulitools as pt\n",
    "import matplotlib.pyplot as plt\n",
    "from qecsim import app\n",
    "from qecsim.models.generic import PhaseFlipErrorModel,DepolarizingErrorModel\n",
    "from qecsim.models.planar import PlanarCode, PlanarMPSDecoder\n",
    "from _planarmpsdecoder_def import PlanarMPSDecoder_def\n",
    "import app_def\n",
    "import importlib as imp\n",
    "imp.reload(app_def)\n",
    "sizes= range(5,9,2)\n",
    "codes_and_size = [PlanarCode(*(size,size)) for size in sizes]"
   ]
  },
  {
   "cell_type": "code",
   "execution_count": 18,
   "metadata": {},
   "outputs": [
    {
     "data": {
      "text/plain": [
       "[PlanarCode(5, 5), PlanarCode(7, 7)]"
      ]
     },
     "execution_count": 18,
     "metadata": {},
     "output_type": "execute_result"
    }
   ],
   "source": [
    "codes_and_size"
   ]
  },
  {
   "cell_type": "code",
   "execution_count": 19,
   "metadata": {},
   "outputs": [],
   "source": [
    "x=np.zeros(5)"
   ]
  },
  {
   "cell_type": "code",
   "execution_count": 20,
   "metadata": {},
   "outputs": [],
   "source": [
    "x=np.append(x,1)"
   ]
  },
  {
   "cell_type": "code",
   "execution_count": 21,
   "metadata": {},
   "outputs": [
    {
     "data": {
      "text/plain": [
       "array([0., 0., 0., 0., 0., 1.])"
      ]
     },
     "execution_count": 21,
     "metadata": {},
     "output_type": "execute_result"
    }
   ],
   "source": [
    "x"
   ]
  },
  {
   "cell_type": "code",
   "execution_count": 23,
   "metadata": {},
   "outputs": [
    {
     "name": "stdout",
     "output_type": "stream",
     "text": [
      "(-1, -1)\n",
      "(-1, 0)\n",
      "(-1, 1)\n",
      "(-1, 2)\n",
      "(-1, 3)\n",
      "(-1, 4)\n",
      "(-1, 5)\n",
      "(0, -1)\n",
      "(0, 0)\n",
      "(0, 1)\n",
      "(0, 2)\n",
      "(0, 3)\n",
      "(0, 4)\n",
      "(0, 5)\n",
      "(1, -1)\n",
      "(1, 0)\n",
      "(1, 1)\n",
      "(1, 2)\n",
      "(1, 3)\n",
      "(1, 4)\n",
      "(1, 5)\n",
      "(2, -1)\n",
      "(2, 0)\n",
      "(2, 1)\n",
      "(2, 2)\n",
      "(2, 3)\n",
      "(2, 4)\n",
      "(2, 5)\n",
      "(3, -1)\n",
      "(3, 0)\n",
      "(3, 1)\n",
      "(3, 2)\n",
      "(3, 3)\n",
      "(3, 4)\n",
      "(3, 5)\n",
      "(4, -1)\n",
      "(4, 0)\n",
      "(4, 1)\n",
      "(4, 2)\n",
      "(4, 3)\n",
      "(4, 4)\n",
      "(4, 5)\n",
      "(5, -1)\n",
      "(5, 0)\n",
      "(5, 1)\n",
      "(5, 2)\n",
      "(5, 3)\n",
      "(5, 4)\n",
      "(5, 5)\n"
     ]
    }
   ],
   "source": [
    "for code_index in itertools.product(range(-1, 5 + 1), range(-1, 5 + 1)):\n",
    "    print(code_index)"
   ]
  },
  {
   "cell_type": "code",
   "execution_count": null,
   "metadata": {},
   "outputs": [],
   "source": [
    "import collections\n",
    "import itertools\n",
    "import numpy as np\n",
    "from qecsim import paulitools as pt\n",
    "import matplotlib.pyplot as plt\n",
    "import qecsim\n",
    "from qecsim import app\n",
    "from qecsim.models.generic import PhaseFlipErrorModel,DepolarizingErrorModel,BiasedDepolarizingErrorModel\n",
    "from qecsim.models.planar import PlanarCode, PlanarMPSDecoder\n",
    "from qecsim.models.rotatedplanar import RotatedPlanarCode, RotatedPlanarMPSDecoder\n",
    "\n",
    "from _planarmpsdecoder_def import PlanarMPSDecoder_def\n",
    "from _rotatedplanarmpsdecoder_def import RotatedPlanarMPSDecoder_def\n",
    "import app_def\n",
    "import importlib as imp\n",
    "imp.reload(app_def)\n",
    "import os, time\n",
    "import multiprocessing as mp\n",
    "from functools import partial\n",
    "from itertools import cycle\n",
    "\n",
    "def parallel_step_p(code,hadamard_mat,error_model, decoder, max_runs,error_probability):\n",
    "    result= app_def.run_def(code,hadamard_mat, error_model, decoder, error_probability, max_runs)\n",
    "    return result\n",
    "\n",
    "# set models\n",
    "sizes= range(5,10,4)\n",
    "codes_and_size = [RotatedPlanarCode(*(size,size)) for size in sizes]\n",
    "bias_list=[30,100000]\n",
    "\n",
    "code_name=\"optimal\"\n",
    "code_name=\"random\"\n",
    "code_name=\"CSS\"\n",
    "code_name=\"XZZX\"\n",
    "\n",
    "if (code_name==\"random\"):\n",
    "    realizations=50\n",
    "else:\n",
    "    realizations=1\n",
    "\n",
    "# set physical error probabilities\n",
    "error_probability_min, error_probability_max = 0.05, 0.24\n",
    "error_probabilities = np.linspace(error_probability_min, error_probability_max, 10)\n",
    "# set max_runs for each probability\n",
    "max_runs = 2000\n",
    "\n",
    "timestr = time.strftime(\"%Y%m%d-%H%M%S \")   #record current date and time\n",
    "dirname=\"./data/\"+timestr+code_name\n",
    "os.mkdir(dirname)     \n",
    "\n",
    "for bias in bias_list:\n",
    "    error_model = BiasedDepolarizingErrorModel(bias,'Z')\n",
    "    chi_val=10\n",
    "    decoder = RotatedPlanarMPSDecoder_def(chi=chi_val)\n",
    "\n",
    "    # print run parameters\n",
    "    print('codes_and_size:', [code.label for code in codes_and_size])\n",
    "    print('Error model:', error_model.label)\n",
    "    print('Decoder:', decoder.label)\n",
    "    print('Error probabilities:', error_probabilities)\n",
    "    print('Maximum runs:', max_runs)\n",
    "\n",
    "    pL_list_rand =np.zeros((len(codes_and_size),realizations,len(error_probabilities)))\n",
    "    std_list_rand=np.zeros((len(codes_and_size),realizations,len(error_probabilities)))\n",
    "\n",
    "    pL_list =np.zeros((len(codes_and_size),len(error_probabilities)))\n",
    "    std_list=np.zeros((len(codes_and_size),len(error_probabilities)))\n",
    "    def _rotate_q_index(index, code):\n",
    "        \"\"\"Convert code site index in format (x, y) to tensor network q-node index in format (r, c)\"\"\"\n",
    "        site_x, site_y = index  # qubit index in (x, y)\n",
    "        site_r, site_c = code.site_bounds[1] - site_y, site_x  # qubit index in (r, c)\n",
    "        return code.site_bounds[0] - site_c + site_r, site_r + site_c  # q-node index in (r, c)\n",
    "\n",
    "    for code_index,code in enumerate(codes_and_size):\n",
    "        tn_max_r, _ = _rotate_q_index((0, 0), code)\n",
    "        _, tn_max_c = _rotate_q_index((code.site_bounds[0], 0), code)\n",
    "\n",
    "        hadamard_mat=np.zeros((tn_max_r,tn_max_c))\n",
    "\n",
    "        if code_name==\"random\":\n",
    "            pH=0.5  \n",
    "            for realization_index in range(realizations):\n",
    "                for row, col in np.ndindex(hadamard_mat.shape):\n",
    "                    if ((row%2==0 and col%2==0) or (row%2==1 and col%2==1)):\n",
    "                        if(np.random.rand(1,1))<pH:\n",
    "                            hadamard_mat[row,col]=1\n",
    "\n",
    "                p=mp.Pool()\n",
    "                func=partial(parallel_step_p,code,hadamard_mat, error_model, decoder, max_runs)\n",
    "                result=p.map(func, error_probabilities)\n",
    "                #print(result)\n",
    "                p.close()\n",
    "                p.join()\n",
    "                for i in range(len(result)):\n",
    "                    pL_list_rand[code_index][realization_index][i]=result[i][0]\n",
    "                    std_list_rand[code_index][realization_index][i]=result[i][1]\n",
    "                \n",
    "            pL_list[code_index] = np.sum(pL_list_rand[code_index],axis=0)/realizations\n",
    "            std_list[code_index] = np.sum(std_list_rand[code_index],axis=0)/realizations**2\n",
    "\n",
    "        else:\n",
    "            if code_name==\"XZZX\":\n",
    "                for row, col in np.ndindex(hadamard_mat.shape):\n",
    "                    if row%2==0 and col%2==0:\n",
    "                        hadamard_mat[row,col]=1\n",
    "\n",
    "            if code_name==\"optimal\":\n",
    "                d=hadamard_mat.shape[0]\n",
    "                for row, col in np.ndindex(hadamard_mat.shape):\n",
    "                    if (row ==0 and col in range(0,d,4)) or (row==d-1 and col in range(2,d-1,4)) or (row%2==1 and col%2==1):\n",
    "                        hadamard_mat[row,col]=1\n",
    "\n",
    "            p=mp.Pool()\n",
    "            func=partial(parallel_step_p,code,hadamard_mat,error_model, decoder, max_runs)\n",
    "            result=p.map(func, error_probabilities)\n",
    "            print(result)\n",
    "            p.close()\n",
    "            p.join()\n",
    "            \n",
    "            for i in range(len(result)):\n",
    "                pL_list[code_index][i]=result[i][0]   \n",
    "                std_list[code_index][i]=result[i][1]\n",
    "\n",
    "        \n",
    "    plt.figure(figsize=(20,10))\n",
    "    lines = [\"-\",\":\",\"--\",\"-.\"]\n",
    "    linecycler = cycle(lines)\n",
    "    plt.title('TND at bias='+str(bias)+' and xi='+str(chi_val))\n",
    "    for sizes_index,size in enumerate(sizes):\n",
    "        plt.errorbar(error_probabilities,pL_list[sizes_index],std_list[sizes_index])\n",
    "    plt.xlabel('p')\n",
    "    plt.ylabel('$p_L$')\n",
    "    plt.legend(sizes) \n",
    "    plt.savefig(dirname+\"/threshold_plot_bias_\"+str(bias)+\".pdf\")\n"
   ]
  },
  {
   "cell_type": "code",
   "execution_count": 126,
   "metadata": {},
   "outputs": [
    {
     "data": {
      "text/plain": [
       "(0.19999999999999996,\n",
       " 0.26666666666666666,\n",
       " 0.26666666666666666,\n",
       " 0.26666666666666666)"
      ]
     },
     "execution_count": 126,
     "metadata": {},
     "output_type": "execute_result"
    }
   ],
   "source": [
    "rng = np.random.default_rng() if rng is None else rng\n",
    "n_qubits =3\n",
    "probability=0.8\n",
    "error_model = BiasedDepolarizingErrorModel(bias,'Z')\n",
    "p=error_model.probability_distribution(probability)\n",
    "\n",
    "p"
   ]
  },
  {
   "cell_type": "code",
   "execution_count": 132,
   "metadata": {},
   "outputs": [
    {
     "data": {
      "text/plain": [
       "'YIY'"
      ]
     },
     "execution_count": 132,
     "metadata": {},
     "output_type": "execute_result"
    }
   ],
   "source": [
    "error_pauli = ''.join(rng.choice(\n",
    "            ('I', 'X', 'Y', 'Z'),\n",
    "            size=n_qubits,\n",
    "            p=error_model.probability_distribution(probability)\n",
    "        ))\n",
    "error_pauli"
   ]
  },
  {
   "cell_type": "code",
   "execution_count": 133,
   "metadata": {},
   "outputs": [
    {
     "data": {
      "text/plain": [
       "array([1, 0, 1, 1, 0, 1])"
      ]
     },
     "execution_count": 133,
     "metadata": {},
     "output_type": "execute_result"
    }
   ],
   "source": [
    "pt.pauli_to_bsf(error_pauli)"
   ]
  },
  {
   "cell_type": "code",
   "execution_count": null,
   "metadata": {},
   "outputs": [],
   "source": []
  }
 ],
 "metadata": {
  "anaconda-cloud": {},
  "kernelspec": {
   "display_name": "Python 3",
   "language": "python",
   "name": "python3"
  },
  "language_info": {
   "codemirror_mode": {
    "name": "ipython",
    "version": 3
   },
   "file_extension": ".py",
   "mimetype": "text/x-python",
   "name": "python",
   "nbconvert_exporter": "python",
   "pygments_lexer": "ipython3",
   "version": "3.8.5"
  }
 },
 "nbformat": 4,
 "nbformat_minor": 1
}
