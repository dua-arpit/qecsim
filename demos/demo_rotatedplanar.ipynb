{
 "cells": [
  {
   "cell_type": "markdown",
   "metadata": {
    "collapsed": true
   },
   "source": [
    "# qecsim demos"
   ]
  },
  {
   "cell_type": "markdown",
   "metadata": {},
   "source": [
    "## Simulating error correction with a rotated planar stabilizer code\n",
    "This demo shows verbosely how to simulate one error correction run. \n",
    "\n",
    "| For normal use, the code in this demo is encapsulated in the function:\n",
    "| `qecsim.app.run_once(code, error_model, decoder, error_probability)`,\n",
    "| and the simulation of many error correction runs is encapsulated in the function:\n",
    "| `qecsim.app.run(code, error_model, decoder, error_probability, max_runs, max_failures)`.\n",
    "\n",
    "Notes:\n",
    "\n",
    "* Operators can be visualised in binary symplectic form (bsf) or Pauli form, e.g. `[1 1 0|0 1 0] = XYI`.\n",
    "* The binary symplectic product is denoted by $\\odot$ and defined as $A \\odot B \\equiv A \\Lambda B \\bmod 2$ where $\\Lambda = \\left[\\begin{matrix} 0 & I \\\\ I & 0 \\end{matrix}\\right]$.\n",
    "* Binary addition is denoted by $\\oplus$ and defined as addition modulo 2, or equivalently exclusive-or."
   ]
  },
  {
   "cell_type": "markdown",
   "metadata": {},
   "source": [
    "### Initialise the models"
   ]
  },
  {
   "cell_type": "code",
   "execution_count": 4,
   "metadata": {},
   "outputs": [
    {
     "name": "stdout",
     "output_type": "stream",
     "text": [
      "RotatedPlanarCode(7, 7)\n",
      "DepolarizingErrorModel()\n",
      "RotatedPlanarMPSDecoder(8, 'c', None)\n"
     ]
    }
   ],
   "source": [
    "%run qsu.ipynb  # color-printing functions\n",
    "import collections\n",
    "import itertools\n",
    "import numpy as np\n",
    "from qecsim import paulitools as pt\n",
    "import matplotlib.pyplot as plt\n",
    "import qecsim\n",
    "from qecsim import app\n",
    "from qecsim.models.generic import PhaseFlipErrorModel,DepolarizingErrorModel,BiasedDepolarizingErrorModel\n",
    "from qecsim.models.planar import PlanarCode, PlanarMPSDecoder\n",
    "from qecsim.models.rotatedplanar import RotatedPlanarCode, RotatedPlanarMPSDecoder\n",
    "\n",
    "from _planarmpsdecoder_def import PlanarMPSDecoder_def\n",
    "from _rotatedplanarmpsdecoder_def import RotatedPlanarMPSDecoder_def\n",
    "import app_def\n",
    "import importlib as imp\n",
    "imp.reload(app_def)\n",
    "import os, time\n",
    "import multiprocessing as mp\n",
    "from functools import partial\n",
    "from itertools import cycle\n",
    "\n",
    "# initialise models\n",
    "my_code = RotatedPlanarCode(7, 7)\n",
    "my_error_model = DepolarizingErrorModel()\n",
    "my_decoder = RotatedPlanarMPSDecoder(chi=8)\n",
    "# print models\n",
    "print(my_code)\n",
    "print(my_error_model)\n",
    "print(my_decoder)"
   ]
  },
  {
   "cell_type": "code",
   "execution_count": 5,
   "metadata": {},
   "outputs": [
    {
     "name": "stdout",
     "output_type": "stream",
     "text": [
      "(5, 5)\n",
      "5 0\n"
     ]
    },
    {
     "data": {
      "text/plain": [
       "(10, 5)"
      ]
     },
     "execution_count": 5,
     "metadata": {},
     "output_type": "execute_result"
    }
   ],
   "source": [
    "code = RotatedPlanarCode(6,6)\n",
    "print(code.site_bounds)\n",
    "code_index=(0,0)\n",
    "code.is_z_plaquette(code_index)\n",
    "def _rotate_q_index(index, code):\n",
    "    \"\"\"Convert code site index in format (x, y) to tensor network q-node index in format (r, c)\"\"\"\n",
    "    site_x, site_y = index  # qubit index in (x, y)\n",
    "    site_r, site_c = code.site_bounds[1] - site_y, site_x  # qubit index in (r, c)\n",
    "    print(site_r, site_c)\n",
    "    return code.site_bounds[0] - site_c + site_r, site_r + site_c  # q-node index in (r, c)\n",
    "\n",
    "_rotate_q_index(code_index, code)"
   ]
  },
  {
   "cell_type": "code",
   "execution_count": 6,
   "metadata": {},
   "outputs": [
    {
     "name": "stdout",
     "output_type": "stream",
     "text": [
      "5 0\n",
      "5 5\n"
     ]
    },
    {
     "data": {
      "text/plain": [
       "(11, 11)"
      ]
     },
     "execution_count": 6,
     "metadata": {},
     "output_type": "execute_result"
    }
   ],
   "source": [
    "tn_max_r, _ = _rotate_q_index((0, 0), code)\n",
    "_, tn_max_c = _rotate_q_index((code.site_bounds[0], 0), code)\n",
    "tn = np.empty((tn_max_r + 1, tn_max_c + 1), dtype=object)\n",
    "tn.shape"
   ]
  },
  {
   "cell_type": "markdown",
   "metadata": {},
   "source": [
    "### Generate a random error"
   ]
  },
  {
   "cell_type": "code",
   "execution_count": 7,
   "metadata": {},
   "outputs": [],
   "source": [
    "import collections\n",
    "import itertools\n",
    "import numpy as np\n",
    "from qecsim import paulitools as pt\n",
    "import matplotlib.pyplot as plt\n",
    "import qecsim\n",
    "from qecsim import app\n",
    "from qecsim.models.generic import PhaseFlipErrorModel,DepolarizingErrorModel,BiasedDepolarizingErrorModel\n",
    "from qecsim.models.planar import PlanarCode, PlanarMPSDecoder\n",
    "from qecsim.models.rotatedplanar import RotatedPlanarCode, RotatedPlanarMPSDecoder\n",
    "\n",
    "from _planarmpsdecoder_def import PlanarMPSDecoder_def\n",
    "from _rotatedplanarmpsdecoder_def import RotatedPlanarMPSDecoder_def\n",
    "import app_def\n",
    "import importlib as imp\n",
    "imp.reload(app_def)\n",
    "import os, time\n",
    "import multiprocessing as mp\n",
    "from functools import partial\n",
    "from itertools import cycle"
   ]
  },
  {
   "cell_type": "code",
   "execution_count": 11,
   "metadata": {},
   "outputs": [
    {
     "data": {
      "text/html": [
       "<div class=\"highlight\"><pre style=\"line-height:1!important;\">error:\n",
       "      ┌───┐   ┌───┐      \n",
       "┌─·───·───<span style=\"color:blue; font-weight:bold\">Z</span>───<span style=\"color:red; font-weight:bold\">X</span>───·───·─┐\n",
       "│░│   │░░░│   │░░░│   │░│\n",
       "└─·───·───·───<span style=\"color:red; font-weight:bold\">X</span>───·───<span style=\"color:red; font-weight:bold\">X</span>─┘\n",
       "  │░░░│   │░░░│   │░░░│  \n",
       "┌─·───<span style=\"color:blue; font-weight:bold\">Z</span>───·───<span style=\"color:magenta; font-weight:bold\">Y</span>───·───<span style=\"color:blue; font-weight:bold\">Z</span>─┐\n",
       "│░│   │░░░│   │░░░│   │░│\n",
       "└─·───<span style=\"color:magenta; font-weight:bold\">Y</span>───<span style=\"color:magenta; font-weight:bold\">Y</span>───<span style=\"color:blue; font-weight:bold\">Z</span>───·───<span style=\"color:magenta; font-weight:bold\">Y</span>─┘\n",
       "  │░░░│   │░░░│   │░░░│  \n",
       "┌─<span style=\"color:red; font-weight:bold\">X</span>───<span style=\"color:magenta; font-weight:bold\">Y</span>───·───<span style=\"color:blue; font-weight:bold\">Z</span>───<span style=\"color:magenta; font-weight:bold\">Y</span>───·─┐\n",
       "│░│   │░░░│   │░░░│   │░│\n",
       "└─<span style=\"color:blue; font-weight:bold\">Z</span>───·───<span style=\"color:magenta; font-weight:bold\">Y</span>───·───·───·─┘\n",
       "      └───┘   └───┘      </pre></div>"
      ],
      "text/plain": [
       "<IPython.core.display.HTML object>"
      ]
     },
     "metadata": {},
     "output_type": "display_data"
    },
    {
     "data": {
      "text/plain": [
       "(5, 5, 1, 1)"
      ]
     },
     "execution_count": 11,
     "metadata": {},
     "output_type": "execute_result"
    }
   ],
   "source": [
    "# set physical error probability to 10%\n",
    "error_probability = 0.4\n",
    "bias =0.5\n",
    "# seed random number generator for repeatability\n",
    "rng = np.random.default_rng(10)\n",
    "error_model = BiasedDepolarizingErrorModel(bias,'Z')\n",
    "chi_val=10\n",
    "decoder = RotatedPlanarMPSDecoder_def(chi=chi_val)\n",
    "    \n",
    "# error: random error based on error probability\n",
    "error = error_model.generate(code, error_probability, rng)\n",
    "qsu.print_pauli('error:\\n{}'.format(code.new_pauli(error)))\n",
    "code.site_bounds"
   ]
  },
  {
   "cell_type": "markdown",
   "metadata": {},
   "source": [
    "### Evaluate the syndrome\n",
    "The syndrome is a binary array indicating the stabilizers with which the error does not commute. It is calculated as $syndrome = error \\odot stabilisers^T$."
   ]
  },
  {
   "cell_type": "code",
   "execution_count": 31,
   "metadata": {},
   "outputs": [
    {
     "data": {
      "text/html": [
       "<div class=\"highlight\"><pre style=\"line-height:1!important;\">syndrome:\n",
       "      ┌───┐   ┌───┐      \n",
       "┌─·───·───·───·───·───·─┐\n",
       "│░│   │░░░│   │░░░│   │░│\n",
       "└─·───·───·───·───·───·─┘\n",
       "  │░░░│ <span style=\"color:blue; font-weight:bold\">Z</span> │░░░│   │░<span style=\"color:red; font-weight:bold\">X</span>░│  \n",
       "┌─·───·───·───·───·───·─┐\n",
       "│░│ <span style=\"color:blue; font-weight:bold\">Z</span> │░░░│ <span style=\"color:blue; font-weight:bold\">Z</span> │░<span style=\"color:red; font-weight:bold\">X</span>░│   │░<span style=\"color:red; font-weight:bold\">X</span>\n",
       "└─·───·───·───·───·───·─┘\n",
       "  │░░░│   │░░░│   │░░░│  \n",
       "┌─·───·───·───·───·───·─┐\n",
       "<span style=\"color:red; font-weight:bold\">X</span>░│ <span style=\"color:blue; font-weight:bold\">Z</span> │░░░│ <span style=\"color:blue; font-weight:bold\">Z</span> │░<span style=\"color:red; font-weight:bold\">X</span>░│   │░│\n",
       "└─·───·───·───·───·───·─┘\n",
       "      └───┘   └───┘      </pre></div>"
      ],
      "text/plain": [
       "<IPython.core.display.HTML object>"
      ]
     },
     "metadata": {},
     "output_type": "display_data"
    }
   ],
   "source": [
    "# syndrome: stabilizers that do not commute with the error\n",
    "syndrome = pt.bsp(error, my_code.stabilizers.T)\n",
    "qsu.print_pauli('syndrome:\\n{}'.format(my_code.ascii_art(syndrome)))"
   ]
  },
  {
   "cell_type": "markdown",
   "metadata": {},
   "source": [
    "### Find a recovery operation\n",
    "In this case, the recovery operation is found by contracting a tensor network defined to have the value of the coset :\n",
    "\n",
    "* Create a sample recovery operation by applying strings of Paulis between syndrome plaquettes and appropriate boundaries.\n",
    "* Define tensor networks corresponding to the probability of each left coset of the generator group with the sample recovery and logical Pauli operations.\n",
    "* Contract each tensor network (approximately) to evaluate the coset probabilities.\n",
    "* Return any recovery from the most probable coset."
   ]
  },
  {
   "cell_type": "code",
   "execution_count": 32,
   "metadata": {},
   "outputs": [
    {
     "data": {
      "text/html": [
       "<div class=\"highlight\"><pre style=\"line-height:1!important;\">recovery:\n",
       "      ┌───┐   ┌───┐      \n",
       "┌─·───·───·───·───·───·─┐\n",
       "│░│   │░░░│   │░░░│   │░│\n",
       "└─·───·───·───·───·───·─┘\n",
       "  │░░░│   │░░░│   │░░░│  \n",
       "┌─<span style=\"color:red; font-weight:bold\">X</span>───<span style=\"color:red; font-weight:bold\">X</span>───·───·───<span style=\"color:blue; font-weight:bold\">Z</span>───·─┐\n",
       "│░│   │░░░│   │░░░│   │░│\n",
       "└─·───<span style=\"color:red; font-weight:bold\">X</span>───<span style=\"color:red; font-weight:bold\">X</span>───<span style=\"color:blue; font-weight:bold\">Z</span>───<span style=\"color:blue; font-weight:bold\">Z</span>───<span style=\"color:blue; font-weight:bold\">Z</span>─┘\n",
       "  │░░░│   │░░░│   │░░░│  \n",
       "┌─·───·───·───<span style=\"color:blue; font-weight:bold\">Z</span>───<span style=\"color:blue; font-weight:bold\">Z</span>───<span style=\"color:blue; font-weight:bold\">Z</span>─┐\n",
       "│░│   │░░░│   │░░░│   │░│\n",
       "└─<span style=\"color:blue; font-weight:bold\">Z</span>───<span style=\"color:red; font-weight:bold\">X</span>───<span style=\"color:red; font-weight:bold\">X</span>───·───<span style=\"color:blue; font-weight:bold\">Z</span>───<span style=\"color:blue; font-weight:bold\">Z</span>─┘\n",
       "      └───┘   └───┘      </pre></div>"
      ],
      "text/plain": [
       "<IPython.core.display.HTML object>"
      ]
     },
     "metadata": {},
     "output_type": "display_data"
    }
   ],
   "source": [
    "# recovery: best match recovery operation based on decoder\n",
    "recovery = my_decoder.decode(my_code, syndrome)\n",
    "qsu.print_pauli('recovery:\\n{}'.format(my_code.new_pauli(recovery)))"
   ]
  },
  {
   "cell_type": "markdown",
   "metadata": {},
   "source": [
    "As a sanity check, we expect $recovery \\oplus error$ to commute with all stabilizers, i.e. $(recovery \\oplus error) \\odot stabilisers^T = 0$."
   ]
  },
  {
   "cell_type": "code",
   "execution_count": 33,
   "metadata": {},
   "outputs": [
    {
     "name": "stdout",
     "output_type": "stream",
     "text": [
      "[0 0 0 0 0 0 0 0 0 0 0 0 0 0 0 0 0 0 0 0 0 0 0 0 0 0 0 0 0 0 0 0 0 0 0]\n"
     ]
    }
   ],
   "source": [
    "# check recovery ^ error commutes with stabilizers (by construction)\n",
    "print(pt.bsp(recovery ^ error, my_code.stabilizers.T))"
   ]
  },
  {
   "cell_type": "code",
   "execution_count": 1,
   "metadata": {},
   "outputs": [],
   "source": [
    "x,y=2,3"
   ]
  },
  {
   "cell_type": "markdown",
   "metadata": {},
   "source": [
    "### Visualise $recovery \\oplus error$\n",
    "Just out of curiosity, we can see what $recovery \\oplus error$ looks like. If successful, it should be a product of stabilizer plaquette operators."
   ]
  },
  {
   "cell_type": "code",
   "execution_count": 34,
   "metadata": {},
   "outputs": [
    {
     "data": {
      "text/html": [
       "<div class=\"highlight\"><pre style=\"line-height:1!important;\">recovery ^ error:\n",
       "      ┌───┐   ┌───┐      \n",
       "┌─·───·───·───·───·───·─┐\n",
       "│░│   │░░░│   │░░░│   │░│\n",
       "└─·───·───·───·───·───·─┘\n",
       "  │░░░│   │░░░│   │░░░│  \n",
       "┌─<span style=\"color:red; font-weight:bold\">X</span>───·───·───·───<span style=\"color:blue; font-weight:bold\">Z</span>───<span style=\"color:blue; font-weight:bold\">Z</span>─┐\n",
       "│░│   │░░░│   │░░░│   │░│\n",
       "└─·───<span style=\"color:red; font-weight:bold\">X</span>───<span style=\"color:red; font-weight:bold\">X</span>───<span style=\"color:red; font-weight:bold\">X</span>───<span style=\"color:blue; font-weight:bold\">Z</span>───<span style=\"color:blue; font-weight:bold\">Z</span>─┘\n",
       "  │░░░│   │░░░│   │░░░│  \n",
       "┌─·───·───·───<span style=\"color:red; font-weight:bold\">X</span>───<span style=\"color:blue; font-weight:bold\">Z</span>───<span style=\"color:blue; font-weight:bold\">Z</span>─┐\n",
       "│░│   │░░░│   │░░░│   │░│\n",
       "└─<span style=\"color:red; font-weight:bold\">X</span>───<span style=\"color:red; font-weight:bold\">X</span>───<span style=\"color:red; font-weight:bold\">X</span>───·───<span style=\"color:blue; font-weight:bold\">Z</span>───<span style=\"color:blue; font-weight:bold\">Z</span>─┘\n",
       "      └───┘   └───┘      </pre></div>"
      ],
      "text/plain": [
       "<IPython.core.display.HTML object>"
      ]
     },
     "metadata": {},
     "output_type": "display_data"
    }
   ],
   "source": [
    "# print recovery ^ error (out of curiosity)\n",
    "qsu.print_pauli('recovery ^ error:\\n{}'.format(my_code.new_pauli(recovery ^ error)))"
   ]
  },
  {
   "cell_type": "markdown",
   "metadata": {},
   "source": [
    "### Test if the recovery operation is successful\n",
    "The recovery operation is successful iff $recovery \\oplus error$ commutes with all logical operators, i.e. $(recovery \\oplus error) \\odot logicals^T = 0.$"
   ]
  },
  {
   "cell_type": "code",
   "execution_count": 35,
   "metadata": {},
   "outputs": [
    {
     "name": "stdout",
     "output_type": "stream",
     "text": [
      "[0 0]\n"
     ]
    }
   ],
   "source": [
    "# success iff recovery ^ error commutes with logicals\n",
    "print(pt.bsp(recovery ^ error, my_code.logicals.T))"
   ]
  },
  {
   "cell_type": "markdown",
   "metadata": {},
   "source": [
    "Note: The decoder is not guaranteed to find a successful recovery operation. The rotated planar 7 x 7 code has distance $d = 7$ so we can only guarantee to correct errors up to weight $(d - 1)/2=3$."
   ]
  },
  {
   "cell_type": "markdown",
   "metadata": {
    "collapsed": true
   },
   "source": [
    "### Equivalent code in single call\n",
    "The above demo is equivalent to the following code."
   ]
  },
  {
   "cell_type": "code",
   "execution_count": 4,
   "metadata": {},
   "outputs": [
    {
     "name": "stdout",
     "output_type": "stream",
     "text": [
      "{'error_weight': 7, 'success': True, 'logical_commutations': array([0, 0]), 'custom_values': None}\n"
     ]
    }
   ],
   "source": [
    "# repeat demo in single call\n",
    "from qecsim import app\n",
    "print(app.run_once(my_code, my_error_model, my_decoder, error_probability))"
   ]
  },
  {
   "cell_type": "code",
   "execution_count": 40,
   "metadata": {},
   "outputs": [],
   "source": [
    "%matplotlib inline\n",
    "import collections\n",
    "import itertools\n",
    "import numpy as np\n",
    "from qecsim import paulitools as pt\n",
    "import matplotlib.pyplot as plt\n",
    "from qecsim import app\n",
    "from qecsim.models.generic import PhaseFlipErrorModel,DepolarizingErrorModel\n",
    "from qecsim.models.planar import PlanarCode, PlanarMPSDecoder\n",
    "from _planarmpsdecoder_def import PlanarMPSDecoder_def\n",
    "import app_def\n",
    "import importlib as imp\n",
    "imp.reload(app_def)\n",
    "sizes= range(5,9,2)\n",
    "codes_and_size = [PlanarCode(*(size,size)) for size in sizes]"
   ]
  },
  {
   "cell_type": "code",
   "execution_count": 18,
   "metadata": {},
   "outputs": [
    {
     "data": {
      "text/plain": [
       "[PlanarCode(5, 5), PlanarCode(7, 7)]"
      ]
     },
     "execution_count": 18,
     "metadata": {},
     "output_type": "execute_result"
    }
   ],
   "source": [
    "codes_and_size"
   ]
  },
  {
   "cell_type": "code",
   "execution_count": 19,
   "metadata": {},
   "outputs": [],
   "source": [
    "x=np.zeros(5)"
   ]
  },
  {
   "cell_type": "code",
   "execution_count": 20,
   "metadata": {},
   "outputs": [],
   "source": [
    "x=np.append(x,1)"
   ]
  },
  {
   "cell_type": "code",
   "execution_count": 21,
   "metadata": {},
   "outputs": [
    {
     "data": {
      "text/plain": [
       "array([0., 0., 0., 0., 0., 1.])"
      ]
     },
     "execution_count": 21,
     "metadata": {},
     "output_type": "execute_result"
    }
   ],
   "source": [
    "x"
   ]
  },
  {
   "cell_type": "code",
   "execution_count": 23,
   "metadata": {},
   "outputs": [
    {
     "name": "stdout",
     "output_type": "stream",
     "text": [
      "(-1, -1)\n",
      "(-1, 0)\n",
      "(-1, 1)\n",
      "(-1, 2)\n",
      "(-1, 3)\n",
      "(-1, 4)\n",
      "(-1, 5)\n",
      "(0, -1)\n",
      "(0, 0)\n",
      "(0, 1)\n",
      "(0, 2)\n",
      "(0, 3)\n",
      "(0, 4)\n",
      "(0, 5)\n",
      "(1, -1)\n",
      "(1, 0)\n",
      "(1, 1)\n",
      "(1, 2)\n",
      "(1, 3)\n",
      "(1, 4)\n",
      "(1, 5)\n",
      "(2, -1)\n",
      "(2, 0)\n",
      "(2, 1)\n",
      "(2, 2)\n",
      "(2, 3)\n",
      "(2, 4)\n",
      "(2, 5)\n",
      "(3, -1)\n",
      "(3, 0)\n",
      "(3, 1)\n",
      "(3, 2)\n",
      "(3, 3)\n",
      "(3, 4)\n",
      "(3, 5)\n",
      "(4, -1)\n",
      "(4, 0)\n",
      "(4, 1)\n",
      "(4, 2)\n",
      "(4, 3)\n",
      "(4, 4)\n",
      "(4, 5)\n",
      "(5, -1)\n",
      "(5, 0)\n",
      "(5, 1)\n",
      "(5, 2)\n",
      "(5, 3)\n",
      "(5, 4)\n",
      "(5, 5)\n"
     ]
    }
   ],
   "source": [
    "for code_index in itertools.product(range(-1, 5 + 1), range(-1, 5 + 1)):\n",
    "    print(code_index)"
   ]
  },
  {
   "cell_type": "code",
   "execution_count": null,
   "metadata": {},
   "outputs": [],
   "source": [
    "import collections\n",
    "import itertools\n",
    "import numpy as np\n",
    "from qecsim import paulitools as pt\n",
    "import matplotlib.pyplot as plt\n",
    "import qecsim\n",
    "from qecsim import app\n",
    "from qecsim.models.generic import PhaseFlipErrorModel,DepolarizingErrorModel,BiasedDepolarizingErrorModel\n",
    "from qecsim.models.planar import PlanarCode, PlanarMPSDecoder\n",
    "from qecsim.models.rotatedplanar import RotatedPlanarCode, RotatedPlanarMPSDecoder\n",
    "\n",
    "from _planarmpsdecoder_def import PlanarMPSDecoder_def\n",
    "from _rotatedplanarmpsdecoder_def import RotatedPlanarMPSDecoder_def\n",
    "import app_def\n",
    "import importlib as imp\n",
    "imp.reload(app_def)\n",
    "import os, time\n",
    "import multiprocessing as mp\n",
    "from functools import partial\n",
    "from itertools import cycle\n",
    "\n",
    "def parallel_step_p(code,hadamard_mat,error_model, decoder, max_runs,error_probability):\n",
    "    result= app_def.run_def(code,hadamard_mat, error_model, decoder, error_probability, max_runs)\n",
    "    return result\n",
    "\n",
    "# set models\n",
    "sizes= range(5,10,4)\n",
    "codes_and_size = [RotatedPlanarCode(*(size,size)) for size in sizes]\n",
    "bias_list=[30,100000]\n",
    "\n",
    "code_name=\"optimal\"\n",
    "code_name=\"random\"\n",
    "code_name=\"CSS\"\n",
    "code_name=\"XZZX\"\n",
    "\n",
    "if (code_name==\"random\"):\n",
    "    realizations=50\n",
    "else:\n",
    "    realizations=1\n",
    "\n",
    "# set physical error probabilities\n",
    "error_probability_min, error_probability_max = 0.05, 0.24\n",
    "error_probabilities = np.linspace(error_probability_min, error_probability_max, 10)\n",
    "# set max_runs for each probability\n",
    "max_runs = 2000\n",
    "\n",
    "timestr = time.strftime(\"%Y%m%d-%H%M%S \")   #record current date and time\n",
    "dirname=\"./data/\"+timestr+code_name\n",
    "os.mkdir(dirname)     \n",
    "\n",
    "for bias in bias_list:\n",
    "    error_model = BiasedDepolarizingErrorModel(bias,'Z')\n",
    "    chi_val=10\n",
    "    decoder = RotatedPlanarMPSDecoder_def(chi=chi_val)\n",
    "\n",
    "    # print run parameters\n",
    "    print('codes_and_size:', [code.label for code in codes_and_size])\n",
    "    print('Error model:', error_model.label)\n",
    "    print('Decoder:', decoder.label)\n",
    "    print('Error probabilities:', error_probabilities)\n",
    "    print('Maximum runs:', max_runs)\n",
    "\n",
    "    pL_list_rand =np.zeros((len(codes_and_size),realizations,len(error_probabilities)))\n",
    "    std_list_rand=np.zeros((len(codes_and_size),realizations,len(error_probabilities)))\n",
    "\n",
    "    pL_list =np.zeros((len(codes_and_size),len(error_probabilities)))\n",
    "    std_list=np.zeros((len(codes_and_size),len(error_probabilities)))\n",
    "    def _rotate_q_index(index, code):\n",
    "        \"\"\"Convert code site index in format (x, y) to tensor network q-node index in format (r, c)\"\"\"\n",
    "        site_x, site_y = index  # qubit index in (x, y)\n",
    "        site_r, site_c = code.site_bounds[1] - site_y, site_x  # qubit index in (r, c)\n",
    "        return code.site_bounds[0] - site_c + site_r, site_r + site_c  # q-node index in (r, c)\n",
    "\n",
    "    for code_index,code in enumerate(codes_and_size):\n",
    "        tn_max_r, _ = _rotate_q_index((0, 0), code)\n",
    "        _, tn_max_c = _rotate_q_index((code.site_bounds[0], 0), code)\n",
    "\n",
    "        hadamard_mat=np.zeros((tn_max_r,tn_max_c))\n",
    "\n",
    "        if code_name==\"random\":\n",
    "            pH=0.5  \n",
    "            for realization_index in range(realizations):\n",
    "                for row, col in np.ndindex(hadamard_mat.shape):\n",
    "                    if ((row%2==0 and col%2==0) or (row%2==1 and col%2==1)):\n",
    "                        if(np.random.rand(1,1))<pH:\n",
    "                            hadamard_mat[row,col]=1\n",
    "\n",
    "                p=mp.Pool()\n",
    "                func=partial(parallel_step_p,code,hadamard_mat, error_model, decoder, max_runs)\n",
    "                result=p.map(func, error_probabilities)\n",
    "                #print(result)\n",
    "                p.close()\n",
    "                p.join()\n",
    "                for i in range(len(result)):\n",
    "                    pL_list_rand[code_index][realization_index][i]=result[i][0]\n",
    "                    std_list_rand[code_index][realization_index][i]=result[i][1]\n",
    "                \n",
    "            pL_list[code_index] = np.sum(pL_list_rand[code_index],axis=0)/realizations\n",
    "            std_list[code_index] = np.sum(std_list_rand[code_index],axis=0)/realizations**2\n",
    "\n",
    "        else:\n",
    "            if code_name==\"XZZX\":\n",
    "                for row, col in np.ndindex(hadamard_mat.shape):\n",
    "                    if row%2==0 and col%2==0:\n",
    "                        hadamard_mat[row,col]=1\n",
    "\n",
    "            if code_name==\"optimal\":\n",
    "                d=hadamard_mat.shape[0]\n",
    "                for row, col in np.ndindex(hadamard_mat.shape):\n",
    "                    if (row ==0 and col in range(0,d,4)) or (row==d-1 and col in range(2,d-1,4)) or (row%2==1 and col%2==1):\n",
    "                        hadamard_mat[row,col]=1\n",
    "\n",
    "            p=mp.Pool()\n",
    "            func=partial(parallel_step_p,code,hadamard_mat,error_model, decoder, max_runs)\n",
    "            result=p.map(func, error_probabilities)\n",
    "            print(result)\n",
    "            p.close()\n",
    "            p.join()\n",
    "            \n",
    "            for i in range(len(result)):\n",
    "                pL_list[code_index][i]=result[i][0]   \n",
    "                std_list[code_index][i]=result[i][1]\n",
    "\n",
    "        \n",
    "    plt.figure(figsize=(20,10))\n",
    "    lines = [\"-\",\":\",\"--\",\"-.\"]\n",
    "    linecycler = cycle(lines)\n",
    "    plt.title('TND at bias='+str(bias)+' and xi='+str(chi_val))\n",
    "    for sizes_index,size in enumerate(sizes):\n",
    "        plt.errorbar(error_probabilities,pL_list[sizes_index],std_list[sizes_index])\n",
    "    plt.xlabel('p')\n",
    "    plt.ylabel('$p_L$')\n",
    "    plt.legend(sizes) \n",
    "    plt.savefig(dirname+\"/threshold_plot_bias_\"+str(bias)+\".pdf\")\n"
   ]
  },
  {
   "cell_type": "code",
   "execution_count": 456,
   "metadata": {},
   "outputs": [
    {
     "data": {
      "text/plain": [
       "(0.94, 0.000297029702970297, 0.000297029702970297, 0.0594059405940594)"
      ]
     },
     "execution_count": 456,
     "metadata": {},
     "output_type": "execute_result"
    }
   ],
   "source": [
    "rng = np.random.default_rng() if rng is None else rng\n",
    "size=3\n",
    "code=PlanarCode(*(size,size+1)) \n",
    "\n",
    "n_qubits =code.n_k_d[0]\n",
    "probability=0.06\n",
    "error_model = BiasedDepolarizingErrorModel(bias,'Z')\n",
    "p=error_model.probability_distribution(probability)\n",
    "\n",
    "p"
   ]
  },
  {
   "cell_type": "code",
   "execution_count": 457,
   "metadata": {},
   "outputs": [],
   "source": [
    "#     3x4 planar code (H=qubit on horizontal edge, V=qubit on vertical edge):\n",
    "#     ::\n",
    "#       H1---H2---H3---H4\n",
    "#           |   |   |\n",
    "#           V13 V14 V15\n",
    "#           |   |   |\n",
    "#       H5---H6---H7---H8\n",
    "#           |   |   |\n",
    "#           V16 V17 V18\n",
    "#           |   |   |\n",
    "#       H9---H10--H11-H12\n"
   ]
  },
  {
   "cell_type": "code",
   "execution_count": 458,
   "metadata": {},
   "outputs": [
    {
     "data": {
      "text/plain": [
       "(18, 1, 3)"
      ]
     },
     "execution_count": 458,
     "metadata": {},
     "output_type": "execute_result"
    }
   ],
   "source": [
    "code.n_k_d"
   ]
  },
  {
   "cell_type": "code",
   "execution_count": 459,
   "metadata": {},
   "outputs": [
    {
     "data": {
      "text/plain": [
       "'IIIIIIIIIZIIIIIZII'"
      ]
     },
     "execution_count": 459,
     "metadata": {},
     "output_type": "execute_result"
    }
   ],
   "source": [
    "error_pauli = ''.join(rng.choice(\n",
    "            ('I', 'X', 'Y', 'Z'),\n",
    "            size=n_qubits,\n",
    "            p=error_model.probability_distribution(probability)\n",
    "        ))\n",
    "error_pauli"
   ]
  },
  {
   "cell_type": "code",
   "execution_count": 465,
   "metadata": {},
   "outputs": [
    {
     "data": {
      "text/plain": [
       "array([0, 0, 0, 0, 0, 0, 0, 0, 0, 0, 0, 0, 0, 0, 0, 0, 0, 0, 0, 0, 0, 0,\n",
       "       0, 0, 0, 0, 0, 1, 0, 0, 0, 0, 0, 1, 0, 0])"
      ]
     },
     "execution_count": 465,
     "metadata": {},
     "output_type": "execute_result"
    }
   ],
   "source": [
    "error=pt.pauli_to_bsf(error_pauli)\n",
    "error"
   ]
  },
  {
   "cell_type": "code",
   "execution_count": 471,
   "metadata": {},
   "outputs": [
    {
     "data": {
      "text/plain": [
       "36"
      ]
     },
     "execution_count": 471,
     "metadata": {},
     "output_type": "execute_result"
    }
   ],
   "source": [
    "len(error)"
   ]
  },
  {
   "cell_type": "code",
   "execution_count": 475,
   "metadata": {},
   "outputs": [
    {
     "data": {
      "text/plain": [
       "[27, 33]"
      ]
     },
     "execution_count": 475,
     "metadata": {},
     "output_type": "execute_result"
    }
   ],
   "source": [
    "index = [i for i, x in enumerate(error) if x > 0]\n",
    "index\n"
   ]
  },
  {
   "cell_type": "code",
   "execution_count": 461,
   "metadata": {},
   "outputs": [
    {
     "data": {
      "text/plain": [
       "array([0, 2, 2])"
      ]
     },
     "execution_count": 461,
     "metadata": {},
     "output_type": "execute_result"
    }
   ],
   "source": [
    "rng.choice(5, 3)"
   ]
  },
  {
   "cell_type": "code",
   "execution_count": 462,
   "metadata": {},
   "outputs": [
    {
     "data": {
      "text/plain": [
       "array([0, 0, 0, 0, 0, 0, 0, 0, 0, 0, 0, 1, 0, 0, 0, 1, 0])"
      ]
     },
     "execution_count": 462,
     "metadata": {},
     "output_type": "execute_result"
    }
   ],
   "source": [
    "syndrome = pt.bsp(error, code.stabilizers.T)\n",
    "syndrome"
   ]
  },
  {
   "cell_type": "code",
   "execution_count": 63,
   "metadata": {
    "scrolled": false
   },
   "outputs": [
    {
     "data": {
      "text/plain": [
       "array([[0, 0, 0, 0, 0, 0, 0, 0, 1, 0, 0, 0, 0, 0, 0, 0, 0],\n",
       "       [0, 0, 0, 0, 0, 0, 0, 0, 1, 1, 0, 0, 0, 0, 0, 0, 0],\n",
       "       [0, 0, 0, 0, 0, 0, 0, 0, 0, 1, 1, 0, 0, 0, 0, 0, 0],\n",
       "       [0, 0, 0, 0, 0, 0, 0, 0, 0, 0, 1, 0, 0, 0, 0, 0, 0],\n",
       "       [0, 0, 0, 0, 0, 0, 0, 0, 0, 0, 0, 1, 0, 0, 0, 0, 0],\n",
       "       [0, 0, 0, 0, 0, 0, 0, 0, 0, 0, 0, 1, 1, 0, 0, 0, 0],\n",
       "       [0, 0, 0, 0, 0, 0, 0, 0, 0, 0, 0, 0, 1, 1, 0, 0, 0],\n",
       "       [0, 0, 0, 0, 0, 0, 0, 0, 0, 0, 0, 0, 0, 1, 0, 0, 0],\n",
       "       [0, 0, 0, 0, 0, 0, 0, 0, 0, 0, 0, 0, 0, 0, 1, 0, 0],\n",
       "       [0, 0, 0, 0, 0, 0, 0, 0, 0, 0, 0, 0, 0, 0, 1, 1, 0],\n",
       "       [0, 0, 0, 0, 0, 0, 0, 0, 0, 0, 0, 0, 0, 0, 0, 1, 1],\n",
       "       [0, 0, 0, 0, 0, 0, 0, 0, 0, 0, 0, 0, 0, 0, 0, 0, 1],\n",
       "       [0, 0, 0, 0, 0, 0, 0, 0, 1, 0, 0, 1, 0, 0, 0, 0, 0],\n",
       "       [0, 0, 0, 0, 0, 0, 0, 0, 0, 1, 0, 0, 1, 0, 0, 0, 0],\n",
       "       [0, 0, 0, 0, 0, 0, 0, 0, 0, 0, 1, 0, 0, 1, 0, 0, 0],\n",
       "       [0, 0, 0, 0, 0, 0, 0, 0, 0, 0, 0, 1, 0, 0, 1, 0, 0],\n",
       "       [0, 0, 0, 0, 0, 0, 0, 0, 0, 0, 0, 0, 1, 0, 0, 1, 0],\n",
       "       [0, 0, 0, 0, 0, 0, 0, 0, 0, 0, 0, 0, 0, 1, 0, 0, 1],\n",
       "       [1, 0, 0, 0, 0, 0, 0, 0, 0, 0, 0, 0, 0, 0, 0, 0, 0],\n",
       "       [0, 1, 0, 0, 0, 0, 0, 0, 0, 0, 0, 0, 0, 0, 0, 0, 0],\n",
       "       [0, 0, 1, 0, 0, 0, 0, 0, 0, 0, 0, 0, 0, 0, 0, 0, 0],\n",
       "       [0, 0, 0, 1, 0, 0, 0, 0, 0, 0, 0, 0, 0, 0, 0, 0, 0],\n",
       "       [1, 0, 0, 0, 1, 0, 0, 0, 0, 0, 0, 0, 0, 0, 0, 0, 0],\n",
       "       [0, 1, 0, 0, 0, 1, 0, 0, 0, 0, 0, 0, 0, 0, 0, 0, 0],\n",
       "       [0, 0, 1, 0, 0, 0, 1, 0, 0, 0, 0, 0, 0, 0, 0, 0, 0],\n",
       "       [0, 0, 0, 1, 0, 0, 0, 1, 0, 0, 0, 0, 0, 0, 0, 0, 0],\n",
       "       [0, 0, 0, 0, 1, 0, 0, 0, 0, 0, 0, 0, 0, 0, 0, 0, 0],\n",
       "       [0, 0, 0, 0, 0, 1, 0, 0, 0, 0, 0, 0, 0, 0, 0, 0, 0],\n",
       "       [0, 0, 0, 0, 0, 0, 1, 0, 0, 0, 0, 0, 0, 0, 0, 0, 0],\n",
       "       [0, 0, 0, 0, 0, 0, 0, 1, 0, 0, 0, 0, 0, 0, 0, 0, 0],\n",
       "       [1, 1, 0, 0, 0, 0, 0, 0, 0, 0, 0, 0, 0, 0, 0, 0, 0],\n",
       "       [0, 1, 1, 0, 0, 0, 0, 0, 0, 0, 0, 0, 0, 0, 0, 0, 0],\n",
       "       [0, 0, 1, 1, 0, 0, 0, 0, 0, 0, 0, 0, 0, 0, 0, 0, 0],\n",
       "       [0, 0, 0, 0, 1, 1, 0, 0, 0, 0, 0, 0, 0, 0, 0, 0, 0],\n",
       "       [0, 0, 0, 0, 0, 1, 1, 0, 0, 0, 0, 0, 0, 0, 0, 0, 0],\n",
       "       [0, 0, 0, 0, 0, 0, 1, 1, 0, 0, 0, 0, 0, 0, 0, 0, 0]])"
      ]
     },
     "execution_count": 63,
     "metadata": {},
     "output_type": "execute_result"
    }
   ],
   "source": [
    "code.stabilizers.T"
   ]
  },
  {
   "cell_type": "code",
   "execution_count": 38,
   "metadata": {},
   "outputs": [
    {
     "data": {
      "text/plain": [
       "array([1, 1, 0, 1, 1, 0, 1, 1, 0, 1, 1, 0, 1, 0, 0, 1, 1, 0, 0, 0, 1, 0,\n",
       "       1, 0, 0, 1, 0, 0, 1, 1, 0, 1])"
      ]
     },
     "execution_count": 38,
     "metadata": {},
     "output_type": "execute_result"
    }
   ],
   "source": [
    "error.T"
   ]
  },
  {
   "cell_type": "code",
   "execution_count": 499,
   "metadata": {},
   "outputs": [
    {
     "data": {
      "text/plain": [
       "array([0, 0, 0, 0, 0, 1, 0, 0])"
      ]
     },
     "execution_count": 499,
     "metadata": {},
     "output_type": "execute_result"
    }
   ],
   "source": [
    "#    3x3 rotated planar code with H or V indicating qubits and hashed/blank plaquettes indicating X/Z stabilizers:\n",
    "#     ::\n",
    "\n",
    "#            /---\\\n",
    "#            |   |\n",
    "#            H6--V7--H8\\\n",
    "#            |###|   |##|\n",
    "#            |###|   |##|\n",
    "#            |###|   |##|\n",
    "#         /--V3---H4---V5-/\n",
    "#         |##|   |###|\n",
    "#         |##|   |###|\n",
    "#         |##|   |###|\n",
    "#         \\--H0---V1---H2\n",
    "#                |   |\n",
    "#                \\---/\n",
    "\n",
    "\n",
    "             (0,2)-----(1,2)-----(2,2)\n",
    "               |         |         |\n",
    "               |         |         |\n",
    "               |         |         |\n",
    "             (0,1)-----(1,1)-----(2,1)\n",
    "               |         |         |\n",
    "               |         |         |\n",
    "               |         |         |\n",
    "             (0,0)-----(1,0)-----(2,0)\n",
    "\n",
    "rng = np.random.default_rng() if rng is None else rng\n",
    "size=3\n",
    "code=RotatedPlanarCode(*(size,size)) \n",
    "\n",
    "n_qubits =code.n_k_d[0]\n",
    "probability=0.1\n",
    "error_model = BiasedDepolarizingErrorModel(bias,'Z')\n",
    "p=error_model.probability_distribution(probability)\n",
    "\n",
    "error_pauli = ''.join(rng.choice(\n",
    "            ('I', 'X', 'Y', 'Z'),\n",
    "            size=n_qubits,\n",
    "            p=error_model.probability_distribution(probability)\n",
    "        ))\n",
    "error=pt.pauli_to_bsf(error_pauli)\n",
    "syndrome = pt.bsp(error, code.stabilizers.T)\n",
    "syndrome"
   ]
  },
  {
   "cell_type": "code",
   "execution_count": 505,
   "metadata": {},
   "outputs": [
    {
     "name": "stdout",
     "output_type": "stream",
     "text": [
      "[0 0 0 0 0 0 0 0 0 0 0 1 0 0 0 0 0 0]\n"
     ]
    },
    {
     "data": {
      "text/plain": [
       "[11]"
      ]
     },
     "execution_count": 505,
     "metadata": {},
     "output_type": "execute_result"
    }
   ],
   "source": [
    "print(error)\n",
    "index = [i for i, x in enumerate(error) if x > 0]\n",
    "index\n"
   ]
  },
  {
   "cell_type": "code",
   "execution_count": 501,
   "metadata": {},
   "outputs": [
    {
     "data": {
      "text/plain": [
       "array([[0, 0, 0, 0, 1, 0, 0, 0],\n",
       "       [0, 0, 0, 0, 0, 1, 0, 0],\n",
       "       [0, 0, 0, 0, 0, 1, 0, 0],\n",
       "       [0, 0, 0, 0, 1, 0, 1, 0],\n",
       "       [0, 0, 0, 0, 0, 1, 1, 0],\n",
       "       [0, 0, 0, 0, 0, 1, 0, 1],\n",
       "       [0, 0, 0, 0, 0, 0, 1, 0],\n",
       "       [0, 0, 0, 0, 0, 0, 1, 0],\n",
       "       [0, 0, 0, 0, 0, 0, 0, 1],\n",
       "       [0, 1, 0, 0, 0, 0, 0, 0],\n",
       "       [1, 1, 0, 0, 0, 0, 0, 0],\n",
       "       [1, 0, 0, 0, 0, 0, 0, 0],\n",
       "       [0, 1, 0, 0, 0, 0, 0, 0],\n",
       "       [0, 1, 1, 0, 0, 0, 0, 0],\n",
       "       [0, 0, 1, 0, 0, 0, 0, 0],\n",
       "       [0, 0, 0, 1, 0, 0, 0, 0],\n",
       "       [0, 0, 1, 1, 0, 0, 0, 0],\n",
       "       [0, 0, 1, 0, 0, 0, 0, 0]])"
      ]
     },
     "execution_count": 501,
     "metadata": {},
     "output_type": "execute_result"
    }
   ],
   "source": [
    "code.stabilizers.T"
   ]
  },
  {
   "cell_type": "code",
   "execution_count": 491,
   "metadata": {},
   "outputs": [
    {
     "data": {
      "text/plain": [
       "array([[0],\n",
       "       [1],\n",
       "       [1],\n",
       "       [1],\n",
       "       [1],\n",
       "       [0],\n",
       "       [1],\n",
       "       [0],\n",
       "       [0]])"
      ]
     },
     "execution_count": 491,
     "metadata": {},
     "output_type": "execute_result"
    }
   ],
   "source": [
    "hvec=np.random.randint(2,size=(len(error_pauli),1))\n",
    "hvec"
   ]
  },
  {
   "cell_type": "code",
   "execution_count": 97,
   "metadata": {},
   "outputs": [],
   "source": [
    "q=len(error_pauli)\n",
    "for i in range(len(error_pauli)):\n",
    "    if hvec[i]==1:\n",
    "        error_temp=error[i]\n",
    "        error[i]=error[q+i]\n",
    "        error[q+i]=error_temp"
   ]
  },
  {
   "cell_type": "code",
   "execution_count": 37,
   "metadata": {},
   "outputs": [
    {
     "ename": "NameError",
     "evalue": "name 'error' is not defined",
     "output_type": "error",
     "traceback": [
      "\u001b[0;31m---------------------------------------------------------------------------\u001b[0m",
      "\u001b[0;31mNameError\u001b[0m                                 Traceback (most recent call last)",
      "\u001b[0;32m<ipython-input-37-ded28046d863>\u001b[0m in \u001b[0;36m<module>\u001b[0;34m\u001b[0m\n\u001b[0;32m----> 1\u001b[0;31m \u001b[0merror\u001b[0m\u001b[0;34m\u001b[0m\u001b[0;34m\u001b[0m\u001b[0m\n\u001b[0m",
      "\u001b[0;31mNameError\u001b[0m: name 'error' is not defined"
     ]
    }
   ],
   "source": [
    "error"
   ]
  },
  {
   "cell_type": "code",
   "execution_count": 81,
   "metadata": {},
   "outputs": [
    {
     "data": {
      "text/plain": [
       "array([[1, 0, 1, 1, 0, 1, 0, 0, 0]])"
      ]
     },
     "execution_count": 81,
     "metadata": {},
     "output_type": "execute_result"
    }
   ],
   "source": [
    "hvec.T"
   ]
  },
  {
   "cell_type": "code",
   "execution_count": 128,
   "metadata": {},
   "outputs": [
    {
     "data": {
      "text/plain": [
       "array([1.2, 0.2])"
      ]
     },
     "execution_count": 128,
     "metadata": {},
     "output_type": "execute_result"
    }
   ],
   "source": [
    "paulis = ('I', 'X', 'Y', 'Z')\n",
    "bias=1000\n",
    "error_model = BiasedDepolarizingErrorModel(bias,'Z')\n",
    "\n",
    "prob_dist=error_model.probability_distribution(probability)\n",
    "op_to_pr = dict(zip(paulis, prob_dist))\n",
    "f='X'\n",
    "f = pt.pauli_to_bsf(f)\n",
    "I, X, Y, Z = pt.pauli_to_bsf(paulis)\n",
    "n=0.1\n",
    "e=0.1\n",
    "s=0.1\n",
    "w=0.1\n",
    "# n, e, s, w are in {0, 1} so multiply op to turn on or off\n",
    "op = (f + (n * Z) + (e * X) + (s * Z) + (w * X)) % 2\n",
    "op"
   ]
  },
  {
   "cell_type": "code",
   "execution_count": 129,
   "metadata": {},
   "outputs": [
    {
     "data": {
      "text/plain": [
       "'X.6'"
      ]
     },
     "execution_count": 129,
     "metadata": {},
     "output_type": "execute_result"
    }
   ],
   "source": [
    "pt.bsf_to_pauli(op)"
   ]
  },
  {
   "cell_type": "code",
   "execution_count": 130,
   "metadata": {},
   "outputs": [
    {
     "data": {
      "text/plain": [
       "'X'"
      ]
     },
     "execution_count": 130,
     "metadata": {},
     "output_type": "execute_result"
    }
   ],
   "source": [
    "pt.bsf_to_pauli(np.array([1, 0]))"
   ]
  },
  {
   "cell_type": "code",
   "execution_count": 131,
   "metadata": {},
   "outputs": [
    {
     "data": {
      "text/plain": [
       "array([1, 0])"
      ]
     },
     "execution_count": 131,
     "metadata": {},
     "output_type": "execute_result"
    }
   ],
   "source": [
    "pt.pauli_to_bsf('X')"
   ]
  },
  {
   "cell_type": "code",
   "execution_count": 132,
   "metadata": {},
   "outputs": [
    {
     "data": {
      "text/plain": [
       "0.0003996003996003996"
      ]
     },
     "execution_count": 132,
     "metadata": {},
     "output_type": "execute_result"
    }
   ],
   "source": [
    "op_to_pr['X']"
   ]
  },
  {
   "cell_type": "code",
   "execution_count": 133,
   "metadata": {},
   "outputs": [
    {
     "data": {
      "text/plain": [
       "{'I': 0.19999999999999996,\n",
       " 'X': 0.0003996003996003996,\n",
       " 'Y': 0.0003996003996003996,\n",
       " 'Z': 0.7992007992007992}"
      ]
     },
     "execution_count": 133,
     "metadata": {},
     "output_type": "execute_result"
    }
   ],
   "source": [
    "op_to_pr = dict(zip(paulis, prob_dist))\n",
    "op_to_pr"
   ]
  },
  {
   "cell_type": "code",
   "execution_count": 134,
   "metadata": {},
   "outputs": [
    {
     "data": {
      "text/plain": [
       "9"
      ]
     },
     "execution_count": 134,
     "metadata": {},
     "output_type": "execute_result"
    }
   ],
   "source": [
    "n_qubits"
   ]
  },
  {
   "cell_type": "code",
   "execution_count": 136,
   "metadata": {},
   "outputs": [],
   "source": [
    "hadamard_vec=np.zeros(n_qubits)\n",
    "for i in range(n_qubits):\n",
    "    if i%2:\n",
    "        hadamard_vec[i]=1"
   ]
  },
  {
   "cell_type": "code",
   "execution_count": 137,
   "metadata": {},
   "outputs": [
    {
     "data": {
      "text/plain": [
       "array([0., 1., 0., 1., 0., 1., 0., 1., 0.])"
      ]
     },
     "execution_count": 137,
     "metadata": {},
     "output_type": "execute_result"
    }
   ],
   "source": [
    "hadamard_vec"
   ]
  },
  {
   "cell_type": "code",
   "execution_count": 3,
   "metadata": {},
   "outputs": [
    {
     "data": {
      "text/plain": [
       "array([[0.55376431]])"
      ]
     },
     "execution_count": 3,
     "metadata": {},
     "output_type": "execute_result"
    }
   ],
   "source": [
    "import numpy as np\n",
    "np.random.rand(1,1)"
   ]
  },
  {
   "cell_type": "code",
   "execution_count": 19,
   "metadata": {},
   "outputs": [
    {
     "data": {
      "text/plain": [
       "500239"
      ]
     },
     "execution_count": 19,
     "metadata": {},
     "output_type": "execute_result"
    }
   ],
   "source": [
    "count =0\n",
    "for i in range(1000000):\n",
    "    x=np.random.rand(1,1)\n",
    "    if x<=0.5:\n",
    "        count+=1\n",
    "count"
   ]
  },
  {
   "cell_type": "code",
   "execution_count": 23,
   "metadata": {},
   "outputs": [
    {
     "data": {
      "text/plain": [
       "25"
      ]
     },
     "execution_count": 23,
     "metadata": {},
     "output_type": "execute_result"
    }
   ],
   "source": [
    "hadamard_mat=np.zeros((5,5))\n",
    "np.prod(hadamard_mat.shape)"
   ]
  },
  {
   "cell_type": "code",
   "execution_count": 27,
   "metadata": {},
   "outputs": [
    {
     "name": "stdout",
     "output_type": "stream",
     "text": [
      "4 4\n"
     ]
    }
   ],
   "source": [
    "from qecsim.models.rotatedplanar import RotatedPlanarCode, RotatedPlanarMPSDecoder\n",
    "\n",
    "size=3\n",
    "code=RotatedPlanarCode(*(size,size)) \n",
    "tn_max_r, _ = _rotate_q_index((0, 0), code)\n",
    "_, tn_max_c = _rotate_q_index((code.site_bounds[0], 0), code)\n",
    "\n",
    "print(tn_max_r,tn_max_c)"
   ]
  },
  {
   "cell_type": "code",
   "execution_count": 26,
   "metadata": {},
   "outputs": [],
   "source": [
    "\n",
    "            def _rotate_q_index(index, code):\n",
    "                \"\"\"Convert code site index in format (x, y) to tensor network q-node index in format (r, c)\"\"\"\n",
    "                site_x, site_y = index  # qubit index in (x, y)\n",
    "                site_r, site_c = code.site_bounds[1] - site_y, site_x  # qubit index in (r, c)\n",
    "                return code.site_bounds[0] - site_c + site_r, site_r + site_c  # q-node index in (r, c)"
   ]
  },
  {
   "cell_type": "code",
   "execution_count": 29,
   "metadata": {},
   "outputs": [
    {
     "data": {
      "text/plain": [
       "[(1, -1), (0, 0), (1, 1), (0, 2), (-1, 0), (1, 0), (0, 1), (2, 1)]"
      ]
     },
     "execution_count": 29,
     "metadata": {},
     "output_type": "execute_result"
    }
   ],
   "source": [
    "code._plaquette_indices"
   ]
  },
  {
   "cell_type": "code",
   "execution_count": 30,
   "metadata": {},
   "outputs": [
    {
     "data": {
      "text/plain": [
       "(2, 2)"
      ]
     },
     "execution_count": 30,
     "metadata": {},
     "output_type": "execute_result"
    }
   ],
   "source": [
    "code.site_bounds"
   ]
  },
  {
   "cell_type": "code",
   "execution_count": 36,
   "metadata": {},
   "outputs": [
    {
     "data": {
      "text/plain": [
       "True"
      ]
     },
     "execution_count": 36,
     "metadata": {},
     "output_type": "execute_result"
    }
   ],
   "source": [
    "code.is_z_plaquette((2,0))"
   ]
  },
  {
   "cell_type": "code",
   "execution_count": 347,
   "metadata": {},
   "outputs": [
    {
     "data": {
      "text/plain": [
       "array([0, 0, 0, 0, 1, 1, 1, 0])"
      ]
     },
     "execution_count": 347,
     "metadata": {},
     "output_type": "execute_result"
    }
   ],
   "source": [
    "#    3x3 rotated planar code with H or V indicating qubits and hashed/blank plaquettes indicating X/Z stabilizers:\n",
    "#     ::\n",
    "\n",
    "#            /---\\\n",
    "#            |   |\n",
    "#            H6--V7--H8\\\n",
    "#            |###|   |##|\n",
    "#            |###|   |##|\n",
    "#            |###|   |##|\n",
    "#         /--V3---H4---V5-/\n",
    "#         |##|   |###|\n",
    "#         |##|   |###|\n",
    "#         |##|   |###|\n",
    "#         \\--H0---V1---H2\n",
    "#                |   |\n",
    "#                \\---/\n",
    "\n",
    "import collections\n",
    "import itertools\n",
    "import numpy as np\n",
    "from qecsim import paulitools as pt\n",
    "import matplotlib.pyplot as plt\n",
    "import qecsim\n",
    "from qecsim import app\n",
    "from qecsim.models.generic import PhaseFlipErrorModel,DepolarizingErrorModel,BiasedDepolarizingErrorModel\n",
    "#from qecsim.models.planar import PlanarCode, PlanarMPSDecoder\n",
    "from qecsim.models.rotatedplanar import RotatedPlanarCode\n",
    "\n",
    "from _planarmpsdecoder_def import PlanarMPSDecoder_def\n",
    "from _rotatedplanarmpsdecoder_def import RotatedPlanarMPSDecoder_def\n",
    "import app_def\n",
    "import _rotatedplanarmpsdecoder_def\n",
    "import importlib as imp\n",
    "imp.reload(app_def)\n",
    "imp.reload(_rotatedplanarmpsdecoder_def)\n",
    "import os, time\n",
    "import multiprocessing as mp\n",
    "from functools import partial\n",
    "\n",
    "import collections\n",
    "import itertools\n",
    "import json\n",
    "import logging\n",
    "import statistics\n",
    "import time\n",
    "import numpy as np\n",
    "from qecsim import paulitools as pt\n",
    "from qecsim.error import QecsimError\n",
    "from qecsim.model import DecodeResult\n",
    "\n",
    "rng = np.random.default_rng(10)\n",
    "\n",
    "size=3\n",
    "code=RotatedPlanarCode(*(size,size)) \n",
    "bias=100\n",
    "n_qubits =code.n_k_d[0]\n",
    "probability=0.2\n",
    "error_model = BiasedDepolarizingErrorModel(bias,'Z')\n",
    "p=error_model.probability_distribution(probability)\n",
    "\n",
    "error_pauli = ''.join(rng.choice(\n",
    "            ('I', 'X', 'Y', 'Z'),\n",
    "            size=n_qubits,\n",
    "            p=error_model.probability_distribution(probability)\n",
    "        ))\n",
    "error=pt.pauli_to_bsf(error_pauli)\n",
    "syndrome = pt.bsp(error, code.stabilizers.T)\n",
    "syndrome"
   ]
  },
  {
   "cell_type": "code",
   "execution_count": 348,
   "metadata": {},
   "outputs": [
    {
     "data": {
      "text/plain": [
       "array([[0, 0, 0, 0, 1, 0, 0, 0],\n",
       "       [0, 0, 0, 0, 0, 1, 0, 0],\n",
       "       [0, 0, 0, 0, 0, 1, 0, 0],\n",
       "       [0, 0, 0, 0, 1, 0, 1, 0],\n",
       "       [0, 0, 0, 0, 0, 1, 1, 0],\n",
       "       [0, 0, 0, 0, 0, 1, 0, 1],\n",
       "       [0, 0, 0, 0, 0, 0, 1, 0],\n",
       "       [0, 0, 0, 0, 0, 0, 1, 0],\n",
       "       [0, 0, 0, 0, 0, 0, 0, 1],\n",
       "       [0, 1, 0, 0, 0, 0, 0, 0],\n",
       "       [1, 1, 0, 0, 0, 0, 0, 0],\n",
       "       [1, 0, 0, 0, 0, 0, 0, 0],\n",
       "       [0, 1, 0, 0, 0, 0, 0, 0],\n",
       "       [0, 1, 1, 0, 0, 0, 0, 0],\n",
       "       [0, 0, 1, 0, 0, 0, 0, 0],\n",
       "       [0, 0, 0, 1, 0, 0, 0, 0],\n",
       "       [0, 0, 1, 1, 0, 0, 0, 0],\n",
       "       [0, 0, 1, 0, 0, 0, 0, 0]])"
      ]
     },
     "execution_count": 348,
     "metadata": {},
     "output_type": "execute_result"
    }
   ],
   "source": [
    "code.stabilizers.T\n"
   ]
  },
  {
   "cell_type": "code",
   "execution_count": 349,
   "metadata": {},
   "outputs": [
    {
     "data": {
      "text/plain": [
       "'ZIZIIIIZI'"
      ]
     },
     "execution_count": 349,
     "metadata": {},
     "output_type": "execute_result"
    }
   ],
   "source": [
    "error_pauli"
   ]
  },
  {
   "cell_type": "code",
   "execution_count": 98,
   "metadata": {},
   "outputs": [
    {
     "data": {
      "text/plain": [
       "(2, 2)"
      ]
     },
     "execution_count": 98,
     "metadata": {},
     "output_type": "execute_result"
    }
   ],
   "source": [
    "code.site_bounds"
   ]
  },
  {
   "cell_type": "code",
   "execution_count": 99,
   "metadata": {},
   "outputs": [
    {
     "data": {
      "text/plain": [
       "1"
      ]
     },
     "execution_count": 99,
     "metadata": {},
     "output_type": "execute_result"
    }
   ],
   "source": [
    "int(2*0.6)"
   ]
  },
  {
   "cell_type": "code",
   "execution_count": 100,
   "metadata": {},
   "outputs": [],
   "source": [
    "pH=0.5"
   ]
  },
  {
   "cell_type": "code",
   "execution_count": 356,
   "metadata": {},
   "outputs": [],
   "source": [
    "\n",
    "size=3\n",
    "code=RotatedPlanarCode(*(size,size+1)) \n",
    "\n",
    "hadamard_mat=np.zeros((3,4))\n",
    "from sklearn.utils.random import sample_without_replacement\n",
    "\n",
    "def random_coords(dims, nsamp):\n",
    "    idx = sample_without_replacement(np.prod(dims), nsamp)\n",
    "    return np.vstack(np.unravel_index(idx, dims)).T\n",
    "\n",
    "rand_coords= random_coords(hadamard_mat.shape,int(np.prod(hadamard_mat.shape)*pH))\n",
    "for row, col in rand_coords:\n",
    "    hadamard_mat[row,col]=1"
   ]
  },
  {
   "cell_type": "code",
   "execution_count": 357,
   "metadata": {},
   "outputs": [
    {
     "data": {
      "text/plain": [
       "array([[0., 1., 0., 0.],\n",
       "       [0., 1., 1., 1.],\n",
       "       [1., 0., 0., 1.]])"
      ]
     },
     "execution_count": 357,
     "metadata": {},
     "output_type": "execute_result"
    }
   ],
   "source": [
    "hadamard_mat"
   ]
  },
  {
   "cell_type": "code",
   "execution_count": 360,
   "metadata": {},
   "outputs": [
    {
     "data": {
      "text/plain": [
       "array([0., 0., 1., 1., 1., 0., 0., 1., 0., 0., 1., 1.])"
      ]
     },
     "execution_count": 360,
     "metadata": {},
     "output_type": "execute_result"
    }
   ],
   "source": [
    "n_qubits = code.n_k_d[0]\n",
    "hadamard_vec=np.zeros(n_qubits)\n",
    "\n",
    "Nx=code.site_bounds[0]+1\n",
    "Ny=code.site_bounds[1]+1\n",
    "\n",
    "for i,j in np.ndindex(hadamard_mat.shape):\n",
    "    if hadamard_mat[i,j]==1:\n",
    "        hadamard_vec[i+j*(Nx-1)]=1\n",
    "        \n",
    "hadamard_vec"
   ]
  },
  {
   "cell_type": "code",
   "execution_count": 118,
   "metadata": {},
   "outputs": [],
   "source": [
    "code=RotatedPlanarCode(*(size,size+1)) \n",
    "n_qubits =code.n_k_d[0]\n",
    "hadamard_vec=np.zeros(n_qubits)\n",
    "\n",
    "hadamard_mat=np.zeros((3,4))\n",
    "for row, col in np.ndindex(hadamard_mat.shape):\n",
    "    if (row+col)%2==0:\n",
    "        hadamard_mat[row,col]=1\n",
    "for i in range(n_qubits):\n",
    "    if i%2==0:\n",
    "        hadamard_vec[i]=1"
   ]
  },
  {
   "cell_type": "code",
   "execution_count": 119,
   "metadata": {},
   "outputs": [
    {
     "data": {
      "text/plain": [
       "array([[1., 0., 1., 0.],\n",
       "       [0., 1., 0., 1.],\n",
       "       [1., 0., 1., 0.]])"
      ]
     },
     "execution_count": 119,
     "metadata": {},
     "output_type": "execute_result"
    }
   ],
   "source": [
    "hadamard_mat"
   ]
  },
  {
   "cell_type": "code",
   "execution_count": 120,
   "metadata": {},
   "outputs": [
    {
     "data": {
      "text/plain": [
       "array([1., 0., 1., 0., 1., 0., 1., 0., 1., 0., 1., 0.])"
      ]
     },
     "execution_count": 120,
     "metadata": {},
     "output_type": "execute_result"
    }
   ],
   "source": [
    "hadamard_vec"
   ]
  },
  {
   "cell_type": "code",
   "execution_count": 123,
   "metadata": {},
   "outputs": [],
   "source": [
    "hadamard_mat=np.zeros((3,4))\n",
    "rand_coords= random_coords(hadamard_mat.shape,int(np.prod(hadamard_mat.shape)*pH))\n",
    "for row, col in rand_coords:\n",
    "        hadamard_mat[row,col]=1"
   ]
  },
  {
   "cell_type": "code",
   "execution_count": 124,
   "metadata": {},
   "outputs": [
    {
     "data": {
      "text/plain": [
       "array([[0., 0., 1., 1.],\n",
       "       [1., 0., 1., 0.],\n",
       "       [1., 1., 0., 0.]])"
      ]
     },
     "execution_count": 124,
     "metadata": {},
     "output_type": "execute_result"
    }
   ],
   "source": [
    "hadamard_mat"
   ]
  },
  {
   "cell_type": "code",
   "execution_count": 125,
   "metadata": {},
   "outputs": [
    {
     "data": {
      "text/plain": [
       "array([[2, 0],\n",
       "       [0, 3],\n",
       "       [1, 0],\n",
       "       [2, 1],\n",
       "       [0, 2],\n",
       "       [1, 2]])"
      ]
     },
     "execution_count": 125,
     "metadata": {},
     "output_type": "execute_result"
    }
   ],
   "source": [
    "rand_coords"
   ]
  },
  {
   "cell_type": "code",
   "execution_count": 126,
   "metadata": {},
   "outputs": [
    {
     "data": {
      "text/plain": [
       "6"
      ]
     },
     "execution_count": 126,
     "metadata": {},
     "output_type": "execute_result"
    }
   ],
   "source": [
    "dims=(3,2)\n",
    "np.prod(dims)"
   ]
  },
  {
   "cell_type": "code",
   "execution_count": 130,
   "metadata": {},
   "outputs": [],
   "source": [
    "y=random_coords((3,3),4)"
   ]
  },
  {
   "cell_type": "code",
   "execution_count": 129,
   "metadata": {},
   "outputs": [],
   "source": [
    "x=random_coords((3,3),9)"
   ]
  },
  {
   "cell_type": "code",
   "execution_count": 137,
   "metadata": {},
   "outputs": [
    {
     "data": {
      "text/plain": [
       "False"
      ]
     },
     "execution_count": 137,
     "metadata": {},
     "output_type": "execute_result"
    }
   ],
   "source": [
    "(3,4) in x"
   ]
  },
  {
   "cell_type": "code",
   "execution_count": 139,
   "metadata": {},
   "outputs": [],
   "source": [
    "error_pauli = ''.join(rng.choice(\n",
    "        ('I', 'X', 'Y', 'Z'),\n",
    "        size=n_qubits,\n",
    "        p=error_model.probability_distribution(probability)\n",
    "    ))"
   ]
  },
  {
   "cell_type": "code",
   "execution_count": 140,
   "metadata": {},
   "outputs": [
    {
     "data": {
      "text/plain": [
       "'ZZIIIZZIIIZI'"
      ]
     },
     "execution_count": 140,
     "metadata": {},
     "output_type": "execute_result"
    }
   ],
   "source": [
    "error_pauli"
   ]
  },
  {
   "cell_type": "code",
   "execution_count": 147,
   "metadata": {},
   "outputs": [
    {
     "data": {
      "text/plain": [
       "['X', 'Y', 'Z']"
      ]
     },
     "execution_count": 147,
     "metadata": {},
     "output_type": "execute_result"
    }
   ],
   "source": [
    "x=['X','Y','Z']\n",
    "x"
   ]
  },
  {
   "cell_type": "code",
   "execution_count": 149,
   "metadata": {},
   "outputs": [
    {
     "data": {
      "text/plain": [
       "'XYZ'"
      ]
     },
     "execution_count": 149,
     "metadata": {},
     "output_type": "execute_result"
    }
   ],
   "source": [
    "''.join(x)"
   ]
  },
  {
   "cell_type": "code",
   "execution_count": 180,
   "metadata": {},
   "outputs": [
    {
     "data": {
      "text/plain": [
       "array([[6],\n",
       "       [4]])"
      ]
     },
     "execution_count": 180,
     "metadata": {},
     "output_type": "execute_result"
    }
   ],
   "source": [
    "x=random_coords(10,2)\n",
    "y=random_coords(10,10)\n",
    "\n",
    "x"
   ]
  },
  {
   "cell_type": "code",
   "execution_count": 181,
   "metadata": {},
   "outputs": [
    {
     "data": {
      "text/plain": [
       "array([[0],\n",
       "       [1],\n",
       "       [2],\n",
       "       [3],\n",
       "       [4],\n",
       "       [5],\n",
       "       [6],\n",
       "       [7],\n",
       "       [8],\n",
       "       [9]])"
      ]
     },
     "execution_count": 181,
     "metadata": {},
     "output_type": "execute_result"
    }
   ],
   "source": [
    "y"
   ]
  },
  {
   "cell_type": "code",
   "execution_count": 182,
   "metadata": {},
   "outputs": [
    {
     "data": {
      "text/plain": [
       "False"
      ]
     },
     "execution_count": 182,
     "metadata": {},
     "output_type": "execute_result"
    }
   ],
   "source": [
    "[5] in x"
   ]
  },
  {
   "cell_type": "code",
   "execution_count": 192,
   "metadata": {},
   "outputs": [],
   "source": [
    "def complement(listA, listB):\n",
    "    listC=[]    \n",
    "    for i in range(len(listA)):\n",
    "        if listA[i] not in listB:\n",
    "            listC.append(listA[i][0])\n",
    "    return listC"
   ]
  },
  {
   "cell_type": "code",
   "execution_count": 193,
   "metadata": {},
   "outputs": [],
   "source": [
    "z=complement(y,x)"
   ]
  },
  {
   "cell_type": "code",
   "execution_count": 194,
   "metadata": {},
   "outputs": [
    {
     "data": {
      "text/plain": [
       "[0, 1, 2, 3, 5, 7, 8, 9]"
      ]
     },
     "execution_count": 194,
     "metadata": {},
     "output_type": "execute_result"
    }
   ],
   "source": [
    "z"
   ]
  },
  {
   "cell_type": "code",
   "execution_count": 212,
   "metadata": {},
   "outputs": [
    {
     "data": {
      "text/plain": [
       "'ZYIXYZX'"
      ]
     },
     "execution_count": 212,
     "metadata": {},
     "output_type": "execute_result"
    }
   ],
   "source": [
    "from random import shuffle\n",
    "x = ['X','Y','Z','I','X','Y','Z']\n",
    "shuffle(x)\n",
    "''.join(x)"
   ]
  },
  {
   "cell_type": "code",
   "execution_count": 199,
   "metadata": {},
   "outputs": [
    {
     "data": {
      "text/plain": [
       "[0, 4, 1, 3, 8, 9, 2, 5, 6, 7]"
      ]
     },
     "execution_count": 199,
     "metadata": {},
     "output_type": "execute_result"
    }
   ],
   "source": [
    "x"
   ]
  },
  {
   "cell_type": "code",
   "execution_count": 208,
   "metadata": {},
   "outputs": [],
   "source": [
    "pI=0.2;p=(1-pI)/3\n",
    "y=[]"
   ]
  },
  {
   "cell_type": "code",
   "execution_count": 209,
   "metadata": {},
   "outputs": [
    {
     "data": {
      "text/plain": [
       "['I', 'I', 'X', 'X', 'X', 'Y', 'Y', 'Y', 'Z', 'Z', 'Z']"
      ]
     },
     "execution_count": 209,
     "metadata": {},
     "output_type": "execute_result"
    }
   ],
   "source": [
    "for i in range(int(n_qubits*pI)):\n",
    "    y.append('I')\n",
    "        \n",
    "for i in range(int(n_qubits*p)):\n",
    "    y.append('X')\n",
    "\n",
    "for i in range(int(n_qubits*p)):\n",
    "    y.append('Y')\n",
    "for i in range(int(n_qubits*p)):\n",
    "    y.append('Z')\n",
    "  \n",
    "  \n",
    "y\n",
    "   "
   ]
  },
  {
   "cell_type": "code",
   "execution_count": 210,
   "metadata": {},
   "outputs": [
    {
     "data": {
      "text/plain": [
       "['X', 'X', 'Z', 'I', 'I', 'Y', 'Z', 'X', 'Z', 'Y', 'Y']"
      ]
     },
     "execution_count": 210,
     "metadata": {},
     "output_type": "execute_result"
    }
   ],
   "source": [
    "shuffle(y)\n",
    "y"
   ]
  },
  {
   "cell_type": "code",
   "execution_count": 245,
   "metadata": {},
   "outputs": [],
   "source": [
    "from random import shuffle\n",
    "def generate(error_model, code, probability, rng=None):\n",
    "    \"\"\"\n",
    "    See :meth:`qecsim.model.ErrorModel.generate`\n",
    "\n",
    "    Notes:\n",
    "\n",
    "    * This method delegates to :meth:`probability_distribution` to find the probability of I, X, Y, Z operators on\n",
    "      each qubit, assuming an IID error model.\n",
    "    \"\"\"\n",
    "    n_qubits = code.n_k_d[0]\n",
    "    (pI,pX,pY,pZ)=error_model.probability_distribution(probability)\n",
    "    error_Pauli=[]\n",
    "    error_Pauli.extend('I'*int(n_qubits*pI))    \n",
    "    error_Pauli.extend('X'*int(n_qubits*pX))    \n",
    "    error_Pauli.extend('Y'*int(n_qubits*pY))    \n",
    "    error_Pauli.extend('Z'*int(n_qubits*pZ))    \n",
    "    shuffle(error_Pauli)\n",
    "    print(error_Pauli)\n",
    "    return pt.pauli_to_bsf(''.join(error_Pauli))"
   ]
  },
  {
   "cell_type": "code",
   "execution_count": 246,
   "metadata": {},
   "outputs": [
    {
     "name": "stdout",
     "output_type": "stream",
     "text": [
      "['I', 'Z', 'I', 'I', 'I', 'Z', 'Z', 'Z', 'Z', 'Z', 'Z']\n"
     ]
    },
    {
     "data": {
      "text/plain": [
       "array([0, 0, 0, 0, 0, 0, 0, 0, 0, 0, 0, 0, 1, 0, 0, 0, 1, 1, 1, 1, 1, 1])"
      ]
     },
     "execution_count": 246,
     "metadata": {},
     "output_type": "execute_result"
    }
   ],
   "source": [
    "error_Pauli=generate(error_model,code,0.6)\n",
    "error_Pauli"
   ]
  },
  {
   "cell_type": "code",
   "execution_count": 285,
   "metadata": {},
   "outputs": [
    {
     "name": "stdout",
     "output_type": "stream",
     "text": [
      "['I', 'I', 'I', 'I', 'I', 'X', 'X', 'X', 'X', 'X', 'X', 'X', 'Y', 'Y', 'Y', 'Y', 'Y', 'Y', 'Y', 'Z', 'Z', 'Z', 'Z', 'Z', 'Z', 'Z']\n",
      "['I', 'I', 'I', 'I', 'I', 'Z', 'Z', 'X', 'X', 'Z', 'X', 'X', 'Y', 'Y', 'Y', 'Y', 'Y', 'Y', 'Y', 'Z', 'X', 'X', 'X', 'X', 'X', 'Z']\n"
     ]
    }
   ],
   "source": [
    "code=RotatedPlanarCode(*(5,5)) \n",
    "\n",
    "error_model = BiasedDepolarizingErrorModel(0.5,'Z')\n",
    "\n",
    "n_qubits = code.n_k_d[0]\n",
    "(pI,pX,pY,pZ)=error_model.probability_distribution(0.8)\n",
    "error_Pauli=[]\n",
    "error_Pauli.extend('I'*round(n_qubits*pI))    \n",
    "error_Pauli.extend('X'*round(n_qubits*pX))    \n",
    "error_Pauli.extend('Y'*round(n_qubits*pY))    \n",
    "error_Pauli.extend('Z'*round(n_qubits*pZ))    \n",
    "error_Pauli.extend('I'*(n_qubits-round(n_qubits*pI)-round(n_qubits*pX)-round(n_qubits*pY)-round(n_qubits*pZ)))\n",
    "print(error_Pauli)\n",
    "for i in range(n_qubits):\n",
    "    if hadamard_vec[i]==1:\n",
    "        if error_Pauli[i]=='X':\n",
    "            error_Pauli[i]='Z'\n",
    "        elif error_Pauli[i]=='Z':\n",
    "            error_Pauli[i]='X'\n",
    "            \n",
    "print(error_Pauli)\n"
   ]
  },
  {
   "cell_type": "code",
   "execution_count": 283,
   "metadata": {},
   "outputs": [],
   "source": [
    "hadamard_vec=np.random.randint(0,2,n_qubits)"
   ]
  },
  {
   "cell_type": "code",
   "execution_count": 284,
   "metadata": {},
   "outputs": [
    {
     "data": {
      "text/plain": [
       "array([0, 0, 0, 1, 0, 1, 1, 0, 0, 1, 0, 0, 0, 0, 0, 1, 0, 1, 0, 0, 1, 1,\n",
       "       1, 1, 1])"
      ]
     },
     "execution_count": 284,
     "metadata": {},
     "output_type": "execute_result"
    }
   ],
   "source": [
    "hadamard_vec"
   ]
  },
  {
   "cell_type": "code",
   "execution_count": 275,
   "metadata": {},
   "outputs": [],
   "source": [
    "error_Pauli[3]='Z'"
   ]
  },
  {
   "cell_type": "code",
   "execution_count": 276,
   "metadata": {},
   "outputs": [
    {
     "data": {
      "text/plain": [
       "['I', 'I', 'X', 'Z', 'X', 'Y', 'Y', 'Y', 'Z', 'Z', 'Z', 'I']"
      ]
     },
     "execution_count": 276,
     "metadata": {},
     "output_type": "execute_result"
    }
   ],
   "source": [
    "error_Pauli"
   ]
  },
  {
   "cell_type": "code",
   "execution_count": 299,
   "metadata": {},
   "outputs": [
    {
     "data": {
      "text/plain": [
       "True"
      ]
     },
     "execution_count": 299,
     "metadata": {},
     "output_type": "execute_result"
    }
   ],
   "source": [
    "n_qubits = code.n_k_d[0]\n",
    "(pI,pX,pY,pZ)=error_model.probability_distribution(0.8)\n",
    "error_Pauli=[]\n",
    "error_Pauli.extend('X'*round(n_qubits*pX))    \n",
    "error_Pauli.extend('Y'*round(n_qubits*pY))    \n",
    "error_Pauli.extend('Z'*round(n_qubits*pZ))    \n",
    "error_Pauli.extend('I'*(n_qubits-len(error_Pauli)))\n",
    "len(error_Pauli)== n_qubits"
   ]
  },
  {
   "cell_type": "code",
   "execution_count": 297,
   "metadata": {},
   "outputs": [
    {
     "data": {
      "text/plain": [
       "27"
      ]
     },
     "execution_count": 297,
     "metadata": {},
     "output_type": "execute_result"
    }
   ],
   "source": [
    "len(error_Pauli)"
   ]
  },
  {
   "cell_type": "code",
   "execution_count": 295,
   "metadata": {},
   "outputs": [
    {
     "data": {
      "text/plain": [
       "25"
      ]
     },
     "execution_count": 295,
     "metadata": {},
     "output_type": "execute_result"
    }
   ],
   "source": [
    "n_qubits"
   ]
  },
  {
   "cell_type": "code",
   "execution_count": 296,
   "metadata": {},
   "outputs": [],
   "source": [
    "error_Pauli.extend('I'*-1)\n"
   ]
  },
  {
   "cell_type": "code",
   "execution_count": 311,
   "metadata": {},
   "outputs": [],
   "source": [
    "error_probability_min, error_probability_max = 0.05, 0.5\n",
    "error_probabilities = np.linspace(error_probability_min, error_probability_max, 18)"
   ]
  },
  {
   "cell_type": "code",
   "execution_count": 312,
   "metadata": {},
   "outputs": [
    {
     "data": {
      "text/plain": [
       "range(5, 9, 2)"
      ]
     },
     "execution_count": 312,
     "metadata": {},
     "output_type": "execute_result"
    }
   ],
   "source": [
    "sizes"
   ]
  },
  {
   "cell_type": "code",
   "execution_count": 346,
   "metadata": {},
   "outputs": [
    {
     "data": {
      "text/plain": [
       "[1, 2, 3, 4, 5, 6, 7, 8, 9, 10, 11, 12, 13, 14, 15, 17, 18, 19, 21, 22, 23, 24]"
      ]
     },
     "execution_count": 346,
     "metadata": {},
     "output_type": "execute_result"
    }
   ],
   "source": [
    "def removedup(vec):\n",
    "    vec2 = [] \n",
    "    [vec2.append(x) for x in vec if x not in vec2] \n",
    "    return np.array(vec2)\n",
    "\n",
    "n_qubits=sizes[0]**2\n",
    "vround = np.vectorize(round)\n",
    "n_error_vec=removedup(vround(error_probabilities*n_qubits))\n",
    "\n",
    "n_errors =[]\n",
    "n_errors.extend(n_error_vec)\n",
    "\n",
    "for i in range(1,len(sizes)):\n",
    "    n_qubits=sizes[i]**2\n",
    "    n_error_vec=removedup(vround(error_probabilities*n_qubits))\n",
    "    n_errors.extend(n_error_vec[n_error_vec>n_errors[-1]])\n",
    "    \n",
    "n_errors"
   ]
  },
  {
   "cell_type": "code",
   "execution_count": 342,
   "metadata": {},
   "outputs": [
    {
     "ename": "TypeError",
     "evalue": "'>' not supported between instances of 'list' and 'int'",
     "output_type": "error",
     "traceback": [
      "\u001b[0;31m---------------------------------------------------------------------------\u001b[0m",
      "\u001b[0;31mTypeError\u001b[0m                                 Traceback (most recent call last)",
      "\u001b[0;32m<ipython-input-342-639468d3e32c>\u001b[0m in \u001b[0;36m<module>\u001b[0;34m\u001b[0m\n\u001b[0;32m----> 1\u001b[0;31m \u001b[0mn_error_vec\u001b[0m\u001b[0;34m[\u001b[0m\u001b[0mn_error_vec\u001b[0m\u001b[0;34m>\u001b[0m\u001b[0;36m9\u001b[0m\u001b[0;34m]\u001b[0m\u001b[0;34m\u001b[0m\u001b[0;34m\u001b[0m\u001b[0m\n\u001b[0m",
      "\u001b[0;31mTypeError\u001b[0m: '>' not supported between instances of 'list' and 'int'"
     ]
    }
   ],
   "source": [
    "n_error_vec[n_error_vec>9]"
   ]
  },
  {
   "cell_type": "code",
   "execution_count": 319,
   "metadata": {},
   "outputs": [
    {
     "data": {
      "text/plain": [
       "2"
      ]
     },
     "execution_count": 319,
     "metadata": {},
     "output_type": "execute_result"
    }
   ],
   "source": [
    "round(1.5)"
   ]
  },
  {
   "cell_type": "code",
   "execution_count": 320,
   "metadata": {},
   "outputs": [
    {
     "data": {
      "text/plain": [
       "array([0, 2])"
      ]
     },
     "execution_count": 320,
     "metadata": {},
     "output_type": "execute_result"
    }
   ],
   "source": [
    "vfunc = np.vectorize(round)\n",
    "vfunc([0.3,2.5])"
   ]
  },
  {
   "cell_type": "code",
   "execution_count": 322,
   "metadata": {},
   "outputs": [
    {
     "data": {
      "text/plain": [
       "array([0.25      , 0.38235294, 0.51470588, 0.64705882, 0.77941176,\n",
       "       0.91176471, 1.04411765, 1.17647059, 1.30882353, 1.44117647,\n",
       "       1.57352941, 1.70588235, 1.83823529, 1.97058824, 2.10294118,\n",
       "       2.23529412, 2.36764706, 2.5       ])"
      ]
     },
     "execution_count": 322,
     "metadata": {},
     "output_type": "execute_result"
    }
   ],
   "source": [
    "error_probabilities*sizes[0]"
   ]
  },
  {
   "cell_type": "code",
   "execution_count": 324,
   "metadata": {},
   "outputs": [],
   "source": [
    "n_errors =[]\n",
    "vround = np.vectorize(round)\n",
    "\n",
    "n_qubits=sizes[0]**2\n",
    "n_errors.extend(vround(error_probabilities*n_qubits))"
   ]
  },
  {
   "cell_type": "code",
   "execution_count": 325,
   "metadata": {},
   "outputs": [
    {
     "data": {
      "text/plain": [
       "[1, 2, 3, 3, 4, 5, 5, 6, 7, 7, 8, 9, 9, 10, 11, 11, 12, 12]"
      ]
     },
     "execution_count": 325,
     "metadata": {},
     "output_type": "execute_result"
    }
   ],
   "source": [
    "n_errors"
   ]
  },
  {
   "cell_type": "code",
   "execution_count": 361,
   "metadata": {},
   "outputs": [
    {
     "name": "stdout",
     "output_type": "stream",
     "text": [
      "(-1, -1)\n",
      "(-1, 0)\n",
      "(-1, 1)\n",
      "(-1, 2)\n",
      "(0, -1)\n",
      "(0, 0)\n",
      "(0, 1)\n",
      "(0, 2)\n",
      "(1, -1)\n",
      "(1, 0)\n",
      "(1, 1)\n",
      "(1, 2)\n",
      "(2, -1)\n",
      "(2, 0)\n",
      "(2, 1)\n",
      "(2, 2)\n",
      "(3, -1)\n",
      "(3, 0)\n",
      "(3, 1)\n",
      "(3, 2)\n"
     ]
    }
   ],
   "source": [
    "max_site_x, max_site_y = code.site_bounds\n",
    "for code_index in itertools.product(range(-1, max_site_x + 1), range(-1, max_site_y + 1)):\n",
    "    print(code_index)"
   ]
  },
  {
   "cell_type": "code",
   "execution_count": 378,
   "metadata": {},
   "outputs": [],
   "source": [
    "code=PlanarCode(*(5,5)) \n",
    "rng = np.random.default_rng(59)\n",
    "bias=100\n",
    "\n",
    "error_model = BiasedDepolarizingErrorModel(bias,'Z')\n",
    "chi_val=10\n",
    "decoder = PlanarMPSDecoder_def(chi=chi_val)\n",
    "error = error_model.generate(code, error_probability_max, rng)\n",
    "syndrome = pt.bsp(error, code.stabilizers.T)\n",
    "sample_pauli = decoder.sample_recovery(code, syndrome)\n",
    "hadamard_mat_sample=np.zeros((2*sample_pauli.code.size[0] - 1, 2*sample_pauli.code.size[1] - 1))\n",
    "hadamard_mat=np.zeros(hadamard_mat_sample.shape)\n",
    "\n",
    "n_qubits =code.n_k_d[0]\n",
    "\n",
    "        \n",
    "for row, col in np.ndindex(hadamard_mat.shape):\n",
    "    if row%2==0 and col%2==0:\n",
    "        hadamard_mat[row,col]=1\n",
    "# for i in range(n_qubits):\n",
    "#     if i<sizes[code_index]**2\n",
    "#         hadamard_vec[i]=1\n",
    "n_qubits = code.n_k_d[0]\n",
    "hadamard_vec=np.zeros(np.prod(hadamard_mat.shape))\n",
    "\n",
    "for i,j in np.ndindex(hadamard_mat.shape):\n",
    "    if hadamard_mat[i,j]==1:\n",
    "        hadamard_vec[j+i*hadamard_mat.shape[1]]=1\n",
    "        \n",
    "hadamard_vec2=[]        \n",
    "for row, col in np.ndindex(hadamard_mat.shape):\n",
    "    if (row%2==0 and col%2==0):\n",
    "        hadamard_mat[row,col]=1\n",
    "        hadamard_vec2.append(hadamard_mat[row,col])\n",
    "\n",
    "for row, col in np.ndindex(hadamard_mat.shape):\n",
    "    if (row%2==1 and col%2==1):\n",
    "        hadamard_vec2.append(hadamard_mat[row,col])\n",
    "        \n",
    "        \n",
    "hadamard_vec2=np.array(hadamard_vec2)        "
   ]
  },
  {
   "cell_type": "code",
   "execution_count": 379,
   "metadata": {},
   "outputs": [
    {
     "data": {
      "text/plain": [
       "array([1., 0., 1., 0., 1., 0., 1., 0., 1., 0., 0., 0., 0., 0., 0., 0., 0.,\n",
       "       0., 1., 0., 1., 0., 1., 0., 1., 0., 1., 0., 0., 0., 0., 0., 0., 0.,\n",
       "       0., 0., 1., 0., 1., 0., 1., 0., 1., 0., 1., 0., 0., 0., 0., 0., 0.,\n",
       "       0., 0., 0., 1., 0., 1., 0., 1., 0., 1., 0., 1., 0., 0., 0., 0., 0.,\n",
       "       0., 0., 0., 0., 1., 0., 1., 0., 1., 0., 1., 0., 1.])"
      ]
     },
     "execution_count": 379,
     "metadata": {},
     "output_type": "execute_result"
    }
   ],
   "source": [
    "hadamard_vec"
   ]
  },
  {
   "cell_type": "code",
   "execution_count": 380,
   "metadata": {},
   "outputs": [
    {
     "data": {
      "text/plain": [
       "array([1., 1., 1., 1., 1., 1., 1., 1., 1., 1., 1., 1., 1., 1., 1., 1., 1.,\n",
       "       1., 1., 1., 1., 1., 1., 1., 1., 0., 0., 0., 0., 0., 0., 0., 0., 0.,\n",
       "       0., 0., 0., 0., 0., 0., 0.])"
      ]
     },
     "execution_count": 380,
     "metadata": {},
     "output_type": "execute_result"
    }
   ],
   "source": [
    "hadamard_vec2"
   ]
  },
  {
   "cell_type": "code",
   "execution_count": 512,
   "metadata": {},
   "outputs": [],
   "source": [
    "code=RotatedPlanarCode(*(5,5)) \n",
    "rng = np.random.default_rng(59)\n",
    "bias=100\n",
    "sizes=[5]\n",
    "error_model = BiasedDepolarizingErrorModel(bias,'Z')\n",
    "chi_val=10\n",
    "hadamard_mat=np.zeros((sizes[0],sizes[0]))\n",
    "\n",
    "n_qubits =code.n_k_d[0]\n",
    "       \n",
    "for row, col in np.ndindex(hadamard_mat.shape):\n",
    "    if (row+col)%2==0:\n",
    "        hadamard_mat[row,col]=1\n",
    "        \n",
    "# for i in range(n_qubits):\n",
    "#     if i<sizes[code_index]**2\n",
    "#         hadamard_vec[i]=1\n",
    "n_qubits = code.n_k_d[0]\n",
    "hadamard_vec=np.zeros(np.prod(hadamard_mat.shape))\n",
    "\n",
    "for i,j in np.ndindex(hadamard_mat.shape):\n",
    "    if hadamard_mat[i,j]==1:\n",
    "        hadamard_vec[j+i*hadamard_mat.shape[1]]=1"
   ]
  },
  {
   "cell_type": "code",
   "execution_count": 394,
   "metadata": {},
   "outputs": [],
   "source": [
    "hadamard_vec[[1,2,6]]=0"
   ]
  },
  {
   "cell_type": "code",
   "execution_count": 513,
   "metadata": {},
   "outputs": [
    {
     "data": {
      "text/plain": [
       "array([1., 0., 1., 0., 1., 0., 1., 0., 1., 0., 1., 0., 1., 0., 1., 0., 1.,\n",
       "       0., 1., 0., 1., 0., 1., 0., 1.])"
      ]
     },
     "execution_count": 513,
     "metadata": {},
     "output_type": "execute_result"
    }
   ],
   "source": [
    "hadamard_vec"
   ]
  },
  {
   "cell_type": "code",
   "execution_count": 398,
   "metadata": {},
   "outputs": [
    {
     "data": {
      "text/plain": [
       "array([1.    , 0.3423, 0.3423, 0.3423, 0.3423, 0.3423, 0.3423, 0.3423,\n",
       "       0.3423, 0.3423, 1.    , 0.    , 1.    , 0.    , 1.    , 0.    ,\n",
       "       1.    , 0.    , 1.    , 0.    , 1.    , 0.    , 1.    , 0.    ,\n",
       "       1.    ])"
      ]
     },
     "execution_count": 398,
     "metadata": {},
     "output_type": "execute_result"
    }
   ],
   "source": [
    "hadamard_vec[[1,2,3,4,5,6,8]]=0.3423\n",
    "hadamard_vec\n"
   ]
  },
  {
   "cell_type": "code",
   "execution_count": 401,
   "metadata": {},
   "outputs": [
    {
     "data": {
      "text/plain": [
       "array([[0.   , 0.   , 0.   , 0.   , 0.   ],\n",
       "       [0.342, 0.342, 0.342, 0.   , 0.   ],\n",
       "       [0.   , 0.   , 0.   , 0.   , 0.   ],\n",
       "       [0.   , 0.   , 0.   , 0.   , 0.   ],\n",
       "       [0.   , 0.   , 0.   , 0.   , 0.   ]])"
      ]
     },
     "execution_count": 401,
     "metadata": {},
     "output_type": "execute_result"
    }
   ],
   "source": [
    "hadamard_vec[range(1,5)]=0.3423\n",
    "hadamard_mat= np.zeros((5,5))\n",
    "hadamard_mat[1,range(0,3)]=0.342\n",
    "hadamard_mat"
   ]
  },
  {
   "cell_type": "code",
   "execution_count": 414,
   "metadata": {},
   "outputs": [],
   "source": [
    "hadamard_mat= np.zeros((7,7))\n",
    "\n",
    "dy=hadamard_mat.shape[0]\n",
    "dx=hadamard_mat.shape[1]\n",
    "for row, col in np.ndindex(hadamard_mat.shape):\n",
    "    if row%2==0:\n",
    "        if row%4==0:\n",
    "            hadamard_mat[row,range(0,dx-1)]=1\n",
    "        else:\n",
    "            hadamard_mat[row,range(1,dx)]=1\n",
    "    else:\n",
    "        if row%4==1:\n",
    "            hadamard_mat[row,dx-1]=1\n",
    "        elif row%4==3:\n",
    "            hadamard_mat[row,0]=1\n"
   ]
  },
  {
   "cell_type": "code",
   "execution_count": 415,
   "metadata": {},
   "outputs": [
    {
     "data": {
      "text/plain": [
       "array([[1., 1., 1., 1., 1., 1., 0.],\n",
       "       [0., 0., 0., 0., 0., 0., 1.],\n",
       "       [0., 1., 1., 1., 1., 1., 1.],\n",
       "       [1., 0., 0., 0., 0., 0., 0.],\n",
       "       [1., 1., 1., 1., 1., 1., 0.],\n",
       "       [0., 0., 0., 0., 0., 0., 1.],\n",
       "       [0., 1., 1., 1., 1., 1., 1.]])"
      ]
     },
     "execution_count": 415,
     "metadata": {},
     "output_type": "execute_result"
    }
   ],
   "source": [
    "hadamard_mat"
   ]
  },
  {
   "cell_type": "code",
   "execution_count": 423,
   "metadata": {},
   "outputs": [
    {
     "data": {
      "text/plain": [
       "array([1, 4, 9])"
      ]
     },
     "execution_count": 423,
     "metadata": {},
     "output_type": "execute_result"
    }
   ],
   "source": [
    "res=[1,2,3]\n",
    "def f(a):\n",
    "    return a**2\n",
    "\n",
    "fv=np.vectorize(f)\n",
    "\n",
    "fv(res)"
   ]
  },
  {
   "cell_type": "code",
   "execution_count": 432,
   "metadata": {},
   "outputs": [],
   "source": [
    "x=1\n",
    "x+=2%3"
   ]
  },
  {
   "cell_type": "code",
   "execution_count": 433,
   "metadata": {},
   "outputs": [
    {
     "data": {
      "text/plain": [
       "3"
      ]
     },
     "execution_count": 433,
     "metadata": {},
     "output_type": "execute_result"
    }
   ],
   "source": [
    "x"
   ]
  },
  {
   "cell_type": "code",
   "execution_count": 434,
   "metadata": {},
   "outputs": [
    {
     "data": {
      "text/plain": [
       "array([1, 0])"
      ]
     },
     "execution_count": 434,
     "metadata": {},
     "output_type": "execute_result"
    }
   ],
   "source": [
    "pt.pauli_to_bsf('X')"
   ]
  },
  {
   "cell_type": "code",
   "execution_count": 435,
   "metadata": {},
   "outputs": [
    {
     "ename": "TypeError",
     "evalue": "cannot unpack non-iterable int object",
     "output_type": "error",
     "traceback": [
      "\u001b[0;31m---------------------------------------------------------------------------\u001b[0m",
      "\u001b[0;31mTypeError\u001b[0m                                 Traceback (most recent call last)",
      "\u001b[0;32m<ipython-input-435-4bf59127eda8>\u001b[0m in \u001b[0;36m<module>\u001b[0;34m\u001b[0m\n\u001b[0;32m----> 1\u001b[0;31m \u001b[0my\u001b[0m\u001b[0;34m,\u001b[0m\u001b[0mz\u001b[0m\u001b[0;34m=\u001b[0m\u001b[0mx\u001b[0m\u001b[0;34m\u001b[0m\u001b[0;34m\u001b[0m\u001b[0m\n\u001b[0m",
      "\u001b[0;31mTypeError\u001b[0m: cannot unpack non-iterable int object"
     ]
    }
   ],
   "source": [
    "y,z=x"
   ]
  },
  {
   "cell_type": "code",
   "execution_count": 518,
   "metadata": {},
   "outputs": [
    {
     "name": "stdout",
     "output_type": "stream",
     "text": [
      "[0 0 0 0 0 0 0 0 0 0 0 0 0 0 0 0 0 0 0 0 0 0 0 0 0 0 0 1 0 1 0 0 1 0 1 1 0\n",
      " 0 0 0 0 0 0 0 1 0 0 0 1 0]\n",
      "[1 0 1 0 1 0 1 0 1 0 1 0 1 0 1 0 1 0 1 0 1 0 1 0 1]\n",
      "[0 0 1 0 1 0 0 0 0 0 1 0 0 0 0 0 0 0 0 0 0 0 0 0 0 0 0 0 0 0 0 0 1 0 1 0 0\n",
      " 0 0 0 0 0 0 0 1 0 0 0 1 0]\n"
     ]
    }
   ],
   "source": [
    "error_probability=0.2\n",
    "step_error = error_model.generate(code, error_probability, rng)\n",
    "print(step_error)\n",
    "print(np.vectorize(round)(hadamard_vec))\n",
    "for i in range(n_qubits):\n",
    "    if hadamard_vec[i]==1:\n",
    "        step_error_temp=step_error[i]\n",
    "        step_error[i]=step_error[n_qubits+i]\n",
    "        step_error[n_qubits+i]=step_error_temp\n",
    "        \n",
    "print(step_error)\n"
   ]
  },
  {
   "cell_type": "code",
   "execution_count": 508,
   "metadata": {},
   "outputs": [
    {
     "data": {
      "text/plain": [
       "array([1.    , 0.3423, 0.3423, 0.3423, 0.3423, 0.3423, 0.3423, 0.3423,\n",
       "       0.3423, 0.3423, 1.    , 0.    , 1.    , 0.    , 1.    , 0.    ,\n",
       "       1.    , 0.    , 1.    , 0.    , 1.    , 0.    , 1.    , 0.    ,\n",
       "       1.    ])"
      ]
     },
     "execution_count": 508,
     "metadata": {},
     "output_type": "execute_result"
    }
   ],
   "source": [
    "hadamard_vec"
   ]
  },
  {
   "cell_type": "code",
   "execution_count": 510,
   "metadata": {},
   "outputs": [
    {
     "name": "stdout",
     "output_type": "stream",
     "text": [
      "[0 0 0 0 0 0 0 0 0 0 0 1 0 1 0 0 1 0]\n"
     ]
    }
   ],
   "source": [
    "print(step_error)"
   ]
  },
  {
   "cell_type": "code",
   "execution_count": 526,
   "metadata": {},
   "outputs": [
    {
     "data": {
      "text/plain": [
       "(5, 5)"
      ]
     },
     "execution_count": 526,
     "metadata": {},
     "output_type": "execute_result"
    }
   ],
   "source": [
    "hadamard_mat.shape"
   ]
  },
  {
   "cell_type": "code",
   "execution_count": 523,
   "metadata": {},
   "outputs": [],
   "source": [
    "hadamard_mat[0,1]=1"
   ]
  },
  {
   "cell_type": "code",
   "execution_count": 524,
   "metadata": {},
   "outputs": [],
   "source": [
    "hadamard_vec=np.zeros(np.prod(hadamard_mat.shape))\n",
    "for i,j in np.ndindex(hadamard_mat.shape):\n",
    "    hadamard_vec[(i+j*hadamard_mat.shape[1])]=hadamard_mat[i,j]"
   ]
  },
  {
   "cell_type": "code",
   "execution_count": 525,
   "metadata": {},
   "outputs": [
    {
     "data": {
      "text/plain": [
       "array([1., 0., 1., 0., 1., 1., 1., 0., 1., 0., 1., 0., 1., 0., 1., 0., 1.,\n",
       "       0., 1., 0., 1., 0., 1., 0., 1.])"
      ]
     },
     "execution_count": 525,
     "metadata": {},
     "output_type": "execute_result"
    }
   ],
   "source": [
    "hadamard_vec"
   ]
  },
  {
   "cell_type": "code",
   "execution_count": 521,
   "metadata": {},
   "outputs": [
    {
     "data": {
      "text/plain": [
       "array([1., 0., 1., 0., 1., 0., 1., 0., 1., 0., 1., 0., 1., 0., 1., 0., 1.,\n",
       "       0., 1., 0., 1., 0., 1., 0., 1.])"
      ]
     },
     "execution_count": 521,
     "metadata": {},
     "output_type": "execute_result"
    }
   ],
   "source": [
    "hadamard_vec2=np.zeros(np.prod(hadamard_mat.shape))\n",
    "for i in range(np.prod(hadamard_mat.shape)):\n",
    "    if i%2==0:\n",
    "        hadamard_vec2[i]=1\n",
    "hadamard_vec2"
   ]
  },
  {
   "cell_type": "code",
   "execution_count": 522,
   "metadata": {},
   "outputs": [
    {
     "data": {
      "text/plain": [
       "array([ True,  True,  True,  True,  True,  True,  True,  True,  True,\n",
       "        True,  True,  True,  True,  True,  True,  True,  True,  True,\n",
       "        True,  True,  True,  True,  True,  True,  True])"
      ]
     },
     "execution_count": 522,
     "metadata": {},
     "output_type": "execute_result"
    }
   ],
   "source": [
    "hadamard_vec2==hadamard_vec"
   ]
  },
  {
   "cell_type": "code",
   "execution_count": 534,
   "metadata": {},
   "outputs": [],
   "source": [
    "x=np.ndindex(hadamard_mat.shape)"
   ]
  },
  {
   "cell_type": "code",
   "execution_count": 535,
   "metadata": {},
   "outputs": [
    {
     "name": "stdout",
     "output_type": "stream",
     "text": [
      "0 0\n",
      "1 0\n",
      "2 0\n",
      "3 0\n",
      "4 0\n",
      "0 1\n",
      "1 1\n",
      "2 1\n",
      "3 1\n",
      "4 1\n",
      "0 2\n",
      "1 2\n",
      "2 2\n",
      "3 2\n",
      "4 2\n",
      "0 3\n",
      "1 3\n",
      "2 3\n",
      "3 3\n",
      "4 3\n",
      "0 4\n",
      "1 4\n",
      "2 4\n",
      "3 4\n",
      "4 4\n"
     ]
    }
   ],
   "source": [
    "for i,j in x:\n",
    "    print(j,i)"
   ]
  },
  {
   "cell_type": "code",
   "execution_count": 537,
   "metadata": {},
   "outputs": [],
   "source": [
    "nrows, ncols=hadamard_mat.shape"
   ]
  },
  {
   "cell_type": "code",
   "execution_count": 538,
   "metadata": {},
   "outputs": [
    {
     "data": {
      "text/plain": [
       "(5, 5)"
      ]
     },
     "execution_count": 538,
     "metadata": {},
     "output_type": "execute_result"
    }
   ],
   "source": [
    "nrows,ncols"
   ]
  },
  {
   "cell_type": "code",
   "execution_count": 539,
   "metadata": {},
   "outputs": [
    {
     "data": {
      "text/plain": [
       "<numpy.ndindex at 0x7f43ffd925e0>"
      ]
     },
     "execution_count": 539,
     "metadata": {},
     "output_type": "execute_result"
    }
   ],
   "source": [
    "np.ndindex(5,5)"
   ]
  },
  {
   "cell_type": "code",
   "execution_count": 541,
   "metadata": {},
   "outputs": [
    {
     "data": {
      "text/plain": [
       "25"
      ]
     },
     "execution_count": 541,
     "metadata": {},
     "output_type": "execute_result"
    }
   ],
   "source": [
    "np.prod((nrows,ncols))"
   ]
  },
  {
   "cell_type": "code",
   "execution_count": 542,
   "metadata": {},
   "outputs": [
    {
     "ename": "ValueError",
     "evalue": "not enough values to unpack (expected 3, got 2)",
     "output_type": "error",
     "traceback": [
      "\u001b[0;31m---------------------------------------------------------------------------\u001b[0m",
      "\u001b[0;31mValueError\u001b[0m                                Traceback (most recent call last)",
      "\u001b[0;32m<ipython-input-542-da53b9140a16>\u001b[0m in \u001b[0;36m<module>\u001b[0;34m\u001b[0m\n\u001b[0;32m----> 1\u001b[0;31m \u001b[0;32mfor\u001b[0m \u001b[0mi\u001b[0m\u001b[0;34m,\u001b[0m\u001b[0mj\u001b[0m\u001b[0;34m,\u001b[0m\u001b[0mk\u001b[0m \u001b[0;32min\u001b[0m \u001b[0mnp\u001b[0m\u001b[0;34m.\u001b[0m\u001b[0mndindex\u001b[0m\u001b[0;34m(\u001b[0m\u001b[0mhadamard_mat\u001b[0m\u001b[0;34m.\u001b[0m\u001b[0mshape\u001b[0m\u001b[0;34m)\u001b[0m\u001b[0;34m:\u001b[0m\u001b[0;34m\u001b[0m\u001b[0;34m\u001b[0m\u001b[0m\n\u001b[0m\u001b[1;32m      2\u001b[0m     \u001b[0mhadamard_mat\u001b[0m\u001b[0;34m[\u001b[0m\u001b[0;36m0\u001b[0m\u001b[0;34m,\u001b[0m\u001b[0mj\u001b[0m\u001b[0;34m,\u001b[0m\u001b[0mk\u001b[0m\u001b[0;34m]\u001b[0m\u001b[0;34m=\u001b[0m\u001b[0;36m1\u001b[0m\u001b[0;34m\u001b[0m\u001b[0;34m\u001b[0m\u001b[0m\n\u001b[1;32m      3\u001b[0m \u001b[0;34m\u001b[0m\u001b[0m\n\u001b[1;32m      4\u001b[0m \u001b[0;32mfor\u001b[0m \u001b[0mi\u001b[0m\u001b[0;34m,\u001b[0m\u001b[0mj\u001b[0m\u001b[0;34m,\u001b[0m\u001b[0mk\u001b[0m \u001b[0;32min\u001b[0m \u001b[0mnp\u001b[0m\u001b[0;34m.\u001b[0m\u001b[0mndindex\u001b[0m\u001b[0;34m(\u001b[0m\u001b[0mhadamard_mat\u001b[0m\u001b[0;34m.\u001b[0m\u001b[0mshape\u001b[0m\u001b[0;34m)\u001b[0m\u001b[0;34m:\u001b[0m\u001b[0;34m\u001b[0m\u001b[0;34m\u001b[0m\u001b[0m\n\u001b[1;32m      5\u001b[0m     \u001b[0mhadamard_vec\u001b[0m\u001b[0;34m[\u001b[0m\u001b[0mi\u001b[0m\u001b[0;34m*\u001b[0m\u001b[0mn_h_qubits\u001b[0m\u001b[0;34m+\u001b[0m\u001b[0mj\u001b[0m\u001b[0;34m*\u001b[0m\u001b[0mncols\u001b[0m\u001b[0;34m+\u001b[0m\u001b[0mk\u001b[0m\u001b[0;34m]\u001b[0m\u001b[0;34m=\u001b[0m\u001b[0mhadamard_mat\u001b[0m\u001b[0;34m[\u001b[0m\u001b[0mi\u001b[0m\u001b[0;34m,\u001b[0m\u001b[0mj\u001b[0m\u001b[0;34m,\u001b[0m\u001b[0mk\u001b[0m\u001b[0;34m]\u001b[0m\u001b[0;34m\u001b[0m\u001b[0;34m\u001b[0m\u001b[0m\n",
      "\u001b[0;31mValueError\u001b[0m: not enough values to unpack (expected 3, got 2)"
     ]
    }
   ],
   "source": []
  },
  {
   "cell_type": "code",
   "execution_count": 566,
   "metadata": {},
   "outputs": [],
   "source": [
    "import numpy as np\n",
    "import random\n",
    "import scipy\n",
    "import networkx as nx\n",
    "import pymatching\n",
    "from pymatching import Matching\n",
    "from pymatching import set_seed\n",
    "from scipy.sparse import coo_matrix\n",
    "import matplotlib.pyplot as plt\n",
    "import time\n",
    "from itertools import cycle\n",
    "import pickle\n",
    "import multiprocessing as mp\n",
    "np.seterr(divide='ignore')\n",
    "from functools import partial\n",
    "import qecsim\n",
    "from qecsim import app\n",
    "from qecsim.models.generic import PhaseFlipErrorModel,DepolarizingErrorModel,BiasedDepolarizingErrorModel\n",
    "\n",
    "def dic_pbc(Nx,Ny):\n",
    "\n",
    "    vX=np.zeros((Nx,Ny))\n",
    "    for i in range(0,Nx):\n",
    "        for j in range(0,Ny):\n",
    "            vX[i,j]=i+j*Nx\n",
    "    vZ=vX \n",
    "    return [vX,vZ]\n",
    "\n",
    "def dic_obc(Nx,Ny):\n",
    "\n",
    "    vX=np.zeros((Nx+2,Ny+2),dtype=int)\n",
    "    virX1,virX2=(Nx+1)*(Ny-1),(Nx+1)*(Ny-1)+1\n",
    "\n",
    "    for i in range(0,Nx+2):\n",
    "        for j in range(0,Ny+2):\n",
    "            if j==0:\n",
    "                vX[i,j]=virX1\n",
    "            elif j==Ny:\n",
    "                vX[i,j]=virX2\n",
    "            else:\n",
    "                vX[i,j]=round(i-1+(j-1)*(Nx+1))\n",
    "\n",
    "    vZ=np.zeros((Nx+2,Ny+2),dtype=int)\n",
    "    virZ1,virZ2=Nx*Ny,Nx*Ny+1\n",
    "\n",
    "    for i in range(0,Nx+2):\n",
    "        for j in range(1,Ny+1):\n",
    "            if i==0:\n",
    "                vZ[i,j]=virZ1\n",
    "            elif i==Nx+1:\n",
    "                vZ[i,j]=virZ2\n",
    "            else:\n",
    "                vZ[i,j]=round(i-1+(j-1)*Nx)\n",
    "    return [vX,vZ]\n",
    "\n",
    "def graph_temp(Nx,Ny,prob_dist,periodic):\n",
    "  \n",
    "    pI,pX,pY,pZ=prob_dist\n",
    "    #weights\n",
    "    wZ=abs(np.log(pZ/pI))\n",
    "    wX=abs(np.log(pX/pI))\n",
    "\n",
    "    Graph_Zerr=nx.Graph()\n",
    "\n",
    "    id=0\n",
    "    if(periodic==1):\n",
    "        [vX,vZ]=dic_pbc(Nx,Ny)\n",
    "        for i in range(0,Nx):\n",
    "            for j in range(0,Ny):\n",
    "                Graph_Zerr.add_edge(vZ[i][j],vZ[(i + 1)%Nx][j],qubit_id=id,weight=wZ,error_probability=pZ)\n",
    "                id+=1\n",
    "\n",
    "                Graph_Zerr.add_edge(vZ[i][j],vZ[i][(j + 1)%Ny],qubit_id=id,weight=wZ,error_probability=pZ)\n",
    "                id+=1\n",
    "    else:\n",
    "        virZ1,virZ2=Nx*Ny,Nx*Ny+1\n",
    "        [vX,vZ]=dic_obc(Nx,Ny)\n",
    "        for i in range(1,Nx+1):\n",
    "            for j in range(1,Ny+1):\n",
    "                if j==Ny:\n",
    "                    Graph_Zerr.add_edge(vZ[i,j],vZ[i+1,j],qubit_id=id,weight=wZ,error_probability=pZ)  \n",
    "                    id+=1\n",
    "                else:\n",
    "                    Graph_Zerr.add_edge(vZ[i,j],vZ[i+1,j],qubit_id=id,weight=wZ,error_probability=pZ)  \n",
    "                    id+=1\n",
    "                    Graph_Zerr.add_edge(vZ[i,j],vZ[i,j+1],qubit_id=id,weight=wZ,error_probability=pZ) \n",
    "                    id+=1\n",
    "                if i==1:\n",
    "                    Graph_Zerr.add_edge(vZ[i-1,j],vZ[i,j],qubit_id=id,weight=wZ,error_probability=pZ)  \n",
    "                    id+=1\n",
    "\n",
    "        Graph_Zerr.add_edge(virZ1,virZ2,qubit_id=-1,weight=0,error_probability=0)    \n",
    "\n",
    "    return Graph_Zerr\n",
    "\n",
    "\n",
    "def construct_lattice(Nx,Ny,prob_dist,periodic):\n",
    "\n",
    "    pI,pX,pY,pZ=prob_dist\n",
    "    #weights\n",
    "    wZ=abs(np.log(pZ/pI))\n",
    "    wX=abs(np.log(pX/pI))\n",
    "\n",
    "    if periodic==0:\n",
    "        virZ1,virZ2=Nx*Ny,Nx*Ny+1\n",
    "        virX1,virX2=(Nx+1)*(Ny-1),(Nx+1)*(Ny-1)+1\n",
    "        [vX,vZ]=dic_obc(Nx,Ny)\n",
    "\n",
    "        Graph_Zerr=nx.Graph()\n",
    "        Graph_Xerr=nx.Graph()\n",
    "\n",
    "        X_logical1_Graph_Zerr=np.array([],dtype=int)\n",
    "        Z_logical1_Graph_Xerr=np.array([],dtype=int)\n",
    "\n",
    "        X_syndrome_num=Nx*Ny+2  #total number of X syndromes including the virtual ones \n",
    "        Z_syndrome_num=(Nx+1)*(Ny-1)+2  #total number of Z syndromes including the virtual ones \n",
    "        total_syndrome_num=X_syndrome_num+Z_syndrome_num\n",
    "\n",
    "        #construct the Z lattice\n",
    "        id=0\n",
    "        for i in range(1,Nx+1):\n",
    "            for j in range(1,Ny+1):\n",
    "                if j==Ny:\n",
    "                    Graph_Zerr.add_edge(vZ[i,j],vZ[i+1,j],qubit_id=id,weight=wZ,error_probability=pZ)  \n",
    "                    Graph_Xerr.add_edge(vX[i+1,j-1],vX[i+1,j],qubit_id=id,weight=wX,error_probability=pX) \n",
    "                    id+=1\n",
    "                else:\n",
    "                    Graph_Zerr.add_edge(vZ[i,j],vZ[i+1,j],qubit_id=id,weight=wZ,error_probability=pZ)  \n",
    "                    Graph_Xerr.add_edge(vX[i+1,j-1],vX[i+1,j],qubit_id=id,weight=wX,error_probability=pX) \n",
    "                    id+=1\n",
    "                    Graph_Zerr.add_edge(vZ[i,j],vZ[i,j+1],qubit_id=id,weight=wZ,error_probability=pZ) \n",
    "                    Graph_Xerr.add_edge(vX[i,j],vX[i+1,j],qubit_id=id,weight=wX,error_probability=pX)\n",
    "                    id+=1\n",
    "                if i==1:\n",
    "                    Graph_Zerr.add_edge(vZ[i-1,j],vZ[i,j],qubit_id=id,weight=wZ,error_probability=pZ)  \n",
    "                    Graph_Xerr.add_edge(vX[i,j-1],vX[i,j],qubit_id=id,weight=wX,error_probability=pX) \n",
    "                    id+=1\n",
    "\n",
    "        Graph_Zerr.add_edge(virZ1,virZ2,qubit_id=-1,weight=0,error_probability=0)  \n",
    "        Graph_Xerr.add_edge(virX1,virX2,qubit_id=-1,weight=0,error_probability=0) \n",
    "\n",
    "        Z_logical_qubit_num=Nx+1  \n",
    "        X_logical_qubit_num=Ny    \n",
    "\n",
    "        for i in range(1,Nx+1):\n",
    "            for j in range(1,Ny+1):\n",
    "                if vZ[i,j]in range(0,Nx*Ny,Nx):\n",
    "                    X_logical1_Graph_Zerr=np.append(X_logical1_Graph_Zerr,Graph_Zerr[vZ[i,j]][virZ1]['qubit_id'])\n",
    "\n",
    "        for i in range(1,Nx+2):\n",
    "            for j in range(1,Ny):\n",
    "                if vX[i,j]in range(0,Nx+1):\n",
    "                    Z_logical1_Graph_Xerr=np.append(Z_logical1_Graph_Xerr,Graph_Xerr[vX[i,j]][virX1]['qubit_id'])\n",
    "\n",
    "        Graph_Zerr.nodes[virZ1]['is_boundary']=True\n",
    "        Graph_Zerr.nodes[virZ2]['is_boundary']=True\n",
    "        Graph_Xerr.nodes[virX1]['is_boundary']=True   \n",
    "        Graph_Xerr.nodes[virX2]['is_boundary']=True   \n",
    "\n",
    "        return [Graph_Xerr,Graph_Zerr,X_logical1_Graph_Zerr,Z_logical1_Graph_Xerr]\n",
    "\n",
    "    else: \n",
    "        [vX,vZ]=dic_pbc(Nx,Ny)\n",
    "\n",
    "        Graph_Zerr=nx.Graph()\n",
    "        Graph_Xerr=nx.Graph()\n",
    "\n",
    "        X_logical1_Graph_Zerr=np.array([],dtype=int)\n",
    "        X_logical2_Graph_Zerr=np.array([],dtype=int)\n",
    "        Z_logical1_Graph_Xerr=np.array([],dtype=int)\n",
    "        Z_logical2_Graph_Xerr=np.array([],dtype=int)\n",
    "\n",
    "        id=0\n",
    "        for i in range(0,Nx):\n",
    "            for j in range(0,Ny):\n",
    "                Graph_Zerr.add_edge(vZ[i][j],vZ[(i + 1)% Nx][j],qubit_id=id,weight=wZ,error_probability=pZ)\n",
    "                Graph_Xerr.add_edge(vX[(i+1)%Nx][(j-1)%Ny],vX[(i+1)%Nx][j],qubit_id=id,weight=wX,error_probability=pX)\n",
    "                id+=1\n",
    "                Graph_Zerr.add_edge(vZ[i][j],vZ[i][(j + 1)%Ny],qubit_id=id,weight=wZ,error_probability=pZ)\n",
    "                Graph_Xerr.add_edge(vX[i][j],vX[(i + 1)% Nx][j],qubit_id=id,weight=wX,error_probability=pX)\n",
    "                id+=1\n",
    "\n",
    "        for i in range(0,Nx):\n",
    "            for j in range(0,Ny):\n",
    "                if vZ[i][j] in range(0,Nx*Ny,Nx):\n",
    "                    X_logical1_Graph_Zerr=np.append(X_logical1_Graph_Zerr,Graph_Zerr[vZ[i][j]][vZ[(i + 1)% Nx][j]]['qubit_id'])\n",
    "                if vX[i][j] in range(0,Nx):\n",
    "                    Z_logical1_Graph_Xerr=np.append(Z_logical1_Graph_Xerr,Graph_Xerr[vX[i][j]][vX[i][(j+1)%Ny]]['qubit_id'])\n",
    "                if vZ[i][j] in range(0,Nx):\n",
    "                    X_logical2_Graph_Zerr=np.append(X_logical2_Graph_Zerr,Graph_Zerr[vZ[i][j]][vZ[i][(j+1)%Ny]]['qubit_id'])\n",
    "                if vX[i][j] in range(0,Nx*Ny,Nx):\n",
    "                    Z_logical2_Graph_Xerr=np.append(Z_logical2_Graph_Xerr,Graph_Xerr[vX[i][j]][vX[(i + 1)% Nx][j]]['qubit_id'])\n",
    "\n",
    "        return [Graph_Xerr,Graph_Zerr,X_logical1_Graph_Zerr,X_logical2_Graph_Zerr,Z_logical1_Graph_Xerr,Z_logical2_Graph_Xerr]\n",
    "\n",
    "\n",
    "def weight_error_changes(prob_dist,Graph_Xerr,Graph_Zerr,periodic,hadamard_vec):\n",
    "  \n",
    "    pI,pX,pY,pZ=prob_dist\n",
    "    #weights\n",
    "    wZ=abs(np.log(pZ/pI))\n",
    "    wX=abs(np.log(pX/pI))\n",
    "    \n",
    "    if periodic==1:\n",
    "        nqubits=len(Graph_Zerr.edges)\n",
    "    else:\n",
    "        nqubits=len(Graph_Zerr.edges)-1\n",
    "\n",
    "    for ind in range(nqubits):\n",
    "        if (hadamard_vec[ind]==1):\n",
    "            for (u,v) in list(Graph_Zerr.edges):\n",
    "                if Graph_Zerr[u][v]['qubit_id']==ind:\n",
    "                    Graph_Zerr[u][v]['weight']=wX\n",
    "                    Graph_Zerr[u][v]['error_probability']=pX\n",
    "            for (u,v) in list(Graph_Xerr.edges):\n",
    "                if Graph_Xerr[u][v]['qubit_id']==ind:\n",
    "                    Graph_Xerr[u][v]['weight']=wZ\n",
    "                    Graph_Xerr[u][v]['error_probability']=pZ\n",
    "\n",
    "    return [Graph_Xerr,Graph_Zerr]\n",
    "\n",
    "\n",
    "def spiral_torus(Nx,pitch):    \n",
    "    Ny=Nx\n",
    "    [vX,vZ]=dic_pbc(Nx,Ny)\n",
    "\n",
    "    L_left=int_([Nx-1])\n",
    "    pitch_left=int_([pitch])\n",
    "    xcoord_pitch=int_([np.floor(L_left[-1]/pitch_left[-1])])\n",
    "\n",
    "    while (pitch_left[-1]>1):\n",
    "        L_left=np.append(L_left,L_left[-1]-int(np.floor(L_left[-1]/pitch_left[-1]))-1)\n",
    "        pitch_left=np.append(pitch_left,pitch_left[-1]-1)\n",
    "        xcoord_pitch=np.append(xcoord_pitch,xcoord_pitch[-1]+int(np.floor(L_left[-1]/pitch_left[-1]))+1)\n",
    "    spiral=np.zeros((2*pitch*Nx,2))\n",
    "    pitch_count=0\n",
    "    \n",
    "    for ist_temp in xcoord_pitch:\n",
    "        ist=ist_temp\n",
    "        jst=0\n",
    "        for ind in range(2*Ny):\n",
    "            if ind%2==0:\n",
    "                spiral[ind+pitch_count*2*Ny]=[vZ[ist][jst],vZ[(ist+1)%Nx][jst]]\n",
    "                ist=(ist+1)%Nx\n",
    "            else:\n",
    "                spiral[ind+pitch_count*2*Ny]=[vZ[ist][jst],vZ[ist][(jst+1)%Ny]]\n",
    "                jst=(jst+1)%Ny\n",
    "        pitch_count=pitch_count+1\n",
    "\n",
    "    return spiral \n",
    "\n",
    "def func_hadamard_vec(Nx,Ny,pH,prob_dist,periodic):\n",
    "\n",
    "    Graph_Zerr=graph_temp(Nx,Ny,prob_dist,periodic)\n",
    "    if periodic==1:\n",
    "        hadamard_vec=np.zeros((len(Graph_Zerr.edges)))\n",
    "    else:\n",
    "        hadamard_vec=np.zeros((len(Graph_Zerr.edges)-1))\n",
    "\n",
    "    if pH==1.5:\n",
    "        if periodic==1:\n",
    "            for (u,v) in list(Graph_Zerr.edges):\n",
    "                if abs(u-v)==1 or abs(u-v)==Nx-1: # horizontal edges\n",
    "                    hadamard_vec[Graph_Zerr[u][v]['qubit_id']]=1\n",
    "        else:\n",
    "            for (u,v) in list(Graph_Zerr.edges):\n",
    "                if abs(u-v)==Nx: #vertical edges: easier condition in case of surface code\n",
    "                    if Graph_Zerr[u][v]['qubit_id']>-1:\n",
    "                        hadamard_vec[Graph_Zerr[u][v]['qubit_id']]=1\n",
    "\n",
    "    elif pH==2.5:        \n",
    "        for (u,v) in list(Graph_Zerr.edges):\n",
    "            if abs(u-v)==1 or abs(u-v)==Nx-1:\n",
    "                if Graph_Zerr[u][v]['qubit_id']>-1:\n",
    "                    hadamard_vec[Graph_Zerr[u][v]['qubit_id']]=1\n",
    "        \n",
    "        spacefillcurve_extra_hadamard=spiral_torus(Nx,pitch)\n",
    "\n",
    "        for (u,v) in spacefillcurve_extra_hadamard:\n",
    "            if Graph_Zerr[u][v]['qubit_id']>-1:\n",
    "                hadamard_vec[Graph_Zerr[u][v]['qubit_id']]=(hadamard_vec[Graph_Zerr[u][v]['qubit_id']]+1)%2 \n",
    "\n",
    "    elif (pH!=0 and pH!=1.5 and pH!=2.5):\n",
    "        for i in range(0,len(hadamard_vec)):\n",
    "            if(np.random.rand(1,1))<pH:\n",
    "                hadamard_vec[i]=1\n",
    "\n",
    "    return hadamard_vec\n",
    "\n",
    "def parallel_step_p(bias,bias_str,error_model,Nx,Ny,num_mc,pH,hadamard_vec,num_realiz,periodic,error_probability): \n",
    "    def square(a):\n",
    "        return a**2\n",
    "\n",
    "    vsquare=np.vectorize(square)\n",
    "\n",
    "    prob_dist= error_model.probability_distribution(error_probability)\n",
    " \n",
    "    failure_list=np.zeros(num_mc) \n",
    "\n",
    "    result=construct_lattice(Nx,Ny,prob_dist,periodic)\n",
    "\n",
    "    if periodic==0:\n",
    "        [Graph_Xerr,Graph_Zerr,X_logical1_Graph_Zerr,Z_logical1_Graph_Xerr]=result\n",
    "    else:\n",
    "        [Graph_Xerr,Graph_Zerr,X_logical1_Graph_Zerr,X_logical2_Graph_Zerr,Z_logical1_Graph_Xerr,Z_logical2_Graph_Xerr]=result\n",
    "\n",
    "    pL_rand=np.zeros(num_realiz)\n",
    "    std_rand=np.zeros(num_realiz)    \n",
    "\n",
    "    for realization_index in range(num_realiz):\n",
    "        if num_realiz>1:\n",
    "            hadamard_vec=func_hadamard_vec(Nx,Ny,pH,prob_dist,periodic)\n",
    "        hadamard_vec=func_hadamard_vec(Nx,Ny,pH,prob_dist,periodic)\n",
    "        print(hadamard_vec)\n",
    "        if pH!=0:            \n",
    "            [Graph_Xerr,Graph_Zerr]=weight_error_changes(prob_dist,Graph_Xerr,Graph_Zerr,periodic,hadamard_vec)\n",
    "\n",
    "        # for i,j in Graph_Zerr.edges:\n",
    "        #     print(i,j,Graph_Zerr[i][j]['weight'])\n",
    "    \n",
    "        mXerr=Matching(Graph_Xerr)\n",
    "        mZerr=Matching(Graph_Zerr)\n",
    "\n",
    "        for i in range(num_mc):\n",
    "            #noise\n",
    "            noiseXerr,syndromeXerr=mXerr.add_noise()\n",
    "            noiseZerr,syndromeZerr=mZerr.add_noise()\n",
    "\n",
    "            #correction\n",
    "            correctionXerr=mXerr.decode(syndromeXerr)\n",
    "            correctionZerr=mZerr.decode(syndromeZerr)\n",
    "\n",
    "            #correction + noise \n",
    "            corr_noise_Xerr=np.array((correctionXerr+noiseXerr)%2)\n",
    "            corr_noise_Zerr=np.array((correctionZerr+noiseZerr)%2)\n",
    "\n",
    "            #correction + noise action on the logicals\n",
    "            if periodic==1:\n",
    "                sum_logicalZ1=corr_noise_Xerr[Z_logical1_Graph_Xerr]\n",
    "                sum_logicalX1=corr_noise_Zerr[X_logical1_Graph_Zerr]\n",
    "                sum_logicalZ2=corr_noise_Xerr[Z_logical2_Graph_Xerr]\n",
    "                sum_logicalX2=corr_noise_Zerr[X_logical2_Graph_Zerr]\n",
    "                failure_list[i]=sum(sum_logicalZ1)%2 or sum(sum_logicalZ2)%2 or sum(sum_logicalX1)%2 or sum(sum_logicalX2)%2\n",
    "\n",
    "            else:\n",
    "                sum_logicalZ1=corr_noise_Xerr[Z_logical1_Graph_Xerr]\n",
    "                sum_logicalX1=corr_noise_Zerr[X_logical1_Graph_Zerr]\n",
    "                failure_list[i]=sum(sum_logicalZ1)%2 or sum(sum_logicalX1)%2\n",
    "\n",
    "        pL_rand[realization_index]=failure_list.mean()\n",
    "        std_rand[realization_index]=failure_list.std()/np.sqrt(num_mc)\n",
    "\n",
    "    pL=np.sum(pL_rand)/num_realiz\n",
    "    std=np.sqrt(np.sum(vsquare(std_rand)))/num_realiz\n",
    "    print(pL,std)\n",
    "    return [pL,std]\n",
    "\n",
    "def pymatching_rand(bias,bias_str,num_mc,L_list,error_probabilities,pH,pitch,num_realiz,periodic):\n",
    "\n",
    "    pL_list=np.zeros((len(L_list),len(error_probabilities)))\n",
    "    std_list=np.zeros((len(L_list),len(error_probabilities)))        \n",
    "    log_pL_list=np.zeros((len(L_list),len(error_probabilities)))\n",
    "    log_std_list=np.zeros((len(L_list),len(error_probabilities)))\n",
    "    error_model = BiasedDepolarizingErrorModel(bias,bias_str)\n",
    "\n",
    "    for ind_L in range(0,len(L_list)):\n",
    "        L=L_list[ind_L]\n",
    "        print('L=',L)\n",
    "        Nx=L\n",
    "        Ny=L\n",
    "\n",
    "        prob_dist=0.2,0.2,0.2,0.4\n",
    "        Graph_Zerr=graph_temp(Nx,Ny,prob_dist,1)\n",
    "        if pH==1.5:\n",
    "            hadamard_vec=np.zeros((len(Graph_Zerr.edges)))\n",
    "            for (u,v) in list(Graph_Zerr.edges):\n",
    "                if abs(u-v)==1 or abs(u-v)==Nx-1:\n",
    "                    hadamard_vec[Graph_Zerr[u][v]['qubit_id']]=1\n",
    "\n",
    "        if pH==2.5:       \n",
    "            hadamard_vec=np.zeros((len(Graph_Zerr.edges)))\n",
    "            for (u,v) in list(Graph_Zerr.edges):\n",
    "                if abs(u-v)==1 or abs(u-v)==Nx-1:\n",
    "                    hadamard_vec[Graph_Zerr[u][v]['qubit_id']]=1\n",
    "            \n",
    "            spacefillcurve_extra_hadamard=spiral(Nx,pitch)\n",
    "\n",
    "            for (u,v) in spacefillcurve_extra_hadamard:\n",
    "                    hadamard_vec[Graph_Zerr[u][v]['qubit_id']]=(hadamard_vec[Graph_Zerr[u][v]['qubit_id']]+1)%2 \n",
    "\n",
    "        p=mp.Pool()\n",
    "        func=partial(parallel_step_p,bias,bias_str,error_model,Nx,Ny,num_mc,pH,hadamard_vec,num_realiz,periodic)\n",
    "        result=p.map(func,error_probabilities)\n",
    "        p.close()\n",
    "        p.join()\n",
    "\n",
    "        for i in range(len(result)):\n",
    "            pL_list[ind_L][i]=result[i][0]\n",
    "            std_list[ind_L][i]=result[i][1]\n",
    "            log_pL_list[ind_L][i]=-np.log(pL_list[ind_L][i])\n",
    "            log_std_list[ind_L][i]=std_list[ind_L][i]/(pL_list[ind_L][i]*np.log(10))\n",
    "\n",
    "    return [pL_list,std_list,log_pL_list,log_std_list]\n",
    "\n",
    "\n",
    "\n",
    "\n",
    "\n",
    "\n",
    "\n",
    "def parallel_step_pX(bias,Nx,Ny,num_mc,pH,hadamard_vec,pX): \n",
    "\n",
    "    failure_list=np.zeros(num_mc) \n",
    "\n",
    "    error_model = BiasedDepolarizingErrorModel(bias,'Z')\n",
    "    prob_dist= error_model.probability_distribution(pX)\n",
    "    pI,pX,pY,pZ=prob_dist\n",
    "\n",
    "    periodic=1\n",
    "    [Graph_Xerr,Graph_Zerr,X_logical1_Graph_Zerr,X_logical2_Graph_Zerr,Z_logical1_Graph_Xerr,Z_logical2_Graph_Xerr]=construct_lattice(Nx,Ny,prob_dist,periodic)\n",
    "\n",
    "    if pH!=0:\n",
    "        [Graph_Xerr,Graph_Zerr]=weight_error_changes(prob_dist,Graph_Xerr,Graph_Zerr,periodic,hadamard_vec)\n",
    "\n",
    "    mXerr = Matching(Graph_Xerr)\n",
    "    mZerr = Matching(Graph_Zerr)\n",
    "\n",
    "    for i in range(num_mc):\n",
    "        #noise\n",
    "        noiseXerr,syndromeXerr = mXerr.add_noise()\n",
    "        noiseZerr,syndromeZerr = mZerr.add_noise()\n",
    "\n",
    "        #correction\n",
    "        correctionXerr = mXerr.decode(syndromeXerr)\n",
    "        correctionZerr = mZerr.decode(syndromeZerr)\n",
    "\n",
    "        #correction + noise \n",
    "        corr_noise_Xerr = np.array((correctionXerr+noiseXerr)%2)\n",
    "        corr_noise_Zerr = np.array((correctionZerr+noiseZerr)%2)\n",
    "\n",
    "        #correction + noise action on the logicals\n",
    "        sum_logicalZ1 = corr_noise_Xerr[Z_logical1_Graph_Xerr]\n",
    "        sum_logicalZ2 = corr_noise_Xerr[Z_logical2_Graph_Xerr]\n",
    "        sum_logicalX1 = corr_noise_Zerr[X_logical1_Graph_Zerr]\n",
    "        sum_logicalX2 = corr_noise_Zerr[X_logical2_Graph_Zerr]\n",
    "  \n",
    "        failure_list[i]= sum(sum_logicalZ1)%2 or sum(sum_logicalZ2)%2 or sum(sum_logicalX1)%2 or sum(sum_logicalX2)%2\n",
    "\n",
    "    pL=failure_list.mean()\n",
    "    std=failure_list.std()/np.sqrt(num_mc)\n",
    "\n",
    "    return [pL,std]\n",
    "\n",
    "def pymatching_rand2(bias,num_mc,L_list,error_probabilities,pH,pitch,num_codes):\n",
    "\n",
    "    pL_list_avg=np.zeros((len(L_list),len(error_probabilities)))\n",
    "    std_list_avg=np.zeros((len(L_list),len(error_probabilities)))\n",
    "   \n",
    "    log_pL_list=np.zeros((len(L_list),len(error_probabilities)))\n",
    "    log_std_list=np.zeros((len(L_list),len(error_probabilities)))\n",
    "\n",
    "    pX_list=error_probabilities\n",
    "\n",
    "    for ind_L in range(0,len(L_list)):\n",
    "        L=L_list[ind_L]\n",
    "        print('L=',L)\n",
    "        Nx=L\n",
    "        Ny=L\n",
    "\n",
    "        prob_dist=0.2,0.2,0.2,0.4\n",
    "        Graph_Zerr=graph_temp(Nx,Ny,prob_dist,1)\n",
    "        if pH==1.5:\n",
    "            hadamard_vec=np.zeros((len(Graph_Zerr.edges)))\n",
    "            for (u,v) in list(Graph_Zerr.edges):\n",
    "                if abs(u-v)==1 or abs(u-v)==Nx-1:\n",
    "                    hadamard_vec[Graph_Zerr[u][v]['qubit_id']]=1\n",
    "\n",
    "        if pH==2.5:       \n",
    "            hadamard_vec=np.zeros((len(Graph_Zerr.edges)))\n",
    "            for (u,v) in list(Graph_Zerr.edges):\n",
    "                if abs(u-v)==1 or abs(u-v)==Nx-1:\n",
    "                    hadamard_vec[Graph_Zerr[u][v]['qubit_id']]=1\n",
    "            \n",
    "            spacefillcurve_extra_hadamard=spiral(Nx,pitch)\n",
    "\n",
    "            for (u,v) in spacefillcurve_extra_hadamard:\n",
    "                    hadamard_vec[Graph_Zerr[u][v]['qubit_id']]=(hadamard_vec[Graph_Zerr[u][v]['qubit_id']]+1)%2 \n",
    "\n",
    "        pL_list =np.zeros(len(pX_list))\n",
    "        std_list =np.zeros(len(pX_list))    \n",
    "        \n",
    "        p=mp.Pool()\n",
    "        func=partial(parallel_step_pX,bias,Nx,Ny,num_mc,pH,hadamard_vec)\n",
    "        result=p.map(func,pX_list)\n",
    "        p.close()\n",
    "        p.join()\n",
    "        print(result)\n",
    "\n",
    "        for i in range(len(result)):\n",
    "            pL_list[i]=result[i][0]\n",
    "            std_list[i]=result[i][1]\n",
    "            log_pL_list[ind_L][i]=-np.log(pL_list[i])\n",
    "            log_std_list[ind_L][i]=std_list[i]/(pL_list[i]*np.log(10))\n",
    "\n",
    "        [pL_list_avg[ind_L],std_list_avg[ind_L]]=[pL_list,std_list]\n",
    "    \n",
    "    print(pL_list_avg)\n",
    "    print(std_list_avg)\n",
    "\n",
    "    return [pL_list_avg,std_list_avg,log_pL_list,log_std_list]"
   ]
  },
  {
   "cell_type": "code",
   "execution_count": 567,
   "metadata": {},
   "outputs": [
    {
     "name": "stdout",
     "output_type": "stream",
     "text": [
      "[ True  True  True  True  True  True  True  True  True  True  True  True\n",
      "  True  True  True  True  True  True]\n",
      "[ True  True  True  True  True  True  True  True  True  True  True  True\n",
      "  True  True  True  True  True  True]\n",
      "[ True  True  True  True  True  True  True  True  True  True  True  True\n",
      "  True  True  True  True  True  True]\n",
      "[ True  True  True  True  True  True  True  True  True  True  True  True\n",
      "  True  True  True  True  True  True]\n",
      "[ True  True  True  True  True  True  True  True  True  True  True  True\n",
      "  True  True  True  True  True  True]\n",
      "[ True  True  True  True  True  True  True  True  True  True  True  True\n",
      "  True  True  True  True  True  True]\n",
      "[ True  True  True  True  True  True  True  True  True  True  True  True\n",
      "  True  True  True  True  True  True]\n",
      "[ True  True  True  True  True  True  True  True  True  True  True  True\n",
      "  True  True  True  True  True  True]\n",
      "[ True  True  True  True  True  True  True  True  True  True  True  True\n",
      "  True  True  True  True  True  True]\n",
      "[ True  True  True  True  True  True  True  True  True  True  True  True\n",
      "  True  True  True  True  True  True]\n",
      "[ True  True  True  True  True  True  True  True  True  True  True  True\n",
      "  True  True  True  True  True  True]\n",
      "[ True  True  True  True  True  True  True  True  True  True  True  True\n",
      "  True  True  True  True  True  True]\n",
      "[ True  True  True  True  True  True  True  True  True  True  True  True\n",
      "  True  True  True  True  True  True]\n",
      "[ True  True  True  True  True  True  True  True  True  True  True  True\n",
      "  True  True  True  True  True  True]\n",
      "[ True  True  True  True  True  True  True  True  True  True  True  True\n",
      "  True  True  True  True  True  True]\n",
      "[ True  True  True  True  True  True  True  True  True  True  True  True\n",
      "  True  True  True  True  True  True]\n",
      "[ True  True  True  True  True  True  True  True  True  True  True  True\n",
      "  True  True  True  True  True  True]\n",
      "[ True  True  True  True  True  True  True  True  True  True  True  True\n",
      "  True  True  True  True  True  True]\n"
     ]
    }
   ],
   "source": [
    "p_min,p_max,dp=0.10,0.50,0.015\n",
    "error_probabilities=np.linspace(p_min,p_max,18);\n",
    "Nx=3\n",
    "Ny=3\n",
    "pH=1.5\n",
    "periodic=1\n",
    "    \n",
    "for error_probability in error_probabilities:\n",
    "    error_model = BiasedDepolarizingErrorModel(1000,'X')\n",
    "    prob_dist= error_model.probability_distribution(error_probability)\n",
    "\n",
    "\n",
    "    hadamard_vec=func_hadamard_vec(Nx,Ny,pH,prob_dist,periodic)\n",
    "    Graph_Zerr=graph_temp(Nx,Ny,prob_dist,1)\n",
    "    if pH==1.5:\n",
    "        hadamard_vec2=np.zeros((len(Graph_Zerr.edges)))\n",
    "        for (u,v) in list(Graph_Zerr.edges):\n",
    "            if abs(u-v)==1 or abs(u-v)==Nx-1:\n",
    "                hadamard_vec2[Graph_Zerr[u][v]['qubit_id']]=1\n",
    "    print(hadamard_vec==hadamard_vec2)"
   ]
  },
  {
   "cell_type": "code",
   "execution_count": 568,
   "metadata": {},
   "outputs": [
    {
     "name": "stdout",
     "output_type": "stream",
     "text": [
      "[2 5 7]\n",
      "[ 2  0  8 13]\n"
     ]
    }
   ],
   "source": [
    "error_model = BiasedDepolarizingErrorModel(1000,'X')\n",
    "periodic=0\n",
    "prob_dist= error_model.probability_distribution(0.2)\n",
    "[Graph_Xerr,Graph_Zerr,X_logical1_Graph_Zerr,Z_logical1_Graph_Xerr]=construct_lattice(Nx,Ny,prob_dist,periodic)\n",
    "print(X_logical1_Graph_Zerr)\n",
    "print(Z_logical1_Graph_Xerr)"
   ]
  },
  {
   "cell_type": "code",
   "execution_count": 569,
   "metadata": {},
   "outputs": [
    {
     "name": "stdout",
     "output_type": "stream",
     "text": [
      "8 1 0\n",
      "8 0 2\n",
      "8 2 8\n",
      "8 3 13\n",
      "8 9 -1\n",
      "1 0 1\n",
      "1 5 3\n",
      "1 2 9\n",
      "0 4 5\n",
      "5 4 4\n",
      "5 9 6\n",
      "5 6 11\n",
      "4 9 7\n",
      "9 6 12\n",
      "9 7 17\n",
      "2 6 10\n",
      "2 3 14\n",
      "6 7 16\n",
      "3 7 15\n"
     ]
    }
   ],
   "source": [
    "for u,v in Graph_Xerr.edges:\n",
    "    print(u,v,Graph_Xerr[u][v]['qubit_id'])"
   ]
  },
  {
   "cell_type": "code",
   "execution_count": 570,
   "metadata": {},
   "outputs": [
    {
     "name": "stdout",
     "output_type": "stream",
     "text": [
      "0 1 0\n",
      "0 3 1\n",
      "0 9 2\n",
      "1 2 8\n",
      "1 4 9\n",
      "3 4 3\n",
      "3 6 4\n",
      "3 9 5\n",
      "9 6 7\n",
      "9 10 -1\n",
      "4 5 10\n",
      "4 7 11\n",
      "6 7 6\n",
      "7 8 12\n",
      "2 10 13\n",
      "2 5 14\n",
      "5 10 15\n",
      "5 8 16\n",
      "8 10 17\n"
     ]
    }
   ],
   "source": [
    "\n",
    "for u,v in Graph_Zerr.edges:\n",
    "    print(u,v,Graph_Zerr[u][v]['qubit_id'])"
   ]
  },
  {
   "cell_type": "code",
   "execution_count": 573,
   "metadata": {},
   "outputs": [
    {
     "data": {
      "text/plain": [
       "array([[-1., -1., -1.],\n",
       "       [-1., -1., -1.],\n",
       "       [-1., -1., -1.]])"
      ]
     },
     "execution_count": 573,
     "metadata": {},
     "output_type": "execute_result"
    }
   ],
   "source": [
    "(-1)*np.ones((3,3))"
   ]
  },
  {
   "cell_type": "code",
   "execution_count": 774,
   "metadata": {},
   "outputs": [],
   "source": [
    "\n",
    "def rotdic_pbc(Nx,Ny):\n",
    "\n",
    "    v=np.zeros((Nx,Ny),dtype=int)\n",
    "\n",
    "    for i in range(0,Nx):\n",
    "        for j in range(0,Ny):\n",
    "            if (i+j)%2==0: \n",
    "                if j%2==0:\n",
    "                    v[i,j]=i/2+((j-1)%Nx)*Nx/2\n",
    "                else:\n",
    "                    v[i,j]=((i-1)%Nx)/2+((j-1)%Nx)*Nx/2\n",
    "            if (i+j)%2==1:\n",
    "                if j%2==0:\n",
    "                    v[i,j]=((i-1)%Nx)/2+((j-1)%Nx)*Nx/2\n",
    "                else:\n",
    "                    v[i,j]=i/2+((j-1)%Nx)*Nx/2     \n",
    "    return v\n",
    "\n",
    "\n",
    "def rotdic_obc(Nx,Ny):\n",
    "\n",
    "    Zstabs_num=(Nx/2+1)*Ny\n",
    "    Xstabs_num=Nx/2*(Ny+2)\n",
    "    \n",
    "    virZ1,virZ2,virZ3,virZ4=np.arange(Zstabs_num,Zstabs_num+4,dtype=int)\n",
    "    virX1,virX2,virX3,virX4=np.arange(Xstabs_num,Xstabs_num+4,dtype=int)\n",
    "        \n",
    "    vX=(-10)*np.ones((Nx+4,Ny+4),dtype=int)\n",
    "\n",
    "    for i in range(1,Nx+3):\n",
    "        for j in range(1,Ny+3):\n",
    "            if (i+j)%2==0: \n",
    "                if j==1:\n",
    "                    if i%4==1:\n",
    "                        vX[i,j]=virX1\n",
    "                    else:\n",
    "                        vX[i,j]=virX2\n",
    "                elif j==Ny+2:\n",
    "                    if i%4==0:                        \n",
    "                        vX[i,j]=virX3\n",
    "                    else:\n",
    "                        vX[i,j]=virX4                        \n",
    "                else:\n",
    "                    if j%2==0:\n",
    "                        vX[i,j]=(i-2)/2+(j-2)*(Nx/2+1)\n",
    "                    else:\n",
    "                        vX[i,j]=(i-1)/2+(j-2)*(Nx/2+1)\n",
    "\n",
    "\n",
    "    vZ=(-10)*np.ones((Nx+4,Ny+4),dtype=int)\n",
    "\n",
    "    for i in range(1,Nx+3):\n",
    "        for j in range(1,Ny+3):\n",
    "            if (i+j)%2==1:\n",
    "                if i==1:\n",
    "                    if j%4==0:\n",
    "                        vZ[i,j]=virZ1\n",
    "                    else:\n",
    "                        vZ[i,j]=virZ2\n",
    "                elif i==Nx+2:\n",
    "                    if j%4==1:\n",
    "                        vZ[i,j]=virZ3\n",
    "                    else:\n",
    "                        vZ[i,j]=virZ4\n",
    "                else:\n",
    "                    vZ[i,j]=(i-2)/2+(j-1)*Nx/2\n",
    "\n",
    "    return [vX,vZ]\n",
    "\n",
    "def construct_rot_lattice(Nx,Ny,prob_dist,periodic):\n",
    "\n",
    "    pI,pX,pY,pZ=prob_dist\n",
    "    #weights\n",
    "    wZ=abs(np.log(pZ/pI))\n",
    "    wX=abs(np.log(pX/pI))\n",
    "\n",
    "    if periodic==0:\n",
    "        #even times even stabilizer number lattice\n",
    "        Xstabs_num=(Nx/2+1)*Ny\n",
    "        Zstabs_num=Nx/2*(Ny+2)\n",
    "\n",
    "        virZ1,virZ2,virZ3,virZ4=np.arange(Zstabs_num,Zstabs_num+4,dtype=int)\n",
    "        virX1,virX2,virX3,virX4=np.arange(Xstabs_num,Xstabs_num+4,dtype=int)\n",
    "        [vX,vZ]=rotdic_obc(Nx,Ny)\n",
    "\n",
    "        Graph_Zerr=nx.MultiGraph()\n",
    "        Graph_Xerr=nx.MultiGraph()\n",
    "\n",
    "        X_logical1_Graph_Zerr=np.array([],dtype=int)\n",
    "        Z_logical1_Graph_Xerr=np.array([],dtype=int)\n",
    "\n",
    "        id=0\n",
    "        for i in range(1,Nx+3):\n",
    "            for j in range(1,Ny+3): \n",
    "                if (i+j)%2==1:\n",
    "                    if vZ[i+1,j+1]>-1:\n",
    "#                         print(i,j,vZ[i,j],vZ[i+1,j+1])\n",
    "                        Graph_Zerr.add_edge(vZ[i,j],vZ[i+1,j+1],qubit_id=id,weight=wZ,error_probability=pZ)\n",
    "                        Graph_Xerr.add_edge(vX[i,j+1],vX[i+1,j],qubit_id=id,weight=wX,error_probability=pX)\n",
    "                        id+=1\n",
    "                    if vZ[i+1,j-1]>-1:\n",
    "#                         print(i,j,vZ[i,j],vZ[i+1,j-1])                        \n",
    "                        Graph_Zerr.add_edge(vZ[i,j],vZ[i+1,j-1],qubit_id=id,weight=wZ,error_probability=pZ)\n",
    "                        Graph_Xerr.add_edge(vX[i,j-1],vX[i+1,j],qubit_id=id,weight=wX,error_probability=pX)\n",
    "                        id+=1\n",
    "                    \n",
    "        Graph_Zerr.add_edge(virZ1,virZ2,qubit_id=-1,weight=0,error_probability=0)  \n",
    "        Graph_Zerr.add_edge(virZ3,virZ4,qubit_id=-2,weight=0,error_probability=0)  \n",
    "        Graph_Zerr.add_edge(virZ1,virZ4,qubit_id=-3,weight=0,error_probability=0)  \n",
    "        Graph_Xerr.add_edge(virX1,virX2,qubit_id=-1,weight=0,error_probability=0) \n",
    "        Graph_Xerr.add_edge(virX3,virX4,qubit_id=-2,weight=0,error_probability=0) \n",
    "        Graph_Xerr.add_edge(virX1,virX4,qubit_id=-3,weight=0,error_probability=0) \n",
    "\n",
    "        Z_logical_qubit_num=Nx+1  \n",
    "        X_logical_qubit_num=Ny    \n",
    "\n",
    "        for j in range(1,Ny+3):\n",
    "            if (2+j)%2==1:\n",
    "                if vZ[3,j+1]>-1:\n",
    "#                     print(i,j,vZ[2,j],vZ[1,j+1],Graph_Zerr[vZ[2,j]][vZ[1,j+1],'qubit_id'])\n",
    "                    X_logical1_Graph_Zerr=np.append(X_logical1_Graph_Zerr,Graph_Zerr[vZ[2,j]][vZ[3,j+1]]['qubit_id'])\n",
    "                if vZ[3,j-1]>-1:              \n",
    "                    X_logical1_Graph_Zerr=np.append(X_logical1_Graph_Zerr,Graph_Zerr[vZ[2,j]][vZ[3,j-1]]['qubit_id'])\n",
    "\n",
    "        for i in range(1,Nx+3):\n",
    "            if (i+2)%2==0:\n",
    "                if vX[i+1,3]>-1:\n",
    "                    Z_logical1_Graph_Xerr=np.append(Z_logical1_Graph_Xerr,Graph_Xerr[vX[i,2]][vX[i+1,3]]['qubit_id'])\n",
    "                if vX[i-1,3]>-1:\n",
    "                    Z_logical1_Graph_Xerr=np.append(Z_logical1_Graph_Xerr,Graph_Xerr[vX[i,2]][vX[i-1,3]]['qubit_id'])\n",
    "\n",
    "        Graph_Zerr.nodes[virZ1]['is_boundary']=True\n",
    "        Graph_Zerr.nodes[virZ2]['is_boundary']=True\n",
    "        Graph_Zerr.nodes[virZ3]['is_boundary']=True\n",
    "        Graph_Zerr.nodes[virZ4]['is_boundary']=True\n",
    "        Graph_Xerr.nodes[virX1]['is_boundary']=True   \n",
    "        Graph_Xerr.nodes[virX2]['is_boundary']=True   \n",
    "        Graph_Xerr.nodes[virX3]['is_boundary']=True   \n",
    "        Graph_Xerr.nodes[virX4]['is_boundary']=True   \n",
    "\n",
    "        return [Graph_Xerr,Graph_Zerr,X_logical1_Graph_Zerr,Z_logical1_Graph_Xerr]\n",
    "\n",
    "    else: \n",
    "        v=rotdic_pbc(Nx,Ny)\n",
    "\n",
    "        Graph_Zerr=nx.Graph()\n",
    "        Graph_Xerr=nx.Graph()\n",
    "        \n",
    "        #Nx and Ny are number of stabilizers\n",
    "\n",
    "        if (Nx%2==0 and Ny%2==0):\n",
    "            X_logical1_Graph_Zerr=np.array([],dtype=int)\n",
    "            X_logical2_Graph_Zerr=np.array([],dtype=int)\n",
    "            Z_logical1_Graph_Xerr=np.array([],dtype=int)\n",
    "            Z_logical2_Graph_Xerr=np.array([],dtype=int)\n",
    "\n",
    "            id=0\n",
    "            for i in range(0,Nx):\n",
    "                for j in range(0,Ny):\n",
    "                    if (i+j)%2==0:\n",
    "                        Graph_Zerr.add_edge(v[i,j],v[(i+1)% Nx,(j+1)%Ny],qubit_id=id,weight=wZ,error_probability=pZ)\n",
    "                        Graph_Xerr.add_edge(v[i,(j+1)%Ny],v[(i+1)%Nx,j],qubit_id=id,weight=wX,error_probability=pX)\n",
    "                        id+=1\n",
    "                        Graph_Zerr.add_edge(v[i,j],v[(i+1)%Nx,(j-1)%Ny],qubit_id=id,weight=wZ,error_probability=pZ)\n",
    "                        Graph_Xerr.add_edge(v[i,(j-1)%Ny],v[(i+1)%Nx,j],qubit_id=id,weight=wX,error_probability=pX)\n",
    "                        id+=1\n",
    "\n",
    "            for i in range(0,Nx):\n",
    "                for j in range(0,Ny):\n",
    "                    if (i+j)%2==0 and i==0:\n",
    "                        X_logical1_Graph_Zerr=np.append(X_logical1_Graph_Zerr,Graph_Zerr[v[i,j]][v[(i+1)%Nx,(j+1)%Ny]]['qubit_id'])                        \n",
    "                        X_logical1_Graph_Zerr=np.append(X_logical1_Graph_Zerr,Graph_Zerr[v[i,j]][v[(i+1)%Nx,(j-1)%Ny]]['qubit_id'])                        \n",
    "                    if (i+j)%2==0 and j==0:\n",
    "                        X_logical2_Graph_Zerr=np.append(X_logical2_Graph_Zerr,Graph_Zerr[v[i,j]][v[(i+1)%Nx,(j+1)%Ny]]['qubit_id'])\n",
    "                        X_logical2_Graph_Zerr=np.append(X_logical2_Graph_Zerr,Graph_Zerr[v[i,j]][v[(i-1)%Nx,(j+1)%Ny]]['qubit_id'])\n",
    "                    if (i+j)%2==1 and i==0:\n",
    "                        Z_logical2_Graph_Xerr=np.append(Z_logical2_Graph_Xerr,Graph_Xerr[v[i,j]][v[(i+1)%Nx,(j+1)%Ny]]['qubit_id'])\n",
    "                        Z_logical2_Graph_Xerr=np.append(Z_logical2_Graph_Xerr,Graph_Xerr[v[i,j]][v[(i+1)%Nx,(j-1)%Ny]]['qubit_id'])\n",
    "                    if (i+j)%2==1 and j==0:\n",
    "                        Z_logical1_Graph_Xerr=np.append(Z_logical1_Graph_Xerr,Graph_Xerr[v[i,j]][v[(i+1)%Nx,(j+1)%Ny]]['qubit_id'])\n",
    "                        Z_logical1_Graph_Xerr=np.append(Z_logical1_Graph_Xerr,Graph_Xerr[v[i,j]][v[(i-1)%Nx,(j+1)%Ny]]['qubit_id'])\n",
    "\n",
    "            return [Graph_Xerr,Graph_Zerr,X_logical1_Graph_Zerr,X_logical2_Graph_Zerr,Z_logical1_Graph_Xerr,Z_logical2_Graph_Xerr]\n",
    "    \n",
    "        elif(Nx%2!=Ny%2):\n",
    "            print('the modified decoder graphs and logicals (which are now a Y-Z or Y-X pair) needs to be implemented below')\n",
    "            X_logical1_Graph_Zerr=np.array([],dtype=int)\n",
    "            Z_logical1_Graph_Xerr=np.array([],dtype=int)\n",
    "\n",
    "            id=0\n",
    "            for i in range(0,Nx):\n",
    "                for j in range(0,Ny):\n",
    "                    if (i+j)%2==0:\n",
    "                        Graph_Zerr.add_edge(v[i,j],v[(i+1)% Nx,(j+1)%Ny],qubit_id=id,weight=wZ,error_probability=pZ)\n",
    "                        Graph_Xerr.add_edge(v[i,(j+1)%Ny],v[(i+1)%Nx,j],qubit_id=id,weight=wX,error_probability=pX)\n",
    "                        id+=1\n",
    "                        Graph_Zerr.add_edge(v[i,j],v[(i+1)%Nx,(j-1)%Ny],qubit_id=id,weight=wZ,error_probability=pZ)\n",
    "                        Graph_Xerr.add_edge(v[i,(j-1)%Ny],v[(i+1)%Nx,j],qubit_id=id,weight=wX,error_probability=pX)\n",
    "                        id+=1\n",
    "            \n",
    "            \n",
    "            for i in range(0,Nx):\n",
    "                for j in range(0,Ny):\n",
    "                    if v[i,j] in range(0,Nx*Ny,Nx):\n",
    "                        X_logical1_Graph_Zerr=np.append(X_logical1_Graph_Zerr,Graph_Zerr[v[i,j]][v[(i+1)%Nx,(j+1)%Ny],'qubit_id'])\n",
    "                    if v[i,j] in range(0,Nx):\n",
    "                        Z_logical1_Graph_Xerr=np.append(Z_logical1_Graph_Xerr,Graph_Xerr[v[i,j]][v[(i+1)%Nx,(j+1)%Ny],'qubit_id'])\n",
    "\n",
    "            return [Graph_Xerr,Graph_Zerr,X_logical1_Graph_Zerr,Z_logical1_Graph_Xerr]\n",
    "\n"
   ]
  },
  {
   "cell_type": "code",
   "execution_count": 771,
   "metadata": {},
   "outputs": [
    {
     "name": "stdout",
     "output_type": "stream",
     "text": [
      "3 0 0\n",
      "3 6 3\n",
      "0 12 1\n",
      "0 13 5\n",
      "0 4 7\n",
      "12 1 15\n",
      "12 2 21\n",
      "12 13 -1\n",
      "12 15 -3\n",
      "9 6 2\n",
      "9 15 4\n",
      "6 4 6\n",
      "6 10 9\n",
      "15 10 14\n",
      "15 11 24\n",
      "15 14 -2\n",
      "13 1 11\n",
      "4 1 10\n",
      "4 7 13\n",
      "10 7 12\n",
      "1 5 17\n",
      "7 5 16\n",
      "7 11 19\n",
      "5 2 20\n",
      "5 8 23\n",
      "11 8 22\n",
      "[5 6 7 8 9]\n",
      "13 4 0\n",
      "13 0 1\n",
      "13 8 4\n",
      "13 12 -1\n",
      "4 12 3\n",
      "4 6 6\n",
      "4 2 7\n",
      "0 2 5\n",
      "12 8 2\n",
      "12 15 -3\n",
      "8 10 8\n",
      "8 6 9\n",
      "2 5 10\n",
      "2 1 11\n",
      "6 9 12\n",
      "6 5 13\n",
      "10 9 14\n",
      "5 7 16\n",
      "5 3 17\n",
      "1 3 15\n",
      "9 11 18\n",
      "9 7 19\n",
      "3 15 21\n",
      "7 15 23\n",
      "11 15 24\n",
      "15 14 -2\n",
      "26 26\n",
      "[ 7  0 17 10 20]\n"
     ]
    },
    {
     "data": {
      "text/plain": [
       "NodeView((3, 0, 12, 9, 6, 15, 13, 4, 10, 1, 7, 5, 11, 2, 8, 14))"
      ]
     },
     "execution_count": 771,
     "metadata": {},
     "output_type": "execute_result"
    }
   ],
   "source": [
    "prob_dist=[0.1,0.3,0.3,0.3]\n",
    "[g1,g2,X_logical1_Graph_Zerr,Z_logical1_Graph_Xerr]=construct_rot_lattice(4,4,prob_dist,0)\n",
    "for u,v in g1.edges:\n",
    "    print(u,v,g1[u][v]['qubit_id'])\n",
    "print(X_logical1_Graph_Zerr)\n",
    "for u,v in g2.edges:\n",
    "    print(u,v,g2[u][v]['qubit_id'])\n",
    "\n",
    "print(len(g1.edges),len(g2.edges))\n",
    "print(Z_logical1_Graph_Xerr)\n",
    "g1.nodes"
   ]
  },
  {
   "cell_type": "code",
   "execution_count": 772,
   "metadata": {},
   "outputs": [
    {
     "name": "stdout",
     "output_type": "stream",
     "text": [
      "12.0 12.0\n",
      "[[6 6 7 7]\n",
      " [0 0 1 1]\n",
      " [2 2 3 3]\n",
      " [4 4 5 5]]\n"
     ]
    }
   ],
   "source": [
    "i=0\n",
    "j=2\n",
    "Nx=4\n",
    "Ny=4\n",
    "v=rotdic_pbc(Nx,Ny)\n",
    "Xstabs_num=(Nx/2+1)*Ny\n",
    "Zstabs_num=Nx/2*(Ny+2)\n",
    "print(Xstabs_num,Zstabs_num)\n",
    "print(v.T)"
   ]
  },
  {
   "cell_type": "code",
   "execution_count": null,
   "metadata": {},
   "outputs": [],
   "source": []
  },
  {
   "cell_type": "code",
   "execution_count": 773,
   "metadata": {},
   "outputs": [
    {
     "data": {
      "text/plain": [
       "array([[-10, -10, -10, -10, -10, -10, -10, -10],\n",
       "       [-10, -10,   0, -10,   1, -10,  15, -10],\n",
       "       [-10,  13, -10,   2, -10,   3, -10, -10],\n",
       "       [-10, -10,   4, -10,   5, -10,  15, -10],\n",
       "       [-10,  12, -10,   6, -10,   7, -10, -10],\n",
       "       [-10, -10,   8, -10,   9, -10,  15, -10],\n",
       "       [-10,  13, -10,  10, -10,  11, -10, -10],\n",
       "       [-10, -10, -10, -10, -10, -10, -10, -10]])"
      ]
     },
     "execution_count": 773,
     "metadata": {},
     "output_type": "execute_result"
    }
   ],
   "source": [
    "[vx,vz]=rotdic_obc(4,4)\n",
    "vz.T"
   ]
  },
  {
   "cell_type": "code",
   "execution_count": 648,
   "metadata": {},
   "outputs": [
    {
     "data": {
      "text/plain": [
       "{'qubit_id': 11, 'weight': 1.0986122886681096, 'error_probability': 0.3}"
      ]
     },
     "execution_count": 648,
     "metadata": {},
     "output_type": "execute_result"
    }
   ],
   "source": [
    "g2[1][2]"
   ]
  },
  {
   "cell_type": "code",
   "execution_count": 608,
   "metadata": {},
   "outputs": [
    {
     "name": "stdout",
     "output_type": "stream",
     "text": [
      "[[-1 -1 -1 -1 -1 -1 -1 -1 -1 -1]\n",
      " [-1 24 -1 24 -1 24 -1 24 -1 -1]\n",
      " [-1 -1  0 -1  1 -1  2 -1  3 -1]\n",
      " [-1  4 -1  5 -1  6 -1  7 -1 -1]\n",
      " [-1 -1  8 -1  9 -1 10 -1 11 -1]\n",
      " [-1 12 -1 13 -1 14 -1 15 -1 -1]\n",
      " [-1 -1 16 -1 17 -1 18 -1 19 -1]\n",
      " [-1 20 -1 21 -1 22 -1 23 -1 -1]\n",
      " [-1 -1 25 -1 25 -1 25 -1 25 -1]\n",
      " [-1 -1 -1 -1 -1 -1 -1 -1 -1 -1]]\n",
      "[[-1 24 -1 -2 -1 -1 -1  0 -1 -1]\n",
      " [-1 -1  0 -1  1 -1  2 -1 25 -1]\n",
      " [-1 24 -1  3 -1  4 -1  5 -1 -1]\n",
      " [-1 -1  6 -1  7 -1  8 -1 25 -1]\n",
      " [-1 24 -1  9 -1 10 -1 11 -1 -1]\n",
      " [-1 -1 12 -1 13 -1 14 -1 25 -1]\n",
      " [-1 24 -1 15 -1 16 -1 17 -1 -1]\n",
      " [-1 -1 18 -1 19 -1 20 -1 25 -1]\n",
      " [-1 24 -1 21 -1 22 -1 23 -1 -1]\n",
      " [-1 -1 -1 -1 -1 -1 -1 -1 -1 -1]]\n"
     ]
    }
   ],
   "source": [
    "def rotdic_obc(Nx,Ny):\n",
    "\n",
    "    Zstabs_num=(Nx/2+1)*Ny\n",
    "    Xstabs_num=Nx/2*(Ny+2)\n",
    "\n",
    "    virZ1,virZ2=Zstabs_num,Zstabs_num+1\n",
    "    virX1,virX2=Xstabs_num,Xstabs_num+1\n",
    "        \n",
    "    vX=(-1)*np.ones((Nx+4,Ny+4),dtype=int)\n",
    "\n",
    "    for i in range(1,Nx+3):\n",
    "        for j in range(1,Ny+3):\n",
    "            if (i+j)%2==0: \n",
    "                if j==1:\n",
    "                    vX[i,j]=virX1\n",
    "                elif j==Ny+2:\n",
    "                    vX[i,j]=virX2\n",
    "                else:\n",
    "                    if j%2==0:\n",
    "                        vX[i,j]=(i-2)/2+(j-2)*(Nx/2+1)\n",
    "                    else:\n",
    "                        vX[i,j]=(i-1)/2+(j-2)*(Nx/2+1)\n",
    "\n",
    "\n",
    "    vZ=(-1)*np.ones((Nx+4,Ny+4),dtype=int)\n",
    "\n",
    "    for i in range(1,Nx+3):\n",
    "        for j in range(0,Ny+3):\n",
    "            if (i+j)%2==1:\n",
    "                if i==1:\n",
    "                    vZ[i,j]=virZ1\n",
    "                elif i==Nx+2:\n",
    "                    vZ[i,j]=virZ2\n",
    "                else:\n",
    "                    vZ[i,j]=(i-2)/2+(j-1)*Nx/2\n",
    "\n",
    "    return [vX,vZ]\n",
    "\n",
    "[vX,vZ]=rotdic_obc(6,6)\n",
    "print(vX.T)\n",
    "print(vZ.T)\n"
   ]
  },
  {
   "cell_type": "code",
   "execution_count": 775,
   "metadata": {},
   "outputs": [],
   "source": [
    "Nx,Ny=4,4\n",
    "\n",
    "pI,pX,pY,pZ=prob_dist\n",
    "#weights\n",
    "wZ=abs(np.log(pZ/pI))\n",
    "wX=abs(np.log(pX/pI))\n",
    "    \n",
    "Xstabs_num=(Nx/2+1)*Ny\n",
    "Zstabs_num=Nx/2*(Ny+2)\n",
    "\n",
    "virZ1,virZ2,virZ3,virZ4=np.arange(Zstabs_num,Zstabs_num+4,dtype=int)\n",
    "virX1,virX2,virX3,virX4=np.arange(Xstabs_num,Xstabs_num+4,dtype=int)\n",
    "[vX,vZ]=rotdic_obc(Nx,Ny)\n",
    "\n",
    "Graph_Zerr=nx.Graph()\n",
    "Graph_Xerr=nx.Graph()\n",
    "\n",
    "X_logical1_Graph_Zerr=np.array([],dtype=int)\n",
    "Z_logical1_Graph_Xerr=np.array([],dtype=int)\n",
    "\n",
    "id=0\n",
    "for i in range(1,Nx+3):\n",
    "    for j in range(1,Ny+3): \n",
    "        if (i+j)%2==1:\n",
    "            if vZ[i+1,j+1]>-1:\n",
    "#                         print(i,j,vZ[i,j],vZ[i+1,j+1])\n",
    "                Graph_Zerr.add_edge(vZ[i,j],vZ[i+1,j+1],qubit_id=id,weight=wZ,error_probability=pZ)\n",
    "                Graph_Xerr.add_edge(vX[i,j+1],vX[i+1,j],qubit_id=id,weight=wX,error_probability=pX)\n",
    "                id+=1\n",
    "            if vZ[i+1,j-1]>-1:\n",
    "#                         print(i,j,vZ[i,j],vZ[i+1,j-1])                        \n",
    "                Graph_Zerr.add_edge(vZ[i,j],vZ[i+1,j-1],qubit_id=id,weight=wZ,error_probability=pZ)\n",
    "                Graph_Xerr.add_edge(vX[i,j-1],vX[i+1,j],qubit_id=id,weight=wX,error_probability=pX)\n",
    "                id+=1\n",
    "\n",
    "Graph_Zerr.add_edge(virZ1,virZ2,qubit_id=-1,weight=0,error_probability=0)  \n",
    "Graph_Zerr.add_edge(virZ3,virZ4,qubit_id=-2,weight=0,error_probability=0)  \n",
    "Graph_Zerr.add_edge(virZ1,virZ4,qubit_id=-3,weight=0,error_probability=0)  \n",
    "Graph_Xerr.add_edge(virX1,virX2,qubit_id=-1,weight=0,error_probability=0) \n",
    "Graph_Xerr.add_edge(virX3,virX4,qubit_id=-2,weight=0,error_probability=0) \n",
    "Graph_Xerr.add_edge(virX1,virX4,qubit_id=-3,weight=0,error_probability=0) \n",
    "\n",
    "Z_logical_qubit_num=Nx+1  \n",
    "X_logical_qubit_num=Ny    \n",
    "\n",
    "for j in range(1,Ny+3):\n",
    "    if (2+j)%2==1:\n",
    "        if vZ[3,j+1]>-1:\n",
    "#                     print(i,j,vZ[2,j],vZ[1,j+1],Graph_Zerr[vZ[2,j]][vZ[1,j+1],'qubit_id'])\n",
    "            X_logical1_Graph_Zerr=np.append(X_logical1_Graph_Zerr,Graph_Zerr[vZ[2,j]][vZ[3,j+1]]['qubit_id'])\n",
    "        if vZ[3,j-1]>-1:              \n",
    "            X_logical1_Graph_Zerr=np.append(X_logical1_Graph_Zerr,Graph_Zerr[vZ[2,j]][vZ[3,j-1]]['qubit_id'])\n",
    "\n",
    "for i in range(1,Nx+3):\n",
    "    if (i+2)%2==0:\n",
    "        if vX[i+1,3]>-1:\n",
    "            Z_logical1_Graph_Xerr=np.append(Z_logical1_Graph_Xerr,Graph_Xerr[vX[i,2]][vX[i+1,3]]['qubit_id'])\n",
    "        if vX[i-1,3]>-1:\n",
    "            Z_logical1_Graph_Xerr=np.append(Z_logical1_Graph_Xerr,Graph_Xerr[vX[i,2]][vX[i-1,3]]['qubit_id'])\n",
    "\n",
    "Graph_Zerr.nodes[virZ1]['is_boundary']=True\n",
    "Graph_Zerr.nodes[virZ2]['is_boundary']=True\n",
    "Graph_Zerr.nodes[virZ3]['is_boundary']=True\n",
    "Graph_Zerr.nodes[virZ4]['is_boundary']=True\n",
    "Graph_Xerr.nodes[virX1]['is_boundary']=True   \n",
    "Graph_Xerr.nodes[virX2]['is_boundary']=True   \n",
    "Graph_Xerr.nodes[virX3]['is_boundary']=True   \n",
    "Graph_Xerr.nodes[virX4]['is_boundary']=True   "
   ]
  },
  {
   "cell_type": "code",
   "execution_count": 776,
   "metadata": {},
   "outputs": [
    {
     "name": "stdout",
     "output_type": "stream",
     "text": [
      "3 0 0\n",
      "3 6 3\n",
      "0 12 1\n",
      "0 13 5\n",
      "0 4 7\n",
      "12 1 15\n",
      "12 2 21\n",
      "12 13 -1\n",
      "12 15 -3\n",
      "9 6 2\n",
      "9 15 4\n",
      "6 4 6\n",
      "6 10 9\n",
      "15 10 8\n",
      "15 11 24\n",
      "15 14 -2\n",
      "13 1 11\n",
      "4 1 10\n",
      "4 7 13\n",
      "10 7 12\n",
      "10 14 14\n",
      "1 5 17\n",
      "7 5 16\n",
      "7 11 19\n",
      "14 11 18\n",
      "5 2 20\n",
      "5 8 23\n",
      "11 8 22\n",
      "[5 6 7 8 9]\n",
      "13 4 0\n",
      "13 0 1\n",
      "13 8 4\n",
      "13 12 -1\n",
      "4 12 3\n",
      "4 6 6\n",
      "4 2 7\n",
      "0 2 5\n",
      "12 8 2\n",
      "12 15 -3\n",
      "8 10 8\n",
      "8 6 9\n",
      "2 5 10\n",
      "2 1 11\n",
      "6 9 12\n",
      "6 5 13\n",
      "10 9 14\n",
      "5 7 16\n",
      "5 3 17\n",
      "1 3 15\n",
      "9 11 18\n",
      "9 7 19\n",
      "3 15 20\n",
      "3 14 21\n",
      "7 14 22\n",
      "7 15 23\n",
      "11 14 24\n",
      "15 14 -2\n",
      "28 28\n",
      "[ 7  0 17 10 20]\n"
     ]
    },
    {
     "data": {
      "text/plain": [
       "NodeView((3, 0, 12, 9, 6, 15, 13, 4, 10, 1, 7, 5, 11, 2, 8, 14))"
      ]
     },
     "execution_count": 776,
     "metadata": {},
     "output_type": "execute_result"
    }
   ],
   "source": [
    "for u,v in Graph_Xerr.edges:\n",
    "    print(u,v,Graph_Xerr[u][v]['qubit_id'])\n",
    "print(X_logical1_Graph_Zerr)\n",
    "for u,v in Graph_Zerr.edges:\n",
    "    print(u,v,Graph_Zerr[u][v]['qubit_id'])\n",
    "\n",
    "print(len(Graph_Xerr.edges),len(Graph_Zerr.edges))\n",
    "print(Z_logical1_Graph_Xerr)\n",
    "g1.nodes"
   ]
  },
  {
   "cell_type": "code",
   "execution_count": 797,
   "metadata": {},
   "outputs": [],
   "source": [
    "\n",
    "def rotdic_pbc(Nx,Ny):\n",
    "\n",
    "    v=np.zeros((Nx,Ny),dtype=int)\n",
    "\n",
    "    for i in range(0,Nx):\n",
    "        for j in range(0,Ny):\n",
    "            if (i+j)%2==0: \n",
    "                if j%2==0:\n",
    "                    v[i,j]=i/2+((j-1)%Nx)*Nx/2\n",
    "                else:\n",
    "                    v[i,j]=((i-1)%Nx)/2+((j-1)%Nx)*Nx/2\n",
    "            if (i+j)%2==1:\n",
    "                if j%2==0:\n",
    "                    v[i,j]=((i-1)%Nx)/2+((j-1)%Nx)*Nx/2\n",
    "                else:\n",
    "                    v[i,j]=i/2+((j-1)%Nx)*Nx/2     \n",
    "    return v\n",
    "\n",
    "\n",
    "def rotdic_obc(Nx,Ny):\n",
    "\n",
    "    Zstabs_num=(Nx/2+1)*Ny\n",
    "    Xstabs_num=Nx/2*(Ny+2)   \n",
    "    \n",
    "    virZ1,virZ2=Zstabs_num,Zstabs_num+1\n",
    "    virX1,virX2=Xstabs_num,Xstabs_num+1\n",
    "    vX=(-10)*np.ones((Nx+4,Ny+4),dtype=int)\n",
    "\n",
    "    for i in range(1,Nx+3):\n",
    "        for j in range(1,Ny+3):\n",
    "            if (i+j)%2==0: \n",
    "                if j==1:\n",
    "                    vX[i,j]=virX1\n",
    "                elif j==Ny+2:\n",
    "                    vX[i,j]=virX2                      \n",
    "                else:\n",
    "                    if j%2==0:\n",
    "                        vX[i,j]=(i-2)/2+(j-2)*(Nx/2+1)\n",
    "                    else:\n",
    "                        vX[i,j]=(i-1)/2+(j-2)*(Nx/2+1)\n",
    "\n",
    "\n",
    "    vZ=(-10)*np.ones((Nx+4,Ny+4),dtype=int)\n",
    "\n",
    "    for i in range(1,Nx+3):\n",
    "        for j in range(1,Ny+3):\n",
    "            if (i+j)%2==1:\n",
    "                if i==1:\n",
    "                    vZ[i,j]=virZ1\n",
    "                elif i==Nx+2:\n",
    "                    vZ[i,j]=virZ2      \n",
    "                else:\n",
    "                    vZ[i,j]=(i-2)/2+(j-1)*Nx/2\n",
    "\n",
    "    return [vX,vZ]\n",
    "\n",
    "def construct_rot_lattice(Nx,Ny,prob_dist,periodic):\n",
    "\n",
    "    pI,pX,pY,pZ=prob_dist\n",
    "    #weights\n",
    "    wZ=abs(np.log(pZ/pI))\n",
    "    wX=abs(np.log(pX/pI))\n",
    "\n",
    "    if periodic==0:\n",
    "        #even times even stabilizer number lattice\n",
    "        Xstabs_num=(Nx/2+1)*Ny\n",
    "        Zstabs_num=Nx/2*(Ny+2)\n",
    "\n",
    "        virZ1,virZ2=Zstabs_num,Zstabs_num+1\n",
    "        virX1,virX2=Xstabs_num,Xstabs_num+1\n",
    "        \n",
    "        [vX,vZ]=rotdic_obc(Nx,Ny)\n",
    "\n",
    "        Graph_Zerr=nx.MultiGraph()\n",
    "        Graph_Xerr=nx.MultiGraph()\n",
    "\n",
    "        X_logical1_Graph_Zerr=np.array([],dtype=int)\n",
    "        Z_logical1_Graph_Xerr=np.array([],dtype=int)\n",
    "\n",
    "        id=0\n",
    "        for i in range(1,Nx+3):\n",
    "            for j in range(1,Ny+3): \n",
    "                if (i+j)%2==1:\n",
    "                    if vZ[i+1,j+1]>-1:\n",
    "#                         print(i,j,vZ[i,j],vZ[i+1,j+1])\n",
    "                        Graph_Zerr.add_edge(vZ[i,j],vZ[i+1,j+1],qubit_id=id,weight=wZ,error_probability=pZ)\n",
    "                        Graph_Xerr.add_edge(vX[i,j+1],vX[i+1,j],qubit_id=id,weight=wX,error_probability=pX)\n",
    "                        id+=1\n",
    "                    if vZ[i+1,j-1]>-1:\n",
    "#                         print(i,j,vZ[i,j],vZ[i+1,j-1])                        \n",
    "                        Graph_Zerr.add_edge(vZ[i,j],vZ[i+1,j-1],qubit_id=id,weight=wZ,error_probability=pZ)\n",
    "                        Graph_Xerr.add_edge(vX[i,j-1],vX[i+1,j],qubit_id=id,weight=wX,error_probability=pX)\n",
    "                        id+=1\n",
    "        \n",
    "        print('id=',id)\n",
    "        Graph_Zerr.add_edge(virZ1,virZ2,qubit_id=-1,weight=0,error_probability=0)  \n",
    "        Graph_Xerr.add_edge(virX1,virX2,qubit_id=-1,weight=0,error_probability=0) \n",
    "\n",
    "        Z_logical_qubit_num=Nx+1  \n",
    "        X_logical_qubit_num=Ny    \n",
    "\n",
    "        for j in range(1,Ny+3):\n",
    "            if (2+j)%2==1:\n",
    "                if vZ[3,j+1]>-1:\n",
    "                    X_logical1_Graph_Zerr=np.append(X_logical1_Graph_Zerr,Graph_Zerr[vZ[2,j]][vZ[3,j+1]][0]['qubit_id'])\n",
    "                if vZ[3,j-1]>-1:              \n",
    "                    X_logical1_Graph_Zerr=np.append(X_logical1_Graph_Zerr,Graph_Zerr[vZ[2,j]][vZ[3,j-1]][0]['qubit_id'])\n",
    "\n",
    "        for i in range(1,Nx+3):\n",
    "            if (i+2)%2==0:\n",
    "                if vX[i+1,3]>-1:\n",
    "                    Z_logical1_Graph_Xerr=np.append(Z_logical1_Graph_Xerr,Graph_Xerr[vX[i,2]][vX[i+1,3]][0]['qubit_id'])\n",
    "                if vX[i-1,3]>-1:\n",
    "                    Z_logical1_Graph_Xerr=np.append(Z_logical1_Graph_Xerr,Graph_Xerr[vX[i,2]][vX[i-1,3]][0]['qubit_id'])\n",
    "\n",
    "        Graph_Zerr.nodes[virZ1]['is_boundary']=True\n",
    "        Graph_Zerr.nodes[virZ2]['is_boundary']=True\n",
    "        Graph_Xerr.nodes[virX1]['is_boundary']=True   \n",
    "        Graph_Xerr.nodes[virX2]['is_boundary']=True    \n",
    "\n",
    "        return [Graph_Xerr,Graph_Zerr,X_logical1_Graph_Zerr,Z_logical1_Graph_Xerr]\n",
    "\n",
    "    else: \n",
    "        v=rotdic_pbc(Nx,Ny)\n",
    "\n",
    "        Graph_Zerr=nx.Graph()\n",
    "        Graph_Xerr=nx.Graph()\n",
    "        \n",
    "        #Nx and Ny are number of stabilizers\n",
    "\n",
    "        if (Nx%2==0 and Ny%2==0):\n",
    "            X_logical1_Graph_Zerr=np.array([],dtype=int)\n",
    "            X_logical2_Graph_Zerr=np.array([],dtype=int)\n",
    "            Z_logical1_Graph_Xerr=np.array([],dtype=int)\n",
    "            Z_logical2_Graph_Xerr=np.array([],dtype=int)\n",
    "\n",
    "            id=0\n",
    "            for i in range(0,Nx):\n",
    "                for j in range(0,Ny):\n",
    "                    if (i+j)%2==0:\n",
    "                        Graph_Zerr.add_edge(v[i,j],v[(i+1)% Nx,(j+1)%Ny],qubit_id=id,weight=wZ,error_probability=pZ)\n",
    "                        Graph_Xerr.add_edge(v[i,(j+1)%Ny],v[(i+1)%Nx,j],qubit_id=id,weight=wX,error_probability=pX)\n",
    "                        id+=1\n",
    "                        Graph_Zerr.add_edge(v[i,j],v[(i+1)%Nx,(j-1)%Ny],qubit_id=id,weight=wZ,error_probability=pZ)\n",
    "                        Graph_Xerr.add_edge(v[i,(j-1)%Ny],v[(i+1)%Nx,j],qubit_id=id,weight=wX,error_probability=pX)\n",
    "                        id+=1\n",
    "\n",
    "            for i in range(0,Nx):\n",
    "                for j in range(0,Ny):\n",
    "                    if (i+j)%2==0 and i==0:\n",
    "                        X_logical1_Graph_Zerr=np.append(X_logical1_Graph_Zerr,Graph_Zerr[v[i,j]][v[(i+1)%Nx,(j+1)%Ny]]['qubit_id'])                        \n",
    "                        X_logical1_Graph_Zerr=np.append(X_logical1_Graph_Zerr,Graph_Zerr[v[i,j]][v[(i+1)%Nx,(j-1)%Ny]]['qubit_id'])                        \n",
    "                    if (i+j)%2==0 and j==0:\n",
    "                        X_logical2_Graph_Zerr=np.append(X_logical2_Graph_Zerr,Graph_Zerr[v[i,j]][v[(i+1)%Nx,(j+1)%Ny]]['qubit_id'])\n",
    "                        X_logical2_Graph_Zerr=np.append(X_logical2_Graph_Zerr,Graph_Zerr[v[i,j]][v[(i-1)%Nx,(j+1)%Ny]]['qubit_id'])\n",
    "                    if (i+j)%2==1 and i==0:\n",
    "                        Z_logical2_Graph_Xerr=np.append(Z_logical2_Graph_Xerr,Graph_Xerr[v[i,j]][v[(i+1)%Nx,(j+1)%Ny]]['qubit_id'])\n",
    "                        Z_logical2_Graph_Xerr=np.append(Z_logical2_Graph_Xerr,Graph_Xerr[v[i,j]][v[(i+1)%Nx,(j-1)%Ny]]['qubit_id'])\n",
    "                    if (i+j)%2==1 and j==0:\n",
    "                        Z_logical1_Graph_Xerr=np.append(Z_logical1_Graph_Xerr,Graph_Xerr[v[i,j]][v[(i+1)%Nx,(j+1)%Ny]]['qubit_id'])\n",
    "                        Z_logical1_Graph_Xerr=np.append(Z_logical1_Graph_Xerr,Graph_Xerr[v[i,j]][v[(i-1)%Nx,(j+1)%Ny]]['qubit_id'])\n",
    "\n",
    "            return [Graph_Xerr,Graph_Zerr,X_logical1_Graph_Zerr,X_logical2_Graph_Zerr,Z_logical1_Graph_Xerr,Z_logical2_Graph_Xerr]\n",
    "    \n",
    "        elif(Nx%2!=Ny%2):\n",
    "            print('the modified decoder graphs and logicals (which are now a Y-Z or Y-X pair) needs to be implemented below')\n",
    "            X_logical1_Graph_Zerr=np.array([],dtype=int)\n",
    "            Z_logical1_Graph_Xerr=np.array([],dtype=int)\n",
    "\n",
    "            id=0\n",
    "            for i in range(0,Nx):\n",
    "                for j in range(0,Ny):\n",
    "                    if (i+j)%2==0:\n",
    "                        Graph_Zerr.add_edge(v[i,j],v[(i+1)% Nx,(j+1)%Ny],qubit_id=id,weight=wZ,error_probability=pZ)\n",
    "                        Graph_Xerr.add_edge(v[i,(j+1)%Ny],v[(i+1)%Nx,j],qubit_id=id,weight=wX,error_probability=pX)\n",
    "                        id+=1\n",
    "                        Graph_Zerr.add_edge(v[i,j],v[(i+1)%Nx,(j-1)%Ny],qubit_id=id,weight=wZ,error_probability=pZ)\n",
    "                        Graph_Xerr.add_edge(v[i,(j-1)%Ny],v[(i+1)%Nx,j],qubit_id=id,weight=wX,error_probability=pX)\n",
    "                        id+=1\n",
    "            \n",
    "            \n",
    "            for i in range(0,Nx):\n",
    "                for j in range(0,Ny):\n",
    "                    if v[i,j] in range(0,Nx*Ny,Nx):\n",
    "                        X_logical1_Graph_Zerr=np.append(X_logical1_Graph_Zerr,Graph_Zerr[v[i,j]][v[(i+1)%Nx,(j+1)%Ny],'qubit_id'])\n",
    "                    if v[i,j] in range(0,Nx):\n",
    "                        Z_logical1_Graph_Xerr=np.append(Z_logical1_Graph_Xerr,Graph_Xerr[v[i,j]][v[(i+1)%Nx,(j+1)%Ny],'qubit_id'])\n",
    "\n",
    "            return [Graph_Xerr,Graph_Zerr,X_logical1_Graph_Zerr,Z_logical1_Graph_Xerr]\n",
    "\n"
   ]
  },
  {
   "cell_type": "code",
   "execution_count": 798,
   "metadata": {},
   "outputs": [
    {
     "name": "stdout",
     "output_type": "stream",
     "text": [
      "id= 25\n",
      "3 0 0 0\n",
      "3 6 0 3\n",
      "0 12 0 1\n",
      "0 12 1 5\n",
      "0 4 0 7\n",
      "12 1 0 11\n",
      "12 1 1 15\n",
      "12 2 0 21\n",
      "12 12.0 0 -1\n",
      "9 6 0 2\n",
      "9 13 0 4\n",
      "6 4 0 6\n",
      "6 10 0 9\n",
      "13 10 0 8\n",
      "13 10 1 14\n",
      "13 11 0 18\n",
      "13 11 1 24\n",
      "4 1 0 10\n",
      "4 7 0 13\n",
      "10 7 0 12\n",
      "1 5 0 17\n",
      "7 5 0 16\n",
      "7 11 0 19\n",
      "5 2 0 20\n",
      "5 8 0 23\n",
      "11 8 0 22\n",
      "[5 6 7 8 9]\n",
      "12 4 0\n",
      "12 4 3\n",
      "12 0 1\n",
      "12 8 2\n",
      "12 8 4\n",
      "12 12.0 -1\n",
      "4 6 6\n",
      "4 2 7\n",
      "0 2 5\n",
      "8 10 8\n",
      "8 6 9\n",
      "2 5 10\n",
      "2 1 11\n",
      "6 9 12\n",
      "6 5 13\n",
      "10 9 14\n",
      "5 7 16\n",
      "5 3 17\n",
      "1 3 15\n",
      "9 11 18\n",
      "9 7 19\n",
      "3 13 20\n",
      "3 13 21\n",
      "7 13 22\n",
      "7 13 23\n",
      "11 13 24\n",
      "26 26\n",
      "[ 7  0 17 10 20]\n"
     ]
    }
   ],
   "source": [
    "prob_dist=[0.1,0.3,0.3,0.3]\n",
    "[Graph_Xerr,Graph_Zerr,X_logical1_Graph_Zerr,Z_logical1_Graph_Xerr]=construct_rot_lattice(4,4,prob_dist,0)\n",
    "\n",
    "\n",
    "for u,v,w in Graph_Xerr.edges:\n",
    "    print(u,v,w,Graph_Xerr[u][v][w]['qubit_id'])\n",
    "print(X_logical1_Graph_Zerr)\n",
    "for u,v,w in Graph_Zerr.edges:\n",
    "    print(u,v,Graph_Zerr[u][v][w]['qubit_id'])\n",
    "\n",
    "print(len(Graph_Xerr.edges),len(Graph_Zerr.edges))\n",
    "print(Z_logical1_Graph_Xerr)\n"
   ]
  },
  {
   "cell_type": "code",
   "execution_count": 799,
   "metadata": {},
   "outputs": [
    {
     "data": {
      "text/plain": [
       "MultiEdgeView([(3, 0, 0), (3, 6, 0), (0, 12, 0), (0, 12, 1), (0, 4, 0), (12, 1, 0), (12, 1, 1), (12, 2, 0), (12, 12.0, 0), (9, 6, 0), (9, 13, 0), (6, 4, 0), (6, 10, 0), (13, 10, 0), (13, 10, 1), (13, 11, 0), (13, 11, 1), (4, 1, 0), (4, 7, 0), (10, 7, 0), (1, 5, 0), (7, 5, 0), (7, 11, 0), (5, 2, 0), (5, 8, 0), (11, 8, 0)])"
      ]
     },
     "execution_count": 799,
     "metadata": {},
     "output_type": "execute_result"
    }
   ],
   "source": [
    "Graph_Xerr.edges"
   ]
  },
  {
   "cell_type": "code",
   "execution_count": 800,
   "metadata": {},
   "outputs": [],
   "source": [
    "mXerr=Matching(Graph_Xerr)"
   ]
  },
  {
   "cell_type": "code",
   "execution_count": 791,
   "metadata": {},
   "outputs": [
    {
     "data": {
      "text/plain": [
       "<pymatching.Matching object with 25 qubits, 13 stabilisers, 1 boundary node, and 26 edges>"
      ]
     },
     "execution_count": 791,
     "metadata": {},
     "output_type": "execute_result"
    }
   ],
   "source": [
    "mXerr"
   ]
  },
  {
   "cell_type": "code",
   "execution_count": 792,
   "metadata": {},
   "outputs": [],
   "source": [
    "mZerr=Matching(Graph_Zerr)\n",
    "\n",
    "        \n",
    "#noise\n",
    "noiseXerr,syndromeXerr=mXerr.add_noise()\n",
    "noiseZerr,syndromeZerr=mZerr.add_noise()\n",
    "\n",
    "#correction\n",
    "correctionXerr=mXerr.decode(syndromeXerr)\n",
    "correctionZerr=mZerr.decode(syndromeZerr)\n",
    "\n",
    "#correction+noise \n",
    "corr_noise_Xerr=np.array((correctionXerr+noiseXerr)%2)\n",
    "corr_noise_Zerr=np.array((correctionZerr+noiseZerr)%2)\n"
   ]
  },
  {
   "cell_type": "code",
   "execution_count": 819,
   "metadata": {},
   "outputs": [
    {
     "data": {
      "text/plain": [
       "array([[[2.96001730e-01, 5.10137001e-01, 5.98621047e-01],\n",
       "        [5.49753445e-01, 2.55207194e-01, 2.64928852e-01],\n",
       "        [1.04906227e-01, 7.94340762e-01, 2.05845104e-01],\n",
       "        [7.41907933e-01, 5.73448417e-01, 3.48998510e-02],\n",
       "        [4.04990802e-02, 7.49846323e-01, 2.35904134e-01],\n",
       "        [4.34088099e-01, 7.41232061e-01, 8.94067925e-01]],\n",
       "\n",
       "       [[4.57259169e-01, 3.04953246e-01, 7.00707246e-01],\n",
       "        [5.14085971e-02, 7.36976318e-01, 2.51368084e-01],\n",
       "        [3.83831705e-01, 8.37119495e-01, 7.76879378e-01],\n",
       "        [3.03515872e-01, 4.56676507e-02, 3.87215629e-01],\n",
       "        [5.58064403e-01, 3.41396598e-02, 3.29183128e-01],\n",
       "        [8.01596795e-01, 4.75162912e-01, 7.72511033e-01]],\n",
       "\n",
       "       [[8.45912332e-01, 6.48863657e-01, 2.89955108e-01],\n",
       "        [5.58763194e-01, 2.12993456e-01, 7.72986522e-01],\n",
       "        [2.47548954e-01, 2.04605544e-01, 5.75633038e-01],\n",
       "        [8.94262688e-01, 2.22624154e-01, 4.92221796e-01],\n",
       "        [6.73073534e-01, 7.99895900e-02, 5.63055364e-01],\n",
       "        [5.13937546e-01, 4.17715055e-01, 2.42335696e-02]],\n",
       "\n",
       "       [[2.25744246e-01, 8.50728112e-01, 8.31108722e-01],\n",
       "        [4.63908028e-01, 9.11662051e-02, 1.06125165e-01],\n",
       "        [7.54265672e-02, 7.35944261e-01, 7.85175691e-01],\n",
       "        [8.09657442e-01, 8.18309130e-01, 3.28976753e-01],\n",
       "        [6.68276401e-01, 5.64822608e-01, 3.83789164e-01],\n",
       "        [6.75455638e-01, 8.08027320e-01, 7.78030761e-01]],\n",
       "\n",
       "       [[8.70268534e-01, 8.89341683e-01, 8.20668970e-01],\n",
       "        [7.02205067e-01, 2.76999539e-01, 8.00529394e-01],\n",
       "        [2.73322423e-01, 2.47723883e-01, 3.19935464e-01],\n",
       "        [2.87790960e-01, 3.90532994e-01, 4.23651032e-01],\n",
       "        [4.83449715e-01, 3.61112847e-02, 8.22544747e-01],\n",
       "        [4.73327488e-02, 6.05046822e-01, 7.69081005e-01]],\n",
       "\n",
       "       [[7.60466853e-01, 3.49140681e-01, 1.44707298e-01],\n",
       "        [9.81827292e-01, 3.58402068e-01, 8.19354934e-01],\n",
       "        [8.92325169e-01, 5.65126973e-01, 4.14590446e-01],\n",
       "        [4.12372717e-02, 6.76790802e-01, 1.92022566e-01],\n",
       "        [3.74363554e-01, 3.70992085e-01, 9.58260982e-01],\n",
       "        [2.06470987e-01, 1.60895454e-01, 2.48778340e-01]],\n",
       "\n",
       "       [[1.59611536e-01, 5.98581264e-01, 6.42818798e-01],\n",
       "        [5.62277460e-01, 6.80534182e-02, 9.40154715e-01],\n",
       "        [5.82445236e-01, 7.13359427e-01, 8.45116567e-01],\n",
       "        [8.44826754e-01, 3.87634192e-02, 3.55498545e-01],\n",
       "        [3.33415026e-01, 6.20865850e-01, 3.98882419e-01],\n",
       "        [3.37620433e-01, 5.71702183e-01, 3.06104785e-01]],\n",
       "\n",
       "       [[2.58540637e-01, 5.48879152e-01, 7.82503191e-01],\n",
       "        [8.65446395e-02, 5.99187385e-01, 6.49076618e-02],\n",
       "        [9.61868650e-01, 7.64459436e-01, 9.11124713e-01],\n",
       "        [5.31028382e-01, 2.94386496e-01, 5.52230620e-01],\n",
       "        [2.88013288e-01, 4.45552415e-01, 5.56366817e-01],\n",
       "        [7.95634431e-01, 5.66196934e-01, 4.02576893e-04]],\n",
       "\n",
       "       [[4.71794169e-02, 4.37409580e-01, 5.92860178e-02],\n",
       "        [2.12153886e-01, 7.65179386e-01, 7.47357909e-01],\n",
       "        [5.23390274e-01, 4.57857728e-01, 1.31270736e-01],\n",
       "        [6.23713512e-01, 8.91345997e-01, 9.40168869e-01],\n",
       "        [3.84255038e-01, 4.36209802e-01, 7.12111760e-01],\n",
       "        [4.45205116e-01, 3.32460097e-01, 6.33606505e-01]],\n",
       "\n",
       "       [[2.62294410e-01, 7.58542668e-01, 9.16293894e-01],\n",
       "        [3.39557602e-01, 1.63248907e-01, 3.64956916e-01],\n",
       "        [7.90643556e-02, 8.52170109e-01, 5.83750583e-02],\n",
       "        [5.64840791e-01, 8.08389651e-01, 6.25902417e-01],\n",
       "        [7.08053923e-01, 3.55502472e-01, 4.24247085e-01],\n",
       "        [9.87280827e-01, 7.32586814e-01, 4.28627711e-01]]])"
      ]
     },
     "execution_count": 819,
     "metadata": {},
     "output_type": "execute_result"
    }
   ],
   "source": [
    "x=np.random.rand(10,6,3)\n",
    "x"
   ]
  },
  {
   "cell_type": "code",
   "execution_count": 820,
   "metadata": {},
   "outputs": [
    {
     "data": {
      "text/plain": [
       "array([[4.18327886, 5.89657704, 5.78667029],\n",
       "       [4.50839921, 3.52741388, 5.13267015],\n",
       "       [4.12412956, 6.17270762, 5.02394619],\n",
       "       [5.64278161, 4.76025871, 4.33278808],\n",
       "       [4.51146396, 3.69403209, 5.3843456 ],\n",
       "       [5.24462262, 5.41102565, 4.85544421]])"
      ]
     },
     "execution_count": 820,
     "metadata": {},
     "output_type": "execute_result"
    }
   ],
   "source": [
    "np.sum(x,axis=0)"
   ]
  },
  {
   "cell_type": "code",
   "execution_count": 815,
   "metadata": {},
   "outputs": [
    {
     "data": {
      "text/plain": [
       "1.35586226"
      ]
     },
     "execution_count": 815,
     "metadata": {},
     "output_type": "execute_result"
    }
   ],
   "source": [
    "0.71386226+0.28+0.07+0.14+0.152"
   ]
  },
  {
   "cell_type": "code",
   "execution_count": 822,
   "metadata": {},
   "outputs": [
    {
     "ename": "NameError",
     "evalue": "name 'planardic_obc' is not defined",
     "output_type": "error",
     "traceback": [
      "\u001b[0;31m---------------------------------------------------------------------------\u001b[0m",
      "\u001b[0;31mNameError\u001b[0m                                 Traceback (most recent call last)",
      "\u001b[0;32m<ipython-input-822-02b176154e47>\u001b[0m in \u001b[0;36m<module>\u001b[0;34m\u001b[0m\n\u001b[0;32m----> 1\u001b[0;31m \u001b[0;34m[\u001b[0m\u001b[0mvX\u001b[0m\u001b[0;34m,\u001b[0m\u001b[0mvZ\u001b[0m\u001b[0;34m]\u001b[0m\u001b[0;34m=\u001b[0m\u001b[0mplanardic_obc\u001b[0m\u001b[0;34m(\u001b[0m\u001b[0mNx\u001b[0m\u001b[0;34m,\u001b[0m\u001b[0mNy\u001b[0m\u001b[0;34m)\u001b[0m\u001b[0;34m\u001b[0m\u001b[0;34m\u001b[0m\u001b[0m\n\u001b[0m\u001b[1;32m      2\u001b[0m \u001b[0;32mfor\u001b[0m \u001b[0mi\u001b[0m \u001b[0;32min\u001b[0m \u001b[0mrange\u001b[0m\u001b[0;34m(\u001b[0m\u001b[0;36m1\u001b[0m\u001b[0;34m,\u001b[0m\u001b[0mNx\u001b[0m\u001b[0;34m+\u001b[0m\u001b[0;36m1\u001b[0m\u001b[0;34m)\u001b[0m\u001b[0;34m:\u001b[0m\u001b[0;34m\u001b[0m\u001b[0;34m\u001b[0m\u001b[0m\n\u001b[1;32m      3\u001b[0m     \u001b[0;32mfor\u001b[0m \u001b[0mj\u001b[0m \u001b[0;32min\u001b[0m \u001b[0mrange\u001b[0m\u001b[0;34m(\u001b[0m\u001b[0;36m1\u001b[0m\u001b[0;34m,\u001b[0m\u001b[0mNy\u001b[0m\u001b[0;34m+\u001b[0m\u001b[0;36m1\u001b[0m\u001b[0;34m)\u001b[0m\u001b[0;34m:\u001b[0m\u001b[0;34m\u001b[0m\u001b[0;34m\u001b[0m\u001b[0m\n\u001b[1;32m      4\u001b[0m         \u001b[0;32mif\u001b[0m \u001b[0mj\u001b[0m\u001b[0;34m==\u001b[0m\u001b[0mNy\u001b[0m\u001b[0;34m:\u001b[0m\u001b[0;34m\u001b[0m\u001b[0;34m\u001b[0m\u001b[0m\n\u001b[1;32m      5\u001b[0m             \u001b[0mhadamard_vec\u001b[0m\u001b[0;34m[\u001b[0m\u001b[0mGraph_Zerr\u001b[0m\u001b[0;34m[\u001b[0m\u001b[0mvZ\u001b[0m\u001b[0;34m[\u001b[0m\u001b[0mi\u001b[0m\u001b[0;34m,\u001b[0m\u001b[0mj\u001b[0m\u001b[0;34m]\u001b[0m\u001b[0;34m]\u001b[0m\u001b[0;34m[\u001b[0m\u001b[0mvZ\u001b[0m\u001b[0;34m[\u001b[0m\u001b[0mi\u001b[0m\u001b[0;34m+\u001b[0m\u001b[0;36m1\u001b[0m\u001b[0;34m,\u001b[0m\u001b[0mj\u001b[0m\u001b[0;34m]\u001b[0m\u001b[0;34m]\u001b[0m\u001b[0;34m[\u001b[0m\u001b[0mw\u001b[0m\u001b[0;34m]\u001b[0m\u001b[0;34m[\u001b[0m\u001b[0;34m'qubit_id'\u001b[0m\u001b[0;34m]\u001b[0m\u001b[0;34m]\u001b[0m\u001b[0;34m=\u001b[0m\u001b[0;36m1\u001b[0m\u001b[0;34m\u001b[0m\u001b[0;34m\u001b[0m\u001b[0m\n",
      "\u001b[0;31mNameError\u001b[0m: name 'planardic_obc' is not defined"
     ]
    }
   ],
   "source": [
    "[vX,vZ]=planardic_obc(Nx,Ny)\n",
    "for i in range(1,Nx+1):\n",
    "    for j in range(1,Ny+1):\n",
    "        if j==Ny:\n",
    "            hadamard_vec[Graph_Zerr[vZ[i,j]][vZ[i+1,j]][w]['qubit_id']]=1\n",
    "        else:\n",
    "            hadamard_vec[Graph_Zerr[vZ[i,j]][vZ[i+1,j]][w]['qubit_id']]=1\n",
    "        if i==1:\n",
    "            hadamard_vec[Graph_Zerr[vZ[i-1,j]][vZ[i,j]][w]['qubit_id']]=1\n",
    "for i in range(0,Nx+1):\n",
    "    for j in range(1,Ny+1):\n",
    "        if j==1 and i%2==0:\n",
    "            hadamard_vec[Graph_Zerr[vZ[i,j]][vZ[i+1,j]][w]['qubit_id']]=(hadamard_vec[Graph_Zerr[vZ[i,j]][vZ[i+1,j]][w]['qubit_id']]+1)%2\n",
    "        if j==Ny and i%2==1:\n",
    "            hadamard_vec[Graph_Zerr[vZ[i,j]][vZ[i+1,j]][w]['qubit_id']]=(hadamard_vec[Graph_Zerr[vZ[i,j]][vZ[i+1,j]][w]['qubit_id']]+1)%2\n"
   ]
  },
  {
   "cell_type": "code",
   "execution_count": 823,
   "metadata": {},
   "outputs": [],
   "source": [
    "\n",
    "def planardic_obc(Nx,Ny):\n",
    "\n",
    "    Zerr_syndrome_num,Xerr_syndrome_num=Nx*Ny,(Nx+1)*(Ny-1)\n",
    "    virZ1,virZ2=Zerr_syndrome_num,Zerr_syndrome_num+1\n",
    "    virX1,virX2=Xerr_syndrome_num,Xerr_syndrome_num+1\n",
    "\n",
    "    vX=np.zeros((Nx+2,Ny+2),dtype=int)\n",
    "\n",
    "    for i in range(0,Nx+2):\n",
    "        for j in range(0,Ny+2):\n",
    "            if j==0:\n",
    "                vX[i,j]=virX1\n",
    "            elif j==Ny:\n",
    "                vX[i,j]=virX2\n",
    "            else:\n",
    "                vX[i,j]=i-1+(j-1)*(Nx+1)\n",
    "\n",
    "    vZ=np.zeros((Nx+2,Ny+2),dtype=int)\n",
    "\n",
    "    for i in range(0,Nx+2):\n",
    "        for j in range(1,Ny+1):\n",
    "            if i==0:\n",
    "                vZ[i,j]=virZ1\n",
    "            elif i==Nx+1:\n",
    "                vZ[i,j]=virZ2\n",
    "            else:\n",
    "                vZ[i,j]=i-1+(j-1)*Nx\n",
    "    return [vX,vZ]\n",
    "\n",
    "\n",
    "def graph_temp(Nx,Ny,prob_dist,periodic,rotated):\n",
    "  \n",
    "    if rotated==1:\n",
    "        pI,pX,pY,pZ=prob_dist\n",
    "        #weights\n",
    "        wZ=abs(np.log(pZ/pI))\n",
    "        wX=abs(np.log(pX/pI))\n",
    "\n",
    "        if periodic==0:\n",
    "            #even times even stabilizer number lattice\n",
    "            Zerr_syndrome_num=(Nx/2+1)*Ny\n",
    "            virZ1,virZ2=Zerr_syndrome_num,Zerr_syndrome_num+1\n",
    "            [vX,vZ]=rotdic_obc(Nx,Ny)\n",
    "            Graph_Zerr=nx.MultiGraph()\n",
    "            id=0\n",
    "            for i in range(1,Nx+3):\n",
    "                for j in range(1,Ny+3): \n",
    "                    if (i+j)%2==1:\n",
    "                        if vZ[i+1,j+1]>-1:\n",
    "                            Graph_Zerr.add_edge(vZ[i,j],vZ[i+1,j+1],qubit_id=id,weight=wZ,error_probability=pZ)\n",
    "                            id+=1\n",
    "                        if vZ[i+1,j-1]>-1:\n",
    "                            Graph_Zerr.add_edge(vZ[i,j],vZ[i+1,j-1],qubit_id=id,weight=wZ,error_probability=pZ)\n",
    "                            id+=1\n",
    "                        \n",
    "            Graph_Zerr.add_edge(virZ1,virZ2,qubit_id=-1,weight=0,error_probability=0)  \n",
    "\n",
    "            Graph_Zerr.nodes[virZ1]['is_boundary']=True\n",
    "            Graph_Zerr.nodes[virZ2]['is_boundary']=True\n",
    "\n",
    "        else: \n",
    "            v=rotdic_pbc(Nx,Ny)\n",
    "            Graph_Zerr=nx.MultiGraph()  \n",
    "            id=0                      \n",
    "            if (Nx%2==0 and Ny%2==0):\n",
    "                for i in range(0,Nx):\n",
    "                    for j in range(0,Ny):\n",
    "                        if (i+j)%2==0:\n",
    "                            Graph_Zerr.add_edge(v[i,j],v[(i+1)% Nx,(j+1)%Ny],qubit_id=id,weight=wZ,error_probability=pZ)\n",
    "                            id+=1\n",
    "                            Graph_Zerr.add_edge(v[i,j],v[(i+1)%Nx,(j-1)%Ny],qubit_id=id,weight=wZ,error_probability=pZ)\n",
    "                            id+=1\n",
    "\n",
    "    else:\n",
    "        pI,pX,pY,pZ=prob_dist\n",
    "        #weights\n",
    "        wZ=abs(np.log(pZ/pI))\n",
    "        wX=abs(np.log(pX/pI))\n",
    "\n",
    "        Graph_Zerr=nx.MultiGraph()\n",
    "\n",
    "        id=0\n",
    "        if(periodic==1):\n",
    "            [vX,vZ]=planardic_pbc(Nx,Ny)\n",
    "            for i in range(0,Nx):\n",
    "                for j in range(0,Ny):\n",
    "                    Graph_Zerr.add_edge(vZ[i][j],vZ[(i+1)%Nx][j],qubit_id=id,weight=wZ,error_probability=pZ)\n",
    "                    id+=1\n",
    "\n",
    "                    Graph_Zerr.add_edge(vZ[i][j],vZ[i][(j+1)%Ny],qubit_id=id,weight=wZ,error_probability=pZ)\n",
    "                    id+=1\n",
    "        else:\n",
    "            virZ1,virZ2=Nx*Ny,Nx*Ny+1\n",
    "            [vX,vZ]=planardic_obc(Nx,Ny)\n",
    "            for i in range(1,Nx+1):\n",
    "                for j in range(1,Ny+1):\n",
    "                    if j==Ny:\n",
    "                        Graph_Zerr.add_edge(vZ[i,j],vZ[i+1,j],qubit_id=id,weight=wZ,error_probability=pZ)  \n",
    "                        id+=1\n",
    "                    else:\n",
    "                        Graph_Zerr.add_edge(vZ[i,j],vZ[i+1,j],qubit_id=id,weight=wZ,error_probability=pZ)  \n",
    "                        id+=1\n",
    "                        Graph_Zerr.add_edge(vZ[i,j],vZ[i,j+1],qubit_id=id,weight=wZ,error_probability=pZ) \n",
    "                        id+=1\n",
    "                    if i==1:\n",
    "                        Graph_Zerr.add_edge(vZ[i-1,j],vZ[i,j],qubit_id=id,weight=wZ,error_probability=pZ)  \n",
    "                        id+=1\n",
    "\n",
    "            Graph_Zerr.add_edge(virZ1,virZ2,qubit_id=-1,weight=0,error_probability=0)    \n",
    "\n",
    "    return Graph_Zerr\n",
    "\n"
   ]
  },
  {
   "cell_type": "code",
   "execution_count": 828,
   "metadata": {},
   "outputs": [],
   "source": [
    "Nx=4\n",
    "Ny=4\n",
    "# prob_dist\n",
    "rotated=0\n",
    "Graph_Zerr= graph_temp(Nx,Ny,prob_dist,periodic,rotated)"
   ]
  },
  {
   "cell_type": "code",
   "execution_count": 837,
   "metadata": {},
   "outputs": [],
   "source": [
    "[vX,vZ]=planardic_obc(Nx,Ny)\n",
    "hadamard_vec=np.zeros(len(Graph_Zerr.edges)-1)\n",
    "for i in range(1,Nx+1):\n",
    "    for j in range(1,Ny+1):\n",
    "        if j==Ny:\n",
    "            hadamard_vec[Graph_Zerr[vZ[i,j]][vZ[i+1,j]][w]['qubit_id']]=1\n",
    "        else:\n",
    "            hadamard_vec[Graph_Zerr[vZ[i,j]][vZ[i+1,j]][w]['qubit_id']]=1\n",
    "        if i==1:\n",
    "            hadamard_vec[Graph_Zerr[vZ[i-1,j]][vZ[i,j]][w]['qubit_id']]=1\n",
    "for i in range(0,Nx+1):\n",
    "    for j in range(1,Ny+1):\n",
    "        if j==1 and i%2==1:\n",
    "            hadamard_vec[Graph_Zerr[vZ[i,j]][vZ[i+1,j]][w]['qubit_id']]=(hadamard_vec[Graph_Zerr[vZ[i,j]][vZ[i+1,j]][w]['qubit_id']]+1)%2\n",
    "        if j==Ny and i%2==0:\n",
    "            hadamard_vec[Graph_Zerr[vZ[i,j]][vZ[i+1,j]][w]['qubit_id']]=(hadamard_vec[Graph_Zerr[vZ[i,j]][vZ[i+1,j]][w]['qubit_id']]+1)%2\n"
   ]
  },
  {
   "cell_type": "code",
   "execution_count": 838,
   "metadata": {},
   "outputs": [
    {
     "data": {
      "text/plain": [
       "(array([ 2,  3,  5,  6,  8,  9, 11, 13, 15, 20, 22, 24, 25, 27, 29]),)"
      ]
     },
     "execution_count": 838,
     "metadata": {},
     "output_type": "execute_result"
    }
   ],
   "source": [
    "np.nonzero(hadamard_vec)"
   ]
  },
  {
   "cell_type": "code",
   "execution_count": 834,
   "metadata": {},
   "outputs": [
    {
     "name": "stdout",
     "output_type": "stream",
     "text": [
      "0 1 0 0\n",
      "0 4 0 1\n",
      "0 16 0 2\n",
      "1 2 0 11\n",
      "1 5 0 12\n",
      "4 5 0 3\n",
      "4 8 0 4\n",
      "4 16 0 5\n",
      "16 8 0 8\n",
      "16 12 0 10\n",
      "16 17 0 -1\n",
      "5 6 0 13\n",
      "5 9 0 14\n",
      "8 9 0 6\n",
      "8 12 0 7\n",
      "9 10 0 15\n",
      "9 13 0 16\n",
      "12 13 0 9\n",
      "13 14 0 17\n",
      "2 3 0 18\n",
      "2 6 0 19\n",
      "6 7 0 20\n",
      "6 10 0 21\n",
      "10 11 0 22\n",
      "10 14 0 23\n",
      "14 15 0 24\n",
      "3 17 0 25\n",
      "3 7 0 26\n",
      "7 17 0 27\n",
      "7 11 0 28\n",
      "11 17 0 29\n",
      "11 15 0 30\n",
      "15 17 0 31\n"
     ]
    }
   ],
   "source": [
    "for u,v,w in Graph_Zerr.edges:\n",
    "    print(u,v,w,Graph_Zerr[u][v][w]['qubit_id'])"
   ]
  },
  {
   "cell_type": "code",
   "execution_count": 5,
   "metadata": {},
   "outputs": [],
   "source": [
    "import numpy as np\n",
    "x=np.random.rand(5)"
   ]
  },
  {
   "cell_type": "code",
   "execution_count": 6,
   "metadata": {},
   "outputs": [
    {
     "data": {
      "text/plain": [
       "array([0.72095145, 0.95077429, 0.38168001, 0.66100647, 0.9490469 ])"
      ]
     },
     "execution_count": 6,
     "metadata": {},
     "output_type": "execute_result"
    }
   ],
   "source": [
    "x"
   ]
  },
  {
   "cell_type": "code",
   "execution_count": 8,
   "metadata": {},
   "outputs": [
    {
     "data": {
      "text/plain": [
       "array([0.9490469])"
      ]
     },
     "execution_count": 8,
     "metadata": {},
     "output_type": "execute_result"
    }
   ],
   "source": [
    "x[4:5]"
   ]
  },
  {
   "cell_type": "code",
   "execution_count": 16,
   "metadata": {},
   "outputs": [
    {
     "name": "stdout",
     "output_type": "stream",
     "text": [
      "['Z' 'Y' 'X' 'I' 'Z' 'X' 'Y' 'Y' 'X' 'I'] [0 1 1 0 0 1 1 1 1 0] [1 1 0 0 1 0 1 1 0]\n"
     ]
    }
   ],
   "source": [
    "n_qubits=10\n",
    "import qecsim\n",
    "from qecsim import app\n",
    "from qecsim.models.generic import PhaseFlipErrorModel,DepolarizingErrorModel,BiasedDepolarizingErrorModel\n",
    "from qecsim import paulitools as pt\n",
    "\n",
    "prob_dist=[0.1,0.3,0.3,0.3]\n",
    "rng = np.random.default_rng()\n",
    "error_Pauli = rng.choice(('I', 'X', 'Y', 'Z'),size=n_qubits,p=prob_dist)\n",
    "step_error=pt.pauli_to_bsf(''.join(error_Pauli))\n",
    "noiseXerr= step_error[0:n_qubits]\n",
    "noiseZerr=step_error[n_qubits:-1]\n",
    "print(error_Pauli,noiseXerr,noiseZerr)"
   ]
  },
  {
   "cell_type": "code",
   "execution_count": null,
   "metadata": {},
   "outputs": [],
   "source": [
    "def noisesyndrome(Graph_Xerr,Graph_Zerr,prob_dist,n_qubits):\n",
    "\n",
    "    rng = np.random.default_rng()\n",
    "    error_Pauli = rng.choice(('I', 'X', 'Y', 'Z'),size=n_qubits,p=prob_dist)\n",
    "    step_error=pt.pauli_to_bsf(''.join(error_Pauli))\n",
    "    noiseXerr= step_error[0:n_qubits]\n",
    "    noiseZerr=step_error[n_qubits:-1]\n",
    "\n",
    "    syndromeXerr=np.zeros(len(Graph_Xerr.nodes))\n",
    "    syndromeZerr=np.zeros(len(Graph_Zerr.nodes))\n",
    "\n",
    "    for u,v,w in Graph_Zerr.edges:\n",
    "        if noiseZerr[Graph_Zerr[u][v][w]['qubit_id']]==1:\n",
    "            syndromeZerr[u]=(syndromeZerr[u]+1)%2\n",
    "            syndromeZerr[v]=(syndromeZerr[v]+1)%2\n",
    "            \n",
    "    for u,v,w in Graph_Xerr.edges:\n",
    "        if noiseXerr[Graph_Xerr[u][v][w]['qubit_id']]==1:\n",
    "            syndromeXerr[u]=(syndromeXerr[u]+1)%2\n",
    "            syndromeXerr[v]=(syndromeXerr[v]+1)%2      \n",
    "\n",
    "    return noiseXerr,syndromeXerr,noiseZerr,syndromeZerr   "
   ]
  }
 ],
 "metadata": {
  "anaconda-cloud": {},
  "kernelspec": {
   "display_name": "Python 3",
   "language": "python",
   "name": "python3"
  },
  "language_info": {
   "codemirror_mode": {
    "name": "ipython",
    "version": 3
   },
   "file_extension": ".py",
   "mimetype": "text/x-python",
   "name": "python",
   "nbconvert_exporter": "python",
   "pygments_lexer": "ipython3",
   "version": "3.8.5"
  }
 },
 "nbformat": 4,
 "nbformat_minor": 1
}
