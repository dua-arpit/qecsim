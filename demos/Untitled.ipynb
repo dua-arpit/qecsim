{
 "cells": [
  {
   "cell_type": "code",
   "execution_count": 90,
   "metadata": {},
   "outputs": [
    {
     "name": "stdout",
     "output_type": "stream",
     "text": [
      "PlanarCode(5, 5)\n",
      "DepolarizingErrorModel()\n",
      "PlanarMPSDecoder_def(None, 'c', None, None)\n"
     ]
    }
   ],
   "source": [
    "import numpy as np\n",
    "from qecsim import paulitools as pt\n",
    "from qecsim.models.generic import DepolarizingErrorModel\n",
    "from qecsim.models.planar import PlanarCode, PlanarMWPMDecoder\n",
    "from _planarmpsdecoder_def import PlanarMPSDecoder_def\n",
    "error_probability=0.1\n",
    "# initialise models\n",
    "my_code = PlanarCode(5, 5)\n",
    "my_error_model = DepolarizingErrorModel()\n",
    "my_decoder = PlanarMPSDecoder_def()\n",
    "# print models\n",
    "print(my_code)\n",
    "print(my_error_model)\n",
    "print(my_decoder)\n",
    "\n",
    "\n",
    "\n",
    "# set physical error probability to 10%\n",
    "error_probability = 0.1\n",
    "# seed random number generator for repeatability\n",
    "rng = np.random.default_rng(59)\n",
    "error = my_error_model.generate(my_code, error_probability, rng)\n",
    "syndrome = pt.bsp(error, my_code.stabilizers.T)\n",
    "\n",
    "sample_pauli = my_decoder.sample_recovery(my_code, syndrome)\n",
    "\n",
    "hadamard_mat=np.zeros((2 * sample_pauli.code.size[0] - 1, 2 * sample_pauli.code.size[1] - 1))\n",
    "\n",
    "\n",
    "# syndrome: stabilizers that do not commute with the error\n",
    "\n",
    "recovery = my_decoder.decode(my_code,hadamard_mat,syndrome)\n",
    "\n",
    "\n",
    "# repeat demo in single call\n",
    "import app_def \n",
    "#from app_def import _run_once_def\n"
   ]
  },
  {
   "cell_type": "code",
   "execution_count": 128,
   "metadata": {},
   "outputs": [
    {
     "data": {
      "text/plain": [
       "{'error_weight': 4,\n",
       " 'success': True,\n",
       " 'logical_commutations': array([0, 0]),\n",
       " 'custom_values': None}"
      ]
     },
     "execution_count": 128,
     "metadata": {},
     "output_type": "execute_result"
    }
   ],
   "source": [
    "app_def.run_once_def(my_code, hadamard_mat, my_error_model, my_decoder, error_probability, rng)"
   ]
  },
  {
   "cell_type": "code",
   "execution_count": 127,
   "metadata": {},
   "outputs": [
    {
     "data": {
      "text/plain": [
       "<module 'app_def' from '/home/sage/Documents/GitHub/qecsim/demos/app_def.py'>"
      ]
     },
     "execution_count": 127,
     "metadata": {},
     "output_type": "execute_result"
    }
   ],
   "source": [
    "import importlib\n",
    "importlib.reload(app_def)"
   ]
  },
  {
   "cell_type": "code",
   "execution_count": null,
   "metadata": {},
   "outputs": [],
   "source": []
  }
 ],
 "metadata": {
  "kernelspec": {
   "display_name": "Python 3",
   "language": "python",
   "name": "python3"
  },
  "language_info": {
   "codemirror_mode": {
    "name": "ipython",
    "version": 3
   },
   "file_extension": ".py",
   "mimetype": "text/x-python",
   "name": "python",
   "nbconvert_exporter": "python",
   "pygments_lexer": "ipython3",
   "version": "3.7.7"
  }
 },
 "nbformat": 4,
 "nbformat_minor": 4
}
